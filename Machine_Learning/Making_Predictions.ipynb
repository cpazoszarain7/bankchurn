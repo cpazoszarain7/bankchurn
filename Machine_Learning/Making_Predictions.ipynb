{
 "cells": [
  {
   "cell_type": "code",
   "execution_count": 1,
   "metadata": {},
   "outputs": [],
   "source": [
    "import pandas as pd\n",
    "import numpy as np\n",
    "import matplotlib.pyplot as plt\n",
    "import seaborn as sns\n",
    "from tensorflow.keras.models import load_model\n",
    "import pickle\n",
    "%matplotlib inline"
   ]
  },
  {
   "cell_type": "code",
   "execution_count": 2,
   "metadata": {},
   "outputs": [],
   "source": [
    "#Load the transformation SKLearn objects\n",
    "#Load Label encoder: le\n",
    "pkl_filename = 'Label_Encoder.pkl'\n",
    "with open(pkl_filename, 'rb') as file:\n",
    "    le = pickle.load(file)\n",
    "\n",
    "#Load One-Hot encoder: ct\n",
    "pkl_filename = 'OneHot_Encoder.pkl'\n",
    "with open(pkl_filename, 'rb') as file:\n",
    "    ct = pickle.load(file)\n",
    "    \n",
    "#Load Scaler: sc\n",
    "pkl_filename = 'Scaler.pkl'\n",
    "with open(pkl_filename, 'rb') as file:\n",
    "    sc = pickle.load(file)"
   ]
  },
  {
   "cell_type": "code",
   "execution_count": 3,
   "metadata": {},
   "outputs": [],
   "source": [
    "#Load the ANN model\n",
    "ann = load_model(\"customer_churn.h5\")"
   ]
  },
  {
   "cell_type": "code",
   "execution_count": 4,
   "metadata": {},
   "outputs": [
    {
     "data": {
      "text/plain": [
       "array([['608', 'Spain', 'Female', '41', '1', '83807.86', '1', '0', '1',\n",
       "        '112542.58']], dtype='<U21')"
      ]
     },
     "execution_count": 4,
     "metadata": {},
     "output_type": "execute_result"
    }
   ],
   "source": [
    "#Setting up a new row. simulating we get this from our form in HTML\n",
    "X = np.array([[608, 'Spain', 'Female', 41, 1, 83807.86, 1, 0, 1, 112542.58]])\n",
    "X"
   ]
  },
  {
   "cell_type": "code",
   "execution_count": 5,
   "metadata": {},
   "outputs": [],
   "source": [
    "#Encoding the  Gender column\n",
    "X[:,2] = le.transform(X[:,2])"
   ]
  },
  {
   "cell_type": "code",
   "execution_count": 6,
   "metadata": {},
   "outputs": [
    {
     "data": {
      "text/plain": [
       "array([['608', 'Spain', '0', '41', '1', '83807.86', '1', '0', '1',\n",
       "        '112542.58']], dtype='<U21')"
      ]
     },
     "execution_count": 6,
     "metadata": {},
     "output_type": "execute_result"
    }
   ],
   "source": [
    "X"
   ]
  },
  {
   "cell_type": "code",
   "execution_count": 7,
   "metadata": {},
   "outputs": [
    {
     "data": {
      "text/plain": [
       "array([['0.0', '0.0', '1.0', '608', '0', '41', '1', '83807.86', '1', '0',\n",
       "        '1', '112542.58']], dtype='<U32')"
      ]
     },
     "execution_count": 7,
     "metadata": {},
     "output_type": "execute_result"
    }
   ],
   "source": [
    "#Encoding the country column\n",
    "X = np.array(ct.transform(X))\n",
    "X"
   ]
  },
  {
   "cell_type": "code",
   "execution_count": 8,
   "metadata": {},
   "outputs": [
    {
     "data": {
      "text/plain": [
       "array([[-0.99850112, -0.57946723,  1.73494238, -0.45296331, -1.09499335,\n",
       "         0.19986603, -1.38944225,  0.12337621, -0.91668767, -1.54035103,\n",
       "         0.97481699,  0.21057501]])"
      ]
     },
     "execution_count": 8,
     "metadata": {},
     "output_type": "execute_result"
    }
   ],
   "source": [
    "#Scaling all columns\n",
    "X = sc.transform(X)\n",
    "X"
   ]
  },
  {
   "cell_type": "code",
   "execution_count": 9,
   "metadata": {},
   "outputs": [
    {
     "data": {
      "text/plain": [
       "array([[False]])"
      ]
     },
     "execution_count": 9,
     "metadata": {},
     "output_type": "execute_result"
    }
   ],
   "source": [
    "#Predicting with ANN\n",
    "new_pred = ann.predict(X)>0.5\n",
    "new_pred"
   ]
  },
  {
   "cell_type": "code",
   "execution_count": null,
   "metadata": {},
   "outputs": [],
   "source": [
    "ann"
   ]
  }
 ],
 "metadata": {
  "kernelspec": {
   "display_name": "Python 3",
   "language": "python",
   "name": "python3"
  },
  "language_info": {
   "codemirror_mode": {
    "name": "ipython",
    "version": 3
   },
   "file_extension": ".py",
   "mimetype": "text/x-python",
   "name": "python",
   "nbconvert_exporter": "python",
   "pygments_lexer": "ipython3",
   "version": "3.8.3"
  }
 },
 "nbformat": 4,
 "nbformat_minor": 4
}
