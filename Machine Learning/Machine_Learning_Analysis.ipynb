{
 "cells": [
  {
   "cell_type": "markdown",
   "metadata": {},
   "source": [
    "# Section 0: Load Libraries"
   ]
  },
  {
   "cell_type": "code",
   "execution_count": 1,
   "metadata": {},
   "outputs": [],
   "source": [
    "import pandas as pd\n",
    "import numpy as np\n",
    "import matplotlib.pyplot as plt\n",
    "import seaborn as sns\n",
    "%matplotlib inline"
   ]
  },
  {
   "cell_type": "markdown",
   "metadata": {},
   "source": [
    "# Section 1: Load and Explore Dataset"
   ]
  },
  {
   "cell_type": "code",
   "execution_count": 3,
   "metadata": {},
   "outputs": [],
   "source": [
    "df = pd.read_csv('../Resources/bankchurn.csv')"
   ]
  },
  {
   "cell_type": "code",
   "execution_count": 4,
   "metadata": {},
   "outputs": [
    {
     "data": {
      "text/html": [
       "<div>\n",
       "<style scoped>\n",
       "    .dataframe tbody tr th:only-of-type {\n",
       "        vertical-align: middle;\n",
       "    }\n",
       "\n",
       "    .dataframe tbody tr th {\n",
       "        vertical-align: top;\n",
       "    }\n",
       "\n",
       "    .dataframe thead th {\n",
       "        text-align: right;\n",
       "    }\n",
       "</style>\n",
       "<table border=\"1\" class=\"dataframe\">\n",
       "  <thead>\n",
       "    <tr style=\"text-align: right;\">\n",
       "      <th></th>\n",
       "      <th>RowNumber</th>\n",
       "      <th>CustomerId</th>\n",
       "      <th>Surname</th>\n",
       "      <th>CreditScore</th>\n",
       "      <th>Geography</th>\n",
       "      <th>Gender</th>\n",
       "      <th>Age</th>\n",
       "      <th>Tenure</th>\n",
       "      <th>Balance</th>\n",
       "      <th>NumOfProducts</th>\n",
       "      <th>HasCrCard</th>\n",
       "      <th>IsActiveMember</th>\n",
       "      <th>EstimatedSalary</th>\n",
       "      <th>Exited</th>\n",
       "    </tr>\n",
       "  </thead>\n",
       "  <tbody>\n",
       "    <tr>\n",
       "      <th>0</th>\n",
       "      <td>1</td>\n",
       "      <td>15634602</td>\n",
       "      <td>Hargrave</td>\n",
       "      <td>619</td>\n",
       "      <td>France</td>\n",
       "      <td>Female</td>\n",
       "      <td>42</td>\n",
       "      <td>2</td>\n",
       "      <td>0.00</td>\n",
       "      <td>1</td>\n",
       "      <td>1</td>\n",
       "      <td>1</td>\n",
       "      <td>101348.88</td>\n",
       "      <td>1</td>\n",
       "    </tr>\n",
       "    <tr>\n",
       "      <th>1</th>\n",
       "      <td>2</td>\n",
       "      <td>15647311</td>\n",
       "      <td>Hill</td>\n",
       "      <td>608</td>\n",
       "      <td>Spain</td>\n",
       "      <td>Female</td>\n",
       "      <td>41</td>\n",
       "      <td>1</td>\n",
       "      <td>83807.86</td>\n",
       "      <td>1</td>\n",
       "      <td>0</td>\n",
       "      <td>1</td>\n",
       "      <td>112542.58</td>\n",
       "      <td>0</td>\n",
       "    </tr>\n",
       "    <tr>\n",
       "      <th>2</th>\n",
       "      <td>3</td>\n",
       "      <td>15619304</td>\n",
       "      <td>Onio</td>\n",
       "      <td>502</td>\n",
       "      <td>France</td>\n",
       "      <td>Female</td>\n",
       "      <td>42</td>\n",
       "      <td>8</td>\n",
       "      <td>159660.80</td>\n",
       "      <td>3</td>\n",
       "      <td>1</td>\n",
       "      <td>0</td>\n",
       "      <td>113931.57</td>\n",
       "      <td>1</td>\n",
       "    </tr>\n",
       "    <tr>\n",
       "      <th>3</th>\n",
       "      <td>4</td>\n",
       "      <td>15701354</td>\n",
       "      <td>Boni</td>\n",
       "      <td>699</td>\n",
       "      <td>France</td>\n",
       "      <td>Female</td>\n",
       "      <td>39</td>\n",
       "      <td>1</td>\n",
       "      <td>0.00</td>\n",
       "      <td>2</td>\n",
       "      <td>0</td>\n",
       "      <td>0</td>\n",
       "      <td>93826.63</td>\n",
       "      <td>0</td>\n",
       "    </tr>\n",
       "    <tr>\n",
       "      <th>4</th>\n",
       "      <td>5</td>\n",
       "      <td>15737888</td>\n",
       "      <td>Mitchell</td>\n",
       "      <td>850</td>\n",
       "      <td>Spain</td>\n",
       "      <td>Female</td>\n",
       "      <td>43</td>\n",
       "      <td>2</td>\n",
       "      <td>125510.82</td>\n",
       "      <td>1</td>\n",
       "      <td>1</td>\n",
       "      <td>1</td>\n",
       "      <td>79084.10</td>\n",
       "      <td>0</td>\n",
       "    </tr>\n",
       "  </tbody>\n",
       "</table>\n",
       "</div>"
      ],
      "text/plain": [
       "   RowNumber  CustomerId   Surname  CreditScore Geography  Gender  Age  \\\n",
       "0          1    15634602  Hargrave          619    France  Female   42   \n",
       "1          2    15647311      Hill          608     Spain  Female   41   \n",
       "2          3    15619304      Onio          502    France  Female   42   \n",
       "3          4    15701354      Boni          699    France  Female   39   \n",
       "4          5    15737888  Mitchell          850     Spain  Female   43   \n",
       "\n",
       "   Tenure    Balance  NumOfProducts  HasCrCard  IsActiveMember  \\\n",
       "0       2       0.00              1          1               1   \n",
       "1       1   83807.86              1          0               1   \n",
       "2       8  159660.80              3          1               0   \n",
       "3       1       0.00              2          0               0   \n",
       "4       2  125510.82              1          1               1   \n",
       "\n",
       "   EstimatedSalary  Exited  \n",
       "0        101348.88       1  \n",
       "1        112542.58       0  \n",
       "2        113931.57       1  \n",
       "3         93826.63       0  \n",
       "4         79084.10       0  "
      ]
     },
     "execution_count": 4,
     "metadata": {},
     "output_type": "execute_result"
    }
   ],
   "source": [
    "df.head()"
   ]
  },
  {
   "cell_type": "code",
   "execution_count": 5,
   "metadata": {},
   "outputs": [],
   "source": [
    "#Drop columns not usable for ML\n",
    "df.drop(labels = ['RowNumber','CustomerId','Surname'],axis=1,inplace=True)"
   ]
  },
  {
   "cell_type": "code",
   "execution_count": 6,
   "metadata": {},
   "outputs": [
    {
     "data": {
      "text/html": [
       "<div>\n",
       "<style scoped>\n",
       "    .dataframe tbody tr th:only-of-type {\n",
       "        vertical-align: middle;\n",
       "    }\n",
       "\n",
       "    .dataframe tbody tr th {\n",
       "        vertical-align: top;\n",
       "    }\n",
       "\n",
       "    .dataframe thead th {\n",
       "        text-align: right;\n",
       "    }\n",
       "</style>\n",
       "<table border=\"1\" class=\"dataframe\">\n",
       "  <thead>\n",
       "    <tr style=\"text-align: right;\">\n",
       "      <th></th>\n",
       "      <th>CreditScore</th>\n",
       "      <th>Geography</th>\n",
       "      <th>Gender</th>\n",
       "      <th>Age</th>\n",
       "      <th>Tenure</th>\n",
       "      <th>Balance</th>\n",
       "      <th>NumOfProducts</th>\n",
       "      <th>HasCrCard</th>\n",
       "      <th>IsActiveMember</th>\n",
       "      <th>EstimatedSalary</th>\n",
       "      <th>Exited</th>\n",
       "    </tr>\n",
       "  </thead>\n",
       "  <tbody>\n",
       "    <tr>\n",
       "      <th>0</th>\n",
       "      <td>619</td>\n",
       "      <td>France</td>\n",
       "      <td>Female</td>\n",
       "      <td>42</td>\n",
       "      <td>2</td>\n",
       "      <td>0.00</td>\n",
       "      <td>1</td>\n",
       "      <td>1</td>\n",
       "      <td>1</td>\n",
       "      <td>101348.88</td>\n",
       "      <td>1</td>\n",
       "    </tr>\n",
       "    <tr>\n",
       "      <th>1</th>\n",
       "      <td>608</td>\n",
       "      <td>Spain</td>\n",
       "      <td>Female</td>\n",
       "      <td>41</td>\n",
       "      <td>1</td>\n",
       "      <td>83807.86</td>\n",
       "      <td>1</td>\n",
       "      <td>0</td>\n",
       "      <td>1</td>\n",
       "      <td>112542.58</td>\n",
       "      <td>0</td>\n",
       "    </tr>\n",
       "    <tr>\n",
       "      <th>2</th>\n",
       "      <td>502</td>\n",
       "      <td>France</td>\n",
       "      <td>Female</td>\n",
       "      <td>42</td>\n",
       "      <td>8</td>\n",
       "      <td>159660.80</td>\n",
       "      <td>3</td>\n",
       "      <td>1</td>\n",
       "      <td>0</td>\n",
       "      <td>113931.57</td>\n",
       "      <td>1</td>\n",
       "    </tr>\n",
       "    <tr>\n",
       "      <th>3</th>\n",
       "      <td>699</td>\n",
       "      <td>France</td>\n",
       "      <td>Female</td>\n",
       "      <td>39</td>\n",
       "      <td>1</td>\n",
       "      <td>0.00</td>\n",
       "      <td>2</td>\n",
       "      <td>0</td>\n",
       "      <td>0</td>\n",
       "      <td>93826.63</td>\n",
       "      <td>0</td>\n",
       "    </tr>\n",
       "    <tr>\n",
       "      <th>4</th>\n",
       "      <td>850</td>\n",
       "      <td>Spain</td>\n",
       "      <td>Female</td>\n",
       "      <td>43</td>\n",
       "      <td>2</td>\n",
       "      <td>125510.82</td>\n",
       "      <td>1</td>\n",
       "      <td>1</td>\n",
       "      <td>1</td>\n",
       "      <td>79084.10</td>\n",
       "      <td>0</td>\n",
       "    </tr>\n",
       "  </tbody>\n",
       "</table>\n",
       "</div>"
      ],
      "text/plain": [
       "   CreditScore Geography  Gender  Age  Tenure    Balance  NumOfProducts  \\\n",
       "0          619    France  Female   42       2       0.00              1   \n",
       "1          608     Spain  Female   41       1   83807.86              1   \n",
       "2          502    France  Female   42       8  159660.80              3   \n",
       "3          699    France  Female   39       1       0.00              2   \n",
       "4          850     Spain  Female   43       2  125510.82              1   \n",
       "\n",
       "   HasCrCard  IsActiveMember  EstimatedSalary  Exited  \n",
       "0          1               1        101348.88       1  \n",
       "1          0               1        112542.58       0  \n",
       "2          1               0        113931.57       1  \n",
       "3          0               0         93826.63       0  \n",
       "4          1               1         79084.10       0  "
      ]
     },
     "execution_count": 6,
     "metadata": {},
     "output_type": "execute_result"
    }
   ],
   "source": [
    "df.head()"
   ]
  },
  {
   "cell_type": "code",
   "execution_count": 15,
   "metadata": {},
   "outputs": [
    {
     "data": {
      "text/plain": [
       "France     5014\n",
       "Germany    2509\n",
       "Spain      2477\n",
       "Name: Geography, dtype: int64"
      ]
     },
     "execution_count": 15,
     "metadata": {},
     "output_type": "execute_result"
    }
   ],
   "source": [
    "df['Geography'].value_counts()"
   ]
  },
  {
   "cell_type": "code",
   "execution_count": 11,
   "metadata": {},
   "outputs": [],
   "source": [
    "X = df.iloc[:,:-1].values\n",
    "y = df.iloc[:,-1].values"
   ]
  },
  {
   "cell_type": "code",
   "execution_count": 10,
   "metadata": {},
   "outputs": [
    {
     "data": {
      "text/plain": [
       "array([619, 'France', 'Female', 42, 2, 0.0, 1, 1, 1, 101348.88],\n",
       "      dtype=object)"
      ]
     },
     "execution_count": 10,
     "metadata": {},
     "output_type": "execute_result"
    }
   ],
   "source": [
    "X[0]"
   ]
  },
  {
   "cell_type": "code",
   "execution_count": 12,
   "metadata": {},
   "outputs": [
    {
     "data": {
      "text/plain": [
       "array([1, 0, 1, ..., 1, 1, 0])"
      ]
     },
     "execution_count": 12,
     "metadata": {},
     "output_type": "execute_result"
    }
   ],
   "source": [
    "y"
   ]
  },
  {
   "cell_type": "markdown",
   "metadata": {},
   "source": [
    "# Section 2: Encoding of Categorical Columns"
   ]
  },
  {
   "cell_type": "code",
   "execution_count": 13,
   "metadata": {},
   "outputs": [],
   "source": [
    "#encoding the Gender column\n",
    "from sklearn.preprocessing import LabelEncoder\n",
    "le = LabelEncoder()\n",
    "X[:,2] = le.fit_transform(X[:,2])"
   ]
  },
  {
   "cell_type": "code",
   "execution_count": 14,
   "metadata": {},
   "outputs": [
    {
     "data": {
      "text/plain": [
       "array([619, 'France', 0, 42, 2, 0.0, 1, 1, 1, 101348.88], dtype=object)"
      ]
     },
     "execution_count": 14,
     "metadata": {},
     "output_type": "execute_result"
    }
   ],
   "source": [
    "X[0]"
   ]
  },
  {
   "cell_type": "code",
   "execution_count": 19,
   "metadata": {},
   "outputs": [],
   "source": [
    "from sklearn.compose import ColumnTransformer\n",
    "from sklearn.preprocessing import OneHotEncoder\n",
    "ct = ColumnTransformer(transformers=[('encoder', OneHotEncoder(), [1])], remainder='passthrough')\n",
    "X = np.array(ct.fit_transform(X))"
   ]
  },
  {
   "cell_type": "code",
   "execution_count": 21,
   "metadata": {},
   "outputs": [
    {
     "data": {
      "text/plain": [
       "array([1.0, 0.0, 0.0, 619, 0, 42, 2, 0.0, 1, 1, 1, 101348.88],\n",
       "      dtype=object)"
      ]
     },
     "execution_count": 21,
     "metadata": {},
     "output_type": "execute_result"
    }
   ],
   "source": [
    "X[0]"
   ]
  },
  {
   "cell_type": "code",
   "execution_count": 22,
   "metadata": {},
   "outputs": [
    {
     "data": {
      "text/plain": [
       "array([0.0, 0.0, 1.0, 608, 0, 41, 1, 83807.86, 1, 0, 1, 112542.58],\n",
       "      dtype=object)"
      ]
     },
     "execution_count": 22,
     "metadata": {},
     "output_type": "execute_result"
    }
   ],
   "source": [
    "X[1]"
   ]
  },
  {
   "cell_type": "code",
   "execution_count": 24,
   "metadata": {},
   "outputs": [
    {
     "data": {
      "text/plain": [
       "array([0.0, 1.0, 0.0, 376, 0, 29, 4, 115046.74, 4, 1, 0, 119346.88],\n",
       "      dtype=object)"
      ]
     },
     "execution_count": 24,
     "metadata": {},
     "output_type": "execute_result"
    }
   ],
   "source": [
    "X[7]"
   ]
  },
  {
   "cell_type": "markdown",
   "metadata": {},
   "source": [
    "# Section 3: Train Test Split & Scaling"
   ]
  },
  {
   "cell_type": "code",
   "execution_count": 25,
   "metadata": {},
   "outputs": [],
   "source": [
    "from sklearn.model_selection import train_test_split\n",
    "X_train, X_test, y_train, y_test = train_test_split(X, y, test_size=0.2, random_state=42)"
   ]
  },
  {
   "cell_type": "code",
   "execution_count": 26,
   "metadata": {},
   "outputs": [
    {
     "data": {
      "text/plain": [
       "8000"
      ]
     },
     "execution_count": 26,
     "metadata": {},
     "output_type": "execute_result"
    }
   ],
   "source": [
    "len(X_train)"
   ]
  },
  {
   "cell_type": "code",
   "execution_count": 27,
   "metadata": {},
   "outputs": [
    {
     "data": {
      "text/plain": [
       "2000"
      ]
     },
     "execution_count": 27,
     "metadata": {},
     "output_type": "execute_result"
    }
   ],
   "source": [
    "len(X_test)"
   ]
  },
  {
   "cell_type": "code",
   "execution_count": 28,
   "metadata": {},
   "outputs": [
    {
     "data": {
      "text/plain": [
       "8000"
      ]
     },
     "execution_count": 28,
     "metadata": {},
     "output_type": "execute_result"
    }
   ],
   "source": [
    "len(y_train)"
   ]
  },
  {
   "cell_type": "code",
   "execution_count": 29,
   "metadata": {},
   "outputs": [
    {
     "data": {
      "text/plain": [
       "2000"
      ]
     },
     "execution_count": 29,
     "metadata": {},
     "output_type": "execute_result"
    }
   ],
   "source": [
    "len(y_test)"
   ]
  },
  {
   "cell_type": "code",
   "execution_count": 31,
   "metadata": {},
   "outputs": [
    {
     "data": {
      "text/plain": [
       "0    7963\n",
       "1    2037\n",
       "Name: Exited, dtype: int64"
      ]
     },
     "execution_count": 31,
     "metadata": {},
     "output_type": "execute_result"
    }
   ],
   "source": [
    "df['Exited'].value_counts()"
   ]
  },
  {
   "cell_type": "code",
   "execution_count": 32,
   "metadata": {},
   "outputs": [],
   "source": [
    "#Scaling the dataset\n",
    "from sklearn.preprocessing import StandardScaler\n",
    "sc = StandardScaler()\n",
    "X_train = sc.fit_transform(X_train)\n",
    "X_test = sc.transform(X_test)"
   ]
  },
  {
   "cell_type": "code",
   "execution_count": 37,
   "metadata": {},
   "outputs": [
    {
     "data": {
      "text/plain": [
       "CreditScore           619\n",
       "Geography          France\n",
       "Gender             Female\n",
       "Age                    42\n",
       "Tenure                  2\n",
       "Balance                 0\n",
       "NumOfProducts           1\n",
       "HasCrCard               1\n",
       "IsActiveMember          1\n",
       "EstimatedSalary    101349\n",
       "Exited                  1\n",
       "Name: 0, dtype: object"
      ]
     },
     "execution_count": 37,
     "metadata": {},
     "output_type": "execute_result"
    }
   ],
   "source": [
    "df.iloc[0]"
   ]
  },
  {
   "cell_type": "code",
   "execution_count": 35,
   "metadata": {},
   "outputs": [
    {
     "data": {
      "text/plain": [
       "array([1.0, 0.0, 0.0, 619, 0, 42, 2, 0.0, 1, 1, 1, 101348.88],\n",
       "      dtype=object)"
      ]
     },
     "execution_count": 35,
     "metadata": {},
     "output_type": "execute_result"
    }
   ],
   "source": [
    "X[0]"
   ]
  },
  {
   "cell_type": "code",
   "execution_count": 34,
   "metadata": {},
   "outputs": [
    {
     "data": {
      "text/plain": [
       "array([ 1.00150113, -0.57946723, -0.57638802,  0.35649971,  0.91324755,\n",
       "       -0.6557859 ,  0.34567966, -1.21847056,  0.80843615,  0.64920267,\n",
       "        0.97481699,  1.36766974])"
      ]
     },
     "execution_count": 34,
     "metadata": {},
     "output_type": "execute_result"
    }
   ],
   "source": [
    "X_train[0]"
   ]
  },
  {
   "cell_type": "markdown",
   "metadata": {},
   "source": [
    "# Section 4: K-NN Model"
   ]
  },
  {
   "cell_type": "code",
   "execution_count": 57,
   "metadata": {},
   "outputs": [
    {
     "data": {
      "text/plain": [
       "KNeighborsClassifier(n_neighbors=10, p=1)"
      ]
     },
     "execution_count": 57,
     "metadata": {},
     "output_type": "execute_result"
    }
   ],
   "source": [
    "from sklearn.neighbors import KNeighborsClassifier\n",
    "knn = KNeighborsClassifier(n_neighbors = 10, metric = 'minkowski', p = 1)\n",
    "knn.fit(X_train, y_train)"
   ]
  },
  {
   "cell_type": "code",
   "execution_count": 58,
   "metadata": {},
   "outputs": [],
   "source": [
    "y_pred = knn.predict(X_test)"
   ]
  },
  {
   "cell_type": "code",
   "execution_count": 59,
   "metadata": {},
   "outputs": [
    {
     "data": {
      "text/plain": [
       "array([[1567,   40],\n",
       "       [ 283,  110]])"
      ]
     },
     "execution_count": 59,
     "metadata": {},
     "output_type": "execute_result"
    }
   ],
   "source": [
    "from sklearn.metrics import confusion_matrix, accuracy_score\n",
    "cm = confusion_matrix(y_test,y_pred)\n",
    "cm"
   ]
  },
  {
   "cell_type": "code",
   "execution_count": 60,
   "metadata": {},
   "outputs": [
    {
     "data": {
      "text/plain": [
       "<matplotlib.axes._subplots.AxesSubplot at 0x7fe11f19f8e0>"
      ]
     },
     "execution_count": 60,
     "metadata": {},
     "output_type": "execute_result"
    },
    {
     "data": {
      "image/png": "[encoded data removed]",
      "text/plain": [
       "<Figure size 432x288 with 2 Axes>"
      ]
     },
     "metadata": {
      "needs_background": "light"
     },
     "output_type": "display_data"
    }
   ],
   "source": [
    "group_names = ['True Neg','False Pos','False Neg','True Pos']\n",
    "group_counts = ['{0:0.0f}'.format(value) for value in\n",
    "                cm.flatten()]\n",
    "group_percentages = [\"{0:.2%}\".format(value) for value in\n",
    "                     cm.flatten()/np.sum(cm)]\n",
    "labels = [f\"{v1}\\n{v2}\\n{v3}\" for v1, v2, v3 in\n",
    "          zip(group_names,group_counts,group_percentages)]\n",
    "labels = np.asarray(labels).reshape(2,2)\n",
    "sns.heatmap(cm, annot=labels, fmt='', cmap='Blues')"
   ]
  },
  {
   "cell_type": "code",
   "execution_count": 61,
   "metadata": {},
   "outputs": [
    {
     "name": "stdout",
     "output_type": "stream",
     "text": [
      "              precision    recall  f1-score   support\n",
      "\n",
      "           0       0.85      0.98      0.91      1607\n",
      "           1       0.73      0.28      0.41       393\n",
      "\n",
      "    accuracy                           0.84      2000\n",
      "   macro avg       0.79      0.63      0.66      2000\n",
      "weighted avg       0.82      0.84      0.81      2000\n",
      "\n"
     ]
    }
   ],
   "source": [
    "from sklearn.metrics import classification_report\n",
    "print(classification_report(y_test, y_pred))"
   ]
  },
  {
   "cell_type": "markdown",
   "metadata": {},
   "source": [
    "# Section 5: SVM"
   ]
  },
  {
   "cell_type": "code",
   "execution_count": 78,
   "metadata": {},
   "outputs": [
    {
     "data": {
      "text/plain": [
       "SVC()"
      ]
     },
     "execution_count": 78,
     "metadata": {},
     "output_type": "execute_result"
    }
   ],
   "source": [
    "from sklearn.svm import SVC \n",
    "svm = SVC(kernel='rbf')\n",
    "svm.fit(X_train, y_train)"
   ]
  },
  {
   "cell_type": "code",
   "execution_count": 79,
   "metadata": {},
   "outputs": [],
   "source": [
    "y_pred = svm.predict(X_test)"
   ]
  },
  {
   "cell_type": "code",
   "execution_count": 80,
   "metadata": {},
   "outputs": [
    {
     "data": {
      "text/plain": [
       "array([[1562,   45],\n",
       "       [ 243,  150]])"
      ]
     },
     "execution_count": 80,
     "metadata": {},
     "output_type": "execute_result"
    }
   ],
   "source": [
    "from sklearn.metrics import confusion_matrix, accuracy_score\n",
    "cm = confusion_matrix(y_test,y_pred)\n",
    "cm"
   ]
  },
  {
   "cell_type": "code",
   "execution_count": 81,
   "metadata": {},
   "outputs": [
    {
     "data": {
      "text/plain": [
       "<matplotlib.axes._subplots.AxesSubplot at 0x7fe105034490>"
      ]
     },
     "execution_count": 81,
     "metadata": {},
     "output_type": "execute_result"
    },
    {
     "data": {
      "image/png": "[encoded data removed]",
      "text/plain": [
       "<Figure size 432x288 with 2 Axes>"
      ]
     },
     "metadata": {
      "needs_background": "light"
     },
     "output_type": "display_data"
    }
   ],
   "source": [
    "group_names = ['True Neg','False Pos','False Neg','True Pos']\n",
    "group_counts = ['{0:0.0f}'.format(value) for value in\n",
    "                cm.flatten()]\n",
    "group_percentages = [\"{0:.2%}\".format(value) for value in\n",
    "                     cm.flatten()/np.sum(cm)]\n",
    "labels = [f\"{v1}\\n{v2}\\n{v3}\" for v1, v2, v3 in\n",
    "          zip(group_names,group_counts,group_percentages)]\n",
    "labels = np.asarray(labels).reshape(2,2)\n",
    "sns.heatmap(cm, annot=labels, fmt='', cmap='Blues')"
   ]
  },
  {
   "cell_type": "code",
   "execution_count": 82,
   "metadata": {},
   "outputs": [
    {
     "name": "stdout",
     "output_type": "stream",
     "text": [
      "              precision    recall  f1-score   support\n",
      "\n",
      "           0       0.87      0.97      0.92      1607\n",
      "           1       0.77      0.38      0.51       393\n",
      "\n",
      "    accuracy                           0.86      2000\n",
      "   macro avg       0.82      0.68      0.71      2000\n",
      "weighted avg       0.85      0.86      0.84      2000\n",
      "\n"
     ]
    }
   ],
   "source": [
    "from sklearn.metrics import classification_report\n",
    "print(classification_report(y_test, y_pred))"
   ]
  },
  {
   "cell_type": "markdown",
   "metadata": {},
   "source": [
    "# Section 6: Decision Tree"
   ]
  },
  {
   "cell_type": "code",
   "execution_count": 83,
   "metadata": {},
   "outputs": [
    {
     "data": {
      "text/plain": [
       "DecisionTreeClassifier(random_state=0)"
      ]
     },
     "execution_count": 83,
     "metadata": {},
     "output_type": "execute_result"
    }
   ],
   "source": [
    "from sklearn.tree import DecisionTreeClassifier\n",
    "dtc = DecisionTreeClassifier(random_state=0)\n",
    "dtc.fit(X_train,y_train)"
   ]
  },
  {
   "cell_type": "code",
   "execution_count": 84,
   "metadata": {},
   "outputs": [],
   "source": [
    "y_pred = dtc.predict(X_test)"
   ]
  },
  {
   "cell_type": "code",
   "execution_count": 85,
   "metadata": {},
   "outputs": [
    {
     "data": {
      "text/plain": [
       "array([[1360,  247],\n",
       "       [ 203,  190]])"
      ]
     },
     "execution_count": 85,
     "metadata": {},
     "output_type": "execute_result"
    }
   ],
   "source": [
    "from sklearn.metrics import confusion_matrix, accuracy_score\n",
    "cm = confusion_matrix(y_test,y_pred)\n",
    "cm"
   ]
  },
  {
   "cell_type": "code",
   "execution_count": 86,
   "metadata": {},
   "outputs": [
    {
     "data": {
      "text/plain": [
       "<matplotlib.axes._subplots.AxesSubplot at 0x7fe104f53a60>"
      ]
     },
     "execution_count": 86,
     "metadata": {},
     "output_type": "execute_result"
    },
    {
     "data": {
      "image/png": "[encoded data removed]",
      "text/plain": [
       "<Figure size 432x288 with 2 Axes>"
      ]
     },
     "metadata": {
      "needs_background": "light"
     },
     "output_type": "display_data"
    }
   ],
   "source": [
    "group_names = ['True Neg','False Pos','False Neg','True Pos']\n",
    "group_counts = ['{0:0.0f}'.format(value) for value in\n",
    "                cm.flatten()]\n",
    "group_percentages = [\"{0:.2%}\".format(value) for value in\n",
    "                     cm.flatten()/np.sum(cm)]\n",
    "labels = [f\"{v1}\\n{v2}\\n{v3}\" for v1, v2, v3 in\n",
    "          zip(group_names,group_counts,group_percentages)]\n",
    "labels = np.asarray(labels).reshape(2,2)\n",
    "sns.heatmap(cm, annot=labels, fmt='', cmap='Blues')"
   ]
  },
  {
   "cell_type": "code",
   "execution_count": 87,
   "metadata": {},
   "outputs": [
    {
     "name": "stdout",
     "output_type": "stream",
     "text": [
      "              precision    recall  f1-score   support\n",
      "\n",
      "           0       0.87      0.85      0.86      1607\n",
      "           1       0.43      0.48      0.46       393\n",
      "\n",
      "    accuracy                           0.78      2000\n",
      "   macro avg       0.65      0.66      0.66      2000\n",
      "weighted avg       0.78      0.78      0.78      2000\n",
      "\n"
     ]
    }
   ],
   "source": [
    "from sklearn.metrics import classification_report\n",
    "print(classification_report(y_test, y_pred))"
   ]
  },
  {
   "cell_type": "code",
   "execution_count": 88,
   "metadata": {},
   "outputs": [
    {
     "data": {
      "text/plain": [
       "[Text(660.5583135474058, 887.88, 'X[5] <= 0.533\\ngini = 0.327\\nsamples = 8000\\nvalue = [6356, 1644]'),\n",
       " Text(515.7761046488673, 851.64, 'X[8] <= 1.671\\ngini = 0.228\\nsamples = 6130\\nvalue = [5324, 806]'),\n",
       " Text(406.57459926702836, 815.4, 'X[8] <= -0.054\\ngini = 0.204\\nsamples = 5987\\nvalue = [5296, 691]'),\n",
       " Text(276.45413792121127, 779.16, 'X[5] <= -0.038\\ngini = 0.3\\nsamples = 2952\\nvalue = [2410, 542]'),\n",
       " Text(172.6481823643008, 742.92, 'X[1] <= 0.573\\ngini = 0.236\\nsamples = 2127\\nvalue = [1837, 290]'),\n",
       " Text(96.64392102338152, 706.68, 'X[7] <= -0.073\\ngini = 0.195\\nsamples = 1617\\nvalue = [1440, 177]'),\n",
       " Text(27.72204052584442, 670.44, 'X[5] <= -0.798\\ngini = 0.336\\nsamples = 422\\nvalue = [332, 90]'),\n",
       " Text(20.346724667349026, 634.2, 'X[11] <= 1.687\\ngini = 0.225\\nsamples = 124\\nvalue = [108, 16]'),\n",
       " Text(15.468270214943704, 597.96, 'X[5] <= -1.179\\ngini = 0.205\\nsamples = 121\\nvalue = [107, 14]'),\n",
       " Text(8.567041965199591, 561.72, 'X[5] <= -1.939\\ngini = 0.346\\nsamples = 45\\nvalue = [35, 10]'),\n",
       " Text(7.615148413510747, 525.48, 'gini = 0.0\\nsamples = 1\\nvalue = [0, 1]'),\n",
       " Text(9.518935516888433, 525.48, 'X[4] <= -0.091\\ngini = 0.325\\nsamples = 44\\nvalue = [35, 9]'),\n",
       " Text(4.759467758444217, 489.23999999999995, 'X[5] <= -1.274\\ngini = 0.469\\nsamples = 16\\nvalue = [10, 6]'),\n",
       " Text(3.8075742067553735, 453.0, 'X[10] <= -0.026\\ngini = 0.408\\nsamples = 14\\nvalue = [10, 4]'),\n",
       " Text(1.9037871033776868, 416.76, 'X[11] <= -1.299\\ngini = 0.48\\nsamples = 5\\nvalue = [2, 3]'),\n",
       " Text(0.9518935516888434, 380.52, 'gini = 0.0\\nsamples = 2\\nvalue = [2, 0]'),\n",
       " Text(2.8556806550665303, 380.52, 'gini = 0.0\\nsamples = 3\\nvalue = [0, 3]'),\n",
       " Text(5.711361310133061, 416.76, 'X[7] <= -0.154\\ngini = 0.198\\nsamples = 9\\nvalue = [8, 1]'),\n",
       " Text(4.759467758444217, 380.52, 'gini = 0.0\\nsamples = 7\\nvalue = [7, 0]'),\n",
       " Text(6.663254861821904, 380.52, 'X[6] <= 1.56\\ngini = 0.5\\nsamples = 2\\nvalue = [1, 1]'),\n",
       " Text(5.711361310133061, 344.28, 'gini = 0.0\\nsamples = 1\\nvalue = [0, 1]'),\n",
       " Text(7.615148413510747, 344.28, 'gini = 0.0\\nsamples = 1\\nvalue = [1, 0]'),\n",
       " Text(5.711361310133061, 453.0, 'gini = 0.0\\nsamples = 2\\nvalue = [0, 2]'),\n",
       " Text(14.27840327533265, 489.23999999999995, 'X[7] <= -0.097\\ngini = 0.191\\nsamples = 28\\nvalue = [25, 3]'),\n",
       " Text(13.326509723643808, 453.0, 'X[3] <= 1.674\\ngini = 0.137\\nsamples = 27\\nvalue = [25, 2]'),\n",
       " Text(11.422722620266121, 416.76, 'X[3] <= -0.754\\ngini = 0.08\\nsamples = 24\\nvalue = [23, 1]'),\n",
       " Text(10.470829068577277, 380.52, 'X[3] <= -0.863\\ngini = 0.245\\nsamples = 7\\nvalue = [6, 1]'),\n",
       " Text(9.518935516888433, 344.28, 'gini = 0.0\\nsamples = 6\\nvalue = [6, 0]'),\n",
       " Text(11.422722620266121, 344.28, 'gini = 0.0\\nsamples = 1\\nvalue = [0, 1]'),\n",
       " Text(12.374616171954964, 380.52, 'gini = 0.0\\nsamples = 17\\nvalue = [17, 0]'),\n",
       " Text(15.230296827021494, 416.76, 'X[10] <= -0.026\\ngini = 0.444\\nsamples = 3\\nvalue = [2, 1]'),\n",
       " Text(14.27840327533265, 380.52, 'gini = 0.0\\nsamples = 1\\nvalue = [0, 1]'),\n",
       " Text(16.182190378710338, 380.52, 'gini = 0.0\\nsamples = 2\\nvalue = [2, 0]'),\n",
       " Text(15.230296827021494, 453.0, 'gini = 0.0\\nsamples = 1\\nvalue = [0, 1]'),\n",
       " Text(22.36949846468782, 561.72, 'X[3] <= -1.247\\ngini = 0.1\\nsamples = 76\\nvalue = [72, 4]'),\n",
       " Text(19.98976458546571, 525.48, 'X[3] <= -1.325\\ngini = 0.346\\nsamples = 9\\nvalue = [7, 2]'),\n",
       " Text(19.037871033776867, 489.23999999999995, 'X[5] <= -1.084\\ngini = 0.219\\nsamples = 8\\nvalue = [7, 1]'),\n",
       " Text(18.085977482088023, 453.0, 'X[6] <= -0.001\\ngini = 0.5\\nsamples = 2\\nvalue = [1, 1]'),\n",
       " Text(17.134083930399182, 416.76, 'gini = 0.0\\nsamples = 1\\nvalue = [1, 0]'),\n",
       " Text(19.037871033776867, 416.76, 'gini = 0.0\\nsamples = 1\\nvalue = [0, 1]'),\n",
       " Text(19.98976458546571, 453.0, 'gini = 0.0\\nsamples = 6\\nvalue = [6, 0]'),\n",
       " Text(20.941658137154555, 489.23999999999995, 'gini = 0.0\\nsamples = 1\\nvalue = [0, 1]'),\n",
       " Text(24.749232343909927, 525.48, 'X[6] <= 1.56\\ngini = 0.058\\nsamples = 67\\nvalue = [65, 2]'),\n",
       " Text(22.845445240532243, 489.23999999999995, 'X[5] <= -0.893\\ngini = 0.031\\nsamples = 63\\nvalue = [62, 1]'),\n",
       " Text(21.8935516888434, 453.0, 'gini = 0.0\\nsamples = 48\\nvalue = [48, 0]'),\n",
       " Text(23.797338792221083, 453.0, 'X[9] <= -0.446\\ngini = 0.124\\nsamples = 15\\nvalue = [14, 1]'),\n",
       " Text(22.845445240532243, 416.76, 'X[11] <= -0.268\\ngini = 0.32\\nsamples = 5\\nvalue = [4, 1]'),\n",
       " Text(21.8935516888434, 380.52, 'gini = 0.0\\nsamples = 1\\nvalue = [0, 1]'),\n",
       " Text(23.797338792221083, 380.52, 'gini = 0.0\\nsamples = 4\\nvalue = [4, 0]'),\n",
       " Text(24.749232343909927, 416.76, 'gini = 0.0\\nsamples = 10\\nvalue = [10, 0]'),\n",
       " Text(26.653019447287615, 489.23999999999995, 'X[11] <= -0.646\\ngini = 0.375\\nsamples = 4\\nvalue = [3, 1]'),\n",
       " Text(25.70112589559877, 453.0, 'gini = 0.0\\nsamples = 1\\nvalue = [0, 1]'),\n",
       " Text(27.60491299897646, 453.0, 'gini = 0.0\\nsamples = 3\\nvalue = [3, 0]'),\n",
       " Text(25.22517911975435, 597.96, 'X[6] <= -0.869\\ngini = 0.444\\nsamples = 3\\nvalue = [1, 2]'),\n",
       " Text(24.273285568065507, 561.72, 'gini = 0.0\\nsamples = 1\\nvalue = [1, 0]'),\n",
       " Text(26.17707267144319, 561.72, 'gini = 0.0\\nsamples = 2\\nvalue = [0, 2]'),\n",
       " Text(35.09735638433982, 634.2, 'X[3] <= -2.518\\ngini = 0.373\\nsamples = 298\\nvalue = [224, 74]'),\n",
       " Text(34.14546283265097, 597.96, 'gini = 0.0\\nsamples = 2\\nvalue = [0, 2]'),\n",
       " Text(36.04924993602866, 597.96, 'X[3] <= -1.475\\ngini = 0.368\\nsamples = 296\\nvalue = [224, 72]'),\n",
       " Text(28.5568065506653, 561.72, 'X[5] <= -0.228\\ngini = 0.077\\nsamples = 25\\nvalue = [24, 1]'),\n",
       " Text(27.60491299897646, 525.48, 'gini = 0.0\\nsamples = 21\\nvalue = [21, 0]'),\n",
       " Text(29.508700102354144, 525.48, 'X[3] <= -1.724\\ngini = 0.375\\nsamples = 4\\nvalue = [3, 1]'),\n",
       " Text(28.5568065506653, 489.23999999999995, 'gini = 0.0\\nsamples = 1\\nvalue = [0, 1]'),\n",
       " Text(30.460593654042988, 489.23999999999995, 'gini = 0.0\\nsamples = 3\\nvalue = [3, 0]'),\n",
       " Text(43.54169332139202, 561.72, 'X[3] <= -1.423\\ngini = 0.387\\nsamples = 271\\nvalue = [200, 71]'),\n",
       " Text(42.58979976970317, 525.48, 'gini = 0.0\\nsamples = 3\\nvalue = [0, 3]'),\n",
       " Text(44.49358687308086, 525.48, 'X[11] <= -1.256\\ngini = 0.379\\nsamples = 268\\nvalue = [200, 68]'),\n",
       " Text(32.364380757420676, 489.23999999999995, 'X[11] <= -1.314\\ngini = 0.473\\nsamples = 39\\nvalue = [24, 15]'),\n",
       " Text(31.412487205731832, 453.0, 'X[7] <= -0.881\\ngini = 0.431\\nsamples = 35\\nvalue = [24, 11]'),\n",
       " Text(29.032753326509724, 416.76, 'X[5] <= -0.133\\ngini = 0.337\\nsamples = 28\\nvalue = [22, 6]'),\n",
       " Text(28.08085977482088, 380.52, 'X[6] <= 1.56\\ngini = 0.302\\nsamples = 27\\nvalue = [22, 5]'),\n",
       " Text(26.17707267144319, 344.28, 'X[4] <= -0.091\\ngini = 0.227\\nsamples = 23\\nvalue = [20, 3]'),\n",
       " Text(25.22517911975435, 308.03999999999996, 'X[6] <= 0.172\\ngini = 0.355\\nsamples = 13\\nvalue = [10, 3]'),\n",
       " Text(24.273285568065507, 271.79999999999995, 'gini = 0.0\\nsamples = 5\\nvalue = [5, 0]'),\n",
       " Text(26.17707267144319, 271.79999999999995, 'X[6] <= 0.519\\ngini = 0.469\\nsamples = 8\\nvalue = [5, 3]'),\n",
       " Text(25.22517911975435, 235.55999999999995, 'X[9] <= -0.446\\ngini = 0.375\\nsamples = 4\\nvalue = [1, 3]'),\n",
       " Text(24.273285568065507, 199.31999999999994, 'gini = 0.0\\nsamples = 1\\nvalue = [1, 0]'),\n",
       " Text(26.17707267144319, 199.31999999999994, 'gini = 0.0\\nsamples = 3\\nvalue = [0, 3]'),\n",
       " Text(27.128966223132036, 235.55999999999995, 'gini = 0.0\\nsamples = 4\\nvalue = [4, 0]'),\n",
       " Text(27.128966223132036, 308.03999999999996, 'gini = 0.0\\nsamples = 10\\nvalue = [10, 0]'),\n",
       " Text(29.984646878198568, 344.28, 'X[4] <= -0.091\\ngini = 0.5\\nsamples = 4\\nvalue = [2, 2]'),\n",
       " Text(29.032753326509724, 308.03999999999996, 'gini = 0.0\\nsamples = 2\\nvalue = [2, 0]'),\n",
       " Text(30.93654042988741, 308.03999999999996, 'gini = 0.0\\nsamples = 2\\nvalue = [0, 2]'),\n",
       " Text(29.984646878198568, 380.52, 'gini = 0.0\\nsamples = 1\\nvalue = [0, 1]'),\n",
       " Text(33.79222108495394, 416.76, 'X[5] <= -0.513\\ngini = 0.408\\nsamples = 7\\nvalue = [2, 5]'),\n",
       " Text(32.840327533265096, 380.52, 'X[3] <= -0.619\\ngini = 0.444\\nsamples = 3\\nvalue = [2, 1]'),\n",
       " Text(31.888433981576252, 344.28, 'gini = 0.0\\nsamples = 2\\nvalue = [2, 0]'),\n",
       " Text(33.79222108495394, 344.28, 'gini = 0.0\\nsamples = 1\\nvalue = [0, 1]'),\n",
       " Text(34.744114636642784, 380.52, 'gini = 0.0\\nsamples = 4\\nvalue = [0, 4]'),\n",
       " Text(33.31627430910952, 453.0, 'gini = 0.0\\nsamples = 4\\nvalue = [0, 4]'),\n",
       " Text(56.62279298874104, 489.23999999999995, 'X[3] <= 1.451\\ngini = 0.356\\nsamples = 229\\nvalue = [176, 53]'),\n",
       " Text(55.6708994370522, 453.0, 'X[11] <= -0.167\\ngini = 0.37\\nsamples = 216\\nvalue = [163, 53]'),\n",
       " Text(43.07318321392016, 416.76, 'X[5] <= -0.418\\ngini = 0.289\\nsamples = 80\\nvalue = [66, 14]'),\n",
       " Text(36.64790174002047, 380.52, 'X[3] <= 0.03\\ngini = 0.133\\nsamples = 42\\nvalue = [39, 3]'),\n",
       " Text(35.696008188331625, 344.28, 'X[11] <= -0.872\\ngini = 0.32\\nsamples = 15\\nvalue = [12, 3]'),\n",
       " Text(34.744114636642784, 308.03999999999996, 'gini = 0.0\\nsamples = 8\\nvalue = [8, 0]'),\n",
       " Text(36.64790174002047, 308.03999999999996, 'X[3] <= -0.572\\ngini = 0.49\\nsamples = 7\\nvalue = [4, 3]'),\n",
       " Text(35.696008188331625, 271.79999999999995, 'gini = 0.0\\nsamples = 3\\nvalue = [3, 0]'),\n",
       " Text(37.59979529170931, 271.79999999999995, 'X[6] <= 0.866\\ngini = 0.375\\nsamples = 4\\nvalue = [1, 3]'),\n",
       " Text(36.64790174002047, 235.55999999999995, 'gini = 0.0\\nsamples = 3\\nvalue = [0, 3]'),\n",
       " Text(38.55168884339815, 235.55999999999995, 'gini = 0.0\\nsamples = 1\\nvalue = [1, 0]'),\n",
       " Text(37.59979529170931, 344.28, 'gini = 0.0\\nsamples = 27\\nvalue = [27, 0]'),\n",
       " Text(49.498464687819855, 380.52, 'X[11] <= -0.533\\ngini = 0.411\\nsamples = 38\\nvalue = [27, 11]'),\n",
       " Text(45.21494370522006, 344.28, 'X[6] <= -1.563\\ngini = 0.466\\nsamples = 27\\nvalue = [17, 10]'),\n",
       " Text(44.26305015353122, 308.03999999999996, 'gini = 0.0\\nsamples = 2\\nvalue = [0, 2]'),\n",
       " Text(46.166837256908906, 308.03999999999996, 'X[6] <= 0.346\\ngini = 0.435\\nsamples = 25\\nvalue = [17, 8]'),\n",
       " Text(42.35926305015353, 271.79999999999995, 'X[5] <= -0.323\\ngini = 0.26\\nsamples = 13\\nvalue = [11, 2]'),\n",
       " Text(40.45547594677584, 235.55999999999995, 'X[10] <= -0.026\\ngini = 0.5\\nsamples = 2\\nvalue = [1, 1]'),\n",
       " Text(39.503582395087, 199.31999999999994, 'gini = 0.0\\nsamples = 1\\nvalue = [0, 1]'),\n",
       " Text(41.40736949846469, 199.31999999999994, 'gini = 0.0\\nsamples = 1\\nvalue = [1, 0]'),\n",
       " Text(44.26305015353122, 235.55999999999995, 'X[9] <= -0.446\\ngini = 0.165\\nsamples = 11\\nvalue = [10, 1]'),\n",
       " Text(43.31115660184237, 199.31999999999994, 'X[3] <= 0.227\\ngini = 0.5\\nsamples = 2\\nvalue = [1, 1]'),\n",
       " Text(42.35926305015353, 163.07999999999993, 'gini = 0.0\\nsamples = 1\\nvalue = [0, 1]'),\n",
       " Text(44.26305015353122, 163.07999999999993, 'gini = 0.0\\nsamples = 1\\nvalue = [1, 0]'),\n",
       " Text(45.21494370522006, 199.31999999999994, 'gini = 0.0\\nsamples = 9\\nvalue = [9, 0]'),\n",
       " Text(49.974411463664275, 271.79999999999995, 'X[11] <= -0.894\\ngini = 0.5\\nsamples = 12\\nvalue = [6, 6]'),\n",
       " Text(48.070624360286594, 235.55999999999995, 'X[9] <= -0.446\\ngini = 0.408\\nsamples = 7\\nvalue = [5, 2]'),\n",
       " Text(47.118730808597746, 199.31999999999994, 'X[11] <= -0.955\\ngini = 0.444\\nsamples = 3\\nvalue = [1, 2]'),\n",
       " Text(46.166837256908906, 163.07999999999993, 'gini = 0.0\\nsamples = 2\\nvalue = [0, 2]'),\n",
       " Text(48.070624360286594, 163.07999999999993, 'gini = 0.0\\nsamples = 1\\nvalue = [1, 0]'),\n",
       " Text(49.022517911975434, 199.31999999999994, 'gini = 0.0\\nsamples = 4\\nvalue = [4, 0]'),\n",
       " Text(51.87819856704196, 235.55999999999995, 'X[3] <= 0.45\\ngini = 0.32\\nsamples = 5\\nvalue = [1, 4]'),\n",
       " Text(50.92630501535312, 199.31999999999994, 'gini = 0.0\\nsamples = 4\\nvalue = [0, 4]'),\n",
       " Text(52.83009211873081, 199.31999999999994, 'gini = 0.0\\nsamples = 1\\nvalue = [1, 0]'),\n",
       " Text(53.78198567041965, 344.28, 'X[6] <= -1.216\\ngini = 0.165\\nsamples = 11\\nvalue = [10, 1]'),\n",
       " Text(52.83009211873081, 308.03999999999996, 'X[10] <= -0.026\\ngini = 0.5\\nsamples = 2\\nvalue = [1, 1]'),\n",
       " Text(51.87819856704196, 271.79999999999995, 'gini = 0.0\\nsamples = 1\\nvalue = [1, 0]'),\n",
       " Text(53.78198567041965, 271.79999999999995, 'gini = 0.0\\nsamples = 1\\nvalue = [0, 1]'),\n",
       " Text(54.73387922210849, 308.03999999999996, 'gini = 0.0\\nsamples = 9\\nvalue = [9, 0]'),\n",
       " Text(68.26861566018424, 416.76, 'X[11] <= -0.134\\ngini = 0.409\\nsamples = 136\\nvalue = [97, 39]'),\n",
       " Text(67.3167221084954, 380.52, 'gini = 0.0\\nsamples = 2\\nvalue = [0, 2]'),\n",
       " Text(69.22050921187308, 380.52, 'X[5] <= -0.703\\ngini = 0.4\\nsamples = 134\\nvalue = [97, 37]'),\n",
       " Text(58.54145342886387, 344.28, 'X[4] <= -0.091\\ngini = 0.497\\nsamples = 13\\nvalue = [6, 7]'),\n",
       " Text(56.63766632548618, 308.03999999999996, 'X[3] <= 0.211\\ngini = 0.278\\nsamples = 6\\nvalue = [1, 5]'),\n",
       " Text(55.68577277379734, 271.79999999999995, 'gini = 0.0\\nsamples = 4\\nvalue = [0, 4]'),\n",
       " Text(57.58955987717503, 271.79999999999995, 'X[6] <= -1.563\\ngini = 0.5\\nsamples = 2\\nvalue = [1, 1]'),\n",
       " Text(56.63766632548618, 235.55999999999995, 'gini = 0.0\\nsamples = 1\\nvalue = [0, 1]'),\n",
       " Text(58.54145342886387, 235.55999999999995, 'gini = 0.0\\nsamples = 1\\nvalue = [1, 0]'),\n",
       " Text(60.445240532241556, 308.03999999999996, 'X[3] <= -0.406\\ngini = 0.408\\nsamples = 7\\nvalue = [5, 2]'),\n",
       " Text(59.49334698055271, 271.79999999999995, 'gini = 0.0\\nsamples = 4\\nvalue = [4, 0]'),\n",
       " Text(61.397134083930396, 271.79999999999995, 'X[6] <= 0.346\\ngini = 0.444\\nsamples = 3\\nvalue = [1, 2]'),\n",
       " Text(60.445240532241556, 235.55999999999995, 'gini = 0.0\\nsamples = 2\\nvalue = [0, 2]'),\n",
       " Text(62.349027635619244, 235.55999999999995, 'gini = 0.0\\nsamples = 1\\nvalue = [1, 0]'),\n",
       " Text(79.8995649948823, 344.28, 'X[10] <= -0.026\\ngini = 0.373\\nsamples = 121\\nvalue = [91, 30]'),\n",
       " Text(71.74897645854657, 308.03999999999996, 'X[11] <= 0.849\\ngini = 0.438\\nsamples = 68\\nvalue = [46, 22]'),\n",
       " Text(68.29836233367452, 271.79999999999995, 'X[11] <= 0.556\\ngini = 0.485\\nsamples = 41\\nvalue = [24, 17]'),\n",
       " Text(64.25281473899693, 235.55999999999995, 'X[3] <= -0.297\\ngini = 0.437\\nsamples = 31\\nvalue = [21, 10]'),\n",
       " Text(60.921187308085976, 199.31999999999994, 'X[3] <= -0.842\\ngini = 0.49\\nsamples = 14\\nvalue = [6, 8]'),\n",
       " Text(59.01740020470829, 163.07999999999993, 'X[11] <= -0.009\\ngini = 0.278\\nsamples = 6\\nvalue = [5, 1]'),\n",
       " Text(58.06550665301945, 126.83999999999992, 'X[6] <= 0.346\\ngini = 0.5\\nsamples = 2\\nvalue = [1, 1]'),\n",
       " Text(57.1136131013306, 90.59999999999991, 'gini = 0.0\\nsamples = 1\\nvalue = [1, 0]'),\n",
       " Text(59.01740020470829, 90.59999999999991, 'gini = 0.0\\nsamples = 1\\nvalue = [0, 1]'),\n",
       " Text(59.969293756397136, 126.83999999999992, 'gini = 0.0\\nsamples = 4\\nvalue = [4, 0]'),\n",
       " Text(62.824974411463664, 163.07999999999993, 'X[6] <= 1.213\\ngini = 0.219\\nsamples = 8\\nvalue = [1, 7]'),\n",
       " Text(61.87308085977482, 126.83999999999992, 'gini = 0.0\\nsamples = 7\\nvalue = [0, 7]'),\n",
       " Text(63.776867963152505, 126.83999999999992, 'gini = 0.0\\nsamples = 1\\nvalue = [1, 0]'),\n",
       " Text(67.58444216990787, 199.31999999999994, 'X[6] <= 1.213\\ngini = 0.208\\nsamples = 17\\nvalue = [15, 2]'),\n",
       " Text(66.63254861821903, 163.07999999999993, 'X[3] <= 1.363\\ngini = 0.117\\nsamples = 16\\nvalue = [15, 1]'),\n",
       " Text(65.68065506653019, 126.83999999999992, 'gini = 0.0\\nsamples = 14\\nvalue = [14, 0]'),\n",
       " Text(67.58444216990787, 126.83999999999992, 'X[5] <= -0.418\\ngini = 0.5\\nsamples = 2\\nvalue = [1, 1]'),\n",
       " Text(66.63254861821903, 90.59999999999991, 'gini = 0.0\\nsamples = 1\\nvalue = [1, 0]'),\n",
       " Text(68.53633572159673, 90.59999999999991, 'gini = 0.0\\nsamples = 1\\nvalue = [0, 1]'),\n",
       " Text(68.53633572159673, 163.07999999999993, 'gini = 0.0\\nsamples = 1\\nvalue = [0, 1]'),\n",
       " Text(72.34390992835209, 235.55999999999995, 'X[3] <= -0.074\\ngini = 0.42\\nsamples = 10\\nvalue = [3, 7]'),\n",
       " Text(71.39201637666325, 199.31999999999994, 'X[11] <= 0.778\\ngini = 0.375\\nsamples = 4\\nvalue = [3, 1]'),\n",
       " Text(70.44012282497441, 163.07999999999993, 'gini = 0.0\\nsamples = 3\\nvalue = [3, 0]'),\n",
       " Text(72.34390992835209, 163.07999999999993, 'gini = 0.0\\nsamples = 1\\nvalue = [0, 1]'),\n",
       " Text(73.29580348004095, 199.31999999999994, 'gini = 0.0\\nsamples = 6\\nvalue = [0, 6]'),\n",
       " Text(75.19959058341863, 271.79999999999995, 'X[11] <= 1.18\\ngini = 0.302\\nsamples = 27\\nvalue = [22, 5]'),\n",
       " Text(74.24769703172979, 235.55999999999995, 'gini = 0.0\\nsamples = 14\\nvalue = [14, 0]'),\n",
       " Text(76.15148413510747, 235.55999999999995, 'X[6] <= 0.866\\ngini = 0.473\\nsamples = 13\\nvalue = [8, 5]'),\n",
       " Text(75.19959058341863, 199.31999999999994, 'X[5] <= -0.608\\ngini = 0.397\\nsamples = 11\\nvalue = [8, 3]'),\n",
       " Text(74.24769703172979, 163.07999999999993, 'gini = 0.0\\nsamples = 1\\nvalue = [0, 1]'),\n",
       " Text(76.15148413510747, 163.07999999999993, 'X[3] <= 0.149\\ngini = 0.32\\nsamples = 10\\nvalue = [8, 2]'),\n",
       " Text(75.19959058341863, 126.83999999999992, 'gini = 0.0\\nsamples = 5\\nvalue = [5, 0]'),\n",
       " Text(77.1033776867963, 126.83999999999992, 'X[11] <= 1.503\\ngini = 0.48\\nsamples = 5\\nvalue = [3, 2]'),\n",
       " Text(76.15148413510747, 90.59999999999991, 'gini = 0.0\\nsamples = 2\\nvalue = [0, 2]'),\n",
       " Text(78.05527123848516, 90.59999999999991, 'gini = 0.0\\nsamples = 3\\nvalue = [3, 0]'),\n",
       " Text(77.1033776867963, 199.31999999999994, 'gini = 0.0\\nsamples = 2\\nvalue = [0, 2]'),\n",
       " Text(88.05015353121802, 308.03999999999996, 'X[11] <= 1.53\\ngini = 0.256\\nsamples = 53\\nvalue = [45, 8]'),\n",
       " Text(87.09825997952917, 271.79999999999995, 'X[3] <= 1.399\\ngini = 0.233\\nsamples = 52\\nvalue = [45, 7]'),\n",
       " Text(86.14636642784032, 235.55999999999995, 'X[6] <= 0.519\\ngini = 0.208\\nsamples = 51\\nvalue = [45, 6]'),\n",
       " Text(85.19447287615148, 199.31999999999994, 'X[6] <= -0.175\\ngini = 0.305\\nsamples = 32\\nvalue = [26, 6]'),\n",
       " Text(82.81473899692938, 163.07999999999993, 'X[7] <= -0.903\\ngini = 0.159\\nsamples = 23\\nvalue = [21, 2]'),\n",
       " Text(80.91095189355168, 126.83999999999992, 'X[3] <= 0.554\\ngini = 0.095\\nsamples = 20\\nvalue = [19, 1]'),\n",
       " Text(79.95905834186284, 90.59999999999991, 'gini = 0.0\\nsamples = 15\\nvalue = [15, 0]'),\n",
       " Text(81.86284544524052, 90.59999999999991, 'X[9] <= -0.446\\ngini = 0.32\\nsamples = 5\\nvalue = [4, 1]'),\n",
       " Text(80.91095189355168, 54.3599999999999, 'gini = 0.0\\nsamples = 1\\nvalue = [0, 1]'),\n",
       " Text(82.81473899692938, 54.3599999999999, 'gini = 0.0\\nsamples = 4\\nvalue = [4, 0]'),\n",
       " Text(84.71852610030706, 126.83999999999992, 'X[7] <= -0.358\\ngini = 0.444\\nsamples = 3\\nvalue = [2, 1]'),\n",
       " Text(83.76663254861822, 90.59999999999991, 'gini = 0.0\\nsamples = 1\\nvalue = [0, 1]'),\n",
       " Text(85.6704196519959, 90.59999999999991, 'gini = 0.0\\nsamples = 2\\nvalue = [2, 0]'),\n",
       " Text(87.5742067553736, 163.07999999999993, 'X[3] <= -1.05\\ngini = 0.494\\nsamples = 9\\nvalue = [5, 4]'),\n",
       " Text(86.62231320368474, 126.83999999999992, 'gini = 0.0\\nsamples = 2\\nvalue = [0, 2]'),\n",
       " Text(88.52610030706244, 126.83999999999992, 'X[5] <= -0.228\\ngini = 0.408\\nsamples = 7\\nvalue = [5, 2]'),\n",
       " Text(87.5742067553736, 90.59999999999991, 'gini = 0.0\\nsamples = 3\\nvalue = [3, 0]'),\n",
       " Text(89.47799385875128, 90.59999999999991, 'X[3] <= -0.598\\ngini = 0.5\\nsamples = 4\\nvalue = [2, 2]'),\n",
       " Text(88.52610030706244, 54.3599999999999, 'gini = 0.0\\nsamples = 1\\nvalue = [1, 0]'),\n",
       " Text(90.42988741044012, 54.3599999999999, 'X[3] <= 1.041\\ngini = 0.444\\nsamples = 3\\nvalue = [1, 2]'),\n",
       " Text(89.47799385875128, 18.120000000000005, 'gini = 0.0\\nsamples = 2\\nvalue = [0, 2]'),\n",
       " Text(91.38178096212897, 18.120000000000005, 'gini = 0.0\\nsamples = 1\\nvalue = [1, 0]'),\n",
       " Text(87.09825997952917, 199.31999999999994, 'gini = 0.0\\nsamples = 19\\nvalue = [19, 0]'),\n",
       " Text(88.05015353121802, 235.55999999999995, 'gini = 0.0\\nsamples = 1\\nvalue = [0, 1]'),\n",
       " Text(89.00204708290686, 271.79999999999995, 'gini = 0.0\\nsamples = 1\\nvalue = [0, 1]'),\n",
       " Text(57.57468654042989, 453.0, 'gini = 0.0\\nsamples = 13\\nvalue = [13, 0]'),\n",
       " Text(165.56580152091863, 670.44, 'X[7] <= 1.633\\ngini = 0.135\\nsamples = 1195\\nvalue = [1108, 87]'),\n",
       " Text(144.08452013497953, 634.2, 'X[10] <= -0.026\\ngini = 0.124\\nsamples = 1158\\nvalue = [1081, 77]'),\n",
       " Text(123.25348243986694, 597.96, 'X[7] <= 1.541\\ngini = 0.159\\nsamples = 587\\nvalue = [536, 51]'),\n",
       " Text(106.10266600562947, 561.72, 'X[5] <= -1.559\\ngini = 0.153\\nsamples = 577\\nvalue = [529, 48]'),\n",
       " Text(89.47799385875128, 525.48, 'X[3] <= 0.32\\ngini = 0.34\\nsamples = 23\\nvalue = [18, 5]'),\n",
       " Text(88.52610030706244, 489.23999999999995, 'gini = 0.0\\nsamples = 16\\nvalue = [16, 0]'),\n",
       " Text(90.42988741044012, 489.23999999999995, 'X[5] <= -1.749\\ngini = 0.408\\nsamples = 7\\nvalue = [2, 5]'),\n",
       " Text(89.47799385875128, 453.0, 'gini = 0.0\\nsamples = 2\\nvalue = [2, 0]'),\n",
       " Text(91.38178096212897, 453.0, 'gini = 0.0\\nsamples = 5\\nvalue = [0, 5]'),\n",
       " Text(122.72733815250767, 525.48, 'X[5] <= -0.323\\ngini = 0.143\\nsamples = 554\\nvalue = [511, 43]'),\n",
       " Text(106.95416453428864, 489.23999999999995, 'X[0] <= 0.001\\ngini = 0.113\\nsamples = 414\\nvalue = [389, 25]'),\n",
       " Text(93.28556806550665, 453.0, 'X[6] <= -1.563\\ngini = 0.182\\nsamples = 99\\nvalue = [89, 10]'),\n",
       " Text(89.9539406345957, 416.76, 'X[7] <= 0.793\\ngini = 0.5\\nsamples = 4\\nvalue = [2, 2]'),\n",
       " Text(89.00204708290686, 380.52, 'gini = 0.0\\nsamples = 2\\nvalue = [2, 0]'),\n",
       " Text(90.90583418628454, 380.52, 'gini = 0.0\\nsamples = 2\\nvalue = [0, 2]'),\n",
       " Text(96.61719549641761, 416.76, 'X[11] <= -1.435\\ngini = 0.154\\nsamples = 95\\nvalue = [87, 8]'),\n",
       " Text(92.80962128966223, 380.52, 'X[11] <= -1.552\\ngini = 0.397\\nsamples = 11\\nvalue = [8, 3]'),\n",
       " Text(90.90583418628454, 344.28, 'X[7] <= 1.3\\ngini = 0.219\\nsamples = 8\\nvalue = [7, 1]'),\n",
       " Text(89.9539406345957, 308.03999999999996, 'gini = 0.0\\nsamples = 7\\nvalue = [7, 0]'),\n",
       " Text(91.85772773797339, 308.03999999999996, 'gini = 0.0\\nsamples = 1\\nvalue = [0, 1]'),\n",
       " Text(94.71340839303991, 344.28, 'X[9] <= -0.446\\ngini = 0.444\\nsamples = 3\\nvalue = [1, 2]'),\n",
       " Text(93.76151484135107, 308.03999999999996, 'gini = 0.0\\nsamples = 2\\nvalue = [0, 2]'),\n",
       " Text(95.66530194472875, 308.03999999999996, 'gini = 0.0\\nsamples = 1\\nvalue = [1, 0]'),\n",
       " Text(100.42476970317297, 380.52, 'X[6] <= 1.213\\ngini = 0.112\\nsamples = 84\\nvalue = [79, 5]'),\n",
       " Text(98.52098259979529, 344.28, 'X[11] <= -0.229\\ngini = 0.08\\nsamples = 72\\nvalue = [69, 3]'),\n",
       " Text(97.56908904810645, 308.03999999999996, 'X[11] <= -0.489\\ngini = 0.236\\nsamples = 22\\nvalue = [19, 3]'),\n",
       " Text(96.61719549641761, 271.79999999999995, 'gini = 0.0\\nsamples = 15\\nvalue = [15, 0]'),\n",
       " Text(98.52098259979529, 271.79999999999995, 'X[9] <= -0.446\\ngini = 0.49\\nsamples = 7\\nvalue = [4, 3]'),\n",
       " Text(97.56908904810645, 235.55999999999995, 'gini = 0.0\\nsamples = 3\\nvalue = [3, 0]'),\n",
       " Text(99.47287615148413, 235.55999999999995, 'X[6] <= 0.693\\ngini = 0.375\\nsamples = 4\\nvalue = [1, 3]'),\n",
       " Text(98.52098259979529, 199.31999999999994, 'gini = 0.0\\nsamples = 3\\nvalue = [0, 3]'),\n",
       " Text(100.42476970317297, 199.31999999999994, 'gini = 0.0\\nsamples = 1\\nvalue = [1, 0]'),\n",
       " Text(99.47287615148413, 308.03999999999996, 'gini = 0.0\\nsamples = 50\\nvalue = [50, 0]'),\n",
       " Text(102.32855680655067, 344.28, 'X[11] <= 1.239\\ngini = 0.278\\nsamples = 12\\nvalue = [10, 2]'),\n",
       " Text(101.37666325486182, 308.03999999999996, 'X[3] <= 0.683\\ngini = 0.165\\nsamples = 11\\nvalue = [10, 1]'),\n",
       " Text(100.42476970317297, 271.79999999999995, 'gini = 0.0\\nsamples = 9\\nvalue = [9, 0]'),\n",
       " Text(102.32855680655067, 271.79999999999995, 'X[5] <= -0.513\\ngini = 0.5\\nsamples = 2\\nvalue = [1, 1]'),\n",
       " Text(101.37666325486182, 235.55999999999995, 'gini = 0.0\\nsamples = 1\\nvalue = [1, 0]'),\n",
       " Text(103.2804503582395, 235.55999999999995, 'gini = 0.0\\nsamples = 1\\nvalue = [0, 1]'),\n",
       " Text(103.2804503582395, 308.03999999999996, 'gini = 0.0\\nsamples = 1\\nvalue = [0, 1]'),\n",
       " Text(120.62276100307062, 453.0, 'X[11] <= 1.558\\ngini = 0.091\\nsamples = 315\\nvalue = [300, 15]'),\n",
       " Text(115.1196264073695, 416.76, 'X[7] <= 1.121\\ngini = 0.078\\nsamples = 296\\nvalue = [284, 12]'),\n",
       " Text(109.8247185261003, 380.52, 'X[3] <= -2.16\\ngini = 0.062\\nsamples = 249\\nvalue = [241, 8]'),\n",
       " Text(106.61207778915046, 344.28, 'X[6] <= 1.04\\ngini = 0.444\\nsamples = 3\\nvalue = [2, 1]'),\n",
       " Text(105.66018423746162, 308.03999999999996, 'gini = 0.0\\nsamples = 2\\nvalue = [2, 0]'),\n",
       " Text(107.5639713408393, 308.03999999999996, 'gini = 0.0\\nsamples = 1\\nvalue = [0, 1]'),\n",
       " Text(113.03735926305015, 344.28, 'X[4] <= -0.091\\ngini = 0.055\\nsamples = 246\\nvalue = [239, 7]'),\n",
       " Text(109.46775844421698, 308.03999999999996, 'X[11] <= 0.843\\ngini = 0.114\\nsamples = 99\\nvalue = [93, 6]'),\n",
       " Text(107.08802456499488, 271.79999999999995, 'X[7] <= 0.154\\ngini = 0.071\\nsamples = 81\\nvalue = [78, 3]'),\n",
       " Text(105.18423746161719, 235.55999999999995, 'X[7] <= 0.149\\ngini = 0.298\\nsamples = 11\\nvalue = [9, 2]'),\n",
       " Text(104.23234390992835, 199.31999999999994, 'X[7] <= 0.099\\ngini = 0.18\\nsamples = 10\\nvalue = [9, 1]'),\n",
       " Text(103.2804503582395, 163.07999999999993, 'gini = 0.0\\nsamples = 7\\nvalue = [7, 0]'),\n",
       " Text(105.18423746161719, 163.07999999999993, 'X[9] <= -0.446\\ngini = 0.444\\nsamples = 3\\nvalue = [2, 1]'),\n",
       " Text(104.23234390992835, 126.83999999999992, 'gini = 0.0\\nsamples = 2\\nvalue = [2, 0]'),\n",
       " Text(106.13613101330604, 126.83999999999992, 'gini = 0.0\\nsamples = 1\\nvalue = [0, 1]'),\n",
       " Text(106.13613101330604, 199.31999999999994, 'gini = 0.0\\nsamples = 1\\nvalue = [0, 1]'),\n",
       " Text(108.99181166837256, 235.55999999999995, 'X[7] <= 0.965\\ngini = 0.028\\nsamples = 70\\nvalue = [69, 1]'),\n",
       " Text(108.03991811668372, 199.31999999999994, 'gini = 0.0\\nsamples = 60\\nvalue = [60, 0]'),\n",
       " Text(109.9437052200614, 199.31999999999994, 'X[7] <= 0.981\\ngini = 0.18\\nsamples = 10\\nvalue = [9, 1]'),\n",
       " Text(108.99181166837256, 163.07999999999993, 'gini = 0.0\\nsamples = 1\\nvalue = [0, 1]'),\n",
       " Text(110.89559877175026, 163.07999999999993, 'gini = 0.0\\nsamples = 9\\nvalue = [9, 0]'),\n",
       " Text(111.8474923234391, 271.79999999999995, 'X[11] <= 0.943\\ngini = 0.278\\nsamples = 18\\nvalue = [15, 3]'),\n",
       " Text(110.89559877175026, 235.55999999999995, 'gini = 0.0\\nsamples = 3\\nvalue = [0, 3]'),\n",
       " Text(112.79938587512794, 235.55999999999995, 'gini = 0.0\\nsamples = 15\\nvalue = [15, 0]'),\n",
       " Text(116.60696008188332, 308.03999999999996, 'X[5] <= -1.179\\ngini = 0.014\\nsamples = 147\\nvalue = [146, 1]'),\n",
       " Text(115.65506653019447, 271.79999999999995, 'X[11] <= -0.576\\ngini = 0.077\\nsamples = 25\\nvalue = [24, 1]'),\n",
       " Text(114.70317297850562, 235.55999999999995, 'X[11] <= -0.692\\ngini = 0.198\\nsamples = 9\\nvalue = [8, 1]'),\n",
       " Text(113.75127942681678, 199.31999999999994, 'gini = 0.0\\nsamples = 8\\nvalue = [8, 0]'),\n",
       " Text(115.65506653019447, 199.31999999999994, 'gini = 0.0\\nsamples = 1\\nvalue = [0, 1]'),\n",
       " Text(116.60696008188332, 235.55999999999995, 'gini = 0.0\\nsamples = 16\\nvalue = [16, 0]'),\n",
       " Text(117.55885363357216, 271.79999999999995, 'gini = 0.0\\nsamples = 122\\nvalue = [122, 0]'),\n",
       " Text(120.41453428863869, 380.52, 'X[7] <= 1.124\\ngini = 0.156\\nsamples = 47\\nvalue = [43, 4]'),\n",
       " Text(119.46264073694984, 344.28, 'gini = 0.0\\nsamples = 1\\nvalue = [0, 1]'),\n",
       " Text(121.36642784032753, 344.28, 'X[11] <= -0.302\\ngini = 0.122\\nsamples = 46\\nvalue = [43, 3]'),\n",
       " Text(120.41453428863869, 308.03999999999996, 'X[6] <= -1.216\\ngini = 0.245\\nsamples = 21\\nvalue = [18, 3]'),\n",
       " Text(119.46264073694984, 271.79999999999995, 'gini = 0.0\\nsamples = 1\\nvalue = [0, 1]'),\n",
       " Text(121.36642784032753, 271.79999999999995, 'X[11] <= -0.37\\ngini = 0.18\\nsamples = 20\\nvalue = [18, 2]'),\n",
       " Text(120.41453428863869, 235.55999999999995, 'X[6] <= 0.519\\ngini = 0.1\\nsamples = 19\\nvalue = [18, 1]'),\n",
       " Text(119.46264073694984, 199.31999999999994, 'gini = 0.0\\nsamples = 13\\nvalue = [13, 0]'),\n",
       " Text(121.36642784032753, 199.31999999999994, 'X[5] <= -0.608\\ngini = 0.278\\nsamples = 6\\nvalue = [5, 1]'),\n",
       " Text(120.41453428863869, 163.07999999999993, 'gini = 0.0\\nsamples = 5\\nvalue = [5, 0]'),\n",
       " Text(122.31832139201637, 163.07999999999993, 'gini = 0.0\\nsamples = 1\\nvalue = [0, 1]'),\n",
       " Text(122.31832139201637, 235.55999999999995, 'gini = 0.0\\nsamples = 1\\nvalue = [0, 1]'),\n",
       " Text(122.31832139201637, 308.03999999999996, 'gini = 0.0\\nsamples = 25\\nvalue = [25, 0]'),\n",
       " Text(126.12589559877175, 416.76, 'X[11] <= 1.563\\ngini = 0.266\\nsamples = 19\\nvalue = [16, 3]'),\n",
       " Text(125.17400204708291, 380.52, 'gini = 0.0\\nsamples = 1\\nvalue = [0, 1]'),\n",
       " Text(127.07778915046059, 380.52, 'X[7] <= 0.307\\ngini = 0.198\\nsamples = 18\\nvalue = [16, 2]'),\n",
       " Text(125.17400204708291, 344.28, 'X[9] <= -0.446\\ngini = 0.5\\nsamples = 2\\nvalue = [1, 1]'),\n",
       " Text(124.22210849539407, 308.03999999999996, 'gini = 0.0\\nsamples = 1\\nvalue = [0, 1]'),\n",
       " Text(126.12589559877175, 308.03999999999996, 'gini = 0.0\\nsamples = 1\\nvalue = [1, 0]'),\n",
       " Text(128.98157625383828, 344.28, 'X[6] <= -1.389\\ngini = 0.117\\nsamples = 16\\nvalue = [15, 1]'),\n",
       " Text(128.02968270214944, 308.03999999999996, 'X[5] <= -0.608\\ngini = 0.5\\nsamples = 2\\nvalue = [1, 1]'),\n",
       " Text(127.07778915046059, 271.79999999999995, 'gini = 0.0\\nsamples = 1\\nvalue = [0, 1]'),\n",
       " Text(128.98157625383828, 271.79999999999995, 'gini = 0.0\\nsamples = 1\\nvalue = [1, 0]'),\n",
       " Text(129.93346980552712, 308.03999999999996, 'gini = 0.0\\nsamples = 14\\nvalue = [14, 0]'),\n",
       " Text(138.50051177072672, 489.23999999999995, 'X[3] <= -2.16\\ngini = 0.224\\nsamples = 140\\nvalue = [122, 18]'),\n",
       " Text(137.54861821903788, 453.0, 'gini = 0.0\\nsamples = 1\\nvalue = [0, 1]'),\n",
       " Text(139.45240532241556, 453.0, 'X[11] <= 1.201\\ngini = 0.215\\nsamples = 139\\nvalue = [122, 17]'),\n",
       " Text(137.54861821903788, 416.76, 'X[11] <= -0.028\\ngini = 0.181\\nsamples = 119\\nvalue = [107, 12]'),\n",
       " Text(136.59672466734904, 380.52, 'X[3] <= 1.737\\ngini = 0.278\\nsamples = 72\\nvalue = [60, 12]'),\n",
       " Text(135.64483111566017, 344.28, 'X[11] <= -0.031\\ngini = 0.262\\nsamples = 71\\nvalue = [60, 11]'),\n",
       " Text(134.69293756397133, 308.03999999999996, 'X[7] <= 0.98\\ngini = 0.245\\nsamples = 70\\nvalue = [60, 10]'),\n",
       " Text(130.88536335721597, 271.79999999999995, 'X[3] <= 0.17\\ngini = 0.177\\nsamples = 51\\nvalue = [46, 5]'),\n",
       " Text(128.98157625383828, 235.55999999999995, 'X[11] <= -1.428\\ngini = 0.056\\nsamples = 35\\nvalue = [34, 1]'),\n",
       " Text(128.02968270214944, 199.31999999999994, 'X[5] <= -0.133\\ngini = 0.278\\nsamples = 6\\nvalue = [5, 1]'),\n",
       " Text(127.07778915046059, 163.07999999999993, 'gini = 0.0\\nsamples = 5\\nvalue = [5, 0]'),\n",
       " Text(128.98157625383828, 163.07999999999993, 'gini = 0.0\\nsamples = 1\\nvalue = [0, 1]'),\n",
       " Text(129.93346980552712, 199.31999999999994, 'gini = 0.0\\nsamples = 29\\nvalue = [29, 0]'),\n",
       " Text(132.78915046059365, 235.55999999999995, 'X[6] <= 1.213\\ngini = 0.375\\nsamples = 16\\nvalue = [12, 4]'),\n",
       " Text(131.8372569089048, 199.31999999999994, 'X[3] <= 0.284\\ngini = 0.245\\nsamples = 14\\nvalue = [12, 2]'),\n",
       " Text(130.88536335721597, 163.07999999999993, 'gini = 0.0\\nsamples = 1\\nvalue = [0, 1]'),\n",
       " Text(132.78915046059365, 163.07999999999993, 'X[7] <= 0.849\\ngini = 0.142\\nsamples = 13\\nvalue = [12, 1]'),\n",
       " Text(131.8372569089048, 126.83999999999992, 'gini = 0.0\\nsamples = 11\\nvalue = [11, 0]'),\n",
       " Text(133.7410440122825, 126.83999999999992, 'X[11] <= -0.788\\ngini = 0.5\\nsamples = 2\\nvalue = [1, 1]'),\n",
       " Text(132.78915046059365, 90.59999999999991, 'gini = 0.0\\nsamples = 1\\nvalue = [1, 0]'),\n",
       " Text(134.69293756397133, 90.59999999999991, 'gini = 0.0\\nsamples = 1\\nvalue = [0, 1]'),\n",
       " Text(133.7410440122825, 199.31999999999994, 'gini = 0.0\\nsamples = 2\\nvalue = [0, 2]'),\n",
       " Text(138.50051177072672, 271.79999999999995, 'X[3] <= -0.162\\ngini = 0.388\\nsamples = 19\\nvalue = [14, 5]'),\n",
       " Text(136.59672466734904, 235.55999999999995, 'X[5] <= -0.228\\ngini = 0.48\\nsamples = 5\\nvalue = [2, 3]'),\n",
       " Text(135.64483111566017, 199.31999999999994, 'gini = 0.0\\nsamples = 2\\nvalue = [2, 0]'),\n",
       " Text(137.54861821903788, 199.31999999999994, 'gini = 0.0\\nsamples = 3\\nvalue = [0, 3]'),\n",
       " Text(140.4042988741044, 235.55999999999995, 'X[11] <= -0.213\\ngini = 0.245\\nsamples = 14\\nvalue = [12, 2]'),\n",
       " Text(139.45240532241556, 199.31999999999994, 'X[6] <= -1.042\\ngini = 0.142\\nsamples = 13\\nvalue = [12, 1]'),\n",
       " Text(138.50051177072672, 163.07999999999993, 'X[9] <= -0.446\\ngini = 0.444\\nsamples = 3\\nvalue = [2, 1]'),\n",
       " Text(137.54861821903788, 126.83999999999992, 'gini = 0.0\\nsamples = 2\\nvalue = [2, 0]'),\n",
       " Text(139.45240532241556, 126.83999999999992, 'gini = 0.0\\nsamples = 1\\nvalue = [0, 1]'),\n",
       " Text(140.4042988741044, 163.07999999999993, 'gini = 0.0\\nsamples = 10\\nvalue = [10, 0]'),\n",
       " Text(141.35619242579324, 199.31999999999994, 'gini = 0.0\\nsamples = 1\\nvalue = [0, 1]'),\n",
       " Text(136.59672466734904, 308.03999999999996, 'gini = 0.0\\nsamples = 1\\nvalue = [0, 1]'),\n",
       " Text(137.54861821903788, 344.28, 'gini = 0.0\\nsamples = 1\\nvalue = [0, 1]'),\n",
       " Text(138.50051177072672, 380.52, 'gini = 0.0\\nsamples = 47\\nvalue = [47, 0]'),\n",
       " Text(141.35619242579324, 416.76, 'X[11] <= 1.264\\ngini = 0.375\\nsamples = 20\\nvalue = [15, 5]'),\n",
       " Text(140.4042988741044, 380.52, 'gini = 0.0\\nsamples = 2\\nvalue = [0, 2]'),\n",
       " Text(142.30808597748208, 380.52, 'X[6] <= -1.563\\ngini = 0.278\\nsamples = 18\\nvalue = [15, 3]'),\n",
       " Text(141.35619242579324, 344.28, 'gini = 0.0\\nsamples = 1\\nvalue = [0, 1]'),\n",
       " Text(143.25997952917092, 344.28, 'X[11] <= 1.571\\ngini = 0.208\\nsamples = 17\\nvalue = [15, 2]'),\n",
       " Text(142.30808597748208, 308.03999999999996, 'gini = 0.0\\nsamples = 10\\nvalue = [10, 0]'),\n",
       " Text(144.21187308085976, 308.03999999999996, 'X[9] <= -0.446\\ngini = 0.408\\nsamples = 7\\nvalue = [5, 2]'),\n",
       " Text(143.25997952917092, 271.79999999999995, 'gini = 0.0\\nsamples = 1\\nvalue = [0, 1]'),\n",
       " Text(145.1637666325486, 271.79999999999995, 'X[11] <= 1.594\\ngini = 0.278\\nsamples = 6\\nvalue = [5, 1]'),\n",
       " Text(144.21187308085976, 235.55999999999995, 'gini = 0.0\\nsamples = 1\\nvalue = [0, 1]'),\n",
       " Text(146.11566018423747, 235.55999999999995, 'gini = 0.0\\nsamples = 5\\nvalue = [5, 0]'),\n",
       " Text(140.4042988741044, 561.72, 'X[11] <= -0.08\\ngini = 0.42\\nsamples = 10\\nvalue = [7, 3]'),\n",
       " Text(139.45240532241556, 525.48, 'gini = 0.0\\nsamples = 5\\nvalue = [5, 0]'),\n",
       " Text(141.35619242579324, 525.48, 'X[11] <= 0.487\\ngini = 0.48\\nsamples = 5\\nvalue = [2, 3]'),\n",
       " Text(140.4042988741044, 489.23999999999995, 'gini = 0.0\\nsamples = 2\\nvalue = [0, 2]'),\n",
       " Text(142.30808597748208, 489.23999999999995, 'X[7] <= 1.55\\ngini = 0.444\\nsamples = 3\\nvalue = [2, 1]'),\n",
       " Text(141.35619242579324, 453.0, 'gini = 0.0\\nsamples = 1\\nvalue = [0, 1]'),\n",
       " Text(143.25997952917092, 453.0, 'gini = 0.0\\nsamples = 2\\nvalue = [2, 0]'),\n",
       " Text(164.91555783009213, 597.96, 'X[11] <= 0.912\\ngini = 0.087\\nsamples = 571\\nvalue = [545, 26]'),\n",
       " Text(155.3966223132037, 561.72, 'X[5] <= -0.133\\ngini = 0.064\\nsamples = 424\\nvalue = [410, 14]'),\n",
       " Text(151.3510747185261, 525.48, 'X[11] <= -1.713\\ngini = 0.05\\nsamples = 390\\nvalue = [380, 10]'),\n",
       " Text(148.971340839304, 489.23999999999995, 'X[7] <= 0.413\\ngini = 0.375\\nsamples = 4\\nvalue = [3, 1]'),\n",
       " Text(148.01944728761515, 453.0, 'gini = 0.0\\nsamples = 1\\nvalue = [0, 1]'),\n",
       " Text(149.92323439099283, 453.0, 'gini = 0.0\\nsamples = 3\\nvalue = [3, 0]'),\n",
       " Text(153.7308085977482, 489.23999999999995, 'X[6] <= 1.56\\ngini = 0.046\\nsamples = 386\\nvalue = [377, 9]'),\n",
       " Text(151.8270214943705, 453.0, 'X[7] <= 0.518\\ngini = 0.037\\nsamples = 367\\nvalue = [360, 7]'),\n",
       " Text(150.87512794268167, 416.76, 'gini = 0.0\\nsamples = 131\\nvalue = [131, 0]'),\n",
       " Text(152.77891504605935, 416.76, 'X[7] <= 0.523\\ngini = 0.058\\nsamples = 236\\nvalue = [229, 7]'),\n",
       " Text(151.8270214943705, 380.52, 'gini = 0.0\\nsamples = 1\\nvalue = [0, 1]'),\n",
       " Text(153.7308085977482, 380.52, 'X[7] <= 0.927\\ngini = 0.05\\nsamples = 235\\nvalue = [229, 6]'),\n",
       " Text(152.77891504605935, 344.28, 'X[7] <= 0.926\\ngini = 0.091\\nsamples = 126\\nvalue = [120, 6]'),\n",
       " Text(151.8270214943705, 308.03999999999996, 'X[2] <= 0.579\\ngini = 0.077\\nsamples = 125\\nvalue = [120, 5]'),\n",
       " Text(148.971340839304, 271.79999999999995, 'X[11] <= -0.74\\ngini = 0.043\\nsamples = 91\\nvalue = [89, 2]'),\n",
       " Text(148.01944728761515, 235.55999999999995, 'X[11] <= -0.762\\ngini = 0.095\\nsamples = 40\\nvalue = [38, 2]'),\n",
       " Text(147.0675537359263, 199.31999999999994, 'X[5] <= -0.323\\ngini = 0.05\\nsamples = 39\\nvalue = [38, 1]'),\n",
       " Text(146.11566018423747, 163.07999999999993, 'gini = 0.0\\nsamples = 32\\nvalue = [32, 0]'),\n",
       " Text(148.01944728761515, 163.07999999999993, 'X[6] <= 0.519\\ngini = 0.245\\nsamples = 7\\nvalue = [6, 1]'),\n",
       " Text(147.0675537359263, 126.83999999999992, 'gini = 0.0\\nsamples = 6\\nvalue = [6, 0]'),\n",
       " Text(148.971340839304, 126.83999999999992, 'gini = 0.0\\nsamples = 1\\nvalue = [0, 1]'),\n",
       " Text(148.971340839304, 199.31999999999994, 'gini = 0.0\\nsamples = 1\\nvalue = [0, 1]'),\n",
       " Text(149.92323439099283, 235.55999999999995, 'gini = 0.0\\nsamples = 51\\nvalue = [51, 0]'),\n",
       " Text(154.68270214943706, 271.79999999999995, 'X[3] <= -0.878\\ngini = 0.161\\nsamples = 34\\nvalue = [31, 3]'),\n",
       " Text(151.8270214943705, 235.55999999999995, 'X[3] <= -1.128\\ngini = 0.346\\nsamples = 9\\nvalue = [7, 2]'),\n",
       " Text(150.87512794268167, 199.31999999999994, 'gini = 0.0\\nsamples = 6\\nvalue = [6, 0]'),\n",
       " Text(152.77891504605935, 199.31999999999994, 'X[7] <= 0.744\\ngini = 0.444\\nsamples = 3\\nvalue = [1, 2]'),\n",
       " Text(151.8270214943705, 163.07999999999993, 'gini = 0.0\\nsamples = 2\\nvalue = [0, 2]'),\n",
       " Text(153.7308085977482, 163.07999999999993, 'gini = 0.0\\nsamples = 1\\nvalue = [1, 0]'),\n",
       " Text(157.53838280450358, 235.55999999999995, 'X[7] <= 0.543\\ngini = 0.077\\nsamples = 25\\nvalue = [24, 1]'),\n",
       " Text(156.58648925281474, 199.31999999999994, 'X[6] <= 0.346\\ngini = 0.444\\nsamples = 3\\nvalue = [2, 1]'),\n",
       " Text(155.6345957011259, 163.07999999999993, 'gini = 0.0\\nsamples = 2\\nvalue = [2, 0]'),\n",
       " Text(157.53838280450358, 163.07999999999993, 'gini = 0.0\\nsamples = 1\\nvalue = [0, 1]'),\n",
       " Text(158.49027635619242, 199.31999999999994, 'gini = 0.0\\nsamples = 22\\nvalue = [22, 0]'),\n",
       " Text(153.7308085977482, 308.03999999999996, 'gini = 0.0\\nsamples = 1\\nvalue = [0, 1]'),\n",
       " Text(154.68270214943706, 344.28, 'gini = 0.0\\nsamples = 109\\nvalue = [109, 0]'),\n",
       " Text(155.6345957011259, 453.0, 'X[7] <= 1.226\\ngini = 0.188\\nsamples = 19\\nvalue = [17, 2]'),\n",
       " Text(154.68270214943706, 416.76, 'gini = 0.0\\nsamples = 15\\nvalue = [15, 0]'),\n",
       " Text(156.58648925281474, 416.76, 'X[11] <= -0.835\\ngini = 0.5\\nsamples = 4\\nvalue = [2, 2]'),\n",
       " Text(155.6345957011259, 380.52, 'gini = 0.0\\nsamples = 2\\nvalue = [2, 0]'),\n",
       " Text(157.53838280450358, 380.52, 'gini = 0.0\\nsamples = 2\\nvalue = [0, 2]'),\n",
       " Text(159.44216990788127, 525.48, 'X[11] <= -1.625\\ngini = 0.208\\nsamples = 34\\nvalue = [30, 4]'),\n",
       " Text(158.49027635619242, 489.23999999999995, 'gini = 0.0\\nsamples = 1\\nvalue = [0, 1]'),\n",
       " Text(160.3940634595701, 489.23999999999995, 'X[7] <= 0.053\\ngini = 0.165\\nsamples = 33\\nvalue = [30, 3]'),\n",
       " Text(159.44216990788127, 453.0, 'gini = 0.0\\nsamples = 1\\nvalue = [0, 1]'),\n",
       " Text(161.34595701125895, 453.0, 'X[11] <= -0.442\\ngini = 0.117\\nsamples = 32\\nvalue = [30, 2]'),\n",
       " Text(160.3940634595701, 416.76, 'X[11] <= -0.486\\ngini = 0.26\\nsamples = 13\\nvalue = [11, 2]'),\n",
       " Text(159.44216990788127, 380.52, 'X[3] <= 1.182\\ngini = 0.153\\nsamples = 12\\nvalue = [11, 1]'),\n",
       " Text(158.49027635619242, 344.28, 'gini = 0.0\\nsamples = 11\\nvalue = [11, 0]'),\n",
       " Text(160.3940634595701, 344.28, 'gini = 0.0\\nsamples = 1\\nvalue = [0, 1]'),\n",
       " Text(161.34595701125895, 380.52, 'gini = 0.0\\nsamples = 1\\nvalue = [0, 1]'),\n",
       " Text(162.2978505629478, 416.76, 'gini = 0.0\\nsamples = 19\\nvalue = [19, 0]'),\n",
       " Text(174.43449334698056, 561.72, 'X[11] <= 0.92\\ngini = 0.15\\nsamples = 147\\nvalue = [135, 12]'),\n",
       " Text(173.48259979529172, 525.48, 'gini = 0.0\\nsamples = 2\\nvalue = [0, 2]'),\n",
       " Text(175.3863868986694, 525.48, 'X[4] <= -0.091\\ngini = 0.128\\nsamples = 145\\nvalue = [135, 10]'),\n",
       " Text(170.38894575230296, 489.23999999999995, 'X[7] <= 0.263\\ngini = 0.203\\nsamples = 61\\nvalue = [54, 7]'),\n",
       " Text(166.10542476970318, 453.0, 'X[9] <= -0.446\\ngini = 0.36\\nsamples = 17\\nvalue = [13, 4]'),\n",
       " Text(164.2016376663255, 416.76, 'X[7] <= 0.058\\ngini = 0.48\\nsamples = 5\\nvalue = [2, 3]'),\n",
       " Text(163.24974411463663, 380.52, 'gini = 0.0\\nsamples = 2\\nvalue = [2, 0]'),\n",
       " Text(165.15353121801434, 380.52, 'gini = 0.0\\nsamples = 3\\nvalue = [0, 3]'),\n",
       " Text(168.00921187308086, 416.76, 'X[5] <= -0.228\\ngini = 0.153\\nsamples = 12\\nvalue = [11, 1]'),\n",
       " Text(167.05731832139202, 380.52, 'gini = 0.0\\nsamples = 10\\nvalue = [10, 0]'),\n",
       " Text(168.9611054247697, 380.52, 'X[7] <= 0.178\\ngini = 0.5\\nsamples = 2\\nvalue = [1, 1]'),\n",
       " Text(168.00921187308086, 344.28, 'gini = 0.0\\nsamples = 1\\nvalue = [1, 0]'),\n",
       " Text(169.91299897645854, 344.28, 'gini = 0.0\\nsamples = 1\\nvalue = [0, 1]'),\n",
       " Text(174.67246673490277, 453.0, 'X[5] <= -0.798\\ngini = 0.127\\nsamples = 44\\nvalue = [41, 3]'),\n",
       " Text(173.72057318321393, 416.76, 'X[7] <= 0.916\\ngini = 0.266\\nsamples = 19\\nvalue = [16, 3]'),\n",
       " Text(172.76867963152506, 380.52, 'X[7] <= 0.872\\ngini = 0.375\\nsamples = 12\\nvalue = [9, 3]'),\n",
       " Text(171.81678607983622, 344.28, 'X[3] <= -0.437\\ngini = 0.298\\nsamples = 11\\nvalue = [9, 2]'),\n",
       " Text(170.86489252814738, 308.03999999999996, 'X[2] <= 0.579\\ngini = 0.48\\nsamples = 5\\nvalue = [3, 2]'),\n",
       " Text(169.91299897645854, 271.79999999999995, 'gini = 0.0\\nsamples = 2\\nvalue = [2, 0]'),\n",
       " Text(171.81678607983622, 271.79999999999995, 'X[7] <= 0.451\\ngini = 0.444\\nsamples = 3\\nvalue = [1, 2]'),\n",
       " Text(170.86489252814738, 235.55999999999995, 'gini = 0.0\\nsamples = 1\\nvalue = [1, 0]'),\n",
       " Text(172.76867963152506, 235.55999999999995, 'gini = 0.0\\nsamples = 2\\nvalue = [0, 2]'),\n",
       " Text(172.76867963152506, 308.03999999999996, 'gini = 0.0\\nsamples = 6\\nvalue = [6, 0]'),\n",
       " Text(173.72057318321393, 344.28, 'gini = 0.0\\nsamples = 1\\nvalue = [0, 1]'),\n",
       " Text(174.67246673490277, 380.52, 'gini = 0.0\\nsamples = 7\\nvalue = [7, 0]'),\n",
       " Text(175.6243602865916, 416.76, 'gini = 0.0\\nsamples = 25\\nvalue = [25, 0]'),\n",
       " Text(180.3838280450358, 489.23999999999995, 'X[3] <= -0.162\\ngini = 0.069\\nsamples = 84\\nvalue = [81, 3]'),\n",
       " Text(179.43193449334697, 453.0, 'X[3] <= -0.199\\ngini = 0.175\\nsamples = 31\\nvalue = [28, 3]'),\n",
       " Text(178.48004094165813, 416.76, 'X[7] <= 1.273\\ngini = 0.124\\nsamples = 30\\nvalue = [28, 2]'),\n",
       " Text(176.57625383828045, 380.52, 'X[11] <= 1.114\\ngini = 0.071\\nsamples = 27\\nvalue = [26, 1]'),\n",
       " Text(175.6243602865916, 344.28, 'X[11] <= 1.092\\ngini = 0.278\\nsamples = 6\\nvalue = [5, 1]'),\n",
       " Text(174.67246673490277, 308.03999999999996, 'gini = 0.0\\nsamples = 5\\nvalue = [5, 0]'),\n",
       " Text(176.57625383828045, 308.03999999999996, 'gini = 0.0\\nsamples = 1\\nvalue = [0, 1]'),\n",
       " Text(177.5281473899693, 344.28, 'gini = 0.0\\nsamples = 21\\nvalue = [21, 0]'),\n",
       " Text(180.3838280450358, 380.52, 'X[7] <= 1.321\\ngini = 0.444\\nsamples = 3\\nvalue = [2, 1]'),\n",
       " Text(179.43193449334697, 344.28, 'gini = 0.0\\nsamples = 1\\nvalue = [0, 1]'),\n",
       " Text(181.33572159672465, 344.28, 'gini = 0.0\\nsamples = 2\\nvalue = [2, 0]'),\n",
       " Text(180.3838280450358, 416.76, 'gini = 0.0\\nsamples = 1\\nvalue = [0, 1]'),\n",
       " Text(181.33572159672465, 453.0, 'gini = 0.0\\nsamples = 53\\nvalue = [53, 0]'),\n",
       " Text(187.04708290685772, 634.2, 'X[4] <= -0.091\\ngini = 0.394\\nsamples = 37\\nvalue = [27, 10]'),\n",
       " Text(185.14329580348004, 597.96, 'X[5] <= -0.703\\ngini = 0.5\\nsamples = 16\\nvalue = [8, 8]'),\n",
       " Text(184.1914022517912, 561.72, 'gini = 0.0\\nsamples = 4\\nvalue = [0, 4]'),\n",
       " Text(186.09518935516888, 561.72, 'X[6] <= -0.869\\ngini = 0.444\\nsamples = 12\\nvalue = [8, 4]'),\n",
       " Text(185.14329580348004, 525.48, 'X[6] <= -1.216\\ngini = 0.49\\nsamples = 7\\nvalue = [3, 4]'),\n",
       " Text(184.1914022517912, 489.23999999999995, 'X[11] <= 1.047\\ngini = 0.375\\nsamples = 4\\nvalue = [3, 1]'),\n",
       " Text(183.23950870010236, 453.0, 'gini = 0.0\\nsamples = 3\\nvalue = [3, 0]'),\n",
       " Text(185.14329580348004, 453.0, 'gini = 0.0\\nsamples = 1\\nvalue = [0, 1]'),\n",
       " Text(186.09518935516888, 489.23999999999995, 'gini = 0.0\\nsamples = 3\\nvalue = [0, 3]'),\n",
       " Text(187.04708290685772, 525.48, 'gini = 0.0\\nsamples = 5\\nvalue = [5, 0]'),\n",
       " Text(188.9508700102354, 597.96, 'X[7] <= 1.638\\ngini = 0.172\\nsamples = 21\\nvalue = [19, 2]'),\n",
       " Text(187.99897645854657, 561.72, 'gini = 0.0\\nsamples = 1\\nvalue = [0, 1]'),\n",
       " Text(189.90276356192425, 561.72, 'X[11] <= -0.879\\ngini = 0.095\\nsamples = 20\\nvalue = [19, 1]'),\n",
       " Text(188.9508700102354, 525.48, 'X[11] <= -1.132\\ngini = 0.375\\nsamples = 4\\nvalue = [3, 1]'),\n",
       " Text(187.99897645854657, 489.23999999999995, 'gini = 0.0\\nsamples = 3\\nvalue = [3, 0]'),\n",
       " Text(189.90276356192425, 489.23999999999995, 'gini = 0.0\\nsamples = 1\\nvalue = [0, 1]'),\n",
       " Text(190.8546571136131, 525.48, 'gini = 0.0\\nsamples = 16\\nvalue = [16, 0]'),\n",
       " Text(248.65244370522007, 706.68, 'X[7] <= 1.103\\ngini = 0.345\\nsamples = 510\\nvalue = [397, 113]'),\n",
       " Text(219.82791709314228, 670.44, 'X[7] <= 0.401\\ngini = 0.377\\nsamples = 417\\nvalue = [312, 105]'),\n",
       " Text(204.0621801432958, 634.2, 'X[3] <= 1.669\\ngini = 0.202\\nsamples = 114\\nvalue = [101, 13]'),\n",
       " Text(200.1356192425793, 597.96, 'X[11] <= 1.485\\ngini = 0.18\\nsamples = 110\\nvalue = [99, 11]'),\n",
       " Text(195.1381780962129, 561.72, 'X[6] <= 1.213\\ngini = 0.147\\nsamples = 100\\nvalue = [92, 8]'),\n",
       " Text(192.7584442169908, 525.48, 'X[4] <= -0.091\\ngini = 0.094\\nsamples = 81\\nvalue = [77, 4]'),\n",
       " Text(191.80655066530193, 489.23999999999995, 'X[10] <= -0.026\\ngini = 0.188\\nsamples = 38\\nvalue = [34, 4]'),\n",
       " Text(190.8546571136131, 453.0, 'X[3] <= 0.445\\ngini = 0.308\\nsamples = 21\\nvalue = [17, 4]'),\n",
       " Text(189.90276356192425, 416.76, 'X[6] <= -1.042\\ngini = 0.426\\nsamples = 13\\nvalue = [9, 4]'),\n",
       " Text(188.9508700102354, 380.52, 'gini = 0.0\\nsamples = 4\\nvalue = [4, 0]'),\n",
       " Text(190.8546571136131, 380.52, 'X[3] <= -0.936\\ngini = 0.494\\nsamples = 9\\nvalue = [5, 4]'),\n",
       " Text(189.90276356192425, 344.28, 'gini = 0.0\\nsamples = 2\\nvalue = [2, 0]'),\n",
       " Text(191.80655066530193, 344.28, 'X[5] <= -1.179\\ngini = 0.49\\nsamples = 7\\nvalue = [3, 4]'),\n",
       " Text(190.8546571136131, 308.03999999999996, 'gini = 0.0\\nsamples = 2\\nvalue = [2, 0]'),\n",
       " Text(192.7584442169908, 308.03999999999996, 'X[11] <= 1.045\\ngini = 0.32\\nsamples = 5\\nvalue = [1, 4]'),\n",
       " Text(191.80655066530193, 271.79999999999995, 'gini = 0.0\\nsamples = 4\\nvalue = [0, 4]'),\n",
       " Text(193.71033776867964, 271.79999999999995, 'gini = 0.0\\nsamples = 1\\nvalue = [1, 0]'),\n",
       " Text(191.80655066530193, 416.76, 'gini = 0.0\\nsamples = 8\\nvalue = [8, 0]'),\n",
       " Text(192.7584442169908, 453.0, 'gini = 0.0\\nsamples = 17\\nvalue = [17, 0]'),\n",
       " Text(193.71033776867964, 489.23999999999995, 'gini = 0.0\\nsamples = 43\\nvalue = [43, 0]'),\n",
       " Text(197.517911975435, 525.48, 'X[7] <= 0.262\\ngini = 0.332\\nsamples = 19\\nvalue = [15, 4]'),\n",
       " Text(195.61412487205732, 489.23999999999995, 'X[5] <= -1.416\\ngini = 0.219\\nsamples = 16\\nvalue = [14, 2]'),\n",
       " Text(194.66223132036848, 453.0, 'gini = 0.0\\nsamples = 1\\nvalue = [0, 1]'),\n",
       " Text(196.56601842374616, 453.0, 'X[7] <= -0.136\\ngini = 0.124\\nsamples = 15\\nvalue = [14, 1]'),\n",
       " Text(195.61412487205732, 416.76, 'X[4] <= -0.091\\ngini = 0.5\\nsamples = 2\\nvalue = [1, 1]'),\n",
       " Text(194.66223132036848, 380.52, 'gini = 0.0\\nsamples = 1\\nvalue = [1, 0]'),\n",
       " Text(196.56601842374616, 380.52, 'gini = 0.0\\nsamples = 1\\nvalue = [0, 1]'),\n",
       " Text(197.517911975435, 416.76, 'gini = 0.0\\nsamples = 13\\nvalue = [13, 0]'),\n",
       " Text(199.42169907881268, 489.23999999999995, 'X[11] <= -0.31\\ngini = 0.444\\nsamples = 3\\nvalue = [1, 2]'),\n",
       " Text(198.46980552712384, 453.0, 'gini = 0.0\\nsamples = 1\\nvalue = [1, 0]'),\n",
       " Text(200.37359263050152, 453.0, 'gini = 0.0\\nsamples = 2\\nvalue = [0, 2]'),\n",
       " Text(205.13306038894575, 561.72, 'X[11] <= 1.625\\ngini = 0.42\\nsamples = 10\\nvalue = [7, 3]'),\n",
       " Text(204.1811668372569, 525.48, 'X[7] <= 0.221\\ngini = 0.48\\nsamples = 5\\nvalue = [2, 3]'),\n",
       " Text(203.22927328556807, 489.23999999999995, 'X[11] <= 1.514\\ngini = 0.444\\nsamples = 3\\nvalue = [2, 1]'),\n",
       " Text(202.27737973387923, 453.0, 'gini = 0.0\\nsamples = 1\\nvalue = [0, 1]'),\n",
       " Text(204.1811668372569, 453.0, 'gini = 0.0\\nsamples = 2\\nvalue = [2, 0]'),\n",
       " Text(205.13306038894575, 489.23999999999995, 'gini = 0.0\\nsamples = 2\\nvalue = [0, 2]'),\n",
       " Text(206.0849539406346, 525.48, 'gini = 0.0\\nsamples = 5\\nvalue = [5, 0]'),\n",
       " Text(207.98874104401227, 597.96, 'X[5] <= -0.466\\ngini = 0.5\\nsamples = 4\\nvalue = [2, 2]'),\n",
       " Text(207.03684749232343, 561.72, 'gini = 0.0\\nsamples = 2\\nvalue = [2, 0]'),\n",
       " Text(208.9406345957011, 561.72, 'gini = 0.0\\nsamples = 2\\nvalue = [0, 2]'),\n",
       " Text(235.59365404298873, 634.2, 'X[5] <= -0.608\\ngini = 0.423\\nsamples = 303\\nvalue = [211, 92]'),\n",
       " Text(219.2924769703173, 597.96, 'X[10] <= -0.026\\ngini = 0.349\\nsamples = 151\\nvalue = [117, 34]'),\n",
       " Text(211.08239508700103, 561.72, 'X[7] <= 0.75\\ngini = 0.436\\nsamples = 78\\nvalue = [53, 25]'),\n",
       " Text(207.98874104401227, 525.48, 'X[7] <= 0.729\\ngini = 0.492\\nsamples = 39\\nvalue = [22, 17]'),\n",
       " Text(207.03684749232343, 489.23999999999995, 'X[11] <= 1.41\\ngini = 0.467\\nsamples = 35\\nvalue = [22, 13]'),\n",
       " Text(206.0849539406346, 453.0, 'X[6] <= -1.216\\ngini = 0.43\\nsamples = 32\\nvalue = [22, 10]'),\n",
       " Text(202.75332650972365, 416.76, 'X[3] <= -0.121\\ngini = 0.494\\nsamples = 9\\nvalue = [4, 5]'),\n",
       " Text(201.8014329580348, 380.52, 'gini = 0.0\\nsamples = 3\\nvalue = [0, 3]'),\n",
       " Text(203.7052200614125, 380.52, 'X[6] <= -1.563\\ngini = 0.444\\nsamples = 6\\nvalue = [4, 2]'),\n",
       " Text(202.75332650972365, 344.28, 'gini = 0.0\\nsamples = 3\\nvalue = [3, 0]'),\n",
       " Text(204.65711361310133, 344.28, 'X[5] <= -0.941\\ngini = 0.444\\nsamples = 3\\nvalue = [1, 2]'),\n",
       " Text(203.7052200614125, 308.03999999999996, 'gini = 0.0\\nsamples = 2\\nvalue = [0, 2]'),\n",
       " Text(205.60900716479017, 308.03999999999996, 'gini = 0.0\\nsamples = 1\\nvalue = [1, 0]'),\n",
       " Text(209.41658137154553, 416.76, 'X[3] <= 0.528\\ngini = 0.34\\nsamples = 23\\nvalue = [18, 5]'),\n",
       " Text(207.51279426816785, 380.52, 'X[6] <= 0.519\\ngini = 0.208\\nsamples = 17\\nvalue = [15, 2]'),\n",
       " Text(206.560900716479, 344.28, 'gini = 0.0\\nsamples = 9\\nvalue = [9, 0]'),\n",
       " Text(208.4646878198567, 344.28, 'X[3] <= -1.242\\ngini = 0.375\\nsamples = 8\\nvalue = [6, 2]'),\n",
       " Text(207.51279426816785, 308.03999999999996, 'gini = 0.0\\nsamples = 1\\nvalue = [0, 1]'),\n",
       " Text(209.41658137154553, 308.03999999999996, 'X[7] <= 0.512\\ngini = 0.245\\nsamples = 7\\nvalue = [6, 1]'),\n",
       " Text(208.4646878198567, 271.79999999999995, 'gini = 0.0\\nsamples = 1\\nvalue = [0, 1]'),\n",
       " Text(210.36847492323437, 271.79999999999995, 'gini = 0.0\\nsamples = 6\\nvalue = [6, 0]'),\n",
       " Text(211.32036847492324, 380.52, 'X[4] <= -0.091\\ngini = 0.5\\nsamples = 6\\nvalue = [3, 3]'),\n",
       " Text(210.36847492323437, 344.28, 'gini = 0.0\\nsamples = 2\\nvalue = [0, 2]'),\n",
       " Text(212.27226202661208, 344.28, 'X[11] <= -0.786\\ngini = 0.375\\nsamples = 4\\nvalue = [3, 1]'),\n",
       " Text(211.32036847492324, 308.03999999999996, 'gini = 0.0\\nsamples = 3\\nvalue = [3, 0]'),\n",
       " Text(213.22415557830092, 308.03999999999996, 'gini = 0.0\\nsamples = 1\\nvalue = [0, 1]'),\n",
       " Text(207.98874104401227, 453.0, 'gini = 0.0\\nsamples = 3\\nvalue = [0, 3]'),\n",
       " Text(208.9406345957011, 489.23999999999995, 'gini = 0.0\\nsamples = 4\\nvalue = [0, 4]'),\n",
       " Text(214.17604912998976, 525.48, 'X[11] <= -1.167\\ngini = 0.326\\nsamples = 39\\nvalue = [31, 8]'),\n",
       " Text(212.27226202661208, 489.23999999999995, 'X[3] <= 0.325\\ngini = 0.48\\nsamples = 5\\nvalue = [2, 3]'),\n",
       " Text(211.32036847492324, 453.0, 'gini = 0.0\\nsamples = 3\\nvalue = [0, 3]'),\n",
       " Text(213.22415557830092, 453.0, 'gini = 0.0\\nsamples = 2\\nvalue = [2, 0]'),\n",
       " Text(216.07983623336744, 489.23999999999995, 'X[3] <= -2.554\\ngini = 0.251\\nsamples = 34\\nvalue = [29, 5]'),\n",
       " Text(215.1279426816786, 453.0, 'gini = 0.0\\nsamples = 1\\nvalue = [0, 1]'),\n",
       " Text(217.03172978505629, 453.0, 'X[6] <= 1.213\\ngini = 0.213\\nsamples = 33\\nvalue = [29, 4]'),\n",
       " Text(214.17604912998976, 416.76, 'X[6] <= -0.522\\ngini = 0.133\\nsamples = 28\\nvalue = [26, 2]'),\n",
       " Text(213.22415557830092, 380.52, 'gini = 0.0\\nsamples = 15\\nvalue = [15, 0]'),\n",
       " Text(215.1279426816786, 380.52, 'X[6] <= 0.172\\ngini = 0.26\\nsamples = 13\\nvalue = [11, 2]'),\n",
       " Text(214.17604912998976, 344.28, 'gini = 0.0\\nsamples = 2\\nvalue = [0, 2]'),\n",
       " Text(216.07983623336744, 344.28, 'gini = 0.0\\nsamples = 11\\nvalue = [11, 0]'),\n",
       " Text(219.8874104401228, 416.76, 'X[6] <= 1.56\\ngini = 0.48\\nsamples = 5\\nvalue = [3, 2]'),\n",
       " Text(218.93551688843397, 380.52, 'X[7] <= 1.073\\ngini = 0.444\\nsamples = 3\\nvalue = [1, 2]'),\n",
       " Text(217.98362333674513, 344.28, 'gini = 0.0\\nsamples = 2\\nvalue = [0, 2]'),\n",
       " Text(219.8874104401228, 344.28, 'gini = 0.0\\nsamples = 1\\nvalue = [1, 0]'),\n",
       " Text(220.83930399181168, 380.52, 'gini = 0.0\\nsamples = 2\\nvalue = [2, 0]'),\n",
       " Text(227.50255885363356, 561.72, 'X[7] <= 1.033\\ngini = 0.216\\nsamples = 73\\nvalue = [64, 9]'),\n",
       " Text(225.59877175025588, 525.48, 'X[3] <= 1.768\\ngini = 0.182\\nsamples = 69\\nvalue = [62, 7]'),\n",
       " Text(224.64687819856704, 489.23999999999995, 'X[7] <= 0.484\\ngini = 0.161\\nsamples = 68\\nvalue = [62, 6]'),\n",
       " Text(222.74309109518936, 453.0, 'X[7] <= 0.463\\ngini = 0.444\\nsamples = 9\\nvalue = [6, 3]'),\n",
       " Text(221.79119754350052, 416.76, 'gini = 0.0\\nsamples = 5\\nvalue = [5, 0]'),\n",
       " Text(223.6949846468782, 416.76, 'X[9] <= -0.446\\ngini = 0.375\\nsamples = 4\\nvalue = [1, 3]'),\n",
       " Text(222.74309109518936, 380.52, 'X[3] <= -0.536\\ngini = 0.5\\nsamples = 2\\nvalue = [1, 1]'),\n",
       " Text(221.79119754350052, 344.28, 'gini = 0.0\\nsamples = 1\\nvalue = [1, 0]'),\n",
       " Text(223.6949846468782, 344.28, 'gini = 0.0\\nsamples = 1\\nvalue = [0, 1]'),\n",
       " Text(224.64687819856704, 380.52, 'gini = 0.0\\nsamples = 2\\nvalue = [0, 2]'),\n",
       " Text(226.55066530194472, 453.0, 'X[7] <= 0.878\\ngini = 0.097\\nsamples = 59\\nvalue = [56, 3]'),\n",
       " Text(225.59877175025588, 416.76, 'gini = 0.0\\nsamples = 44\\nvalue = [44, 0]'),\n",
       " Text(227.50255885363356, 416.76, 'X[7] <= 0.934\\ngini = 0.32\\nsamples = 15\\nvalue = [12, 3]'),\n",
       " Text(226.55066530194472, 380.52, 'X[5] <= -1.084\\ngini = 0.5\\nsamples = 6\\nvalue = [3, 3]'),\n",
       " Text(225.59877175025588, 344.28, 'gini = 0.0\\nsamples = 2\\nvalue = [2, 0]'),\n",
       " Text(227.50255885363356, 344.28, 'X[5] <= -0.703\\ngini = 0.375\\nsamples = 4\\nvalue = [1, 3]'),\n",
       " Text(226.55066530194472, 308.03999999999996, 'gini = 0.0\\nsamples = 3\\nvalue = [0, 3]'),\n",
       " Text(228.4544524053224, 308.03999999999996, 'gini = 0.0\\nsamples = 1\\nvalue = [1, 0]'),\n",
       " Text(228.4544524053224, 380.52, 'gini = 0.0\\nsamples = 9\\nvalue = [9, 0]'),\n",
       " Text(226.55066530194472, 489.23999999999995, 'gini = 0.0\\nsamples = 1\\nvalue = [0, 1]'),\n",
       " Text(229.40634595701124, 525.48, 'X[3] <= 0.144\\ngini = 0.5\\nsamples = 4\\nvalue = [2, 2]'),\n",
       " Text(228.4544524053224, 489.23999999999995, 'gini = 0.0\\nsamples = 2\\nvalue = [0, 2]'),\n",
       " Text(230.3582395087001, 489.23999999999995, 'gini = 0.0\\nsamples = 2\\nvalue = [2, 0]'),\n",
       " Text(251.89483111566017, 597.96, 'X[7] <= 0.707\\ngini = 0.472\\nsamples = 152\\nvalue = [94, 58]'),\n",
       " Text(240.82906857727738, 561.72, 'X[3] <= 1.524\\ngini = 0.5\\nsamples = 72\\nvalue = [37, 35]'),\n",
       " Text(238.92528147389967, 525.48, 'X[7] <= 0.669\\ngini = 0.499\\nsamples = 65\\nvalue = [31, 34]'),\n",
       " Text(237.97338792221083, 489.23999999999995, 'X[4] <= -0.091\\ngini = 0.5\\nsamples = 62\\nvalue = [31, 31]'),\n",
       " Text(231.31013306038895, 453.0, 'X[7] <= 0.419\\ngini = 0.471\\nsamples = 29\\nvalue = [11, 18]'),\n",
       " Text(230.3582395087001, 416.76, 'gini = 0.0\\nsamples = 3\\nvalue = [3, 0]'),\n",
       " Text(232.2620266120778, 416.76, 'X[5] <= -0.323\\ngini = 0.426\\nsamples = 26\\nvalue = [8, 18]'),\n",
       " Text(230.3582395087001, 380.52, 'X[6] <= -1.563\\ngini = 0.18\\nsamples = 10\\nvalue = [1, 9]'),\n",
       " Text(229.40634595701124, 344.28, 'gini = 0.0\\nsamples = 1\\nvalue = [1, 0]'),\n",
       " Text(231.31013306038895, 344.28, 'gini = 0.0\\nsamples = 9\\nvalue = [0, 9]'),\n",
       " Text(234.16581371545547, 380.52, 'X[11] <= -0.664\\ngini = 0.492\\nsamples = 16\\nvalue = [7, 9]'),\n",
       " Text(233.21392016376663, 344.28, 'gini = 0.0\\nsamples = 2\\nvalue = [2, 0]'),\n",
       " Text(235.1177072671443, 344.28, 'X[11] <= 0.489\\ngini = 0.459\\nsamples = 14\\nvalue = [5, 9]'),\n",
       " Text(233.21392016376663, 308.03999999999996, 'X[7] <= 0.619\\ngini = 0.346\\nsamples = 9\\nvalue = [2, 7]'),\n",
       " Text(232.2620266120778, 271.79999999999995, 'gini = 0.0\\nsamples = 6\\nvalue = [0, 6]'),\n",
       " Text(234.16581371545547, 271.79999999999995, 'X[11] <= 0.251\\ngini = 0.444\\nsamples = 3\\nvalue = [2, 1]'),\n",
       " Text(233.21392016376663, 235.55999999999995, 'gini = 0.0\\nsamples = 2\\nvalue = [2, 0]'),\n",
       " Text(235.1177072671443, 235.55999999999995, 'gini = 0.0\\nsamples = 1\\nvalue = [0, 1]'),\n",
       " Text(237.021494370522, 308.03999999999996, 'X[3] <= -0.676\\ngini = 0.48\\nsamples = 5\\nvalue = [3, 2]'),\n",
       " Text(236.06960081883315, 271.79999999999995, 'gini = 0.0\\nsamples = 2\\nvalue = [0, 2]'),\n",
       " Text(237.97338792221083, 271.79999999999995, 'gini = 0.0\\nsamples = 3\\nvalue = [3, 0]'),\n",
       " Text(244.63664278403274, 453.0, 'X[7] <= 0.589\\ngini = 0.478\\nsamples = 33\\nvalue = [20, 13]'),\n",
       " Text(239.87717502558854, 416.76, 'X[7] <= 0.409\\ngini = 0.346\\nsamples = 18\\nvalue = [14, 4]'),\n",
       " Text(237.97338792221083, 380.52, 'X[3] <= -1.138\\ngini = 0.444\\nsamples = 3\\nvalue = [1, 2]'),\n",
       " Text(237.021494370522, 344.28, 'gini = 0.0\\nsamples = 1\\nvalue = [1, 0]'),\n",
       " Text(238.92528147389967, 344.28, 'gini = 0.0\\nsamples = 2\\nvalue = [0, 2]'),\n",
       " Text(241.78096212896622, 380.52, 'X[11] <= 1.113\\ngini = 0.231\\nsamples = 15\\nvalue = [13, 2]'),\n",
       " Text(240.82906857727738, 344.28, 'gini = 0.0\\nsamples = 12\\nvalue = [12, 0]'),\n",
       " Text(242.73285568065506, 344.28, 'X[6] <= -1.216\\ngini = 0.444\\nsamples = 3\\nvalue = [1, 2]'),\n",
       " Text(241.78096212896622, 308.03999999999996, 'gini = 0.0\\nsamples = 1\\nvalue = [1, 0]'),\n",
       " Text(243.6847492323439, 308.03999999999996, 'gini = 0.0\\nsamples = 2\\nvalue = [0, 2]'),\n",
       " Text(249.39611054247698, 416.76, 'X[3] <= 0.595\\ngini = 0.48\\nsamples = 15\\nvalue = [6, 9]'),\n",
       " Text(248.44421699078814, 380.52, 'X[7] <= 0.613\\ngini = 0.5\\nsamples = 12\\nvalue = [6, 6]'),\n",
       " Text(246.54042988741043, 344.28, 'X[6] <= 1.56\\ngini = 0.278\\nsamples = 6\\nvalue = [1, 5]'),\n",
       " Text(245.58853633572159, 308.03999999999996, 'gini = 0.0\\nsamples = 4\\nvalue = [0, 4]'),\n",
       " Text(247.49232343909927, 308.03999999999996, 'X[11] <= -0.173\\ngini = 0.5\\nsamples = 2\\nvalue = [1, 1]'),\n",
       " Text(246.54042988741043, 271.79999999999995, 'gini = 0.0\\nsamples = 1\\nvalue = [0, 1]'),\n",
       " Text(248.44421699078814, 271.79999999999995, 'gini = 0.0\\nsamples = 1\\nvalue = [1, 0]'),\n",
       " Text(250.34800409416582, 344.28, 'X[9] <= -0.446\\ngini = 0.278\\nsamples = 6\\nvalue = [5, 1]'),\n",
       " Text(249.39611054247698, 308.03999999999996, 'gini = 0.0\\nsamples = 4\\nvalue = [4, 0]'),\n",
       " Text(251.29989764585466, 308.03999999999996, 'X[11] <= 0.276\\ngini = 0.5\\nsamples = 2\\nvalue = [1, 1]'),\n",
       " Text(250.34800409416582, 271.79999999999995, 'gini = 0.0\\nsamples = 1\\nvalue = [1, 0]'),\n",
       " Text(252.2517911975435, 271.79999999999995, 'gini = 0.0\\nsamples = 1\\nvalue = [0, 1]'),\n",
       " Text(250.34800409416582, 380.52, 'gini = 0.0\\nsamples = 3\\nvalue = [0, 3]'),\n",
       " Text(239.87717502558854, 489.23999999999995, 'gini = 0.0\\nsamples = 3\\nvalue = [0, 3]'),\n",
       " Text(242.73285568065506, 525.48, 'X[7] <= 0.687\\ngini = 0.245\\nsamples = 7\\nvalue = [6, 1]'),\n",
       " Text(241.78096212896622, 489.23999999999995, 'gini = 0.0\\nsamples = 6\\nvalue = [6, 0]'),\n",
       " Text(243.6847492323439, 489.23999999999995, 'gini = 0.0\\nsamples = 1\\nvalue = [0, 1]'),\n",
       " Text(262.960593654043, 561.72, 'X[11] <= -0.464\\ngini = 0.41\\nsamples = 80\\nvalue = [57, 23]'),\n",
       " Text(255.58341862845444, 525.48, 'X[7] <= 0.749\\ngini = 0.489\\nsamples = 33\\nvalue = [19, 14]'),\n",
       " Text(254.6315250767656, 489.23999999999995, 'gini = 0.0\\nsamples = 7\\nvalue = [7, 0]'),\n",
       " Text(256.5353121801433, 489.23999999999995, 'X[4] <= -0.091\\ngini = 0.497\\nsamples = 26\\nvalue = [12, 14]'),\n",
       " Text(253.20368474923234, 453.0, 'X[5] <= -0.228\\ngini = 0.355\\nsamples = 13\\nvalue = [3, 10]'),\n",
       " Text(252.2517911975435, 416.76, 'gini = 0.0\\nsamples = 7\\nvalue = [0, 7]'),\n",
       " Text(254.15557830092118, 416.76, 'X[7] <= 0.858\\ngini = 0.5\\nsamples = 6\\nvalue = [3, 3]'),\n",
       " Text(253.20368474923234, 380.52, 'gini = 0.0\\nsamples = 2\\nvalue = [0, 2]'),\n",
       " Text(255.10747185261002, 380.52, 'X[7] <= 0.925\\ngini = 0.375\\nsamples = 4\\nvalue = [3, 1]'),\n",
       " Text(254.15557830092118, 344.28, 'X[7] <= 0.891\\ngini = 0.5\\nsamples = 2\\nvalue = [1, 1]'),\n",
       " Text(253.20368474923234, 308.03999999999996, 'gini = 0.0\\nsamples = 1\\nvalue = [1, 0]'),\n",
       " Text(255.10747185261002, 308.03999999999996, 'gini = 0.0\\nsamples = 1\\nvalue = [0, 1]'),\n",
       " Text(256.0593654042989, 344.28, 'gini = 0.0\\nsamples = 2\\nvalue = [2, 0]'),\n",
       " Text(259.86693961105425, 453.0, 'X[3] <= -0.536\\ngini = 0.426\\nsamples = 13\\nvalue = [9, 4]'),\n",
       " Text(257.96315250767657, 416.76, 'X[11] <= -0.607\\ngini = 0.375\\nsamples = 4\\nvalue = [1, 3]'),\n",
       " Text(257.0112589559877, 380.52, 'gini = 0.0\\nsamples = 3\\nvalue = [0, 3]'),\n",
       " Text(258.9150460593654, 380.52, 'gini = 0.0\\nsamples = 1\\nvalue = [1, 0]'),\n",
       " Text(261.77072671443193, 416.76, 'X[7] <= 0.813\\ngini = 0.198\\nsamples = 9\\nvalue = [8, 1]'),\n",
       " Text(260.8188331627431, 380.52, 'gini = 0.0\\nsamples = 1\\nvalue = [0, 1]'),\n",
       " Text(262.72262026612077, 380.52, 'gini = 0.0\\nsamples = 8\\nvalue = [8, 0]'),\n",
       " Text(270.3377686796315, 525.48, 'X[11] <= 1.724\\ngini = 0.31\\nsamples = 47\\nvalue = [38, 9]'),\n",
       " Text(269.38587512794265, 489.23999999999995, 'X[5] <= -0.418\\ngini = 0.287\\nsamples = 46\\nvalue = [38, 8]'),\n",
       " Text(268.4339815762538, 453.0, 'gini = 0.0\\nsamples = 10\\nvalue = [10, 0]'),\n",
       " Text(270.3377686796315, 453.0, 'X[11] <= 0.919\\ngini = 0.346\\nsamples = 36\\nvalue = [28, 8]'),\n",
       " Text(266.53019447287613, 416.76, 'X[6] <= -1.216\\ngini = 0.444\\nsamples = 18\\nvalue = [12, 6]'),\n",
       " Text(264.62640736949845, 380.52, 'X[7] <= 1.0\\ngini = 0.375\\nsamples = 4\\nvalue = [1, 3]'),\n",
       " Text(263.6745138178096, 344.28, 'gini = 0.0\\nsamples = 3\\nvalue = [0, 3]'),\n",
       " Text(265.5783009211873, 344.28, 'gini = 0.0\\nsamples = 1\\nvalue = [1, 0]'),\n",
       " Text(268.4339815762538, 380.52, 'X[7] <= 0.993\\ngini = 0.337\\nsamples = 14\\nvalue = [11, 3]'),\n",
       " Text(267.482088024565, 344.28, 'X[7] <= 0.759\\ngini = 0.153\\nsamples = 12\\nvalue = [11, 1]'),\n",
       " Text(266.53019447287613, 308.03999999999996, 'X[7] <= 0.74\\ngini = 0.444\\nsamples = 3\\nvalue = [2, 1]'),\n",
       " Text(265.5783009211873, 271.79999999999995, 'gini = 0.0\\nsamples = 2\\nvalue = [2, 0]'),\n",
       " Text(267.482088024565, 271.79999999999995, 'gini = 0.0\\nsamples = 1\\nvalue = [0, 1]'),\n",
       " Text(268.4339815762538, 308.03999999999996, 'gini = 0.0\\nsamples = 9\\nvalue = [9, 0]'),\n",
       " Text(269.38587512794265, 344.28, 'gini = 0.0\\nsamples = 2\\nvalue = [0, 2]'),\n",
       " Text(274.1453428863869, 416.76, 'X[3] <= 1.41\\ngini = 0.198\\nsamples = 18\\nvalue = [16, 2]'),\n",
       " Text(272.24155578300923, 380.52, 'X[11] <= 1.291\\ngini = 0.117\\nsamples = 16\\nvalue = [15, 1]'),\n",
       " Text(271.28966223132034, 344.28, 'X[5] <= -0.323\\ngini = 0.32\\nsamples = 5\\nvalue = [4, 1]'),\n",
       " Text(270.3377686796315, 308.03999999999996, 'gini = 0.0\\nsamples = 1\\nvalue = [0, 1]'),\n",
       " Text(272.24155578300923, 308.03999999999996, 'gini = 0.0\\nsamples = 4\\nvalue = [4, 0]'),\n",
       " Text(273.1934493346981, 344.28, 'gini = 0.0\\nsamples = 11\\nvalue = [11, 0]'),\n",
       " Text(276.0491299897646, 380.52, 'X[10] <= -0.026\\ngini = 0.5\\nsamples = 2\\nvalue = [1, 1]'),\n",
       " Text(275.09723643807575, 344.28, 'gini = 0.0\\nsamples = 1\\nvalue = [1, 0]'),\n",
       " Text(277.00102354145343, 344.28, 'gini = 0.0\\nsamples = 1\\nvalue = [0, 1]'),\n",
       " Text(271.28966223132034, 489.23999999999995, 'gini = 0.0\\nsamples = 1\\nvalue = [0, 1]'),\n",
       " Text(277.47697031729786, 670.44, 'X[3] <= 1.067\\ngini = 0.157\\nsamples = 93\\nvalue = [85, 8]'),\n",
       " Text(273.1934493346981, 634.2, 'X[3] <= 0.201\\ngini = 0.052\\nsamples = 75\\nvalue = [73, 2]'),\n",
       " Text(272.24155578300923, 597.96, 'gini = 0.0\\nsamples = 51\\nvalue = [51, 0]'),\n",
       " Text(274.1453428863869, 597.96, 'X[3] <= 0.263\\ngini = 0.153\\nsamples = 24\\nvalue = [22, 2]'),\n",
       " Text(273.1934493346981, 561.72, 'gini = 0.0\\nsamples = 1\\nvalue = [0, 1]'),\n",
       " Text(275.09723643807575, 561.72, 'X[7] <= 1.136\\ngini = 0.083\\nsamples = 23\\nvalue = [22, 1]'),\n",
       " Text(274.1453428863869, 525.48, 'X[7] <= 1.133\\ngini = 0.32\\nsamples = 5\\nvalue = [4, 1]'),\n",
       " Text(273.1934493346981, 489.23999999999995, 'gini = 0.0\\nsamples = 4\\nvalue = [4, 0]'),\n",
       " Text(275.09723643807575, 489.23999999999995, 'gini = 0.0\\nsamples = 1\\nvalue = [0, 1]'),\n",
       " Text(276.0491299897646, 525.48, 'gini = 0.0\\nsamples = 18\\nvalue = [18, 0]'),\n",
       " Text(281.76049129989764, 634.2, 'X[5] <= -0.656\\ngini = 0.444\\nsamples = 18\\nvalue = [12, 6]'),\n",
       " Text(280.8085977482088, 597.96, 'X[3] <= 1.83\\ngini = 0.5\\nsamples = 12\\nvalue = [6, 6]'),\n",
       " Text(278.9048106448311, 561.72, 'X[5] <= -1.036\\ngini = 0.408\\nsamples = 7\\nvalue = [2, 5]'),\n",
       " Text(277.9529170931423, 525.48, 'X[10] <= -0.026\\ngini = 0.444\\nsamples = 3\\nvalue = [2, 1]'),\n",
       " Text(277.00102354145343, 489.23999999999995, 'gini = 0.0\\nsamples = 2\\nvalue = [2, 0]'),\n",
       " Text(278.9048106448311, 489.23999999999995, 'gini = 0.0\\nsamples = 1\\nvalue = [0, 1]'),\n",
       " Text(279.85670419651996, 525.48, 'gini = 0.0\\nsamples = 4\\nvalue = [0, 4]'),\n",
       " Text(282.7123848515865, 561.72, 'X[10] <= -0.026\\ngini = 0.32\\nsamples = 5\\nvalue = [4, 1]'),\n",
       " Text(281.76049129989764, 525.48, 'gini = 0.0\\nsamples = 1\\nvalue = [0, 1]'),\n",
       " Text(283.6642784032753, 525.48, 'gini = 0.0\\nsamples = 4\\nvalue = [4, 0]'),\n",
       " Text(282.7123848515865, 597.96, 'gini = 0.0\\nsamples = 6\\nvalue = [6, 0]'),\n",
       " Text(380.2600934781218, 742.92, 'X[1] <= 0.573\\ngini = 0.424\\nsamples = 825\\nvalue = [573, 252]'),\n",
       " Text(349.58476602482085, 706.68, 'X[10] <= -0.026\\ngini = 0.373\\nsamples = 606\\nvalue = [456, 150]'),\n",
       " Text(330.7569808725691, 670.44, 'X[7] <= 1.493\\ngini = 0.442\\nsamples = 310\\nvalue = [208, 102]'),\n",
       " Text(314.07281537871035, 634.2, 'X[7] <= 0.078\\ngini = 0.423\\nsamples = 293\\nvalue = [204, 89]'),\n",
       " Text(292.6626471340839, 597.96, 'X[11] <= 1.432\\ngini = 0.485\\nsamples = 104\\nvalue = [61, 43]'),\n",
       " Text(289.3458930399181, 561.72, 'X[6] <= -0.869\\ngini = 0.472\\nsamples = 97\\nvalue = [60, 37]'),\n",
       " Text(285.568065506653, 525.48, 'X[11] <= -0.943\\ngini = 0.278\\nsamples = 18\\nvalue = [15, 3]'),\n",
       " Text(284.61617195496416, 489.23999999999995, 'X[7] <= -0.748\\ngini = 0.5\\nsamples = 6\\nvalue = [3, 3]'),\n",
       " Text(283.6642784032753, 453.0, 'gini = 0.0\\nsamples = 2\\nvalue = [0, 2]'),\n",
       " Text(285.568065506653, 453.0, 'X[6] <= -1.563\\ngini = 0.375\\nsamples = 4\\nvalue = [3, 1]'),\n",
       " Text(284.61617195496416, 416.76, 'gini = 0.0\\nsamples = 1\\nvalue = [0, 1]'),\n",
       " Text(286.51995905834184, 416.76, 'gini = 0.0\\nsamples = 3\\nvalue = [3, 0]'),\n",
       " Text(286.51995905834184, 489.23999999999995, 'gini = 0.0\\nsamples = 12\\nvalue = [12, 0]'),\n",
       " Text(293.1237205731832, 525.48, 'X[11] <= -1.296\\ngini = 0.49\\nsamples = 79\\nvalue = [45, 34]'),\n",
       " Text(288.4237461617195, 489.23999999999995, 'X[3] <= -0.194\\ngini = 0.198\\nsamples = 9\\nvalue = [8, 1]'),\n",
       " Text(287.4718526100307, 453.0, 'gini = 0.0\\nsamples = 6\\nvalue = [6, 0]'),\n",
       " Text(289.37563971340836, 453.0, 'X[4] <= -0.091\\ngini = 0.444\\nsamples = 3\\nvalue = [2, 1]'),\n",
       " Text(288.4237461617195, 416.76, 'gini = 0.0\\nsamples = 2\\nvalue = [2, 0]'),\n",
       " Text(290.3275332650972, 416.76, 'gini = 0.0\\nsamples = 1\\nvalue = [0, 1]'),\n",
       " Text(297.82369498464686, 489.23999999999995, 'X[11] <= -0.677\\ngini = 0.498\\nsamples = 70\\nvalue = [37, 33]'),\n",
       " Text(293.1832139201638, 453.0, 'X[5] <= 0.057\\ngini = 0.278\\nsamples = 12\\nvalue = [2, 10]'),\n",
       " Text(292.23132036847494, 416.76, 'X[3] <= -0.842\\ngini = 0.5\\nsamples = 4\\nvalue = [2, 2]'),\n",
       " Text(291.2794268167861, 380.52, 'gini = 0.0\\nsamples = 1\\nvalue = [0, 1]'),\n",
       " Text(293.1832139201638, 380.52, 'X[6] <= 0.346\\ngini = 0.444\\nsamples = 3\\nvalue = [2, 1]'),\n",
       " Text(292.23132036847494, 344.28, 'X[7] <= -0.037\\ngini = 0.5\\nsamples = 2\\nvalue = [1, 1]'),\n",
       " Text(291.2794268167861, 308.03999999999996, 'gini = 0.0\\nsamples = 1\\nvalue = [0, 1]'),\n",
       " Text(293.1832139201638, 308.03999999999996, 'gini = 0.0\\nsamples = 1\\nvalue = [1, 0]'),\n",
       " Text(294.1351074718526, 344.28, 'gini = 0.0\\nsamples = 1\\nvalue = [1, 0]'),\n",
       " Text(294.1351074718526, 416.76, 'gini = 0.0\\nsamples = 8\\nvalue = [0, 8]'),\n",
       " Text(302.46417604913, 453.0, 'X[3] <= -0.697\\ngini = 0.479\\nsamples = 58\\nvalue = [35, 23]'),\n",
       " Text(298.8945752302968, 416.76, 'X[6] <= 1.213\\ngini = 0.484\\nsamples = 17\\nvalue = [7, 10]'),\n",
       " Text(296.99078812691914, 380.52, 'X[11] <= -0.444\\ngini = 0.298\\nsamples = 11\\nvalue = [2, 9]'),\n",
       " Text(296.0388945752303, 344.28, 'gini = 0.0\\nsamples = 2\\nvalue = [2, 0]'),\n",
       " Text(297.942681678608, 344.28, 'gini = 0.0\\nsamples = 9\\nvalue = [0, 9]'),\n",
       " Text(300.7983623336745, 380.52, 'X[0] <= 0.001\\ngini = 0.278\\nsamples = 6\\nvalue = [5, 1]'),\n",
       " Text(299.84646878198566, 344.28, 'X[9] <= -0.446\\ngini = 0.5\\nsamples = 2\\nvalue = [1, 1]'),\n",
       " Text(298.8945752302968, 308.03999999999996, 'gini = 0.0\\nsamples = 1\\nvalue = [1, 0]'),\n",
       " Text(300.7983623336745, 308.03999999999996, 'gini = 0.0\\nsamples = 1\\nvalue = [0, 1]'),\n",
       " Text(301.75025588536334, 344.28, 'gini = 0.0\\nsamples = 4\\nvalue = [4, 0]'),\n",
       " Text(306.0337768679631, 416.76, 'X[3] <= 1.674\\ngini = 0.433\\nsamples = 41\\nvalue = [28, 13]'),\n",
       " Text(305.0818833162743, 380.52, 'X[5] <= 0.057\\ngini = 0.405\\nsamples = 39\\nvalue = [28, 11]'),\n",
       " Text(304.12998976458545, 344.28, 'gini = 0.0\\nsamples = 7\\nvalue = [7, 0]'),\n",
       " Text(306.0337768679631, 344.28, 'X[3] <= -0.214\\ngini = 0.451\\nsamples = 32\\nvalue = [21, 11]'),\n",
       " Text(302.7021494370522, 308.03999999999996, 'X[6] <= 1.213\\ngini = 0.18\\nsamples = 10\\nvalue = [9, 1]'),\n",
       " Text(301.75025588536334, 271.79999999999995, 'gini = 0.0\\nsamples = 8\\nvalue = [8, 0]'),\n",
       " Text(303.654042988741, 271.79999999999995, 'X[9] <= -0.446\\ngini = 0.5\\nsamples = 2\\nvalue = [1, 1]'),\n",
       " Text(302.7021494370522, 235.55999999999995, 'gini = 0.0\\nsamples = 1\\nvalue = [1, 0]'),\n",
       " Text(304.60593654042987, 235.55999999999995, 'gini = 0.0\\nsamples = 1\\nvalue = [0, 1]'),\n",
       " Text(309.3654042988741, 308.03999999999996, 'X[6] <= 0.172\\ngini = 0.496\\nsamples = 22\\nvalue = [12, 10]'),\n",
       " Text(307.4616171954964, 271.79999999999995, 'X[11] <= -0.381\\ngini = 0.42\\nsamples = 10\\nvalue = [3, 7]'),\n",
       " Text(306.50972364380755, 235.55999999999995, 'gini = 0.0\\nsamples = 2\\nvalue = [2, 0]'),\n",
       " Text(308.4135107471852, 235.55999999999995, 'X[3] <= 1.28\\ngini = 0.219\\nsamples = 8\\nvalue = [1, 7]'),\n",
       " Text(307.4616171954964, 199.31999999999994, 'gini = 0.0\\nsamples = 7\\nvalue = [0, 7]'),\n",
       " Text(309.3654042988741, 199.31999999999994, 'gini = 0.0\\nsamples = 1\\nvalue = [1, 0]'),\n",
       " Text(311.2691914022518, 271.79999999999995, 'X[11] <= -0.34\\ngini = 0.375\\nsamples = 12\\nvalue = [9, 3]'),\n",
       " Text(310.31729785056297, 235.55999999999995, 'gini = 0.0\\nsamples = 1\\nvalue = [0, 1]'),\n",
       " Text(312.22108495394065, 235.55999999999995, 'X[11] <= 0.874\\ngini = 0.298\\nsamples = 11\\nvalue = [9, 2]'),\n",
       " Text(311.2691914022518, 199.31999999999994, 'gini = 0.0\\nsamples = 7\\nvalue = [7, 0]'),\n",
       " Text(313.1729785056295, 199.31999999999994, 'X[11] <= 1.129\\ngini = 0.5\\nsamples = 4\\nvalue = [2, 2]'),\n",
       " Text(312.22108495394065, 163.07999999999993, 'gini = 0.0\\nsamples = 2\\nvalue = [0, 2]'),\n",
       " Text(314.1248720573183, 163.07999999999993, 'gini = 0.0\\nsamples = 2\\nvalue = [2, 0]'),\n",
       " Text(306.98567041965197, 380.52, 'gini = 0.0\\nsamples = 2\\nvalue = [0, 2]'),\n",
       " Text(295.97940122824974, 561.72, 'X[3] <= -0.837\\ngini = 0.245\\nsamples = 7\\nvalue = [1, 6]'),\n",
       " Text(295.0275076765609, 525.48, 'gini = 0.0\\nsamples = 1\\nvalue = [1, 0]'),\n",
       " Text(296.9312947799386, 525.48, 'gini = 0.0\\nsamples = 6\\nvalue = [0, 6]'),\n",
       " Text(335.48298362333674, 597.96, 'X[3] <= -2.253\\ngini = 0.368\\nsamples = 189\\nvalue = [143, 46]'),\n",
       " Text(334.5310900716479, 561.72, 'gini = 0.0\\nsamples = 3\\nvalue = [0, 3]'),\n",
       " Text(336.4348771750256, 561.72, 'X[3] <= 1.519\\ngini = 0.355\\nsamples = 186\\nvalue = [143, 43]'),\n",
       " Text(328.2842886386899, 525.48, 'X[3] <= -0.214\\ngini = 0.332\\nsamples = 176\\nvalue = [139, 37]'),\n",
       " Text(319.83623336745137, 489.23999999999995, 'X[5] <= 0.247\\ngini = 0.415\\nsamples = 75\\nvalue = [53, 22]'),\n",
       " Text(316.028659160696, 453.0, 'X[3] <= -0.23\\ngini = 0.316\\nsamples = 56\\nvalue = [45, 11]'),\n",
       " Text(315.07676560900717, 416.76, 'X[11] <= 0.471\\ngini = 0.278\\nsamples = 54\\nvalue = [45, 9]'),\n",
       " Text(313.1729785056295, 380.52, 'X[3] <= -1.444\\ngini = 0.067\\nsamples = 29\\nvalue = [28, 1]'),\n",
       " Text(312.22108495394065, 344.28, 'X[9] <= -0.446\\ngini = 0.444\\nsamples = 3\\nvalue = [2, 1]'),\n",
       " Text(311.2691914022518, 308.03999999999996, 'gini = 0.0\\nsamples = 2\\nvalue = [2, 0]'),\n",
       " Text(313.1729785056295, 308.03999999999996, 'gini = 0.0\\nsamples = 1\\nvalue = [0, 1]'),\n",
       " Text(314.1248720573183, 344.28, 'gini = 0.0\\nsamples = 26\\nvalue = [26, 0]'),\n",
       " Text(316.98055271238485, 380.52, 'X[5] <= 0.057\\ngini = 0.435\\nsamples = 25\\nvalue = [17, 8]'),\n",
       " Text(316.028659160696, 344.28, 'gini = 0.0\\nsamples = 5\\nvalue = [5, 0]'),\n",
       " Text(317.9324462640737, 344.28, 'X[6] <= -0.175\\ngini = 0.48\\nsamples = 20\\nvalue = [12, 8]'),\n",
       " Text(316.028659160696, 308.03999999999996, 'X[7] <= 0.606\\ngini = 0.469\\nsamples = 8\\nvalue = [3, 5]'),\n",
       " Text(315.07676560900717, 271.79999999999995, 'gini = 0.0\\nsamples = 4\\nvalue = [0, 4]'),\n",
       " Text(316.98055271238485, 271.79999999999995, 'X[11] <= 0.961\\ngini = 0.375\\nsamples = 4\\nvalue = [3, 1]'),\n",
       " Text(316.028659160696, 235.55999999999995, 'gini = 0.0\\nsamples = 2\\nvalue = [2, 0]'),\n",
       " Text(317.9324462640737, 235.55999999999995, 'X[6] <= -0.869\\ngini = 0.5\\nsamples = 2\\nvalue = [1, 1]'),\n",
       " Text(316.98055271238485, 199.31999999999994, 'gini = 0.0\\nsamples = 1\\nvalue = [1, 0]'),\n",
       " Text(318.88433981576253, 199.31999999999994, 'gini = 0.0\\nsamples = 1\\nvalue = [0, 1]'),\n",
       " Text(319.83623336745137, 308.03999999999996, 'X[7] <= 0.905\\ngini = 0.375\\nsamples = 12\\nvalue = [9, 3]'),\n",
       " Text(318.88433981576253, 271.79999999999995, 'gini = 0.0\\nsamples = 8\\nvalue = [8, 0]'),\n",
       " Text(320.7881269191402, 271.79999999999995, 'X[11] <= 1.442\\ngini = 0.375\\nsamples = 4\\nvalue = [1, 3]'),\n",
       " Text(319.83623336745137, 235.55999999999995, 'gini = 0.0\\nsamples = 3\\nvalue = [0, 3]'),\n",
       " Text(321.74002047082905, 235.55999999999995, 'gini = 0.0\\nsamples = 1\\nvalue = [1, 0]'),\n",
       " Text(316.98055271238485, 416.76, 'gini = 0.0\\nsamples = 2\\nvalue = [0, 2]'),\n",
       " Text(323.64380757420673, 453.0, 'X[11] <= -0.286\\ngini = 0.488\\nsamples = 19\\nvalue = [8, 11]'),\n",
       " Text(321.74002047082905, 416.76, 'X[6] <= 1.387\\ngini = 0.298\\nsamples = 11\\nvalue = [2, 9]'),\n",
       " Text(320.7881269191402, 380.52, 'X[3] <= -0.282\\ngini = 0.18\\nsamples = 10\\nvalue = [1, 9]'),\n",
       " Text(319.83623336745137, 344.28, 'gini = 0.0\\nsamples = 9\\nvalue = [0, 9]'),\n",
       " Text(321.74002047082905, 344.28, 'gini = 0.0\\nsamples = 1\\nvalue = [1, 0]'),\n",
       " Text(322.6919140225179, 380.52, 'gini = 0.0\\nsamples = 1\\nvalue = [1, 0]'),\n",
       " Text(325.5475946775844, 416.76, 'X[7] <= 0.317\\ngini = 0.375\\nsamples = 8\\nvalue = [6, 2]'),\n",
       " Text(324.5957011258956, 380.52, 'gini = 0.0\\nsamples = 1\\nvalue = [0, 1]'),\n",
       " Text(326.49948822927325, 380.52, 'X[6] <= -1.216\\ngini = 0.245\\nsamples = 7\\nvalue = [6, 1]'),\n",
       " Text(325.5475946775844, 344.28, 'gini = 0.0\\nsamples = 1\\nvalue = [0, 1]'),\n",
       " Text(327.4513817809621, 344.28, 'gini = 0.0\\nsamples = 6\\nvalue = [6, 0]'),\n",
       " Text(336.7323439099283, 489.23999999999995, 'X[7] <= 1.15\\ngini = 0.253\\nsamples = 101\\nvalue = [86, 15]'),\n",
       " Text(335.7804503582395, 453.0, 'X[7] <= 1.143\\ngini = 0.291\\nsamples = 85\\nvalue = [70, 15]'),\n",
       " Text(334.82855680655064, 416.76, 'X[7] <= 0.835\\ngini = 0.278\\nsamples = 84\\nvalue = [70, 14]'),\n",
       " Text(330.7830092118731, 380.52, 'X[7] <= 0.537\\ngini = 0.219\\nsamples = 56\\nvalue = [49, 7]'),\n",
       " Text(329.83111566018425, 344.28, 'X[7] <= 0.533\\ngini = 0.32\\nsamples = 35\\nvalue = [28, 7]'),\n",
       " Text(328.8792221084954, 308.03999999999996, 'X[7] <= 0.437\\ngini = 0.291\\nsamples = 34\\nvalue = [28, 6]'),\n",
       " Text(325.5475946775844, 271.79999999999995, 'X[5] <= 0.438\\ngini = 0.211\\nsamples = 25\\nvalue = [22, 3]'),\n",
       " Text(323.64380757420673, 235.55999999999995, 'X[3] <= 0.123\\ngini = 0.091\\nsamples = 21\\nvalue = [20, 1]'),\n",
       " Text(322.6919140225179, 199.31999999999994, 'X[2] <= 0.579\\ngini = 0.444\\nsamples = 3\\nvalue = [2, 1]'),\n",
       " Text(321.74002047082905, 163.07999999999993, 'gini = 0.0\\nsamples = 2\\nvalue = [2, 0]'),\n",
       " Text(323.64380757420673, 163.07999999999993, 'gini = 0.0\\nsamples = 1\\nvalue = [0, 1]'),\n",
       " Text(324.5957011258956, 199.31999999999994, 'gini = 0.0\\nsamples = 18\\nvalue = [18, 0]'),\n",
       " Text(327.4513817809621, 235.55999999999995, 'X[4] <= -0.091\\ngini = 0.5\\nsamples = 4\\nvalue = [2, 2]'),\n",
       " Text(326.49948822927325, 199.31999999999994, 'gini = 0.0\\nsamples = 1\\nvalue = [0, 1]'),\n",
       " Text(328.403275332651, 199.31999999999994, 'X[11] <= 1.373\\ngini = 0.444\\nsamples = 3\\nvalue = [2, 1]'),\n",
       " Text(327.4513817809621, 163.07999999999993, 'gini = 0.0\\nsamples = 2\\nvalue = [2, 0]'),\n",
       " Text(329.35516888433983, 163.07999999999993, 'gini = 0.0\\nsamples = 1\\nvalue = [0, 1]'),\n",
       " Text(332.21084953940635, 271.79999999999995, 'X[7] <= 0.461\\ngini = 0.444\\nsamples = 9\\nvalue = [6, 3]'),\n",
       " Text(331.2589559877175, 235.55999999999995, 'X[5] <= 0.057\\ngini = 0.375\\nsamples = 4\\nvalue = [1, 3]'),\n",
       " Text(330.3070624360287, 199.31999999999994, 'gini = 0.0\\nsamples = 1\\nvalue = [1, 0]'),\n",
       " Text(332.21084953940635, 199.31999999999994, 'gini = 0.0\\nsamples = 3\\nvalue = [0, 3]'),\n",
       " Text(333.1627430910952, 235.55999999999995, 'gini = 0.0\\nsamples = 5\\nvalue = [5, 0]'),\n",
       " Text(330.7830092118731, 308.03999999999996, 'gini = 0.0\\nsamples = 1\\nvalue = [0, 1]'),\n",
       " Text(331.73490276356193, 344.28, 'gini = 0.0\\nsamples = 21\\nvalue = [21, 0]'),\n",
       " Text(338.87410440122824, 380.52, 'X[3] <= 0.6\\ngini = 0.375\\nsamples = 28\\nvalue = [21, 7]'),\n",
       " Text(336.0184237461617, 344.28, 'X[3] <= -0.168\\ngini = 0.245\\nsamples = 21\\nvalue = [18, 3]'),\n",
       " Text(335.0665301944729, 308.03999999999996, 'gini = 0.0\\nsamples = 1\\nvalue = [0, 1]'),\n",
       " Text(336.97031729785056, 308.03999999999996, 'X[7] <= 0.919\\ngini = 0.18\\nsamples = 20\\nvalue = [18, 2]'),\n",
       " Text(336.0184237461617, 271.79999999999995, 'X[6] <= -1.042\\ngini = 0.408\\nsamples = 7\\nvalue = [5, 2]'),\n",
       " Text(335.0665301944729, 235.55999999999995, 'gini = 0.0\\nsamples = 1\\nvalue = [0, 1]'),\n",
       " Text(336.97031729785056, 235.55999999999995, 'X[3] <= -0.116\\ngini = 0.278\\nsamples = 6\\nvalue = [5, 1]'),\n",
       " Text(336.0184237461617, 199.31999999999994, 'gini = 0.0\\nsamples = 1\\nvalue = [0, 1]'),\n",
       " Text(337.9222108495394, 199.31999999999994, 'gini = 0.0\\nsamples = 5\\nvalue = [5, 0]'),\n",
       " Text(337.9222108495394, 271.79999999999995, 'gini = 0.0\\nsamples = 13\\nvalue = [13, 0]'),\n",
       " Text(341.72978505629476, 344.28, 'X[11] <= 0.573\\ngini = 0.49\\nsamples = 7\\nvalue = [3, 4]'),\n",
       " Text(340.7778915046059, 308.03999999999996, 'X[7] <= 0.878\\ngini = 0.375\\nsamples = 4\\nvalue = [3, 1]'),\n",
       " Text(339.8259979529171, 271.79999999999995, 'gini = 0.0\\nsamples = 1\\nvalue = [0, 1]'),\n",
       " Text(341.72978505629476, 271.79999999999995, 'gini = 0.0\\nsamples = 3\\nvalue = [3, 0]'),\n",
       " Text(342.6816786079836, 308.03999999999996, 'gini = 0.0\\nsamples = 3\\nvalue = [0, 3]'),\n",
       " Text(336.7323439099283, 416.76, 'gini = 0.0\\nsamples = 1\\nvalue = [0, 1]'),\n",
       " Text(337.6842374616172, 453.0, 'gini = 0.0\\nsamples = 16\\nvalue = [16, 0]'),\n",
       " Text(344.5854657113613, 525.48, 'X[11] <= 0.081\\ngini = 0.48\\nsamples = 10\\nvalue = [4, 6]'),\n",
       " Text(343.63357215967244, 489.23999999999995, 'X[7] <= 1.43\\ngini = 0.375\\nsamples = 8\\nvalue = [2, 6]'),\n",
       " Text(342.6816786079836, 453.0, 'X[7] <= 0.324\\ngini = 0.245\\nsamples = 7\\nvalue = [1, 6]'),\n",
       " Text(341.72978505629476, 416.76, 'X[6] <= -0.348\\ngini = 0.5\\nsamples = 2\\nvalue = [1, 1]'),\n",
       " Text(340.7778915046059, 380.52, 'gini = 0.0\\nsamples = 1\\nvalue = [1, 0]'),\n",
       " Text(342.6816786079836, 380.52, 'gini = 0.0\\nsamples = 1\\nvalue = [0, 1]'),\n",
       " Text(343.63357215967244, 416.76, 'gini = 0.0\\nsamples = 5\\nvalue = [0, 5]'),\n",
       " Text(344.5854657113613, 453.0, 'gini = 0.0\\nsamples = 1\\nvalue = [1, 0]'),\n",
       " Text(345.5373592630501, 489.23999999999995, 'gini = 0.0\\nsamples = 2\\nvalue = [2, 0]'),\n",
       " Text(347.44114636642786, 634.2, 'X[3] <= -1.153\\ngini = 0.36\\nsamples = 17\\nvalue = [4, 13]'),\n",
       " Text(346.48925281473896, 597.96, 'gini = 0.0\\nsamples = 2\\nvalue = [2, 0]'),\n",
       " Text(348.3930399181167, 597.96, 'X[5] <= 0.342\\ngini = 0.231\\nsamples = 15\\nvalue = [2, 13]'),\n",
       " Text(347.44114636642786, 561.72, 'gini = 0.0\\nsamples = 9\\nvalue = [0, 9]'),\n",
       " Text(349.34493346980554, 561.72, 'X[6] <= 0.866\\ngini = 0.444\\nsamples = 6\\nvalue = [2, 4]'),\n",
       " Text(348.3930399181167, 525.48, 'X[6] <= -1.216\\ngini = 0.444\\nsamples = 3\\nvalue = [2, 1]'),\n",
       " Text(347.44114636642786, 489.23999999999995, 'gini = 0.0\\nsamples = 1\\nvalue = [0, 1]'),\n",
       " Text(349.34493346980554, 489.23999999999995, 'gini = 0.0\\nsamples = 2\\nvalue = [2, 0]'),\n",
       " Text(350.2968270214944, 525.48, 'gini = 0.0\\nsamples = 3\\nvalue = [0, 3]'),\n",
       " Text(368.41255117707266, 670.44, 'X[11] <= 0.116\\ngini = 0.272\\nsamples = 296\\nvalue = [248, 48]'),\n",
       " Text(357.97146878198566, 634.2, 'X[6] <= -1.563\\ngini = 0.196\\nsamples = 163\\nvalue = [145, 18]'),\n",
       " Text(353.8664278403275, 597.96, 'X[3] <= -0.214\\ngini = 0.469\\nsamples = 8\\nvalue = [5, 3]'),\n",
       " Text(352.91453428863866, 561.72, 'gini = 0.0\\nsamples = 3\\nvalue = [0, 3]'),\n",
       " Text(354.81832139201634, 561.72, 'gini = 0.0\\nsamples = 5\\nvalue = [5, 0]'),\n",
       " Text(362.0765097236438, 597.96, 'X[2] <= 0.579\\ngini = 0.175\\nsamples = 155\\nvalue = [140, 15]'),\n",
       " Text(356.7221084953941, 561.72, 'X[11] <= -0.703\\ngini = 0.239\\nsamples = 101\\nvalue = [87, 14]'),\n",
       " Text(352.20061412487206, 525.48, 'X[3] <= -1.828\\ngini = 0.311\\nsamples = 52\\nvalue = [42, 10]'),\n",
       " Text(351.2487205731832, 489.23999999999995, 'gini = 0.0\\nsamples = 1\\nvalue = [0, 1]'),\n",
       " Text(353.1525076765609, 489.23999999999995, 'X[11] <= -0.723\\ngini = 0.291\\nsamples = 51\\nvalue = [42, 9]'),\n",
       " Text(352.20061412487206, 453.0, 'X[6] <= -0.175\\ngini = 0.269\\nsamples = 50\\nvalue = [42, 8]'),\n",
       " Text(350.2968270214944, 416.76, 'X[3] <= 0.445\\ngini = 0.415\\nsamples = 17\\nvalue = [12, 5]'),\n",
       " Text(349.34493346980554, 380.52, 'X[6] <= -1.216\\ngini = 0.496\\nsamples = 11\\nvalue = [6, 5]'),\n",
       " Text(348.3930399181167, 344.28, 'gini = 0.0\\nsamples = 4\\nvalue = [4, 0]'),\n",
       " Text(350.2968270214944, 344.28, 'X[3] <= -0.64\\ngini = 0.408\\nsamples = 7\\nvalue = [2, 5]'),\n",
       " Text(349.34493346980554, 308.03999999999996, 'gini = 0.0\\nsamples = 1\\nvalue = [1, 0]'),\n",
       " Text(351.2487205731832, 308.03999999999996, 'X[11] <= -1.577\\ngini = 0.278\\nsamples = 6\\nvalue = [1, 5]'),\n",
       " Text(350.2968270214944, 271.79999999999995, 'gini = 0.0\\nsamples = 1\\nvalue = [1, 0]'),\n",
       " Text(352.20061412487206, 271.79999999999995, 'gini = 0.0\\nsamples = 5\\nvalue = [0, 5]'),\n",
       " Text(351.2487205731832, 380.52, 'gini = 0.0\\nsamples = 6\\nvalue = [6, 0]'),\n",
       " Text(354.10440122824974, 416.76, 'X[11] <= -1.387\\ngini = 0.165\\nsamples = 33\\nvalue = [30, 3]'),\n",
       " Text(353.1525076765609, 380.52, 'X[11] <= -1.554\\ngini = 0.397\\nsamples = 11\\nvalue = [8, 3]'),\n",
       " Text(352.20061412487206, 344.28, 'gini = 0.0\\nsamples = 5\\nvalue = [5, 0]'),\n",
       " Text(354.10440122824974, 344.28, 'X[6] <= 0.172\\ngini = 0.5\\nsamples = 6\\nvalue = [3, 3]'),\n",
       " Text(353.1525076765609, 308.03999999999996, 'gini = 0.0\\nsamples = 2\\nvalue = [2, 0]'),\n",
       " Text(355.0562947799386, 308.03999999999996, 'X[7] <= 1.182\\ngini = 0.375\\nsamples = 4\\nvalue = [1, 3]'),\n",
       " Text(354.10440122824974, 271.79999999999995, 'gini = 0.0\\nsamples = 3\\nvalue = [0, 3]'),\n",
       " Text(356.0081883316274, 271.79999999999995, 'gini = 0.0\\nsamples = 1\\nvalue = [1, 0]'),\n",
       " Text(355.0562947799386, 380.52, 'gini = 0.0\\nsamples = 22\\nvalue = [22, 0]'),\n",
       " Text(354.10440122824974, 453.0, 'gini = 0.0\\nsamples = 1\\nvalue = [0, 1]'),\n",
       " Text(361.24360286591605, 525.48, 'X[9] <= -0.446\\ngini = 0.15\\nsamples = 49\\nvalue = [45, 4]'),\n",
       " Text(358.86386898669394, 489.23999999999995, 'X[3] <= 0.839\\ngini = 0.337\\nsamples = 14\\nvalue = [11, 3]'),\n",
       " Text(356.96008188331626, 453.0, 'X[5] <= 0.057\\ngini = 0.18\\nsamples = 10\\nvalue = [9, 1]'),\n",
       " Text(356.0081883316274, 416.76, 'gini = 0.0\\nsamples = 1\\nvalue = [0, 1]'),\n",
       " Text(357.9119754350051, 416.76, 'gini = 0.0\\nsamples = 9\\nvalue = [9, 0]'),\n",
       " Text(360.7676560900716, 453.0, 'X[3] <= 0.995\\ngini = 0.5\\nsamples = 4\\nvalue = [2, 2]'),\n",
       " Text(359.8157625383828, 416.76, 'gini = 0.0\\nsamples = 2\\nvalue = [0, 2]'),\n",
       " Text(361.71954964176047, 416.76, 'gini = 0.0\\nsamples = 2\\nvalue = [2, 0]'),\n",
       " Text(363.62333674513815, 489.23999999999995, 'X[7] <= 0.981\\ngini = 0.056\\nsamples = 35\\nvalue = [34, 1]'),\n",
       " Text(362.6714431934493, 453.0, 'gini = 0.0\\nsamples = 29\\nvalue = [29, 0]'),\n",
       " Text(364.575230296827, 453.0, 'X[7] <= 1.015\\ngini = 0.278\\nsamples = 6\\nvalue = [5, 1]'),\n",
       " Text(363.62333674513815, 416.76, 'gini = 0.0\\nsamples = 1\\nvalue = [0, 1]'),\n",
       " Text(365.5271238485159, 416.76, 'gini = 0.0\\nsamples = 5\\nvalue = [5, 0]'),\n",
       " Text(367.43091095189357, 561.72, 'X[6] <= -1.216\\ngini = 0.036\\nsamples = 54\\nvalue = [53, 1]'),\n",
       " Text(366.4790174002047, 525.48, 'X[7] <= -0.551\\ngini = 0.375\\nsamples = 4\\nvalue = [3, 1]'),\n",
       " Text(365.5271238485159, 489.23999999999995, 'gini = 0.0\\nsamples = 1\\nvalue = [0, 1]'),\n",
       " Text(367.43091095189357, 489.23999999999995, 'gini = 0.0\\nsamples = 3\\nvalue = [3, 0]'),\n",
       " Text(368.3828045035824, 525.48, 'gini = 0.0\\nsamples = 50\\nvalue = [50, 0]'),\n",
       " Text(378.85363357215965, 634.2, 'X[7] <= 0.421\\ngini = 0.349\\nsamples = 133\\nvalue = [103, 30]'),\n",
       " Text(374.57011258955987, 597.96, 'X[11] <= 1.368\\ngini = 0.441\\nsamples = 64\\nvalue = [43, 21]'),\n",
       " Text(373.61821903787103, 561.72, 'X[11] <= 0.29\\ngini = 0.475\\nsamples = 54\\nvalue = [33, 21]'),\n",
       " Text(371.2384851586489, 525.48, 'X[3] <= -0.391\\ngini = 0.463\\nsamples = 11\\nvalue = [4, 7]'),\n",
       " Text(369.33469805527125, 489.23999999999995, 'X[3] <= -1.262\\ngini = 0.375\\nsamples = 4\\nvalue = [3, 1]'),\n",
       " Text(368.3828045035824, 453.0, 'gini = 0.0\\nsamples = 1\\nvalue = [0, 1]'),\n",
       " Text(370.2865916069601, 453.0, 'gini = 0.0\\nsamples = 3\\nvalue = [3, 0]'),\n",
       " Text(373.1422722620266, 489.23999999999995, 'X[3] <= 0.974\\ngini = 0.245\\nsamples = 7\\nvalue = [1, 6]'),\n",
       " Text(372.19037871033777, 453.0, 'gini = 0.0\\nsamples = 6\\nvalue = [0, 6]'),\n",
       " Text(374.09416581371545, 453.0, 'gini = 0.0\\nsamples = 1\\nvalue = [1, 0]'),\n",
       " Text(375.99795291709313, 525.48, 'X[11] <= 0.618\\ngini = 0.439\\nsamples = 43\\nvalue = [29, 14]'),\n",
       " Text(375.0460593654043, 489.23999999999995, 'gini = 0.0\\nsamples = 11\\nvalue = [11, 0]'),\n",
       " Text(376.94984646878197, 489.23999999999995, 'X[6] <= 1.56\\ngini = 0.492\\nsamples = 32\\nvalue = [18, 14]'),\n",
       " Text(375.99795291709313, 453.0, 'X[7] <= 0.077\\ngini = 0.471\\nsamples = 29\\nvalue = [18, 11]'),\n",
       " Text(372.6663254861822, 416.76, 'X[11] <= 1.199\\ngini = 0.375\\nsamples = 20\\nvalue = [15, 5]'),\n",
       " Text(370.7625383828045, 380.52, 'X[11] <= 0.948\\ngini = 0.291\\nsamples = 17\\nvalue = [14, 3]'),\n",
       " Text(369.81064483111567, 344.28, 'X[9] <= -0.446\\ngini = 0.397\\nsamples = 11\\nvalue = [8, 3]'),\n",
       " Text(368.8587512794268, 308.03999999999996, 'gini = 0.0\\nsamples = 1\\nvalue = [0, 1]'),\n",
       " Text(370.7625383828045, 308.03999999999996, 'X[3] <= 0.263\\ngini = 0.32\\nsamples = 10\\nvalue = [8, 2]'),\n",
       " Text(369.81064483111567, 271.79999999999995, 'X[11] <= 0.757\\ngini = 0.444\\nsamples = 6\\nvalue = [4, 2]'),\n",
       " Text(368.8587512794268, 235.55999999999995, 'gini = 0.0\\nsamples = 1\\nvalue = [0, 1]'),\n",
       " Text(370.7625383828045, 235.55999999999995, 'X[7] <= -0.839\\ngini = 0.32\\nsamples = 5\\nvalue = [4, 1]'),\n",
       " Text(369.81064483111567, 199.31999999999994, 'gini = 0.0\\nsamples = 4\\nvalue = [4, 0]'),\n",
       " Text(371.71443193449335, 199.31999999999994, 'gini = 0.0\\nsamples = 1\\nvalue = [0, 1]'),\n",
       " Text(371.71443193449335, 271.79999999999995, 'gini = 0.0\\nsamples = 4\\nvalue = [4, 0]'),\n",
       " Text(371.71443193449335, 344.28, 'gini = 0.0\\nsamples = 6\\nvalue = [6, 0]'),\n",
       " Text(374.57011258955987, 380.52, 'X[11] <= 1.307\\ngini = 0.444\\nsamples = 3\\nvalue = [1, 2]'),\n",
       " Text(373.61821903787103, 344.28, 'gini = 0.0\\nsamples = 2\\nvalue = [0, 2]'),\n",
       " Text(375.5220061412487, 344.28, 'gini = 0.0\\nsamples = 1\\nvalue = [1, 0]'),\n",
       " Text(379.3295803480041, 416.76, 'X[6] <= -1.042\\ngini = 0.444\\nsamples = 9\\nvalue = [3, 6]'),\n",
       " Text(378.37768679631523, 380.52, 'X[11] <= 0.692\\ngini = 0.375\\nsamples = 4\\nvalue = [3, 1]'),\n",
       " Text(377.4257932446264, 344.28, 'gini = 0.0\\nsamples = 1\\nvalue = [0, 1]'),\n",
       " Text(379.3295803480041, 344.28, 'gini = 0.0\\nsamples = 3\\nvalue = [3, 0]'),\n",
       " Text(380.2814738996929, 380.52, 'gini = 0.0\\nsamples = 5\\nvalue = [0, 5]'),\n",
       " Text(377.9017400204708, 453.0, 'gini = 0.0\\nsamples = 3\\nvalue = [0, 3]'),\n",
       " Text(375.5220061412487, 561.72, 'gini = 0.0\\nsamples = 10\\nvalue = [10, 0]'),\n",
       " Text(383.13715455475943, 597.96, 'X[3] <= -1.657\\ngini = 0.227\\nsamples = 69\\nvalue = [60, 9]'),\n",
       " Text(382.1852610030706, 561.72, 'gini = 0.0\\nsamples = 2\\nvalue = [0, 2]'),\n",
       " Text(384.0890481064483, 561.72, 'X[7] <= 1.465\\ngini = 0.187\\nsamples = 67\\nvalue = [60, 7]'),\n",
       " Text(382.1852610030706, 525.48, 'X[7] <= 1.03\\ngini = 0.123\\nsamples = 61\\nvalue = [57, 4]'),\n",
       " Text(381.23336745138175, 489.23999999999995, 'gini = 0.0\\nsamples = 39\\nvalue = [39, 0]'),\n",
       " Text(383.13715455475943, 489.23999999999995, 'X[7] <= 1.131\\ngini = 0.298\\nsamples = 22\\nvalue = [18, 4]'),\n",
       " Text(382.1852610030706, 453.0, 'X[11] <= 1.022\\ngini = 0.49\\nsamples = 7\\nvalue = [3, 4]'),\n",
       " Text(381.23336745138175, 416.76, 'gini = 0.0\\nsamples = 3\\nvalue = [0, 3]'),\n",
       " Text(383.13715455475943, 416.76, 'X[6] <= -0.522\\ngini = 0.375\\nsamples = 4\\nvalue = [3, 1]'),\n",
       " Text(382.1852610030706, 380.52, 'gini = 0.0\\nsamples = 1\\nvalue = [0, 1]'),\n",
       " Text(384.0890481064483, 380.52, 'gini = 0.0\\nsamples = 3\\nvalue = [3, 0]'),\n",
       " Text(384.0890481064483, 453.0, 'gini = 0.0\\nsamples = 15\\nvalue = [15, 0]'),\n",
       " Text(385.992835209826, 525.48, 'X[7] <= 1.541\\ngini = 0.5\\nsamples = 6\\nvalue = [3, 3]'),\n",
       " Text(385.04094165813717, 489.23999999999995, 'gini = 0.0\\nsamples = 3\\nvalue = [0, 3]'),\n",
       " Text(386.94472876151485, 489.23999999999995, 'gini = 0.0\\nsamples = 3\\nvalue = [3, 0]'),\n",
       " Text(410.9354209314227, 706.68, 'X[7] <= 0.266\\ngini = 0.498\\nsamples = 219\\nvalue = [117, 102]'),\n",
       " Text(394.5598771750256, 670.44, 'X[11] <= 1.705\\ngini = 0.142\\nsamples = 26\\nvalue = [24, 2]'),\n",
       " Text(393.60798362333674, 634.2, 'X[7] <= 0.24\\ngini = 0.077\\nsamples = 25\\nvalue = [24, 1]'),\n",
       " Text(392.6560900716479, 597.96, 'gini = 0.0\\nsamples = 21\\nvalue = [21, 0]'),\n",
       " Text(394.5598771750256, 597.96, 'X[11] <= 0.798\\ngini = 0.375\\nsamples = 4\\nvalue = [3, 1]'),\n",
       " Text(393.60798362333674, 561.72, 'gini = 0.0\\nsamples = 3\\nvalue = [3, 0]'),\n",
       " Text(395.5117707267144, 561.72, 'gini = 0.0\\nsamples = 1\\nvalue = [0, 1]'),\n",
       " Text(395.5117707267144, 634.2, 'gini = 0.0\\nsamples = 1\\nvalue = [0, 1]'),\n",
       " Text(427.3109646878198, 670.44, 'X[7] <= 1.217\\ngini = 0.499\\nsamples = 193\\nvalue = [93, 100]'),\n",
       " Text(419.13062947799386, 634.2, 'X[3] <= 1.176\\ngini = 0.491\\nsamples = 173\\nvalue = [75, 98]'),\n",
       " Text(407.52942681678604, 597.96, 'X[11] <= -0.485\\ngini = 0.478\\nsamples = 157\\nvalue = [62, 95]'),\n",
       " Text(397.4155578300921, 561.72, 'X[11] <= -1.282\\ngini = 0.394\\nsamples = 63\\nvalue = [17, 46]'),\n",
       " Text(393.60798362333674, 525.48, 'X[9] <= -0.446\\ngini = 0.487\\nsamples = 31\\nvalue = [13, 18]'),\n",
       " Text(389.8004094165814, 489.23999999999995, 'X[6] <= 1.387\\ngini = 0.444\\nsamples = 12\\nvalue = [8, 4]'),\n",
       " Text(388.84851586489253, 453.0, 'X[7] <= 0.549\\ngini = 0.397\\nsamples = 11\\nvalue = [8, 3]'),\n",
       " Text(386.94472876151485, 416.76, 'X[10] <= -0.026\\ngini = 0.444\\nsamples = 3\\nvalue = [1, 2]'),\n",
       " Text(385.992835209826, 380.52, 'gini = 0.0\\nsamples = 1\\nvalue = [1, 0]'),\n",
       " Text(387.8966223132037, 380.52, 'gini = 0.0\\nsamples = 2\\nvalue = [0, 2]'),\n",
       " Text(390.7523029682702, 416.76, 'X[3] <= -1.019\\ngini = 0.219\\nsamples = 8\\nvalue = [7, 1]'),\n",
       " Text(389.8004094165814, 380.52, 'X[7] <= 0.769\\ngini = 0.5\\nsamples = 2\\nvalue = [1, 1]'),\n",
       " Text(388.84851586489253, 344.28, 'gini = 0.0\\nsamples = 1\\nvalue = [1, 0]'),\n",
       " Text(390.7523029682702, 344.28, 'gini = 0.0\\nsamples = 1\\nvalue = [0, 1]'),\n",
       " Text(391.70419651995905, 380.52, 'gini = 0.0\\nsamples = 6\\nvalue = [6, 0]'),\n",
       " Text(390.7523029682702, 453.0, 'gini = 0.0\\nsamples = 1\\nvalue = [0, 1]'),\n",
       " Text(397.4155578300921, 489.23999999999995, 'X[7] <= 0.987\\ngini = 0.388\\nsamples = 19\\nvalue = [5, 14]'),\n",
       " Text(396.46366427840326, 453.0, 'X[7] <= 0.907\\ngini = 0.459\\nsamples = 14\\nvalue = [5, 9]'),\n",
       " Text(395.5117707267144, 416.76, 'X[5] <= 0.057\\ngini = 0.375\\nsamples = 12\\nvalue = [3, 9]'),\n",
       " Text(393.60798362333674, 380.52, 'X[11] <= -1.52\\ngini = 0.444\\nsamples = 3\\nvalue = [2, 1]'),\n",
       " Text(392.6560900716479, 344.28, 'gini = 0.0\\nsamples = 1\\nvalue = [0, 1]'),\n",
       " Text(394.5598771750256, 344.28, 'gini = 0.0\\nsamples = 2\\nvalue = [2, 0]'),\n",
       " Text(397.4155578300921, 380.52, 'X[5] <= 0.438\\ngini = 0.198\\nsamples = 9\\nvalue = [1, 8]'),\n",
       " Text(396.46366427840326, 344.28, 'gini = 0.0\\nsamples = 7\\nvalue = [0, 7]'),\n",
       " Text(398.36745138178094, 344.28, 'X[11] <= -1.681\\ngini = 0.5\\nsamples = 2\\nvalue = [1, 1]'),\n",
       " Text(397.4155578300921, 308.03999999999996, 'gini = 0.0\\nsamples = 1\\nvalue = [1, 0]'),\n",
       " Text(399.3193449334698, 308.03999999999996, 'gini = 0.0\\nsamples = 1\\nvalue = [0, 1]'),\n",
       " Text(397.4155578300921, 416.76, 'gini = 0.0\\nsamples = 2\\nvalue = [2, 0]'),\n",
       " Text(398.36745138178094, 453.0, 'gini = 0.0\\nsamples = 5\\nvalue = [0, 5]'),\n",
       " Text(401.22313203684746, 525.48, 'X[6] <= -0.175\\ngini = 0.219\\nsamples = 32\\nvalue = [4, 28]'),\n",
       " Text(400.2712384851586, 489.23999999999995, 'gini = 0.0\\nsamples = 13\\nvalue = [0, 13]'),\n",
       " Text(402.1750255885363, 489.23999999999995, 'X[6] <= 0.172\\ngini = 0.332\\nsamples = 19\\nvalue = [4, 15]'),\n",
       " Text(401.22313203684746, 453.0, 'gini = 0.0\\nsamples = 1\\nvalue = [1, 0]'),\n",
       " Text(403.1269191402252, 453.0, 'X[5] <= 0.152\\ngini = 0.278\\nsamples = 18\\nvalue = [3, 15]'),\n",
       " Text(402.1750255885363, 416.76, 'X[7] <= 0.783\\ngini = 0.49\\nsamples = 7\\nvalue = [3, 4]'),\n",
       " Text(401.22313203684746, 380.52, 'X[6] <= 1.56\\ngini = 0.375\\nsamples = 4\\nvalue = [3, 1]'),\n",
       " Text(400.2712384851586, 344.28, 'gini = 0.0\\nsamples = 3\\nvalue = [3, 0]'),\n",
       " Text(402.1750255885363, 344.28, 'gini = 0.0\\nsamples = 1\\nvalue = [0, 1]'),\n",
       " Text(403.1269191402252, 380.52, 'gini = 0.0\\nsamples = 3\\nvalue = [0, 3]'),\n",
       " Text(404.07881269191404, 416.76, 'gini = 0.0\\nsamples = 11\\nvalue = [0, 11]'),\n",
       " Text(417.64329580348004, 561.72, 'X[7] <= 0.806\\ngini = 0.499\\nsamples = 94\\nvalue = [45, 49]'),\n",
       " Text(412.6458546571136, 525.48, 'X[6] <= 0.866\\ngini = 0.471\\nsamples = 58\\nvalue = [22, 36]'),\n",
       " Text(409.7901740020471, 489.23999999999995, 'X[6] <= -0.869\\ngini = 0.496\\nsamples = 44\\nvalue = [20, 24]'),\n",
       " Text(406.93449334698056, 453.0, 'X[7] <= 0.618\\ngini = 0.36\\nsamples = 17\\nvalue = [4, 13]'),\n",
       " Text(405.9825997952917, 416.76, 'X[7] <= 0.376\\ngini = 0.49\\nsamples = 7\\nvalue = [4, 3]'),\n",
       " ...]"
      ]
     },
     "execution_count": 88,
     "metadata": {},
     "output_type": "execute_result"
    },
    {
     "data": {
      "image/png": "[encoded data removed]",
      "text/plain": [
       "<Figure size 1200x1200 with 1 Axes>"
      ]
     },
     "metadata": {
      "needs_background": "light"
     },
     "output_type": "display_data"
    }
   ],
   "source": [
    "from sklearn import tree\n",
    "fig, axes = plt.subplots(nrows=1,ncols=1,figsize=(4,4),dpi=300)\n",
    "tree.plot_tree(dtc)"
   ]
  },
  {
   "cell_type": "code",
   "execution_count": 90,
   "metadata": {},
   "outputs": [
    {
     "name": "stdout",
     "output_type": "stream",
     "text": [
      "Feature: 0, Score: 0.00808\n",
      "Feature: 1, Score: 0.02257\n",
      "Feature: 2, Score: 0.00648\n",
      "Feature: 3, Score: 0.12797\n",
      "Feature: 4, Score: 0.01442\n",
      "Feature: 5, Score: 0.21654\n",
      "Feature: 6, Score: 0.07611\n",
      "Feature: 7, Score: 0.16164\n",
      "Feature: 8, Score: 0.11931\n",
      "Feature: 9, Score: 0.01700\n",
      "Feature: 10, Score: 0.07022\n",
      "Feature: 11, Score: 0.15967\n"
     ]
    },
    {
     "data": {
      "image/png": "[encoded data removed]",
      "text/plain": [
       "<Figure size 432x288 with 1 Axes>"
      ]
     },
     "metadata": {
      "needs_background": "light"
     },
     "output_type": "display_data"
    }
   ],
   "source": [
    "# get importance\n",
    "importance = dtc.feature_importances_\n",
    "# summarize feature importance\n",
    "for i,v in enumerate(importance):\n",
    "\tprint('Feature: %0d, Score: %.5f' % (i,v))\n",
    "# plot feature importance\n",
    "plt.bar([x for x in range(len(importance))], importance)\n",
    "plt.show()"
   ]
  },
  {
   "cell_type": "code",
   "execution_count": 91,
   "metadata": {},
   "outputs": [
    {
     "data": {
      "text/plain": [
       "array([1.0, 0.0, 0.0, 619, 0, 42, 2, 0.0, 1, 1, 1, 101348.88],\n",
       "      dtype=object)"
      ]
     },
     "execution_count": 91,
     "metadata": {},
     "output_type": "execute_result"
    }
   ],
   "source": [
    "X[0]\n",
    "# Feature 5: Age, Feature7: Number of Products, Feature 11: Salary, Feature 3: Credit Score "
   ]
  },
  {
   "cell_type": "code",
   "execution_count": null,
   "metadata": {},
   "outputs": [],
   "source": []
  }
 ],
 "metadata": {
  "kernelspec": {
   "display_name": "Python 3",
   "language": "python",
   "name": "python3"
  },
  "language_info": {
   "codemirror_mode": {
    "name": "ipython",
    "version": 3
   },
   "file_extension": ".py",
   "mimetype": "text/x-python",
   "name": "python",
   "nbconvert_exporter": "python",
   "pygments_lexer": "ipython3",
   "version": "3.8.3"
  }
 },
 "nbformat": 4,
 "nbformat_minor": 4
}
