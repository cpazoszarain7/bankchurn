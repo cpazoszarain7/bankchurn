{
 "cells": [
  {
   "cell_type": "markdown",
   "metadata": {},
   "source": [
    "# Section 0: Load Libraries"
   ]
  },
  {
   "cell_type": "code",
   "execution_count": 300,
   "metadata": {},
   "outputs": [],
   "source": [
    "import pandas as pd\n",
    "import numpy as np\n",
    "import matplotlib.pyplot as plt\n",
    "import seaborn as sns\n",
    "%matplotlib inline"
   ]
  },
  {
   "cell_type": "markdown",
   "metadata": {},
   "source": [
    "# Section 1: Load and Explore Dataset"
   ]
  },
  {
   "cell_type": "code",
   "execution_count": 301,
   "metadata": {},
   "outputs": [],
   "source": [
    "df = pd.read_csv('../Resources/bankchurn.csv')"
   ]
  },
  {
   "cell_type": "code",
   "execution_count": 302,
   "metadata": {},
   "outputs": [
    {
     "data": {
      "text/html": [
       "<div>\n",
       "<style scoped>\n",
       "    .dataframe tbody tr th:only-of-type {\n",
       "        vertical-align: middle;\n",
       "    }\n",
       "\n",
       "    .dataframe tbody tr th {\n",
       "        vertical-align: top;\n",
       "    }\n",
       "\n",
       "    .dataframe thead th {\n",
       "        text-align: right;\n",
       "    }\n",
       "</style>\n",
       "<table border=\"1\" class=\"dataframe\">\n",
       "  <thead>\n",
       "    <tr style=\"text-align: right;\">\n",
       "      <th></th>\n",
       "      <th>RowNumber</th>\n",
       "      <th>CustomerId</th>\n",
       "      <th>Surname</th>\n",
       "      <th>CreditScore</th>\n",
       "      <th>Geography</th>\n",
       "      <th>Gender</th>\n",
       "      <th>Age</th>\n",
       "      <th>Tenure</th>\n",
       "      <th>Balance</th>\n",
       "      <th>NumOfProducts</th>\n",
       "      <th>HasCrCard</th>\n",
       "      <th>IsActiveMember</th>\n",
       "      <th>EstimatedSalary</th>\n",
       "      <th>Exited</th>\n",
       "    </tr>\n",
       "  </thead>\n",
       "  <tbody>\n",
       "    <tr>\n",
       "      <th>0</th>\n",
       "      <td>1</td>\n",
       "      <td>15634602</td>\n",
       "      <td>Hargrave</td>\n",
       "      <td>619</td>\n",
       "      <td>France</td>\n",
       "      <td>Female</td>\n",
       "      <td>42</td>\n",
       "      <td>2</td>\n",
       "      <td>0.00</td>\n",
       "      <td>1</td>\n",
       "      <td>1</td>\n",
       "      <td>1</td>\n",
       "      <td>101348.88</td>\n",
       "      <td>1</td>\n",
       "    </tr>\n",
       "    <tr>\n",
       "      <th>1</th>\n",
       "      <td>2</td>\n",
       "      <td>15647311</td>\n",
       "      <td>Hill</td>\n",
       "      <td>608</td>\n",
       "      <td>Spain</td>\n",
       "      <td>Female</td>\n",
       "      <td>41</td>\n",
       "      <td>1</td>\n",
       "      <td>83807.86</td>\n",
       "      <td>1</td>\n",
       "      <td>0</td>\n",
       "      <td>1</td>\n",
       "      <td>112542.58</td>\n",
       "      <td>0</td>\n",
       "    </tr>\n",
       "    <tr>\n",
       "      <th>2</th>\n",
       "      <td>3</td>\n",
       "      <td>15619304</td>\n",
       "      <td>Onio</td>\n",
       "      <td>502</td>\n",
       "      <td>France</td>\n",
       "      <td>Female</td>\n",
       "      <td>42</td>\n",
       "      <td>8</td>\n",
       "      <td>159660.80</td>\n",
       "      <td>3</td>\n",
       "      <td>1</td>\n",
       "      <td>0</td>\n",
       "      <td>113931.57</td>\n",
       "      <td>1</td>\n",
       "    </tr>\n",
       "    <tr>\n",
       "      <th>3</th>\n",
       "      <td>4</td>\n",
       "      <td>15701354</td>\n",
       "      <td>Boni</td>\n",
       "      <td>699</td>\n",
       "      <td>France</td>\n",
       "      <td>Female</td>\n",
       "      <td>39</td>\n",
       "      <td>1</td>\n",
       "      <td>0.00</td>\n",
       "      <td>2</td>\n",
       "      <td>0</td>\n",
       "      <td>0</td>\n",
       "      <td>93826.63</td>\n",
       "      <td>0</td>\n",
       "    </tr>\n",
       "    <tr>\n",
       "      <th>4</th>\n",
       "      <td>5</td>\n",
       "      <td>15737888</td>\n",
       "      <td>Mitchell</td>\n",
       "      <td>850</td>\n",
       "      <td>Spain</td>\n",
       "      <td>Female</td>\n",
       "      <td>43</td>\n",
       "      <td>2</td>\n",
       "      <td>125510.82</td>\n",
       "      <td>1</td>\n",
       "      <td>1</td>\n",
       "      <td>1</td>\n",
       "      <td>79084.10</td>\n",
       "      <td>0</td>\n",
       "    </tr>\n",
       "  </tbody>\n",
       "</table>\n",
       "</div>"
      ],
      "text/plain": [
       "   RowNumber  CustomerId   Surname  CreditScore Geography  Gender  Age  \\\n",
       "0          1    15634602  Hargrave          619    France  Female   42   \n",
       "1          2    15647311      Hill          608     Spain  Female   41   \n",
       "2          3    15619304      Onio          502    France  Female   42   \n",
       "3          4    15701354      Boni          699    France  Female   39   \n",
       "4          5    15737888  Mitchell          850     Spain  Female   43   \n",
       "\n",
       "   Tenure    Balance  NumOfProducts  HasCrCard  IsActiveMember  \\\n",
       "0       2       0.00              1          1               1   \n",
       "1       1   83807.86              1          0               1   \n",
       "2       8  159660.80              3          1               0   \n",
       "3       1       0.00              2          0               0   \n",
       "4       2  125510.82              1          1               1   \n",
       "\n",
       "   EstimatedSalary  Exited  \n",
       "0        101348.88       1  \n",
       "1        112542.58       0  \n",
       "2        113931.57       1  \n",
       "3         93826.63       0  \n",
       "4         79084.10       0  "
      ]
     },
     "execution_count": 302,
     "metadata": {},
     "output_type": "execute_result"
    }
   ],
   "source": [
    "df.head()"
   ]
  },
  {
   "cell_type": "code",
   "execution_count": 303,
   "metadata": {},
   "outputs": [],
   "source": [
    "#Drop columns not usable for ML\n",
    "df.drop(labels = ['RowNumber','CustomerId','Surname'],axis=1,inplace=True)"
   ]
  },
  {
   "cell_type": "code",
   "execution_count": 304,
   "metadata": {},
   "outputs": [
    {
     "data": {
      "text/html": [
       "<div>\n",
       "<style scoped>\n",
       "    .dataframe tbody tr th:only-of-type {\n",
       "        vertical-align: middle;\n",
       "    }\n",
       "\n",
       "    .dataframe tbody tr th {\n",
       "        vertical-align: top;\n",
       "    }\n",
       "\n",
       "    .dataframe thead th {\n",
       "        text-align: right;\n",
       "    }\n",
       "</style>\n",
       "<table border=\"1\" class=\"dataframe\">\n",
       "  <thead>\n",
       "    <tr style=\"text-align: right;\">\n",
       "      <th></th>\n",
       "      <th>CreditScore</th>\n",
       "      <th>Geography</th>\n",
       "      <th>Gender</th>\n",
       "      <th>Age</th>\n",
       "      <th>Tenure</th>\n",
       "      <th>Balance</th>\n",
       "      <th>NumOfProducts</th>\n",
       "      <th>HasCrCard</th>\n",
       "      <th>IsActiveMember</th>\n",
       "      <th>EstimatedSalary</th>\n",
       "      <th>Exited</th>\n",
       "    </tr>\n",
       "  </thead>\n",
       "  <tbody>\n",
       "    <tr>\n",
       "      <th>0</th>\n",
       "      <td>619</td>\n",
       "      <td>France</td>\n",
       "      <td>Female</td>\n",
       "      <td>42</td>\n",
       "      <td>2</td>\n",
       "      <td>0.00</td>\n",
       "      <td>1</td>\n",
       "      <td>1</td>\n",
       "      <td>1</td>\n",
       "      <td>101348.88</td>\n",
       "      <td>1</td>\n",
       "    </tr>\n",
       "    <tr>\n",
       "      <th>1</th>\n",
       "      <td>608</td>\n",
       "      <td>Spain</td>\n",
       "      <td>Female</td>\n",
       "      <td>41</td>\n",
       "      <td>1</td>\n",
       "      <td>83807.86</td>\n",
       "      <td>1</td>\n",
       "      <td>0</td>\n",
       "      <td>1</td>\n",
       "      <td>112542.58</td>\n",
       "      <td>0</td>\n",
       "    </tr>\n",
       "    <tr>\n",
       "      <th>2</th>\n",
       "      <td>502</td>\n",
       "      <td>France</td>\n",
       "      <td>Female</td>\n",
       "      <td>42</td>\n",
       "      <td>8</td>\n",
       "      <td>159660.80</td>\n",
       "      <td>3</td>\n",
       "      <td>1</td>\n",
       "      <td>0</td>\n",
       "      <td>113931.57</td>\n",
       "      <td>1</td>\n",
       "    </tr>\n",
       "    <tr>\n",
       "      <th>3</th>\n",
       "      <td>699</td>\n",
       "      <td>France</td>\n",
       "      <td>Female</td>\n",
       "      <td>39</td>\n",
       "      <td>1</td>\n",
       "      <td>0.00</td>\n",
       "      <td>2</td>\n",
       "      <td>0</td>\n",
       "      <td>0</td>\n",
       "      <td>93826.63</td>\n",
       "      <td>0</td>\n",
       "    </tr>\n",
       "    <tr>\n",
       "      <th>4</th>\n",
       "      <td>850</td>\n",
       "      <td>Spain</td>\n",
       "      <td>Female</td>\n",
       "      <td>43</td>\n",
       "      <td>2</td>\n",
       "      <td>125510.82</td>\n",
       "      <td>1</td>\n",
       "      <td>1</td>\n",
       "      <td>1</td>\n",
       "      <td>79084.10</td>\n",
       "      <td>0</td>\n",
       "    </tr>\n",
       "  </tbody>\n",
       "</table>\n",
       "</div>"
      ],
      "text/plain": [
       "   CreditScore Geography  Gender  Age  Tenure    Balance  NumOfProducts  \\\n",
       "0          619    France  Female   42       2       0.00              1   \n",
       "1          608     Spain  Female   41       1   83807.86              1   \n",
       "2          502    France  Female   42       8  159660.80              3   \n",
       "3          699    France  Female   39       1       0.00              2   \n",
       "4          850     Spain  Female   43       2  125510.82              1   \n",
       "\n",
       "   HasCrCard  IsActiveMember  EstimatedSalary  Exited  \n",
       "0          1               1        101348.88       1  \n",
       "1          0               1        112542.58       0  \n",
       "2          1               0        113931.57       1  \n",
       "3          0               0         93826.63       0  \n",
       "4          1               1         79084.10       0  "
      ]
     },
     "execution_count": 304,
     "metadata": {},
     "output_type": "execute_result"
    }
   ],
   "source": [
    "df.head()"
   ]
  },
  {
   "cell_type": "code",
   "execution_count": 305,
   "metadata": {},
   "outputs": [
    {
     "data": {
      "text/plain": [
       "France     5014\n",
       "Germany    2509\n",
       "Spain      2477\n",
       "Name: Geography, dtype: int64"
      ]
     },
     "execution_count": 305,
     "metadata": {},
     "output_type": "execute_result"
    }
   ],
   "source": [
    "df['Geography'].value_counts()"
   ]
  },
  {
   "cell_type": "code",
   "execution_count": 306,
   "metadata": {},
   "outputs": [],
   "source": [
    "X = df.iloc[:,:-1].values\n",
    "y = df.iloc[:,-1].values"
   ]
  },
  {
   "cell_type": "code",
   "execution_count": 307,
   "metadata": {},
   "outputs": [
    {
     "data": {
      "text/plain": [
       "array([619, 'France', 'Female', 42, 2, 0.0, 1, 1, 1, 101348.88],\n",
       "      dtype=object)"
      ]
     },
     "execution_count": 307,
     "metadata": {},
     "output_type": "execute_result"
    }
   ],
   "source": [
    "X[0]"
   ]
  },
  {
   "cell_type": "code",
   "execution_count": 308,
   "metadata": {},
   "outputs": [
    {
     "data": {
      "text/plain": [
       "array([1, 0, 1, ..., 1, 1, 0])"
      ]
     },
     "execution_count": 308,
     "metadata": {},
     "output_type": "execute_result"
    }
   ],
   "source": [
    "y"
   ]
  },
  {
   "cell_type": "markdown",
   "metadata": {},
   "source": [
    "# Section 2: Encoding of Categorical Columns"
   ]
  },
  {
   "cell_type": "code",
   "execution_count": 309,
   "metadata": {},
   "outputs": [],
   "source": [
    "#encoding the Gender column\n",
    "from sklearn.preprocessing import LabelEncoder\n",
    "le = LabelEncoder()\n",
    "X[:,2] = le.fit_transform(X[:,2])"
   ]
  },
  {
   "cell_type": "code",
   "execution_count": 310,
   "metadata": {},
   "outputs": [
    {
     "data": {
      "text/plain": [
       "array([619, 'France', 0, 42, 2, 0.0, 1, 1, 1, 101348.88], dtype=object)"
      ]
     },
     "execution_count": 310,
     "metadata": {},
     "output_type": "execute_result"
    }
   ],
   "source": [
    "X[0]"
   ]
  },
  {
   "cell_type": "code",
   "execution_count": 311,
   "metadata": {},
   "outputs": [],
   "source": [
    "from sklearn.compose import ColumnTransformer\n",
    "from sklearn.preprocessing import OneHotEncoder\n",
    "ct = ColumnTransformer(transformers=[('encoder', OneHotEncoder(), [1])], remainder='passthrough')\n",
    "X = np.array(ct.fit_transform(X))"
   ]
  },
  {
   "cell_type": "code",
   "execution_count": 312,
   "metadata": {},
   "outputs": [
    {
     "data": {
      "text/plain": [
       "array([1.0, 0.0, 0.0, 619, 0, 42, 2, 0.0, 1, 1, 1, 101348.88],\n",
       "      dtype=object)"
      ]
     },
     "execution_count": 312,
     "metadata": {},
     "output_type": "execute_result"
    }
   ],
   "source": [
    "X[0]"
   ]
  },
  {
   "cell_type": "code",
   "execution_count": 313,
   "metadata": {},
   "outputs": [
    {
     "data": {
      "text/plain": [
       "array([0.0, 0.0, 1.0, 608, 0, 41, 1, 83807.86, 1, 0, 1, 112542.58],\n",
       "      dtype=object)"
      ]
     },
     "execution_count": 313,
     "metadata": {},
     "output_type": "execute_result"
    }
   ],
   "source": [
    "X[1]"
   ]
  },
  {
   "cell_type": "code",
   "execution_count": 314,
   "metadata": {},
   "outputs": [
    {
     "data": {
      "text/plain": [
       "array([0.0, 1.0, 0.0, 376, 0, 29, 4, 115046.74, 4, 1, 0, 119346.88],\n",
       "      dtype=object)"
      ]
     },
     "execution_count": 314,
     "metadata": {},
     "output_type": "execute_result"
    }
   ],
   "source": [
    "X[7]"
   ]
  },
  {
   "cell_type": "markdown",
   "metadata": {},
   "source": [
    "# Section 3: Train Test Split & Scaling"
   ]
  },
  {
   "cell_type": "code",
   "execution_count": 315,
   "metadata": {},
   "outputs": [],
   "source": [
    "from sklearn.model_selection import train_test_split\n",
    "X_train, X_test, y_train, y_test = train_test_split(X, y, test_size=0.2, random_state=42)"
   ]
  },
  {
   "cell_type": "code",
   "execution_count": 316,
   "metadata": {},
   "outputs": [
    {
     "data": {
      "text/plain": [
       "8000"
      ]
     },
     "execution_count": 316,
     "metadata": {},
     "output_type": "execute_result"
    }
   ],
   "source": [
    "len(X_train)"
   ]
  },
  {
   "cell_type": "code",
   "execution_count": 317,
   "metadata": {},
   "outputs": [
    {
     "data": {
      "text/plain": [
       "2000"
      ]
     },
     "execution_count": 317,
     "metadata": {},
     "output_type": "execute_result"
    }
   ],
   "source": [
    "len(X_test)"
   ]
  },
  {
   "cell_type": "code",
   "execution_count": 318,
   "metadata": {},
   "outputs": [
    {
     "data": {
      "text/plain": [
       "8000"
      ]
     },
     "execution_count": 318,
     "metadata": {},
     "output_type": "execute_result"
    }
   ],
   "source": [
    "len(y_train)"
   ]
  },
  {
   "cell_type": "code",
   "execution_count": 319,
   "metadata": {},
   "outputs": [
    {
     "data": {
      "text/plain": [
       "2000"
      ]
     },
     "execution_count": 319,
     "metadata": {},
     "output_type": "execute_result"
    }
   ],
   "source": [
    "len(y_test)"
   ]
  },
  {
   "cell_type": "code",
   "execution_count": 320,
   "metadata": {},
   "outputs": [
    {
     "data": {
      "text/plain": [
       "0    7963\n",
       "1    2037\n",
       "Name: Exited, dtype: int64"
      ]
     },
     "execution_count": 320,
     "metadata": {},
     "output_type": "execute_result"
    }
   ],
   "source": [
    "df['Exited'].value_counts()"
   ]
  },
  {
   "cell_type": "code",
   "execution_count": 321,
   "metadata": {},
   "outputs": [],
   "source": [
    "#Scaling the dataset\n",
    "from sklearn.preprocessing import StandardScaler\n",
    "sc = StandardScaler()\n",
    "X_train = sc.fit_transform(X_train)\n",
    "X_test = sc.transform(X_test)"
   ]
  },
  {
   "cell_type": "code",
   "execution_count": 322,
   "metadata": {},
   "outputs": [
    {
     "data": {
      "text/plain": [
       "CreditScore           619\n",
       "Geography          France\n",
       "Gender             Female\n",
       "Age                    42\n",
       "Tenure                  2\n",
       "Balance                 0\n",
       "NumOfProducts           1\n",
       "HasCrCard               1\n",
       "IsActiveMember          1\n",
       "EstimatedSalary    101349\n",
       "Exited                  1\n",
       "Name: 0, dtype: object"
      ]
     },
     "execution_count": 322,
     "metadata": {},
     "output_type": "execute_result"
    }
   ],
   "source": [
    "df.iloc[0]"
   ]
  },
  {
   "cell_type": "code",
   "execution_count": 323,
   "metadata": {},
   "outputs": [
    {
     "data": {
      "text/plain": [
       "array([1.0, 0.0, 0.0, 619, 0, 42, 2, 0.0, 1, 1, 1, 101348.88],\n",
       "      dtype=object)"
      ]
     },
     "execution_count": 323,
     "metadata": {},
     "output_type": "execute_result"
    }
   ],
   "source": [
    "X[0]"
   ]
  },
  {
   "cell_type": "code",
   "execution_count": 324,
   "metadata": {},
   "outputs": [
    {
     "data": {
      "text/plain": [
       "array([ 1.00150113, -0.57946723, -0.57638802,  0.35649971,  0.91324755,\n",
       "       -0.6557859 ,  0.34567966, -1.21847056,  0.80843615,  0.64920267,\n",
       "        0.97481699,  1.36766974])"
      ]
     },
     "execution_count": 324,
     "metadata": {},
     "output_type": "execute_result"
    }
   ],
   "source": [
    "X_train[0]"
   ]
  },
  {
   "cell_type": "markdown",
   "metadata": {},
   "source": [
    "# Section 4: K-NN Model"
   ]
  },
  {
   "cell_type": "code",
   "execution_count": 325,
   "metadata": {},
   "outputs": [
    {
     "data": {
      "text/plain": [
       "KNeighborsClassifier(n_neighbors=10, p=1)"
      ]
     },
     "execution_count": 325,
     "metadata": {},
     "output_type": "execute_result"
    }
   ],
   "source": [
    "from sklearn.neighbors import KNeighborsClassifier\n",
    "knn = KNeighborsClassifier(n_neighbors = 10, metric = 'minkowski', p = 1)\n",
    "knn.fit(X_train, y_train)"
   ]
  },
  {
   "cell_type": "code",
   "execution_count": 326,
   "metadata": {},
   "outputs": [],
   "source": [
    "y_pred = knn.predict(X_test)"
   ]
  },
  {
   "cell_type": "code",
   "execution_count": 327,
   "metadata": {},
   "outputs": [
    {
     "data": {
      "text/plain": [
       "array([[1567,   40],\n",
       "       [ 283,  110]])"
      ]
     },
     "execution_count": 327,
     "metadata": {},
     "output_type": "execute_result"
    }
   ],
   "source": [
    "from sklearn.metrics import confusion_matrix, accuracy_score\n",
    "cm = confusion_matrix(y_test,y_pred)\n",
    "cm"
   ]
  },
  {
   "cell_type": "code",
   "execution_count": 328,
   "metadata": {},
   "outputs": [
    {
     "data": {
      "text/plain": [
       "<matplotlib.axes._subplots.AxesSubplot at 0x7fe12375d340>"
      ]
     },
     "execution_count": 328,
     "metadata": {},
     "output_type": "execute_result"
    },
    {
     "data": {
      "image/png": "[encoded data removed]",
      "text/plain": [
       "<Figure size 432x288 with 2 Axes>"
      ]
     },
     "metadata": {
      "needs_background": "light"
     },
     "output_type": "display_data"
    }
   ],
   "source": [
    "group_names = ['True Neg','False Pos','False Neg','True Pos']\n",
    "group_counts = ['{0:0.0f}'.format(value) for value in\n",
    "                cm.flatten()]\n",
    "group_percentages = [\"{0:.2%}\".format(value) for value in\n",
    "                     cm.flatten()/np.sum(cm)]\n",
    "labels = [f\"{v1}\\n{v2}\\n{v3}\" for v1, v2, v3 in\n",
    "          zip(group_names,group_counts,group_percentages)]\n",
    "labels = np.asarray(labels).reshape(2,2)\n",
    "sns.heatmap(cm, annot=labels, fmt='', cmap='Blues')"
   ]
  },
  {
   "cell_type": "code",
   "execution_count": 329,
   "metadata": {},
   "outputs": [
    {
     "name": "stdout",
     "output_type": "stream",
     "text": [
      "              precision    recall  f1-score   support\n",
      "\n",
      "           0       0.85      0.98      0.91      1607\n",
      "           1       0.73      0.28      0.41       393\n",
      "\n",
      "    accuracy                           0.84      2000\n",
      "   macro avg       0.79      0.63      0.66      2000\n",
      "weighted avg       0.82      0.84      0.81      2000\n",
      "\n"
     ]
    }
   ],
   "source": [
    "from sklearn.metrics import classification_report\n",
    "print(classification_report(y_test, y_pred))"
   ]
  },
  {
   "cell_type": "markdown",
   "metadata": {},
   "source": [
    "# Section 5: SVM"
   ]
  },
  {
   "cell_type": "code",
   "execution_count": 330,
   "metadata": {},
   "outputs": [
    {
     "data": {
      "text/plain": [
       "SVC()"
      ]
     },
     "execution_count": 330,
     "metadata": {},
     "output_type": "execute_result"
    }
   ],
   "source": [
    "from sklearn.svm import SVC \n",
    "svm = SVC(kernel='rbf')\n",
    "svm.fit(X_train, y_train)"
   ]
  },
  {
   "cell_type": "code",
   "execution_count": 331,
   "metadata": {},
   "outputs": [],
   "source": [
    "y_pred = svm.predict(X_test)"
   ]
  },
  {
   "cell_type": "code",
   "execution_count": 332,
   "metadata": {},
   "outputs": [
    {
     "data": {
      "text/plain": [
       "array([[1562,   45],\n",
       "       [ 243,  150]])"
      ]
     },
     "execution_count": 332,
     "metadata": {},
     "output_type": "execute_result"
    }
   ],
   "source": [
    "from sklearn.metrics import confusion_matrix, accuracy_score\n",
    "cm = confusion_matrix(y_test,y_pred)\n",
    "cm"
   ]
  },
  {
   "cell_type": "code",
   "execution_count": 333,
   "metadata": {},
   "outputs": [
    {
     "data": {
      "text/plain": [
       "<matplotlib.axes._subplots.AxesSubplot at 0x7fe123740fa0>"
      ]
     },
     "execution_count": 333,
     "metadata": {},
     "output_type": "execute_result"
    },
    {
     "data": {
      "image/png": "[encoded data removed]",
      "text/plain": [
       "<Figure size 432x288 with 2 Axes>"
      ]
     },
     "metadata": {
      "needs_background": "light"
     },
     "output_type": "display_data"
    }
   ],
   "source": [
    "group_names = ['True Neg','False Pos','False Neg','True Pos']\n",
    "group_counts = ['{0:0.0f}'.format(value) for value in\n",
    "                cm.flatten()]\n",
    "group_percentages = [\"{0:.2%}\".format(value) for value in\n",
    "                     cm.flatten()/np.sum(cm)]\n",
    "labels = [f\"{v1}\\n{v2}\\n{v3}\" for v1, v2, v3 in\n",
    "          zip(group_names,group_counts,group_percentages)]\n",
    "labels = np.asarray(labels).reshape(2,2)\n",
    "sns.heatmap(cm, annot=labels, fmt='', cmap='Blues')"
   ]
  },
  {
   "cell_type": "code",
   "execution_count": 334,
   "metadata": {},
   "outputs": [
    {
     "name": "stdout",
     "output_type": "stream",
     "text": [
      "              precision    recall  f1-score   support\n",
      "\n",
      "           0       0.87      0.97      0.92      1607\n",
      "           1       0.77      0.38      0.51       393\n",
      "\n",
      "    accuracy                           0.86      2000\n",
      "   macro avg       0.82      0.68      0.71      2000\n",
      "weighted avg       0.85      0.86      0.84      2000\n",
      "\n"
     ]
    }
   ],
   "source": [
    "from sklearn.metrics import classification_report\n",
    "print(classification_report(y_test, y_pred))"
   ]
  },
  {
   "cell_type": "markdown",
   "metadata": {},
   "source": [
    "# Section 6: Decision Tree"
   ]
  },
  {
   "cell_type": "code",
   "execution_count": 335,
   "metadata": {},
   "outputs": [
    {
     "data": {
      "text/plain": [
       "DecisionTreeClassifier(random_state=0)"
      ]
     },
     "execution_count": 335,
     "metadata": {},
     "output_type": "execute_result"
    }
   ],
   "source": [
    "from sklearn.tree import DecisionTreeClassifier\n",
    "dtc = DecisionTreeClassifier(random_state=0)\n",
    "dtc.fit(X_train,y_train)"
   ]
  },
  {
   "cell_type": "code",
   "execution_count": 336,
   "metadata": {},
   "outputs": [],
   "source": [
    "y_pred = dtc.predict(X_test)"
   ]
  },
  {
   "cell_type": "code",
   "execution_count": 337,
   "metadata": {},
   "outputs": [
    {
     "data": {
      "text/plain": [
       "array([[1360,  247],\n",
       "       [ 203,  190]])"
      ]
     },
     "execution_count": 337,
     "metadata": {},
     "output_type": "execute_result"
    }
   ],
   "source": [
    "from sklearn.metrics import confusion_matrix, accuracy_score\n",
    "cm = confusion_matrix(y_test,y_pred)\n",
    "cm"
   ]
  },
  {
   "cell_type": "code",
   "execution_count": 338,
   "metadata": {},
   "outputs": [
    {
     "data": {
      "text/plain": [
       "<matplotlib.axes._subplots.AxesSubplot at 0x7fe0f4c956d0>"
      ]
     },
     "execution_count": 338,
     "metadata": {},
     "output_type": "execute_result"
    },
    {
     "data": {
      "image/png": "[encoded data removed]",
      "text/plain": [
       "<Figure size 432x288 with 2 Axes>"
      ]
     },
     "metadata": {
      "needs_background": "light"
     },
     "output_type": "display_data"
    }
   ],
   "source": [
    "group_names = ['True Neg','False Pos','False Neg','True Pos']\n",
    "group_counts = ['{0:0.0f}'.format(value) for value in\n",
    "                cm.flatten()]\n",
    "group_percentages = [\"{0:.2%}\".format(value) for value in\n",
    "                     cm.flatten()/np.sum(cm)]\n",
    "labels = [f\"{v1}\\n{v2}\\n{v3}\" for v1, v2, v3 in\n",
    "          zip(group_names,group_counts,group_percentages)]\n",
    "labels = np.asarray(labels).reshape(2,2)\n",
    "sns.heatmap(cm, annot=labels, fmt='', cmap='Blues')"
   ]
  },
  {
   "cell_type": "code",
   "execution_count": 339,
   "metadata": {},
   "outputs": [
    {
     "name": "stdout",
     "output_type": "stream",
     "text": [
      "              precision    recall  f1-score   support\n",
      "\n",
      "           0       0.87      0.85      0.86      1607\n",
      "           1       0.43      0.48      0.46       393\n",
      "\n",
      "    accuracy                           0.78      2000\n",
      "   macro avg       0.65      0.66      0.66      2000\n",
      "weighted avg       0.78      0.78      0.78      2000\n",
      "\n"
     ]
    }
   ],
   "source": [
    "from sklearn.metrics import classification_report\n",
    "print(classification_report(y_test, y_pred))"
   ]
  },
  {
   "cell_type": "code",
   "execution_count": 340,
   "metadata": {},
   "outputs": [
    {
     "data": {
      "text/plain": [
       "[Text(660.5583135474058, 887.88, 'X[5] <= 0.533\\ngini = 0.327\\nsamples = 8000\\nvalue = [6356, 1644]'),\n",
       " Text(515.7761046488673, 851.64, 'X[8] <= 1.671\\ngini = 0.228\\nsamples = 6130\\nvalue = [5324, 806]'),\n",
       " Text(406.57459926702836, 815.4, 'X[8] <= -0.054\\ngini = 0.204\\nsamples = 5987\\nvalue = [5296, 691]'),\n",
       " Text(276.45413792121127, 779.16, 'X[5] <= -0.038\\ngini = 0.3\\nsamples = 2952\\nvalue = [2410, 542]'),\n",
       " Text(172.6481823643008, 742.92, 'X[1] <= 0.573\\ngini = 0.236\\nsamples = 2127\\nvalue = [1837, 290]'),\n",
       " Text(96.64392102338152, 706.68, 'X[7] <= -0.073\\ngini = 0.195\\nsamples = 1617\\nvalue = [1440, 177]'),\n",
       " Text(27.72204052584442, 670.44, 'X[5] <= -0.798\\ngini = 0.336\\nsamples = 422\\nvalue = [332, 90]'),\n",
       " Text(20.346724667349026, 634.2, 'X[11] <= 1.687\\ngini = 0.225\\nsamples = 124\\nvalue = [108, 16]'),\n",
       " Text(15.468270214943704, 597.96, 'X[5] <= -1.179\\ngini = 0.205\\nsamples = 121\\nvalue = [107, 14]'),\n",
       " Text(8.567041965199591, 561.72, 'X[5] <= -1.939\\ngini = 0.346\\nsamples = 45\\nvalue = [35, 10]'),\n",
       " Text(7.615148413510747, 525.48, 'gini = 0.0\\nsamples = 1\\nvalue = [0, 1]'),\n",
       " Text(9.518935516888433, 525.48, 'X[4] <= -0.091\\ngini = 0.325\\nsamples = 44\\nvalue = [35, 9]'),\n",
       " Text(4.759467758444217, 489.23999999999995, 'X[5] <= -1.274\\ngini = 0.469\\nsamples = 16\\nvalue = [10, 6]'),\n",
       " Text(3.8075742067553735, 453.0, 'X[10] <= -0.026\\ngini = 0.408\\nsamples = 14\\nvalue = [10, 4]'),\n",
       " Text(1.9037871033776868, 416.76, 'X[11] <= -1.299\\ngini = 0.48\\nsamples = 5\\nvalue = [2, 3]'),\n",
       " Text(0.9518935516888434, 380.52, 'gini = 0.0\\nsamples = 2\\nvalue = [2, 0]'),\n",
       " Text(2.8556806550665303, 380.52, 'gini = 0.0\\nsamples = 3\\nvalue = [0, 3]'),\n",
       " Text(5.711361310133061, 416.76, 'X[7] <= -0.154\\ngini = 0.198\\nsamples = 9\\nvalue = [8, 1]'),\n",
       " Text(4.759467758444217, 380.52, 'gini = 0.0\\nsamples = 7\\nvalue = [7, 0]'),\n",
       " Text(6.663254861821904, 380.52, 'X[6] <= 1.56\\ngini = 0.5\\nsamples = 2\\nvalue = [1, 1]'),\n",
       " Text(5.711361310133061, 344.28, 'gini = 0.0\\nsamples = 1\\nvalue = [0, 1]'),\n",
       " Text(7.615148413510747, 344.28, 'gini = 0.0\\nsamples = 1\\nvalue = [1, 0]'),\n",
       " Text(5.711361310133061, 453.0, 'gini = 0.0\\nsamples = 2\\nvalue = [0, 2]'),\n",
       " Text(14.27840327533265, 489.23999999999995, 'X[7] <= -0.097\\ngini = 0.191\\nsamples = 28\\nvalue = [25, 3]'),\n",
       " Text(13.326509723643808, 453.0, 'X[3] <= 1.674\\ngini = 0.137\\nsamples = 27\\nvalue = [25, 2]'),\n",
       " Text(11.422722620266121, 416.76, 'X[3] <= -0.754\\ngini = 0.08\\nsamples = 24\\nvalue = [23, 1]'),\n",
       " Text(10.470829068577277, 380.52, 'X[3] <= -0.863\\ngini = 0.245\\nsamples = 7\\nvalue = [6, 1]'),\n",
       " Text(9.518935516888433, 344.28, 'gini = 0.0\\nsamples = 6\\nvalue = [6, 0]'),\n",
       " Text(11.422722620266121, 344.28, 'gini = 0.0\\nsamples = 1\\nvalue = [0, 1]'),\n",
       " Text(12.374616171954964, 380.52, 'gini = 0.0\\nsamples = 17\\nvalue = [17, 0]'),\n",
       " Text(15.230296827021494, 416.76, 'X[10] <= -0.026\\ngini = 0.444\\nsamples = 3\\nvalue = [2, 1]'),\n",
       " Text(14.27840327533265, 380.52, 'gini = 0.0\\nsamples = 1\\nvalue = [0, 1]'),\n",
       " Text(16.182190378710338, 380.52, 'gini = 0.0\\nsamples = 2\\nvalue = [2, 0]'),\n",
       " Text(15.230296827021494, 453.0, 'gini = 0.0\\nsamples = 1\\nvalue = [0, 1]'),\n",
       " Text(22.36949846468782, 561.72, 'X[3] <= -1.247\\ngini = 0.1\\nsamples = 76\\nvalue = [72, 4]'),\n",
       " Text(19.98976458546571, 525.48, 'X[3] <= -1.325\\ngini = 0.346\\nsamples = 9\\nvalue = [7, 2]'),\n",
       " Text(19.037871033776867, 489.23999999999995, 'X[5] <= -1.084\\ngini = 0.219\\nsamples = 8\\nvalue = [7, 1]'),\n",
       " Text(18.085977482088023, 453.0, 'X[6] <= -0.001\\ngini = 0.5\\nsamples = 2\\nvalue = [1, 1]'),\n",
       " Text(17.134083930399182, 416.76, 'gini = 0.0\\nsamples = 1\\nvalue = [1, 0]'),\n",
       " Text(19.037871033776867, 416.76, 'gini = 0.0\\nsamples = 1\\nvalue = [0, 1]'),\n",
       " Text(19.98976458546571, 453.0, 'gini = 0.0\\nsamples = 6\\nvalue = [6, 0]'),\n",
       " Text(20.941658137154555, 489.23999999999995, 'gini = 0.0\\nsamples = 1\\nvalue = [0, 1]'),\n",
       " Text(24.749232343909927, 525.48, 'X[6] <= 1.56\\ngini = 0.058\\nsamples = 67\\nvalue = [65, 2]'),\n",
       " Text(22.845445240532243, 489.23999999999995, 'X[5] <= -0.893\\ngini = 0.031\\nsamples = 63\\nvalue = [62, 1]'),\n",
       " Text(21.8935516888434, 453.0, 'gini = 0.0\\nsamples = 48\\nvalue = [48, 0]'),\n",
       " Text(23.797338792221083, 453.0, 'X[9] <= -0.446\\ngini = 0.124\\nsamples = 15\\nvalue = [14, 1]'),\n",
       " Text(22.845445240532243, 416.76, 'X[11] <= -0.268\\ngini = 0.32\\nsamples = 5\\nvalue = [4, 1]'),\n",
       " Text(21.8935516888434, 380.52, 'gini = 0.0\\nsamples = 1\\nvalue = [0, 1]'),\n",
       " Text(23.797338792221083, 380.52, 'gini = 0.0\\nsamples = 4\\nvalue = [4, 0]'),\n",
       " Text(24.749232343909927, 416.76, 'gini = 0.0\\nsamples = 10\\nvalue = [10, 0]'),\n",
       " Text(26.653019447287615, 489.23999999999995, 'X[11] <= -0.646\\ngini = 0.375\\nsamples = 4\\nvalue = [3, 1]'),\n",
       " Text(25.70112589559877, 453.0, 'gini = 0.0\\nsamples = 1\\nvalue = [0, 1]'),\n",
       " Text(27.60491299897646, 453.0, 'gini = 0.0\\nsamples = 3\\nvalue = [3, 0]'),\n",
       " Text(25.22517911975435, 597.96, 'X[6] <= -0.869\\ngini = 0.444\\nsamples = 3\\nvalue = [1, 2]'),\n",
       " Text(24.273285568065507, 561.72, 'gini = 0.0\\nsamples = 1\\nvalue = [1, 0]'),\n",
       " Text(26.17707267144319, 561.72, 'gini = 0.0\\nsamples = 2\\nvalue = [0, 2]'),\n",
       " Text(35.09735638433982, 634.2, 'X[3] <= -2.518\\ngini = 0.373\\nsamples = 298\\nvalue = [224, 74]'),\n",
       " Text(34.14546283265097, 597.96, 'gini = 0.0\\nsamples = 2\\nvalue = [0, 2]'),\n",
       " Text(36.04924993602866, 597.96, 'X[3] <= -1.475\\ngini = 0.368\\nsamples = 296\\nvalue = [224, 72]'),\n",
       " Text(28.5568065506653, 561.72, 'X[5] <= -0.228\\ngini = 0.077\\nsamples = 25\\nvalue = [24, 1]'),\n",
       " Text(27.60491299897646, 525.48, 'gini = 0.0\\nsamples = 21\\nvalue = [21, 0]'),\n",
       " Text(29.508700102354144, 525.48, 'X[3] <= -1.724\\ngini = 0.375\\nsamples = 4\\nvalue = [3, 1]'),\n",
       " Text(28.5568065506653, 489.23999999999995, 'gini = 0.0\\nsamples = 1\\nvalue = [0, 1]'),\n",
       " Text(30.460593654042988, 489.23999999999995, 'gini = 0.0\\nsamples = 3\\nvalue = [3, 0]'),\n",
       " Text(43.54169332139202, 561.72, 'X[3] <= -1.423\\ngini = 0.387\\nsamples = 271\\nvalue = [200, 71]'),\n",
       " Text(42.58979976970317, 525.48, 'gini = 0.0\\nsamples = 3\\nvalue = [0, 3]'),\n",
       " Text(44.49358687308086, 525.48, 'X[11] <= -1.256\\ngini = 0.379\\nsamples = 268\\nvalue = [200, 68]'),\n",
       " Text(32.364380757420676, 489.23999999999995, 'X[11] <= -1.314\\ngini = 0.473\\nsamples = 39\\nvalue = [24, 15]'),\n",
       " Text(31.412487205731832, 453.0, 'X[7] <= -0.881\\ngini = 0.431\\nsamples = 35\\nvalue = [24, 11]'),\n",
       " Text(29.032753326509724, 416.76, 'X[5] <= -0.133\\ngini = 0.337\\nsamples = 28\\nvalue = [22, 6]'),\n",
       " Text(28.08085977482088, 380.52, 'X[6] <= 1.56\\ngini = 0.302\\nsamples = 27\\nvalue = [22, 5]'),\n",
       " Text(26.17707267144319, 344.28, 'X[4] <= -0.091\\ngini = 0.227\\nsamples = 23\\nvalue = [20, 3]'),\n",
       " Text(25.22517911975435, 308.03999999999996, 'X[6] <= 0.172\\ngini = 0.355\\nsamples = 13\\nvalue = [10, 3]'),\n",
       " Text(24.273285568065507, 271.79999999999995, 'gini = 0.0\\nsamples = 5\\nvalue = [5, 0]'),\n",
       " Text(26.17707267144319, 271.79999999999995, 'X[6] <= 0.519\\ngini = 0.469\\nsamples = 8\\nvalue = [5, 3]'),\n",
       " Text(25.22517911975435, 235.55999999999995, 'X[9] <= -0.446\\ngini = 0.375\\nsamples = 4\\nvalue = [1, 3]'),\n",
       " Text(24.273285568065507, 199.31999999999994, 'gini = 0.0\\nsamples = 1\\nvalue = [1, 0]'),\n",
       " Text(26.17707267144319, 199.31999999999994, 'gini = 0.0\\nsamples = 3\\nvalue = [0, 3]'),\n",
       " Text(27.128966223132036, 235.55999999999995, 'gini = 0.0\\nsamples = 4\\nvalue = [4, 0]'),\n",
       " Text(27.128966223132036, 308.03999999999996, 'gini = 0.0\\nsamples = 10\\nvalue = [10, 0]'),\n",
       " Text(29.984646878198568, 344.28, 'X[4] <= -0.091\\ngini = 0.5\\nsamples = 4\\nvalue = [2, 2]'),\n",
       " Text(29.032753326509724, 308.03999999999996, 'gini = 0.0\\nsamples = 2\\nvalue = [2, 0]'),\n",
       " Text(30.93654042988741, 308.03999999999996, 'gini = 0.0\\nsamples = 2\\nvalue = [0, 2]'),\n",
       " Text(29.984646878198568, 380.52, 'gini = 0.0\\nsamples = 1\\nvalue = [0, 1]'),\n",
       " Text(33.79222108495394, 416.76, 'X[5] <= -0.513\\ngini = 0.408\\nsamples = 7\\nvalue = [2, 5]'),\n",
       " Text(32.840327533265096, 380.52, 'X[3] <= -0.619\\ngini = 0.444\\nsamples = 3\\nvalue = [2, 1]'),\n",
       " Text(31.888433981576252, 344.28, 'gini = 0.0\\nsamples = 2\\nvalue = [2, 0]'),\n",
       " Text(33.79222108495394, 344.28, 'gini = 0.0\\nsamples = 1\\nvalue = [0, 1]'),\n",
       " Text(34.744114636642784, 380.52, 'gini = 0.0\\nsamples = 4\\nvalue = [0, 4]'),\n",
       " Text(33.31627430910952, 453.0, 'gini = 0.0\\nsamples = 4\\nvalue = [0, 4]'),\n",
       " Text(56.62279298874104, 489.23999999999995, 'X[3] <= 1.451\\ngini = 0.356\\nsamples = 229\\nvalue = [176, 53]'),\n",
       " Text(55.6708994370522, 453.0, 'X[11] <= -0.167\\ngini = 0.37\\nsamples = 216\\nvalue = [163, 53]'),\n",
       " Text(43.07318321392016, 416.76, 'X[5] <= -0.418\\ngini = 0.289\\nsamples = 80\\nvalue = [66, 14]'),\n",
       " Text(36.64790174002047, 380.52, 'X[3] <= 0.03\\ngini = 0.133\\nsamples = 42\\nvalue = [39, 3]'),\n",
       " Text(35.696008188331625, 344.28, 'X[11] <= -0.872\\ngini = 0.32\\nsamples = 15\\nvalue = [12, 3]'),\n",
       " Text(34.744114636642784, 308.03999999999996, 'gini = 0.0\\nsamples = 8\\nvalue = [8, 0]'),\n",
       " Text(36.64790174002047, 308.03999999999996, 'X[3] <= -0.572\\ngini = 0.49\\nsamples = 7\\nvalue = [4, 3]'),\n",
       " Text(35.696008188331625, 271.79999999999995, 'gini = 0.0\\nsamples = 3\\nvalue = [3, 0]'),\n",
       " Text(37.59979529170931, 271.79999999999995, 'X[6] <= 0.866\\ngini = 0.375\\nsamples = 4\\nvalue = [1, 3]'),\n",
       " Text(36.64790174002047, 235.55999999999995, 'gini = 0.0\\nsamples = 3\\nvalue = [0, 3]'),\n",
       " Text(38.55168884339815, 235.55999999999995, 'gini = 0.0\\nsamples = 1\\nvalue = [1, 0]'),\n",
       " Text(37.59979529170931, 344.28, 'gini = 0.0\\nsamples = 27\\nvalue = [27, 0]'),\n",
       " Text(49.498464687819855, 380.52, 'X[11] <= -0.533\\ngini = 0.411\\nsamples = 38\\nvalue = [27, 11]'),\n",
       " Text(45.21494370522006, 344.28, 'X[6] <= -1.563\\ngini = 0.466\\nsamples = 27\\nvalue = [17, 10]'),\n",
       " Text(44.26305015353122, 308.03999999999996, 'gini = 0.0\\nsamples = 2\\nvalue = [0, 2]'),\n",
       " Text(46.166837256908906, 308.03999999999996, 'X[6] <= 0.346\\ngini = 0.435\\nsamples = 25\\nvalue = [17, 8]'),\n",
       " Text(42.35926305015353, 271.79999999999995, 'X[5] <= -0.323\\ngini = 0.26\\nsamples = 13\\nvalue = [11, 2]'),\n",
       " Text(40.45547594677584, 235.55999999999995, 'X[10] <= -0.026\\ngini = 0.5\\nsamples = 2\\nvalue = [1, 1]'),\n",
       " Text(39.503582395087, 199.31999999999994, 'gini = 0.0\\nsamples = 1\\nvalue = [0, 1]'),\n",
       " Text(41.40736949846469, 199.31999999999994, 'gini = 0.0\\nsamples = 1\\nvalue = [1, 0]'),\n",
       " Text(44.26305015353122, 235.55999999999995, 'X[9] <= -0.446\\ngini = 0.165\\nsamples = 11\\nvalue = [10, 1]'),\n",
       " Text(43.31115660184237, 199.31999999999994, 'X[3] <= 0.227\\ngini = 0.5\\nsamples = 2\\nvalue = [1, 1]'),\n",
       " Text(42.35926305015353, 163.07999999999993, 'gini = 0.0\\nsamples = 1\\nvalue = [0, 1]'),\n",
       " Text(44.26305015353122, 163.07999999999993, 'gini = 0.0\\nsamples = 1\\nvalue = [1, 0]'),\n",
       " Text(45.21494370522006, 199.31999999999994, 'gini = 0.0\\nsamples = 9\\nvalue = [9, 0]'),\n",
       " Text(49.974411463664275, 271.79999999999995, 'X[11] <= -0.894\\ngini = 0.5\\nsamples = 12\\nvalue = [6, 6]'),\n",
       " Text(48.070624360286594, 235.55999999999995, 'X[9] <= -0.446\\ngini = 0.408\\nsamples = 7\\nvalue = [5, 2]'),\n",
       " Text(47.118730808597746, 199.31999999999994, 'X[11] <= -0.955\\ngini = 0.444\\nsamples = 3\\nvalue = [1, 2]'),\n",
       " Text(46.166837256908906, 163.07999999999993, 'gini = 0.0\\nsamples = 2\\nvalue = [0, 2]'),\n",
       " Text(48.070624360286594, 163.07999999999993, 'gini = 0.0\\nsamples = 1\\nvalue = [1, 0]'),\n",
       " Text(49.022517911975434, 199.31999999999994, 'gini = 0.0\\nsamples = 4\\nvalue = [4, 0]'),\n",
       " Text(51.87819856704196, 235.55999999999995, 'X[3] <= 0.45\\ngini = 0.32\\nsamples = 5\\nvalue = [1, 4]'),\n",
       " Text(50.92630501535312, 199.31999999999994, 'gini = 0.0\\nsamples = 4\\nvalue = [0, 4]'),\n",
       " Text(52.83009211873081, 199.31999999999994, 'gini = 0.0\\nsamples = 1\\nvalue = [1, 0]'),\n",
       " Text(53.78198567041965, 344.28, 'X[6] <= -1.216\\ngini = 0.165\\nsamples = 11\\nvalue = [10, 1]'),\n",
       " Text(52.83009211873081, 308.03999999999996, 'X[10] <= -0.026\\ngini = 0.5\\nsamples = 2\\nvalue = [1, 1]'),\n",
       " Text(51.87819856704196, 271.79999999999995, 'gini = 0.0\\nsamples = 1\\nvalue = [1, 0]'),\n",
       " Text(53.78198567041965, 271.79999999999995, 'gini = 0.0\\nsamples = 1\\nvalue = [0, 1]'),\n",
       " Text(54.73387922210849, 308.03999999999996, 'gini = 0.0\\nsamples = 9\\nvalue = [9, 0]'),\n",
       " Text(68.26861566018424, 416.76, 'X[11] <= -0.134\\ngini = 0.409\\nsamples = 136\\nvalue = [97, 39]'),\n",
       " Text(67.3167221084954, 380.52, 'gini = 0.0\\nsamples = 2\\nvalue = [0, 2]'),\n",
       " Text(69.22050921187308, 380.52, 'X[5] <= -0.703\\ngini = 0.4\\nsamples = 134\\nvalue = [97, 37]'),\n",
       " Text(58.54145342886387, 344.28, 'X[4] <= -0.091\\ngini = 0.497\\nsamples = 13\\nvalue = [6, 7]'),\n",
       " Text(56.63766632548618, 308.03999999999996, 'X[3] <= 0.211\\ngini = 0.278\\nsamples = 6\\nvalue = [1, 5]'),\n",
       " Text(55.68577277379734, 271.79999999999995, 'gini = 0.0\\nsamples = 4\\nvalue = [0, 4]'),\n",
       " Text(57.58955987717503, 271.79999999999995, 'X[6] <= -1.563\\ngini = 0.5\\nsamples = 2\\nvalue = [1, 1]'),\n",
       " Text(56.63766632548618, 235.55999999999995, 'gini = 0.0\\nsamples = 1\\nvalue = [0, 1]'),\n",
       " Text(58.54145342886387, 235.55999999999995, 'gini = 0.0\\nsamples = 1\\nvalue = [1, 0]'),\n",
       " Text(60.445240532241556, 308.03999999999996, 'X[3] <= -0.406\\ngini = 0.408\\nsamples = 7\\nvalue = [5, 2]'),\n",
       " Text(59.49334698055271, 271.79999999999995, 'gini = 0.0\\nsamples = 4\\nvalue = [4, 0]'),\n",
       " Text(61.397134083930396, 271.79999999999995, 'X[6] <= 0.346\\ngini = 0.444\\nsamples = 3\\nvalue = [1, 2]'),\n",
       " Text(60.445240532241556, 235.55999999999995, 'gini = 0.0\\nsamples = 2\\nvalue = [0, 2]'),\n",
       " Text(62.349027635619244, 235.55999999999995, 'gini = 0.0\\nsamples = 1\\nvalue = [1, 0]'),\n",
       " Text(79.8995649948823, 344.28, 'X[10] <= -0.026\\ngini = 0.373\\nsamples = 121\\nvalue = [91, 30]'),\n",
       " Text(71.74897645854657, 308.03999999999996, 'X[11] <= 0.849\\ngini = 0.438\\nsamples = 68\\nvalue = [46, 22]'),\n",
       " Text(68.29836233367452, 271.79999999999995, 'X[11] <= 0.556\\ngini = 0.485\\nsamples = 41\\nvalue = [24, 17]'),\n",
       " Text(64.25281473899693, 235.55999999999995, 'X[3] <= -0.297\\ngini = 0.437\\nsamples = 31\\nvalue = [21, 10]'),\n",
       " Text(60.921187308085976, 199.31999999999994, 'X[3] <= -0.842\\ngini = 0.49\\nsamples = 14\\nvalue = [6, 8]'),\n",
       " Text(59.01740020470829, 163.07999999999993, 'X[11] <= -0.009\\ngini = 0.278\\nsamples = 6\\nvalue = [5, 1]'),\n",
       " Text(58.06550665301945, 126.83999999999992, 'X[6] <= 0.346\\ngini = 0.5\\nsamples = 2\\nvalue = [1, 1]'),\n",
       " Text(57.1136131013306, 90.59999999999991, 'gini = 0.0\\nsamples = 1\\nvalue = [1, 0]'),\n",
       " Text(59.01740020470829, 90.59999999999991, 'gini = 0.0\\nsamples = 1\\nvalue = [0, 1]'),\n",
       " Text(59.969293756397136, 126.83999999999992, 'gini = 0.0\\nsamples = 4\\nvalue = [4, 0]'),\n",
       " Text(62.824974411463664, 163.07999999999993, 'X[6] <= 1.213\\ngini = 0.219\\nsamples = 8\\nvalue = [1, 7]'),\n",
       " Text(61.87308085977482, 126.83999999999992, 'gini = 0.0\\nsamples = 7\\nvalue = [0, 7]'),\n",
       " Text(63.776867963152505, 126.83999999999992, 'gini = 0.0\\nsamples = 1\\nvalue = [1, 0]'),\n",
       " Text(67.58444216990787, 199.31999999999994, 'X[6] <= 1.213\\ngini = 0.208\\nsamples = 17\\nvalue = [15, 2]'),\n",
       " Text(66.63254861821903, 163.07999999999993, 'X[3] <= 1.363\\ngini = 0.117\\nsamples = 16\\nvalue = [15, 1]'),\n",
       " Text(65.68065506653019, 126.83999999999992, 'gini = 0.0\\nsamples = 14\\nvalue = [14, 0]'),\n",
       " Text(67.58444216990787, 126.83999999999992, 'X[5] <= -0.418\\ngini = 0.5\\nsamples = 2\\nvalue = [1, 1]'),\n",
       " Text(66.63254861821903, 90.59999999999991, 'gini = 0.0\\nsamples = 1\\nvalue = [1, 0]'),\n",
       " Text(68.53633572159673, 90.59999999999991, 'gini = 0.0\\nsamples = 1\\nvalue = [0, 1]'),\n",
       " Text(68.53633572159673, 163.07999999999993, 'gini = 0.0\\nsamples = 1\\nvalue = [0, 1]'),\n",
       " Text(72.34390992835209, 235.55999999999995, 'X[3] <= -0.074\\ngini = 0.42\\nsamples = 10\\nvalue = [3, 7]'),\n",
       " Text(71.39201637666325, 199.31999999999994, 'X[11] <= 0.778\\ngini = 0.375\\nsamples = 4\\nvalue = [3, 1]'),\n",
       " Text(70.44012282497441, 163.07999999999993, 'gini = 0.0\\nsamples = 3\\nvalue = [3, 0]'),\n",
       " Text(72.34390992835209, 163.07999999999993, 'gini = 0.0\\nsamples = 1\\nvalue = [0, 1]'),\n",
       " Text(73.29580348004095, 199.31999999999994, 'gini = 0.0\\nsamples = 6\\nvalue = [0, 6]'),\n",
       " Text(75.19959058341863, 271.79999999999995, 'X[11] <= 1.18\\ngini = 0.302\\nsamples = 27\\nvalue = [22, 5]'),\n",
       " Text(74.24769703172979, 235.55999999999995, 'gini = 0.0\\nsamples = 14\\nvalue = [14, 0]'),\n",
       " Text(76.15148413510747, 235.55999999999995, 'X[6] <= 0.866\\ngini = 0.473\\nsamples = 13\\nvalue = [8, 5]'),\n",
       " Text(75.19959058341863, 199.31999999999994, 'X[5] <= -0.608\\ngini = 0.397\\nsamples = 11\\nvalue = [8, 3]'),\n",
       " Text(74.24769703172979, 163.07999999999993, 'gini = 0.0\\nsamples = 1\\nvalue = [0, 1]'),\n",
       " Text(76.15148413510747, 163.07999999999993, 'X[3] <= 0.149\\ngini = 0.32\\nsamples = 10\\nvalue = [8, 2]'),\n",
       " Text(75.19959058341863, 126.83999999999992, 'gini = 0.0\\nsamples = 5\\nvalue = [5, 0]'),\n",
       " Text(77.1033776867963, 126.83999999999992, 'X[11] <= 1.503\\ngini = 0.48\\nsamples = 5\\nvalue = [3, 2]'),\n",
       " Text(76.15148413510747, 90.59999999999991, 'gini = 0.0\\nsamples = 2\\nvalue = [0, 2]'),\n",
       " Text(78.05527123848516, 90.59999999999991, 'gini = 0.0\\nsamples = 3\\nvalue = [3, 0]'),\n",
       " Text(77.1033776867963, 199.31999999999994, 'gini = 0.0\\nsamples = 2\\nvalue = [0, 2]'),\n",
       " Text(88.05015353121802, 308.03999999999996, 'X[11] <= 1.53\\ngini = 0.256\\nsamples = 53\\nvalue = [45, 8]'),\n",
       " Text(87.09825997952917, 271.79999999999995, 'X[3] <= 1.399\\ngini = 0.233\\nsamples = 52\\nvalue = [45, 7]'),\n",
       " Text(86.14636642784032, 235.55999999999995, 'X[6] <= 0.519\\ngini = 0.208\\nsamples = 51\\nvalue = [45, 6]'),\n",
       " Text(85.19447287615148, 199.31999999999994, 'X[6] <= -0.175\\ngini = 0.305\\nsamples = 32\\nvalue = [26, 6]'),\n",
       " Text(82.81473899692938, 163.07999999999993, 'X[7] <= -0.903\\ngini = 0.159\\nsamples = 23\\nvalue = [21, 2]'),\n",
       " Text(80.91095189355168, 126.83999999999992, 'X[3] <= 0.554\\ngini = 0.095\\nsamples = 20\\nvalue = [19, 1]'),\n",
       " Text(79.95905834186284, 90.59999999999991, 'gini = 0.0\\nsamples = 15\\nvalue = [15, 0]'),\n",
       " Text(81.86284544524052, 90.59999999999991, 'X[9] <= -0.446\\ngini = 0.32\\nsamples = 5\\nvalue = [4, 1]'),\n",
       " Text(80.91095189355168, 54.3599999999999, 'gini = 0.0\\nsamples = 1\\nvalue = [0, 1]'),\n",
       " Text(82.81473899692938, 54.3599999999999, 'gini = 0.0\\nsamples = 4\\nvalue = [4, 0]'),\n",
       " Text(84.71852610030706, 126.83999999999992, 'X[7] <= -0.358\\ngini = 0.444\\nsamples = 3\\nvalue = [2, 1]'),\n",
       " Text(83.76663254861822, 90.59999999999991, 'gini = 0.0\\nsamples = 1\\nvalue = [0, 1]'),\n",
       " Text(85.6704196519959, 90.59999999999991, 'gini = 0.0\\nsamples = 2\\nvalue = [2, 0]'),\n",
       " Text(87.5742067553736, 163.07999999999993, 'X[3] <= -1.05\\ngini = 0.494\\nsamples = 9\\nvalue = [5, 4]'),\n",
       " Text(86.62231320368474, 126.83999999999992, 'gini = 0.0\\nsamples = 2\\nvalue = [0, 2]'),\n",
       " Text(88.52610030706244, 126.83999999999992, 'X[5] <= -0.228\\ngini = 0.408\\nsamples = 7\\nvalue = [5, 2]'),\n",
       " Text(87.5742067553736, 90.59999999999991, 'gini = 0.0\\nsamples = 3\\nvalue = [3, 0]'),\n",
       " Text(89.47799385875128, 90.59999999999991, 'X[3] <= -0.598\\ngini = 0.5\\nsamples = 4\\nvalue = [2, 2]'),\n",
       " Text(88.52610030706244, 54.3599999999999, 'gini = 0.0\\nsamples = 1\\nvalue = [1, 0]'),\n",
       " Text(90.42988741044012, 54.3599999999999, 'X[3] <= 1.041\\ngini = 0.444\\nsamples = 3\\nvalue = [1, 2]'),\n",
       " Text(89.47799385875128, 18.120000000000005, 'gini = 0.0\\nsamples = 2\\nvalue = [0, 2]'),\n",
       " Text(91.38178096212897, 18.120000000000005, 'gini = 0.0\\nsamples = 1\\nvalue = [1, 0]'),\n",
       " Text(87.09825997952917, 199.31999999999994, 'gini = 0.0\\nsamples = 19\\nvalue = [19, 0]'),\n",
       " Text(88.05015353121802, 235.55999999999995, 'gini = 0.0\\nsamples = 1\\nvalue = [0, 1]'),\n",
       " Text(89.00204708290686, 271.79999999999995, 'gini = 0.0\\nsamples = 1\\nvalue = [0, 1]'),\n",
       " Text(57.57468654042989, 453.0, 'gini = 0.0\\nsamples = 13\\nvalue = [13, 0]'),\n",
       " Text(165.56580152091863, 670.44, 'X[7] <= 1.633\\ngini = 0.135\\nsamples = 1195\\nvalue = [1108, 87]'),\n",
       " Text(144.08452013497953, 634.2, 'X[10] <= -0.026\\ngini = 0.124\\nsamples = 1158\\nvalue = [1081, 77]'),\n",
       " Text(123.25348243986694, 597.96, 'X[7] <= 1.541\\ngini = 0.159\\nsamples = 587\\nvalue = [536, 51]'),\n",
       " Text(106.10266600562947, 561.72, 'X[5] <= -1.559\\ngini = 0.153\\nsamples = 577\\nvalue = [529, 48]'),\n",
       " Text(89.47799385875128, 525.48, 'X[3] <= 0.32\\ngini = 0.34\\nsamples = 23\\nvalue = [18, 5]'),\n",
       " Text(88.52610030706244, 489.23999999999995, 'gini = 0.0\\nsamples = 16\\nvalue = [16, 0]'),\n",
       " Text(90.42988741044012, 489.23999999999995, 'X[5] <= -1.749\\ngini = 0.408\\nsamples = 7\\nvalue = [2, 5]'),\n",
       " Text(89.47799385875128, 453.0, 'gini = 0.0\\nsamples = 2\\nvalue = [2, 0]'),\n",
       " Text(91.38178096212897, 453.0, 'gini = 0.0\\nsamples = 5\\nvalue = [0, 5]'),\n",
       " Text(122.72733815250767, 525.48, 'X[5] <= -0.323\\ngini = 0.143\\nsamples = 554\\nvalue = [511, 43]'),\n",
       " Text(106.95416453428864, 489.23999999999995, 'X[0] <= 0.001\\ngini = 0.113\\nsamples = 414\\nvalue = [389, 25]'),\n",
       " Text(93.28556806550665, 453.0, 'X[6] <= -1.563\\ngini = 0.182\\nsamples = 99\\nvalue = [89, 10]'),\n",
       " Text(89.9539406345957, 416.76, 'X[7] <= 0.793\\ngini = 0.5\\nsamples = 4\\nvalue = [2, 2]'),\n",
       " Text(89.00204708290686, 380.52, 'gini = 0.0\\nsamples = 2\\nvalue = [2, 0]'),\n",
       " Text(90.90583418628454, 380.52, 'gini = 0.0\\nsamples = 2\\nvalue = [0, 2]'),\n",
       " Text(96.61719549641761, 416.76, 'X[11] <= -1.435\\ngini = 0.154\\nsamples = 95\\nvalue = [87, 8]'),\n",
       " Text(92.80962128966223, 380.52, 'X[11] <= -1.552\\ngini = 0.397\\nsamples = 11\\nvalue = [8, 3]'),\n",
       " Text(90.90583418628454, 344.28, 'X[7] <= 1.3\\ngini = 0.219\\nsamples = 8\\nvalue = [7, 1]'),\n",
       " Text(89.9539406345957, 308.03999999999996, 'gini = 0.0\\nsamples = 7\\nvalue = [7, 0]'),\n",
       " Text(91.85772773797339, 308.03999999999996, 'gini = 0.0\\nsamples = 1\\nvalue = [0, 1]'),\n",
       " Text(94.71340839303991, 344.28, 'X[9] <= -0.446\\ngini = 0.444\\nsamples = 3\\nvalue = [1, 2]'),\n",
       " Text(93.76151484135107, 308.03999999999996, 'gini = 0.0\\nsamples = 2\\nvalue = [0, 2]'),\n",
       " Text(95.66530194472875, 308.03999999999996, 'gini = 0.0\\nsamples = 1\\nvalue = [1, 0]'),\n",
       " Text(100.42476970317297, 380.52, 'X[6] <= 1.213\\ngini = 0.112\\nsamples = 84\\nvalue = [79, 5]'),\n",
       " Text(98.52098259979529, 344.28, 'X[11] <= -0.229\\ngini = 0.08\\nsamples = 72\\nvalue = [69, 3]'),\n",
       " Text(97.56908904810645, 308.03999999999996, 'X[11] <= -0.489\\ngini = 0.236\\nsamples = 22\\nvalue = [19, 3]'),\n",
       " Text(96.61719549641761, 271.79999999999995, 'gini = 0.0\\nsamples = 15\\nvalue = [15, 0]'),\n",
       " Text(98.52098259979529, 271.79999999999995, 'X[9] <= -0.446\\ngini = 0.49\\nsamples = 7\\nvalue = [4, 3]'),\n",
       " Text(97.56908904810645, 235.55999999999995, 'gini = 0.0\\nsamples = 3\\nvalue = [3, 0]'),\n",
       " Text(99.47287615148413, 235.55999999999995, 'X[6] <= 0.693\\ngini = 0.375\\nsamples = 4\\nvalue = [1, 3]'),\n",
       " Text(98.52098259979529, 199.31999999999994, 'gini = 0.0\\nsamples = 3\\nvalue = [0, 3]'),\n",
       " Text(100.42476970317297, 199.31999999999994, 'gini = 0.0\\nsamples = 1\\nvalue = [1, 0]'),\n",
       " Text(99.47287615148413, 308.03999999999996, 'gini = 0.0\\nsamples = 50\\nvalue = [50, 0]'),\n",
       " Text(102.32855680655067, 344.28, 'X[11] <= 1.239\\ngini = 0.278\\nsamples = 12\\nvalue = [10, 2]'),\n",
       " Text(101.37666325486182, 308.03999999999996, 'X[3] <= 0.683\\ngini = 0.165\\nsamples = 11\\nvalue = [10, 1]'),\n",
       " Text(100.42476970317297, 271.79999999999995, 'gini = 0.0\\nsamples = 9\\nvalue = [9, 0]'),\n",
       " Text(102.32855680655067, 271.79999999999995, 'X[5] <= -0.513\\ngini = 0.5\\nsamples = 2\\nvalue = [1, 1]'),\n",
       " Text(101.37666325486182, 235.55999999999995, 'gini = 0.0\\nsamples = 1\\nvalue = [1, 0]'),\n",
       " Text(103.2804503582395, 235.55999999999995, 'gini = 0.0\\nsamples = 1\\nvalue = [0, 1]'),\n",
       " Text(103.2804503582395, 308.03999999999996, 'gini = 0.0\\nsamples = 1\\nvalue = [0, 1]'),\n",
       " Text(120.62276100307062, 453.0, 'X[11] <= 1.558\\ngini = 0.091\\nsamples = 315\\nvalue = [300, 15]'),\n",
       " Text(115.1196264073695, 416.76, 'X[7] <= 1.121\\ngini = 0.078\\nsamples = 296\\nvalue = [284, 12]'),\n",
       " Text(109.8247185261003, 380.52, 'X[3] <= -2.16\\ngini = 0.062\\nsamples = 249\\nvalue = [241, 8]'),\n",
       " Text(106.61207778915046, 344.28, 'X[6] <= 1.04\\ngini = 0.444\\nsamples = 3\\nvalue = [2, 1]'),\n",
       " Text(105.66018423746162, 308.03999999999996, 'gini = 0.0\\nsamples = 2\\nvalue = [2, 0]'),\n",
       " Text(107.5639713408393, 308.03999999999996, 'gini = 0.0\\nsamples = 1\\nvalue = [0, 1]'),\n",
       " Text(113.03735926305015, 344.28, 'X[4] <= -0.091\\ngini = 0.055\\nsamples = 246\\nvalue = [239, 7]'),\n",
       " Text(109.46775844421698, 308.03999999999996, 'X[11] <= 0.843\\ngini = 0.114\\nsamples = 99\\nvalue = [93, 6]'),\n",
       " Text(107.08802456499488, 271.79999999999995, 'X[7] <= 0.154\\ngini = 0.071\\nsamples = 81\\nvalue = [78, 3]'),\n",
       " Text(105.18423746161719, 235.55999999999995, 'X[7] <= 0.149\\ngini = 0.298\\nsamples = 11\\nvalue = [9, 2]'),\n",
       " Text(104.23234390992835, 199.31999999999994, 'X[7] <= 0.099\\ngini = 0.18\\nsamples = 10\\nvalue = [9, 1]'),\n",
       " Text(103.2804503582395, 163.07999999999993, 'gini = 0.0\\nsamples = 7\\nvalue = [7, 0]'),\n",
       " Text(105.18423746161719, 163.07999999999993, 'X[9] <= -0.446\\ngini = 0.444\\nsamples = 3\\nvalue = [2, 1]'),\n",
       " Text(104.23234390992835, 126.83999999999992, 'gini = 0.0\\nsamples = 2\\nvalue = [2, 0]'),\n",
       " Text(106.13613101330604, 126.83999999999992, 'gini = 0.0\\nsamples = 1\\nvalue = [0, 1]'),\n",
       " Text(106.13613101330604, 199.31999999999994, 'gini = 0.0\\nsamples = 1\\nvalue = [0, 1]'),\n",
       " Text(108.99181166837256, 235.55999999999995, 'X[7] <= 0.965\\ngini = 0.028\\nsamples = 70\\nvalue = [69, 1]'),\n",
       " Text(108.03991811668372, 199.31999999999994, 'gini = 0.0\\nsamples = 60\\nvalue = [60, 0]'),\n",
       " Text(109.9437052200614, 199.31999999999994, 'X[7] <= 0.981\\ngini = 0.18\\nsamples = 10\\nvalue = [9, 1]'),\n",
       " Text(108.99181166837256, 163.07999999999993, 'gini = 0.0\\nsamples = 1\\nvalue = [0, 1]'),\n",
       " Text(110.89559877175026, 163.07999999999993, 'gini = 0.0\\nsamples = 9\\nvalue = [9, 0]'),\n",
       " Text(111.8474923234391, 271.79999999999995, 'X[11] <= 0.943\\ngini = 0.278\\nsamples = 18\\nvalue = [15, 3]'),\n",
       " Text(110.89559877175026, 235.55999999999995, 'gini = 0.0\\nsamples = 3\\nvalue = [0, 3]'),\n",
       " Text(112.79938587512794, 235.55999999999995, 'gini = 0.0\\nsamples = 15\\nvalue = [15, 0]'),\n",
       " Text(116.60696008188332, 308.03999999999996, 'X[5] <= -1.179\\ngini = 0.014\\nsamples = 147\\nvalue = [146, 1]'),\n",
       " Text(115.65506653019447, 271.79999999999995, 'X[11] <= -0.576\\ngini = 0.077\\nsamples = 25\\nvalue = [24, 1]'),\n",
       " Text(114.70317297850562, 235.55999999999995, 'X[11] <= -0.692\\ngini = 0.198\\nsamples = 9\\nvalue = [8, 1]'),\n",
       " Text(113.75127942681678, 199.31999999999994, 'gini = 0.0\\nsamples = 8\\nvalue = [8, 0]'),\n",
       " Text(115.65506653019447, 199.31999999999994, 'gini = 0.0\\nsamples = 1\\nvalue = [0, 1]'),\n",
       " Text(116.60696008188332, 235.55999999999995, 'gini = 0.0\\nsamples = 16\\nvalue = [16, 0]'),\n",
       " Text(117.55885363357216, 271.79999999999995, 'gini = 0.0\\nsamples = 122\\nvalue = [122, 0]'),\n",
       " Text(120.41453428863869, 380.52, 'X[7] <= 1.124\\ngini = 0.156\\nsamples = 47\\nvalue = [43, 4]'),\n",
       " Text(119.46264073694984, 344.28, 'gini = 0.0\\nsamples = 1\\nvalue = [0, 1]'),\n",
       " Text(121.36642784032753, 344.28, 'X[11] <= -0.302\\ngini = 0.122\\nsamples = 46\\nvalue = [43, 3]'),\n",
       " Text(120.41453428863869, 308.03999999999996, 'X[6] <= -1.216\\ngini = 0.245\\nsamples = 21\\nvalue = [18, 3]'),\n",
       " Text(119.46264073694984, 271.79999999999995, 'gini = 0.0\\nsamples = 1\\nvalue = [0, 1]'),\n",
       " Text(121.36642784032753, 271.79999999999995, 'X[11] <= -0.37\\ngini = 0.18\\nsamples = 20\\nvalue = [18, 2]'),\n",
       " Text(120.41453428863869, 235.55999999999995, 'X[6] <= 0.519\\ngini = 0.1\\nsamples = 19\\nvalue = [18, 1]'),\n",
       " Text(119.46264073694984, 199.31999999999994, 'gini = 0.0\\nsamples = 13\\nvalue = [13, 0]'),\n",
       " Text(121.36642784032753, 199.31999999999994, 'X[5] <= -0.608\\ngini = 0.278\\nsamples = 6\\nvalue = [5, 1]'),\n",
       " Text(120.41453428863869, 163.07999999999993, 'gini = 0.0\\nsamples = 5\\nvalue = [5, 0]'),\n",
       " Text(122.31832139201637, 163.07999999999993, 'gini = 0.0\\nsamples = 1\\nvalue = [0, 1]'),\n",
       " Text(122.31832139201637, 235.55999999999995, 'gini = 0.0\\nsamples = 1\\nvalue = [0, 1]'),\n",
       " Text(122.31832139201637, 308.03999999999996, 'gini = 0.0\\nsamples = 25\\nvalue = [25, 0]'),\n",
       " Text(126.12589559877175, 416.76, 'X[11] <= 1.563\\ngini = 0.266\\nsamples = 19\\nvalue = [16, 3]'),\n",
       " Text(125.17400204708291, 380.52, 'gini = 0.0\\nsamples = 1\\nvalue = [0, 1]'),\n",
       " Text(127.07778915046059, 380.52, 'X[7] <= 0.307\\ngini = 0.198\\nsamples = 18\\nvalue = [16, 2]'),\n",
       " Text(125.17400204708291, 344.28, 'X[9] <= -0.446\\ngini = 0.5\\nsamples = 2\\nvalue = [1, 1]'),\n",
       " Text(124.22210849539407, 308.03999999999996, 'gini = 0.0\\nsamples = 1\\nvalue = [0, 1]'),\n",
       " Text(126.12589559877175, 308.03999999999996, 'gini = 0.0\\nsamples = 1\\nvalue = [1, 0]'),\n",
       " Text(128.98157625383828, 344.28, 'X[6] <= -1.389\\ngini = 0.117\\nsamples = 16\\nvalue = [15, 1]'),\n",
       " Text(128.02968270214944, 308.03999999999996, 'X[5] <= -0.608\\ngini = 0.5\\nsamples = 2\\nvalue = [1, 1]'),\n",
       " Text(127.07778915046059, 271.79999999999995, 'gini = 0.0\\nsamples = 1\\nvalue = [0, 1]'),\n",
       " Text(128.98157625383828, 271.79999999999995, 'gini = 0.0\\nsamples = 1\\nvalue = [1, 0]'),\n",
       " Text(129.93346980552712, 308.03999999999996, 'gini = 0.0\\nsamples = 14\\nvalue = [14, 0]'),\n",
       " Text(138.50051177072672, 489.23999999999995, 'X[3] <= -2.16\\ngini = 0.224\\nsamples = 140\\nvalue = [122, 18]'),\n",
       " Text(137.54861821903788, 453.0, 'gini = 0.0\\nsamples = 1\\nvalue = [0, 1]'),\n",
       " Text(139.45240532241556, 453.0, 'X[11] <= 1.201\\ngini = 0.215\\nsamples = 139\\nvalue = [122, 17]'),\n",
       " Text(137.54861821903788, 416.76, 'X[11] <= -0.028\\ngini = 0.181\\nsamples = 119\\nvalue = [107, 12]'),\n",
       " Text(136.59672466734904, 380.52, 'X[3] <= 1.737\\ngini = 0.278\\nsamples = 72\\nvalue = [60, 12]'),\n",
       " Text(135.64483111566017, 344.28, 'X[11] <= -0.031\\ngini = 0.262\\nsamples = 71\\nvalue = [60, 11]'),\n",
       " Text(134.69293756397133, 308.03999999999996, 'X[7] <= 0.98\\ngini = 0.245\\nsamples = 70\\nvalue = [60, 10]'),\n",
       " Text(130.88536335721597, 271.79999999999995, 'X[3] <= 0.17\\ngini = 0.177\\nsamples = 51\\nvalue = [46, 5]'),\n",
       " Text(128.98157625383828, 235.55999999999995, 'X[11] <= -1.428\\ngini = 0.056\\nsamples = 35\\nvalue = [34, 1]'),\n",
       " Text(128.02968270214944, 199.31999999999994, 'X[5] <= -0.133\\ngini = 0.278\\nsamples = 6\\nvalue = [5, 1]'),\n",
       " Text(127.07778915046059, 163.07999999999993, 'gini = 0.0\\nsamples = 5\\nvalue = [5, 0]'),\n",
       " Text(128.98157625383828, 163.07999999999993, 'gini = 0.0\\nsamples = 1\\nvalue = [0, 1]'),\n",
       " Text(129.93346980552712, 199.31999999999994, 'gini = 0.0\\nsamples = 29\\nvalue = [29, 0]'),\n",
       " Text(132.78915046059365, 235.55999999999995, 'X[6] <= 1.213\\ngini = 0.375\\nsamples = 16\\nvalue = [12, 4]'),\n",
       " Text(131.8372569089048, 199.31999999999994, 'X[3] <= 0.284\\ngini = 0.245\\nsamples = 14\\nvalue = [12, 2]'),\n",
       " Text(130.88536335721597, 163.07999999999993, 'gini = 0.0\\nsamples = 1\\nvalue = [0, 1]'),\n",
       " Text(132.78915046059365, 163.07999999999993, 'X[7] <= 0.849\\ngini = 0.142\\nsamples = 13\\nvalue = [12, 1]'),\n",
       " Text(131.8372569089048, 126.83999999999992, 'gini = 0.0\\nsamples = 11\\nvalue = [11, 0]'),\n",
       " Text(133.7410440122825, 126.83999999999992, 'X[11] <= -0.788\\ngini = 0.5\\nsamples = 2\\nvalue = [1, 1]'),\n",
       " Text(132.78915046059365, 90.59999999999991, 'gini = 0.0\\nsamples = 1\\nvalue = [1, 0]'),\n",
       " Text(134.69293756397133, 90.59999999999991, 'gini = 0.0\\nsamples = 1\\nvalue = [0, 1]'),\n",
       " Text(133.7410440122825, 199.31999999999994, 'gini = 0.0\\nsamples = 2\\nvalue = [0, 2]'),\n",
       " Text(138.50051177072672, 271.79999999999995, 'X[3] <= -0.162\\ngini = 0.388\\nsamples = 19\\nvalue = [14, 5]'),\n",
       " Text(136.59672466734904, 235.55999999999995, 'X[5] <= -0.228\\ngini = 0.48\\nsamples = 5\\nvalue = [2, 3]'),\n",
       " Text(135.64483111566017, 199.31999999999994, 'gini = 0.0\\nsamples = 2\\nvalue = [2, 0]'),\n",
       " Text(137.54861821903788, 199.31999999999994, 'gini = 0.0\\nsamples = 3\\nvalue = [0, 3]'),\n",
       " Text(140.4042988741044, 235.55999999999995, 'X[11] <= -0.213\\ngini = 0.245\\nsamples = 14\\nvalue = [12, 2]'),\n",
       " Text(139.45240532241556, 199.31999999999994, 'X[6] <= -1.042\\ngini = 0.142\\nsamples = 13\\nvalue = [12, 1]'),\n",
       " Text(138.50051177072672, 163.07999999999993, 'X[9] <= -0.446\\ngini = 0.444\\nsamples = 3\\nvalue = [2, 1]'),\n",
       " Text(137.54861821903788, 126.83999999999992, 'gini = 0.0\\nsamples = 2\\nvalue = [2, 0]'),\n",
       " Text(139.45240532241556, 126.83999999999992, 'gini = 0.0\\nsamples = 1\\nvalue = [0, 1]'),\n",
       " Text(140.4042988741044, 163.07999999999993, 'gini = 0.0\\nsamples = 10\\nvalue = [10, 0]'),\n",
       " Text(141.35619242579324, 199.31999999999994, 'gini = 0.0\\nsamples = 1\\nvalue = [0, 1]'),\n",
       " Text(136.59672466734904, 308.03999999999996, 'gini = 0.0\\nsamples = 1\\nvalue = [0, 1]'),\n",
       " Text(137.54861821903788, 344.28, 'gini = 0.0\\nsamples = 1\\nvalue = [0, 1]'),\n",
       " Text(138.50051177072672, 380.52, 'gini = 0.0\\nsamples = 47\\nvalue = [47, 0]'),\n",
       " Text(141.35619242579324, 416.76, 'X[11] <= 1.264\\ngini = 0.375\\nsamples = 20\\nvalue = [15, 5]'),\n",
       " Text(140.4042988741044, 380.52, 'gini = 0.0\\nsamples = 2\\nvalue = [0, 2]'),\n",
       " Text(142.30808597748208, 380.52, 'X[6] <= -1.563\\ngini = 0.278\\nsamples = 18\\nvalue = [15, 3]'),\n",
       " Text(141.35619242579324, 344.28, 'gini = 0.0\\nsamples = 1\\nvalue = [0, 1]'),\n",
       " Text(143.25997952917092, 344.28, 'X[11] <= 1.571\\ngini = 0.208\\nsamples = 17\\nvalue = [15, 2]'),\n",
       " Text(142.30808597748208, 308.03999999999996, 'gini = 0.0\\nsamples = 10\\nvalue = [10, 0]'),\n",
       " Text(144.21187308085976, 308.03999999999996, 'X[9] <= -0.446\\ngini = 0.408\\nsamples = 7\\nvalue = [5, 2]'),\n",
       " Text(143.25997952917092, 271.79999999999995, 'gini = 0.0\\nsamples = 1\\nvalue = [0, 1]'),\n",
       " Text(145.1637666325486, 271.79999999999995, 'X[11] <= 1.594\\ngini = 0.278\\nsamples = 6\\nvalue = [5, 1]'),\n",
       " Text(144.21187308085976, 235.55999999999995, 'gini = 0.0\\nsamples = 1\\nvalue = [0, 1]'),\n",
       " Text(146.11566018423747, 235.55999999999995, 'gini = 0.0\\nsamples = 5\\nvalue = [5, 0]'),\n",
       " Text(140.4042988741044, 561.72, 'X[11] <= -0.08\\ngini = 0.42\\nsamples = 10\\nvalue = [7, 3]'),\n",
       " Text(139.45240532241556, 525.48, 'gini = 0.0\\nsamples = 5\\nvalue = [5, 0]'),\n",
       " Text(141.35619242579324, 525.48, 'X[11] <= 0.487\\ngini = 0.48\\nsamples = 5\\nvalue = [2, 3]'),\n",
       " Text(140.4042988741044, 489.23999999999995, 'gini = 0.0\\nsamples = 2\\nvalue = [0, 2]'),\n",
       " Text(142.30808597748208, 489.23999999999995, 'X[7] <= 1.55\\ngini = 0.444\\nsamples = 3\\nvalue = [2, 1]'),\n",
       " Text(141.35619242579324, 453.0, 'gini = 0.0\\nsamples = 1\\nvalue = [0, 1]'),\n",
       " Text(143.25997952917092, 453.0, 'gini = 0.0\\nsamples = 2\\nvalue = [2, 0]'),\n",
       " Text(164.91555783009213, 597.96, 'X[11] <= 0.912\\ngini = 0.087\\nsamples = 571\\nvalue = [545, 26]'),\n",
       " Text(155.3966223132037, 561.72, 'X[5] <= -0.133\\ngini = 0.064\\nsamples = 424\\nvalue = [410, 14]'),\n",
       " Text(151.3510747185261, 525.48, 'X[11] <= -1.713\\ngini = 0.05\\nsamples = 390\\nvalue = [380, 10]'),\n",
       " Text(148.971340839304, 489.23999999999995, 'X[7] <= 0.413\\ngini = 0.375\\nsamples = 4\\nvalue = [3, 1]'),\n",
       " Text(148.01944728761515, 453.0, 'gini = 0.0\\nsamples = 1\\nvalue = [0, 1]'),\n",
       " Text(149.92323439099283, 453.0, 'gini = 0.0\\nsamples = 3\\nvalue = [3, 0]'),\n",
       " Text(153.7308085977482, 489.23999999999995, 'X[6] <= 1.56\\ngini = 0.046\\nsamples = 386\\nvalue = [377, 9]'),\n",
       " Text(151.8270214943705, 453.0, 'X[7] <= 0.518\\ngini = 0.037\\nsamples = 367\\nvalue = [360, 7]'),\n",
       " Text(150.87512794268167, 416.76, 'gini = 0.0\\nsamples = 131\\nvalue = [131, 0]'),\n",
       " Text(152.77891504605935, 416.76, 'X[7] <= 0.523\\ngini = 0.058\\nsamples = 236\\nvalue = [229, 7]'),\n",
       " Text(151.8270214943705, 380.52, 'gini = 0.0\\nsamples = 1\\nvalue = [0, 1]'),\n",
       " Text(153.7308085977482, 380.52, 'X[7] <= 0.927\\ngini = 0.05\\nsamples = 235\\nvalue = [229, 6]'),\n",
       " Text(152.77891504605935, 344.28, 'X[7] <= 0.926\\ngini = 0.091\\nsamples = 126\\nvalue = [120, 6]'),\n",
       " Text(151.8270214943705, 308.03999999999996, 'X[2] <= 0.579\\ngini = 0.077\\nsamples = 125\\nvalue = [120, 5]'),\n",
       " Text(148.971340839304, 271.79999999999995, 'X[11] <= -0.74\\ngini = 0.043\\nsamples = 91\\nvalue = [89, 2]'),\n",
       " Text(148.01944728761515, 235.55999999999995, 'X[11] <= -0.762\\ngini = 0.095\\nsamples = 40\\nvalue = [38, 2]'),\n",
       " Text(147.0675537359263, 199.31999999999994, 'X[5] <= -0.323\\ngini = 0.05\\nsamples = 39\\nvalue = [38, 1]'),\n",
       " Text(146.11566018423747, 163.07999999999993, 'gini = 0.0\\nsamples = 32\\nvalue = [32, 0]'),\n",
       " Text(148.01944728761515, 163.07999999999993, 'X[6] <= 0.519\\ngini = 0.245\\nsamples = 7\\nvalue = [6, 1]'),\n",
       " Text(147.0675537359263, 126.83999999999992, 'gini = 0.0\\nsamples = 6\\nvalue = [6, 0]'),\n",
       " Text(148.971340839304, 126.83999999999992, 'gini = 0.0\\nsamples = 1\\nvalue = [0, 1]'),\n",
       " Text(148.971340839304, 199.31999999999994, 'gini = 0.0\\nsamples = 1\\nvalue = [0, 1]'),\n",
       " Text(149.92323439099283, 235.55999999999995, 'gini = 0.0\\nsamples = 51\\nvalue = [51, 0]'),\n",
       " Text(154.68270214943706, 271.79999999999995, 'X[3] <= -0.878\\ngini = 0.161\\nsamples = 34\\nvalue = [31, 3]'),\n",
       " Text(151.8270214943705, 235.55999999999995, 'X[3] <= -1.128\\ngini = 0.346\\nsamples = 9\\nvalue = [7, 2]'),\n",
       " Text(150.87512794268167, 199.31999999999994, 'gini = 0.0\\nsamples = 6\\nvalue = [6, 0]'),\n",
       " Text(152.77891504605935, 199.31999999999994, 'X[7] <= 0.744\\ngini = 0.444\\nsamples = 3\\nvalue = [1, 2]'),\n",
       " Text(151.8270214943705, 163.07999999999993, 'gini = 0.0\\nsamples = 2\\nvalue = [0, 2]'),\n",
       " Text(153.7308085977482, 163.07999999999993, 'gini = 0.0\\nsamples = 1\\nvalue = [1, 0]'),\n",
       " Text(157.53838280450358, 235.55999999999995, 'X[7] <= 0.543\\ngini = 0.077\\nsamples = 25\\nvalue = [24, 1]'),\n",
       " Text(156.58648925281474, 199.31999999999994, 'X[6] <= 0.346\\ngini = 0.444\\nsamples = 3\\nvalue = [2, 1]'),\n",
       " Text(155.6345957011259, 163.07999999999993, 'gini = 0.0\\nsamples = 2\\nvalue = [2, 0]'),\n",
       " Text(157.53838280450358, 163.07999999999993, 'gini = 0.0\\nsamples = 1\\nvalue = [0, 1]'),\n",
       " Text(158.49027635619242, 199.31999999999994, 'gini = 0.0\\nsamples = 22\\nvalue = [22, 0]'),\n",
       " Text(153.7308085977482, 308.03999999999996, 'gini = 0.0\\nsamples = 1\\nvalue = [0, 1]'),\n",
       " Text(154.68270214943706, 344.28, 'gini = 0.0\\nsamples = 109\\nvalue = [109, 0]'),\n",
       " Text(155.6345957011259, 453.0, 'X[7] <= 1.226\\ngini = 0.188\\nsamples = 19\\nvalue = [17, 2]'),\n",
       " Text(154.68270214943706, 416.76, 'gini = 0.0\\nsamples = 15\\nvalue = [15, 0]'),\n",
       " Text(156.58648925281474, 416.76, 'X[11] <= -0.835\\ngini = 0.5\\nsamples = 4\\nvalue = [2, 2]'),\n",
       " Text(155.6345957011259, 380.52, 'gini = 0.0\\nsamples = 2\\nvalue = [2, 0]'),\n",
       " Text(157.53838280450358, 380.52, 'gini = 0.0\\nsamples = 2\\nvalue = [0, 2]'),\n",
       " Text(159.44216990788127, 525.48, 'X[11] <= -1.625\\ngini = 0.208\\nsamples = 34\\nvalue = [30, 4]'),\n",
       " Text(158.49027635619242, 489.23999999999995, 'gini = 0.0\\nsamples = 1\\nvalue = [0, 1]'),\n",
       " Text(160.3940634595701, 489.23999999999995, 'X[7] <= 0.053\\ngini = 0.165\\nsamples = 33\\nvalue = [30, 3]'),\n",
       " Text(159.44216990788127, 453.0, 'gini = 0.0\\nsamples = 1\\nvalue = [0, 1]'),\n",
       " Text(161.34595701125895, 453.0, 'X[11] <= -0.442\\ngini = 0.117\\nsamples = 32\\nvalue = [30, 2]'),\n",
       " Text(160.3940634595701, 416.76, 'X[11] <= -0.486\\ngini = 0.26\\nsamples = 13\\nvalue = [11, 2]'),\n",
       " Text(159.44216990788127, 380.52, 'X[3] <= 1.182\\ngini = 0.153\\nsamples = 12\\nvalue = [11, 1]'),\n",
       " Text(158.49027635619242, 344.28, 'gini = 0.0\\nsamples = 11\\nvalue = [11, 0]'),\n",
       " Text(160.3940634595701, 344.28, 'gini = 0.0\\nsamples = 1\\nvalue = [0, 1]'),\n",
       " Text(161.34595701125895, 380.52, 'gini = 0.0\\nsamples = 1\\nvalue = [0, 1]'),\n",
       " Text(162.2978505629478, 416.76, 'gini = 0.0\\nsamples = 19\\nvalue = [19, 0]'),\n",
       " Text(174.43449334698056, 561.72, 'X[11] <= 0.92\\ngini = 0.15\\nsamples = 147\\nvalue = [135, 12]'),\n",
       " Text(173.48259979529172, 525.48, 'gini = 0.0\\nsamples = 2\\nvalue = [0, 2]'),\n",
       " Text(175.3863868986694, 525.48, 'X[4] <= -0.091\\ngini = 0.128\\nsamples = 145\\nvalue = [135, 10]'),\n",
       " Text(170.38894575230296, 489.23999999999995, 'X[7] <= 0.263\\ngini = 0.203\\nsamples = 61\\nvalue = [54, 7]'),\n",
       " Text(166.10542476970318, 453.0, 'X[9] <= -0.446\\ngini = 0.36\\nsamples = 17\\nvalue = [13, 4]'),\n",
       " Text(164.2016376663255, 416.76, 'X[7] <= 0.058\\ngini = 0.48\\nsamples = 5\\nvalue = [2, 3]'),\n",
       " Text(163.24974411463663, 380.52, 'gini = 0.0\\nsamples = 2\\nvalue = [2, 0]'),\n",
       " Text(165.15353121801434, 380.52, 'gini = 0.0\\nsamples = 3\\nvalue = [0, 3]'),\n",
       " Text(168.00921187308086, 416.76, 'X[5] <= -0.228\\ngini = 0.153\\nsamples = 12\\nvalue = [11, 1]'),\n",
       " Text(167.05731832139202, 380.52, 'gini = 0.0\\nsamples = 10\\nvalue = [10, 0]'),\n",
       " Text(168.9611054247697, 380.52, 'X[7] <= 0.178\\ngini = 0.5\\nsamples = 2\\nvalue = [1, 1]'),\n",
       " Text(168.00921187308086, 344.28, 'gini = 0.0\\nsamples = 1\\nvalue = [1, 0]'),\n",
       " Text(169.91299897645854, 344.28, 'gini = 0.0\\nsamples = 1\\nvalue = [0, 1]'),\n",
       " Text(174.67246673490277, 453.0, 'X[5] <= -0.798\\ngini = 0.127\\nsamples = 44\\nvalue = [41, 3]'),\n",
       " Text(173.72057318321393, 416.76, 'X[7] <= 0.916\\ngini = 0.266\\nsamples = 19\\nvalue = [16, 3]'),\n",
       " Text(172.76867963152506, 380.52, 'X[7] <= 0.872\\ngini = 0.375\\nsamples = 12\\nvalue = [9, 3]'),\n",
       " Text(171.81678607983622, 344.28, 'X[3] <= -0.437\\ngini = 0.298\\nsamples = 11\\nvalue = [9, 2]'),\n",
       " Text(170.86489252814738, 308.03999999999996, 'X[2] <= 0.579\\ngini = 0.48\\nsamples = 5\\nvalue = [3, 2]'),\n",
       " Text(169.91299897645854, 271.79999999999995, 'gini = 0.0\\nsamples = 2\\nvalue = [2, 0]'),\n",
       " Text(171.81678607983622, 271.79999999999995, 'X[7] <= 0.451\\ngini = 0.444\\nsamples = 3\\nvalue = [1, 2]'),\n",
       " Text(170.86489252814738, 235.55999999999995, 'gini = 0.0\\nsamples = 1\\nvalue = [1, 0]'),\n",
       " Text(172.76867963152506, 235.55999999999995, 'gini = 0.0\\nsamples = 2\\nvalue = [0, 2]'),\n",
       " Text(172.76867963152506, 308.03999999999996, 'gini = 0.0\\nsamples = 6\\nvalue = [6, 0]'),\n",
       " Text(173.72057318321393, 344.28, 'gini = 0.0\\nsamples = 1\\nvalue = [0, 1]'),\n",
       " Text(174.67246673490277, 380.52, 'gini = 0.0\\nsamples = 7\\nvalue = [7, 0]'),\n",
       " Text(175.6243602865916, 416.76, 'gini = 0.0\\nsamples = 25\\nvalue = [25, 0]'),\n",
       " Text(180.3838280450358, 489.23999999999995, 'X[3] <= -0.162\\ngini = 0.069\\nsamples = 84\\nvalue = [81, 3]'),\n",
       " Text(179.43193449334697, 453.0, 'X[3] <= -0.199\\ngini = 0.175\\nsamples = 31\\nvalue = [28, 3]'),\n",
       " Text(178.48004094165813, 416.76, 'X[7] <= 1.273\\ngini = 0.124\\nsamples = 30\\nvalue = [28, 2]'),\n",
       " Text(176.57625383828045, 380.52, 'X[11] <= 1.114\\ngini = 0.071\\nsamples = 27\\nvalue = [26, 1]'),\n",
       " Text(175.6243602865916, 344.28, 'X[11] <= 1.092\\ngini = 0.278\\nsamples = 6\\nvalue = [5, 1]'),\n",
       " Text(174.67246673490277, 308.03999999999996, 'gini = 0.0\\nsamples = 5\\nvalue = [5, 0]'),\n",
       " Text(176.57625383828045, 308.03999999999996, 'gini = 0.0\\nsamples = 1\\nvalue = [0, 1]'),\n",
       " Text(177.5281473899693, 344.28, 'gini = 0.0\\nsamples = 21\\nvalue = [21, 0]'),\n",
       " Text(180.3838280450358, 380.52, 'X[7] <= 1.321\\ngini = 0.444\\nsamples = 3\\nvalue = [2, 1]'),\n",
       " Text(179.43193449334697, 344.28, 'gini = 0.0\\nsamples = 1\\nvalue = [0, 1]'),\n",
       " Text(181.33572159672465, 344.28, 'gini = 0.0\\nsamples = 2\\nvalue = [2, 0]'),\n",
       " Text(180.3838280450358, 416.76, 'gini = 0.0\\nsamples = 1\\nvalue = [0, 1]'),\n",
       " Text(181.33572159672465, 453.0, 'gini = 0.0\\nsamples = 53\\nvalue = [53, 0]'),\n",
       " Text(187.04708290685772, 634.2, 'X[4] <= -0.091\\ngini = 0.394\\nsamples = 37\\nvalue = [27, 10]'),\n",
       " Text(185.14329580348004, 597.96, 'X[5] <= -0.703\\ngini = 0.5\\nsamples = 16\\nvalue = [8, 8]'),\n",
       " Text(184.1914022517912, 561.72, 'gini = 0.0\\nsamples = 4\\nvalue = [0, 4]'),\n",
       " Text(186.09518935516888, 561.72, 'X[6] <= -0.869\\ngini = 0.444\\nsamples = 12\\nvalue = [8, 4]'),\n",
       " Text(185.14329580348004, 525.48, 'X[6] <= -1.216\\ngini = 0.49\\nsamples = 7\\nvalue = [3, 4]'),\n",
       " Text(184.1914022517912, 489.23999999999995, 'X[11] <= 1.047\\ngini = 0.375\\nsamples = 4\\nvalue = [3, 1]'),\n",
       " Text(183.23950870010236, 453.0, 'gini = 0.0\\nsamples = 3\\nvalue = [3, 0]'),\n",
       " Text(185.14329580348004, 453.0, 'gini = 0.0\\nsamples = 1\\nvalue = [0, 1]'),\n",
       " Text(186.09518935516888, 489.23999999999995, 'gini = 0.0\\nsamples = 3\\nvalue = [0, 3]'),\n",
       " Text(187.04708290685772, 525.48, 'gini = 0.0\\nsamples = 5\\nvalue = [5, 0]'),\n",
       " Text(188.9508700102354, 597.96, 'X[7] <= 1.638\\ngini = 0.172\\nsamples = 21\\nvalue = [19, 2]'),\n",
       " Text(187.99897645854657, 561.72, 'gini = 0.0\\nsamples = 1\\nvalue = [0, 1]'),\n",
       " Text(189.90276356192425, 561.72, 'X[11] <= -0.879\\ngini = 0.095\\nsamples = 20\\nvalue = [19, 1]'),\n",
       " Text(188.9508700102354, 525.48, 'X[11] <= -1.132\\ngini = 0.375\\nsamples = 4\\nvalue = [3, 1]'),\n",
       " Text(187.99897645854657, 489.23999999999995, 'gini = 0.0\\nsamples = 3\\nvalue = [3, 0]'),\n",
       " Text(189.90276356192425, 489.23999999999995, 'gini = 0.0\\nsamples = 1\\nvalue = [0, 1]'),\n",
       " Text(190.8546571136131, 525.48, 'gini = 0.0\\nsamples = 16\\nvalue = [16, 0]'),\n",
       " Text(248.65244370522007, 706.68, 'X[7] <= 1.103\\ngini = 0.345\\nsamples = 510\\nvalue = [397, 113]'),\n",
       " Text(219.82791709314228, 670.44, 'X[7] <= 0.401\\ngini = 0.377\\nsamples = 417\\nvalue = [312, 105]'),\n",
       " Text(204.0621801432958, 634.2, 'X[3] <= 1.669\\ngini = 0.202\\nsamples = 114\\nvalue = [101, 13]'),\n",
       " Text(200.1356192425793, 597.96, 'X[11] <= 1.485\\ngini = 0.18\\nsamples = 110\\nvalue = [99, 11]'),\n",
       " Text(195.1381780962129, 561.72, 'X[6] <= 1.213\\ngini = 0.147\\nsamples = 100\\nvalue = [92, 8]'),\n",
       " Text(192.7584442169908, 525.48, 'X[4] <= -0.091\\ngini = 0.094\\nsamples = 81\\nvalue = [77, 4]'),\n",
       " Text(191.80655066530193, 489.23999999999995, 'X[10] <= -0.026\\ngini = 0.188\\nsamples = 38\\nvalue = [34, 4]'),\n",
       " Text(190.8546571136131, 453.0, 'X[3] <= 0.445\\ngini = 0.308\\nsamples = 21\\nvalue = [17, 4]'),\n",
       " Text(189.90276356192425, 416.76, 'X[6] <= -1.042\\ngini = 0.426\\nsamples = 13\\nvalue = [9, 4]'),\n",
       " Text(188.9508700102354, 380.52, 'gini = 0.0\\nsamples = 4\\nvalue = [4, 0]'),\n",
       " Text(190.8546571136131, 380.52, 'X[3] <= -0.936\\ngini = 0.494\\nsamples = 9\\nvalue = [5, 4]'),\n",
       " Text(189.90276356192425, 344.28, 'gini = 0.0\\nsamples = 2\\nvalue = [2, 0]'),\n",
       " Text(191.80655066530193, 344.28, 'X[5] <= -1.179\\ngini = 0.49\\nsamples = 7\\nvalue = [3, 4]'),\n",
       " Text(190.8546571136131, 308.03999999999996, 'gini = 0.0\\nsamples = 2\\nvalue = [2, 0]'),\n",
       " Text(192.7584442169908, 308.03999999999996, 'X[11] <= 1.045\\ngini = 0.32\\nsamples = 5\\nvalue = [1, 4]'),\n",
       " Text(191.80655066530193, 271.79999999999995, 'gini = 0.0\\nsamples = 4\\nvalue = [0, 4]'),\n",
       " Text(193.71033776867964, 271.79999999999995, 'gini = 0.0\\nsamples = 1\\nvalue = [1, 0]'),\n",
       " Text(191.80655066530193, 416.76, 'gini = 0.0\\nsamples = 8\\nvalue = [8, 0]'),\n",
       " Text(192.7584442169908, 453.0, 'gini = 0.0\\nsamples = 17\\nvalue = [17, 0]'),\n",
       " Text(193.71033776867964, 489.23999999999995, 'gini = 0.0\\nsamples = 43\\nvalue = [43, 0]'),\n",
       " Text(197.517911975435, 525.48, 'X[7] <= 0.262\\ngini = 0.332\\nsamples = 19\\nvalue = [15, 4]'),\n",
       " Text(195.61412487205732, 489.23999999999995, 'X[5] <= -1.416\\ngini = 0.219\\nsamples = 16\\nvalue = [14, 2]'),\n",
       " Text(194.66223132036848, 453.0, 'gini = 0.0\\nsamples = 1\\nvalue = [0, 1]'),\n",
       " Text(196.56601842374616, 453.0, 'X[7] <= -0.136\\ngini = 0.124\\nsamples = 15\\nvalue = [14, 1]'),\n",
       " Text(195.61412487205732, 416.76, 'X[4] <= -0.091\\ngini = 0.5\\nsamples = 2\\nvalue = [1, 1]'),\n",
       " Text(194.66223132036848, 380.52, 'gini = 0.0\\nsamples = 1\\nvalue = [1, 0]'),\n",
       " Text(196.56601842374616, 380.52, 'gini = 0.0\\nsamples = 1\\nvalue = [0, 1]'),\n",
       " Text(197.517911975435, 416.76, 'gini = 0.0\\nsamples = 13\\nvalue = [13, 0]'),\n",
       " Text(199.42169907881268, 489.23999999999995, 'X[11] <= -0.31\\ngini = 0.444\\nsamples = 3\\nvalue = [1, 2]'),\n",
       " Text(198.46980552712384, 453.0, 'gini = 0.0\\nsamples = 1\\nvalue = [1, 0]'),\n",
       " Text(200.37359263050152, 453.0, 'gini = 0.0\\nsamples = 2\\nvalue = [0, 2]'),\n",
       " Text(205.13306038894575, 561.72, 'X[11] <= 1.625\\ngini = 0.42\\nsamples = 10\\nvalue = [7, 3]'),\n",
       " Text(204.1811668372569, 525.48, 'X[7] <= 0.221\\ngini = 0.48\\nsamples = 5\\nvalue = [2, 3]'),\n",
       " Text(203.22927328556807, 489.23999999999995, 'X[11] <= 1.514\\ngini = 0.444\\nsamples = 3\\nvalue = [2, 1]'),\n",
       " Text(202.27737973387923, 453.0, 'gini = 0.0\\nsamples = 1\\nvalue = [0, 1]'),\n",
       " Text(204.1811668372569, 453.0, 'gini = 0.0\\nsamples = 2\\nvalue = [2, 0]'),\n",
       " Text(205.13306038894575, 489.23999999999995, 'gini = 0.0\\nsamples = 2\\nvalue = [0, 2]'),\n",
       " Text(206.0849539406346, 525.48, 'gini = 0.0\\nsamples = 5\\nvalue = [5, 0]'),\n",
       " Text(207.98874104401227, 597.96, 'X[5] <= -0.466\\ngini = 0.5\\nsamples = 4\\nvalue = [2, 2]'),\n",
       " Text(207.03684749232343, 561.72, 'gini = 0.0\\nsamples = 2\\nvalue = [2, 0]'),\n",
       " Text(208.9406345957011, 561.72, 'gini = 0.0\\nsamples = 2\\nvalue = [0, 2]'),\n",
       " Text(235.59365404298873, 634.2, 'X[5] <= -0.608\\ngini = 0.423\\nsamples = 303\\nvalue = [211, 92]'),\n",
       " Text(219.2924769703173, 597.96, 'X[10] <= -0.026\\ngini = 0.349\\nsamples = 151\\nvalue = [117, 34]'),\n",
       " Text(211.08239508700103, 561.72, 'X[7] <= 0.75\\ngini = 0.436\\nsamples = 78\\nvalue = [53, 25]'),\n",
       " Text(207.98874104401227, 525.48, 'X[7] <= 0.729\\ngini = 0.492\\nsamples = 39\\nvalue = [22, 17]'),\n",
       " Text(207.03684749232343, 489.23999999999995, 'X[11] <= 1.41\\ngini = 0.467\\nsamples = 35\\nvalue = [22, 13]'),\n",
       " Text(206.0849539406346, 453.0, 'X[6] <= -1.216\\ngini = 0.43\\nsamples = 32\\nvalue = [22, 10]'),\n",
       " Text(202.75332650972365, 416.76, 'X[3] <= -0.121\\ngini = 0.494\\nsamples = 9\\nvalue = [4, 5]'),\n",
       " Text(201.8014329580348, 380.52, 'gini = 0.0\\nsamples = 3\\nvalue = [0, 3]'),\n",
       " Text(203.7052200614125, 380.52, 'X[6] <= -1.563\\ngini = 0.444\\nsamples = 6\\nvalue = [4, 2]'),\n",
       " Text(202.75332650972365, 344.28, 'gini = 0.0\\nsamples = 3\\nvalue = [3, 0]'),\n",
       " Text(204.65711361310133, 344.28, 'X[5] <= -0.941\\ngini = 0.444\\nsamples = 3\\nvalue = [1, 2]'),\n",
       " Text(203.7052200614125, 308.03999999999996, 'gini = 0.0\\nsamples = 2\\nvalue = [0, 2]'),\n",
       " Text(205.60900716479017, 308.03999999999996, 'gini = 0.0\\nsamples = 1\\nvalue = [1, 0]'),\n",
       " Text(209.41658137154553, 416.76, 'X[3] <= 0.528\\ngini = 0.34\\nsamples = 23\\nvalue = [18, 5]'),\n",
       " Text(207.51279426816785, 380.52, 'X[6] <= 0.519\\ngini = 0.208\\nsamples = 17\\nvalue = [15, 2]'),\n",
       " Text(206.560900716479, 344.28, 'gini = 0.0\\nsamples = 9\\nvalue = [9, 0]'),\n",
       " Text(208.4646878198567, 344.28, 'X[3] <= -1.242\\ngini = 0.375\\nsamples = 8\\nvalue = [6, 2]'),\n",
       " Text(207.51279426816785, 308.03999999999996, 'gini = 0.0\\nsamples = 1\\nvalue = [0, 1]'),\n",
       " Text(209.41658137154553, 308.03999999999996, 'X[7] <= 0.512\\ngini = 0.245\\nsamples = 7\\nvalue = [6, 1]'),\n",
       " Text(208.4646878198567, 271.79999999999995, 'gini = 0.0\\nsamples = 1\\nvalue = [0, 1]'),\n",
       " Text(210.36847492323437, 271.79999999999995, 'gini = 0.0\\nsamples = 6\\nvalue = [6, 0]'),\n",
       " Text(211.32036847492324, 380.52, 'X[4] <= -0.091\\ngini = 0.5\\nsamples = 6\\nvalue = [3, 3]'),\n",
       " Text(210.36847492323437, 344.28, 'gini = 0.0\\nsamples = 2\\nvalue = [0, 2]'),\n",
       " Text(212.27226202661208, 344.28, 'X[11] <= -0.786\\ngini = 0.375\\nsamples = 4\\nvalue = [3, 1]'),\n",
       " Text(211.32036847492324, 308.03999999999996, 'gini = 0.0\\nsamples = 3\\nvalue = [3, 0]'),\n",
       " Text(213.22415557830092, 308.03999999999996, 'gini = 0.0\\nsamples = 1\\nvalue = [0, 1]'),\n",
       " Text(207.98874104401227, 453.0, 'gini = 0.0\\nsamples = 3\\nvalue = [0, 3]'),\n",
       " Text(208.9406345957011, 489.23999999999995, 'gini = 0.0\\nsamples = 4\\nvalue = [0, 4]'),\n",
       " Text(214.17604912998976, 525.48, 'X[11] <= -1.167\\ngini = 0.326\\nsamples = 39\\nvalue = [31, 8]'),\n",
       " Text(212.27226202661208, 489.23999999999995, 'X[3] <= 0.325\\ngini = 0.48\\nsamples = 5\\nvalue = [2, 3]'),\n",
       " Text(211.32036847492324, 453.0, 'gini = 0.0\\nsamples = 3\\nvalue = [0, 3]'),\n",
       " Text(213.22415557830092, 453.0, 'gini = 0.0\\nsamples = 2\\nvalue = [2, 0]'),\n",
       " Text(216.07983623336744, 489.23999999999995, 'X[3] <= -2.554\\ngini = 0.251\\nsamples = 34\\nvalue = [29, 5]'),\n",
       " Text(215.1279426816786, 453.0, 'gini = 0.0\\nsamples = 1\\nvalue = [0, 1]'),\n",
       " Text(217.03172978505629, 453.0, 'X[6] <= 1.213\\ngini = 0.213\\nsamples = 33\\nvalue = [29, 4]'),\n",
       " Text(214.17604912998976, 416.76, 'X[6] <= -0.522\\ngini = 0.133\\nsamples = 28\\nvalue = [26, 2]'),\n",
       " Text(213.22415557830092, 380.52, 'gini = 0.0\\nsamples = 15\\nvalue = [15, 0]'),\n",
       " Text(215.1279426816786, 380.52, 'X[6] <= 0.172\\ngini = 0.26\\nsamples = 13\\nvalue = [11, 2]'),\n",
       " Text(214.17604912998976, 344.28, 'gini = 0.0\\nsamples = 2\\nvalue = [0, 2]'),\n",
       " Text(216.07983623336744, 344.28, 'gini = 0.0\\nsamples = 11\\nvalue = [11, 0]'),\n",
       " Text(219.8874104401228, 416.76, 'X[6] <= 1.56\\ngini = 0.48\\nsamples = 5\\nvalue = [3, 2]'),\n",
       " Text(218.93551688843397, 380.52, 'X[7] <= 1.073\\ngini = 0.444\\nsamples = 3\\nvalue = [1, 2]'),\n",
       " Text(217.98362333674513, 344.28, 'gini = 0.0\\nsamples = 2\\nvalue = [0, 2]'),\n",
       " Text(219.8874104401228, 344.28, 'gini = 0.0\\nsamples = 1\\nvalue = [1, 0]'),\n",
       " Text(220.83930399181168, 380.52, 'gini = 0.0\\nsamples = 2\\nvalue = [2, 0]'),\n",
       " Text(227.50255885363356, 561.72, 'X[7] <= 1.033\\ngini = 0.216\\nsamples = 73\\nvalue = [64, 9]'),\n",
       " Text(225.59877175025588, 525.48, 'X[3] <= 1.768\\ngini = 0.182\\nsamples = 69\\nvalue = [62, 7]'),\n",
       " Text(224.64687819856704, 489.23999999999995, 'X[7] <= 0.484\\ngini = 0.161\\nsamples = 68\\nvalue = [62, 6]'),\n",
       " Text(222.74309109518936, 453.0, 'X[7] <= 0.463\\ngini = 0.444\\nsamples = 9\\nvalue = [6, 3]'),\n",
       " Text(221.79119754350052, 416.76, 'gini = 0.0\\nsamples = 5\\nvalue = [5, 0]'),\n",
       " Text(223.6949846468782, 416.76, 'X[9] <= -0.446\\ngini = 0.375\\nsamples = 4\\nvalue = [1, 3]'),\n",
       " Text(222.74309109518936, 380.52, 'X[3] <= -0.536\\ngini = 0.5\\nsamples = 2\\nvalue = [1, 1]'),\n",
       " Text(221.79119754350052, 344.28, 'gini = 0.0\\nsamples = 1\\nvalue = [1, 0]'),\n",
       " Text(223.6949846468782, 344.28, 'gini = 0.0\\nsamples = 1\\nvalue = [0, 1]'),\n",
       " Text(224.64687819856704, 380.52, 'gini = 0.0\\nsamples = 2\\nvalue = [0, 2]'),\n",
       " Text(226.55066530194472, 453.0, 'X[7] <= 0.878\\ngini = 0.097\\nsamples = 59\\nvalue = [56, 3]'),\n",
       " Text(225.59877175025588, 416.76, 'gini = 0.0\\nsamples = 44\\nvalue = [44, 0]'),\n",
       " Text(227.50255885363356, 416.76, 'X[7] <= 0.934\\ngini = 0.32\\nsamples = 15\\nvalue = [12, 3]'),\n",
       " Text(226.55066530194472, 380.52, 'X[5] <= -1.084\\ngini = 0.5\\nsamples = 6\\nvalue = [3, 3]'),\n",
       " Text(225.59877175025588, 344.28, 'gini = 0.0\\nsamples = 2\\nvalue = [2, 0]'),\n",
       " Text(227.50255885363356, 344.28, 'X[5] <= -0.703\\ngini = 0.375\\nsamples = 4\\nvalue = [1, 3]'),\n",
       " Text(226.55066530194472, 308.03999999999996, 'gini = 0.0\\nsamples = 3\\nvalue = [0, 3]'),\n",
       " Text(228.4544524053224, 308.03999999999996, 'gini = 0.0\\nsamples = 1\\nvalue = [1, 0]'),\n",
       " Text(228.4544524053224, 380.52, 'gini = 0.0\\nsamples = 9\\nvalue = [9, 0]'),\n",
       " Text(226.55066530194472, 489.23999999999995, 'gini = 0.0\\nsamples = 1\\nvalue = [0, 1]'),\n",
       " Text(229.40634595701124, 525.48, 'X[3] <= 0.144\\ngini = 0.5\\nsamples = 4\\nvalue = [2, 2]'),\n",
       " Text(228.4544524053224, 489.23999999999995, 'gini = 0.0\\nsamples = 2\\nvalue = [0, 2]'),\n",
       " Text(230.3582395087001, 489.23999999999995, 'gini = 0.0\\nsamples = 2\\nvalue = [2, 0]'),\n",
       " Text(251.89483111566017, 597.96, 'X[7] <= 0.707\\ngini = 0.472\\nsamples = 152\\nvalue = [94, 58]'),\n",
       " Text(240.82906857727738, 561.72, 'X[3] <= 1.524\\ngini = 0.5\\nsamples = 72\\nvalue = [37, 35]'),\n",
       " Text(238.92528147389967, 525.48, 'X[7] <= 0.669\\ngini = 0.499\\nsamples = 65\\nvalue = [31, 34]'),\n",
       " Text(237.97338792221083, 489.23999999999995, 'X[4] <= -0.091\\ngini = 0.5\\nsamples = 62\\nvalue = [31, 31]'),\n",
       " Text(231.31013306038895, 453.0, 'X[7] <= 0.419\\ngini = 0.471\\nsamples = 29\\nvalue = [11, 18]'),\n",
       " Text(230.3582395087001, 416.76, 'gini = 0.0\\nsamples = 3\\nvalue = [3, 0]'),\n",
       " Text(232.2620266120778, 416.76, 'X[5] <= -0.323\\ngini = 0.426\\nsamples = 26\\nvalue = [8, 18]'),\n",
       " Text(230.3582395087001, 380.52, 'X[6] <= -1.563\\ngini = 0.18\\nsamples = 10\\nvalue = [1, 9]'),\n",
       " Text(229.40634595701124, 344.28, 'gini = 0.0\\nsamples = 1\\nvalue = [1, 0]'),\n",
       " Text(231.31013306038895, 344.28, 'gini = 0.0\\nsamples = 9\\nvalue = [0, 9]'),\n",
       " Text(234.16581371545547, 380.52, 'X[11] <= -0.664\\ngini = 0.492\\nsamples = 16\\nvalue = [7, 9]'),\n",
       " Text(233.21392016376663, 344.28, 'gini = 0.0\\nsamples = 2\\nvalue = [2, 0]'),\n",
       " Text(235.1177072671443, 344.28, 'X[11] <= 0.489\\ngini = 0.459\\nsamples = 14\\nvalue = [5, 9]'),\n",
       " Text(233.21392016376663, 308.03999999999996, 'X[7] <= 0.619\\ngini = 0.346\\nsamples = 9\\nvalue = [2, 7]'),\n",
       " Text(232.2620266120778, 271.79999999999995, 'gini = 0.0\\nsamples = 6\\nvalue = [0, 6]'),\n",
       " Text(234.16581371545547, 271.79999999999995, 'X[11] <= 0.251\\ngini = 0.444\\nsamples = 3\\nvalue = [2, 1]'),\n",
       " Text(233.21392016376663, 235.55999999999995, 'gini = 0.0\\nsamples = 2\\nvalue = [2, 0]'),\n",
       " Text(235.1177072671443, 235.55999999999995, 'gini = 0.0\\nsamples = 1\\nvalue = [0, 1]'),\n",
       " Text(237.021494370522, 308.03999999999996, 'X[3] <= -0.676\\ngini = 0.48\\nsamples = 5\\nvalue = [3, 2]'),\n",
       " Text(236.06960081883315, 271.79999999999995, 'gini = 0.0\\nsamples = 2\\nvalue = [0, 2]'),\n",
       " Text(237.97338792221083, 271.79999999999995, 'gini = 0.0\\nsamples = 3\\nvalue = [3, 0]'),\n",
       " Text(244.63664278403274, 453.0, 'X[7] <= 0.589\\ngini = 0.478\\nsamples = 33\\nvalue = [20, 13]'),\n",
       " Text(239.87717502558854, 416.76, 'X[7] <= 0.409\\ngini = 0.346\\nsamples = 18\\nvalue = [14, 4]'),\n",
       " Text(237.97338792221083, 380.52, 'X[3] <= -1.138\\ngini = 0.444\\nsamples = 3\\nvalue = [1, 2]'),\n",
       " Text(237.021494370522, 344.28, 'gini = 0.0\\nsamples = 1\\nvalue = [1, 0]'),\n",
       " Text(238.92528147389967, 344.28, 'gini = 0.0\\nsamples = 2\\nvalue = [0, 2]'),\n",
       " Text(241.78096212896622, 380.52, 'X[11] <= 1.113\\ngini = 0.231\\nsamples = 15\\nvalue = [13, 2]'),\n",
       " Text(240.82906857727738, 344.28, 'gini = 0.0\\nsamples = 12\\nvalue = [12, 0]'),\n",
       " Text(242.73285568065506, 344.28, 'X[6] <= -1.216\\ngini = 0.444\\nsamples = 3\\nvalue = [1, 2]'),\n",
       " Text(241.78096212896622, 308.03999999999996, 'gini = 0.0\\nsamples = 1\\nvalue = [1, 0]'),\n",
       " Text(243.6847492323439, 308.03999999999996, 'gini = 0.0\\nsamples = 2\\nvalue = [0, 2]'),\n",
       " Text(249.39611054247698, 416.76, 'X[3] <= 0.595\\ngini = 0.48\\nsamples = 15\\nvalue = [6, 9]'),\n",
       " Text(248.44421699078814, 380.52, 'X[7] <= 0.613\\ngini = 0.5\\nsamples = 12\\nvalue = [6, 6]'),\n",
       " Text(246.54042988741043, 344.28, 'X[6] <= 1.56\\ngini = 0.278\\nsamples = 6\\nvalue = [1, 5]'),\n",
       " Text(245.58853633572159, 308.03999999999996, 'gini = 0.0\\nsamples = 4\\nvalue = [0, 4]'),\n",
       " Text(247.49232343909927, 308.03999999999996, 'X[11] <= -0.173\\ngini = 0.5\\nsamples = 2\\nvalue = [1, 1]'),\n",
       " Text(246.54042988741043, 271.79999999999995, 'gini = 0.0\\nsamples = 1\\nvalue = [0, 1]'),\n",
       " Text(248.44421699078814, 271.79999999999995, 'gini = 0.0\\nsamples = 1\\nvalue = [1, 0]'),\n",
       " Text(250.34800409416582, 344.28, 'X[9] <= -0.446\\ngini = 0.278\\nsamples = 6\\nvalue = [5, 1]'),\n",
       " Text(249.39611054247698, 308.03999999999996, 'gini = 0.0\\nsamples = 4\\nvalue = [4, 0]'),\n",
       " Text(251.29989764585466, 308.03999999999996, 'X[11] <= 0.276\\ngini = 0.5\\nsamples = 2\\nvalue = [1, 1]'),\n",
       " Text(250.34800409416582, 271.79999999999995, 'gini = 0.0\\nsamples = 1\\nvalue = [1, 0]'),\n",
       " Text(252.2517911975435, 271.79999999999995, 'gini = 0.0\\nsamples = 1\\nvalue = [0, 1]'),\n",
       " Text(250.34800409416582, 380.52, 'gini = 0.0\\nsamples = 3\\nvalue = [0, 3]'),\n",
       " Text(239.87717502558854, 489.23999999999995, 'gini = 0.0\\nsamples = 3\\nvalue = [0, 3]'),\n",
       " Text(242.73285568065506, 525.48, 'X[7] <= 0.687\\ngini = 0.245\\nsamples = 7\\nvalue = [6, 1]'),\n",
       " Text(241.78096212896622, 489.23999999999995, 'gini = 0.0\\nsamples = 6\\nvalue = [6, 0]'),\n",
       " Text(243.6847492323439, 489.23999999999995, 'gini = 0.0\\nsamples = 1\\nvalue = [0, 1]'),\n",
       " Text(262.960593654043, 561.72, 'X[11] <= -0.464\\ngini = 0.41\\nsamples = 80\\nvalue = [57, 23]'),\n",
       " Text(255.58341862845444, 525.48, 'X[7] <= 0.749\\ngini = 0.489\\nsamples = 33\\nvalue = [19, 14]'),\n",
       " Text(254.6315250767656, 489.23999999999995, 'gini = 0.0\\nsamples = 7\\nvalue = [7, 0]'),\n",
       " Text(256.5353121801433, 489.23999999999995, 'X[4] <= -0.091\\ngini = 0.497\\nsamples = 26\\nvalue = [12, 14]'),\n",
       " Text(253.20368474923234, 453.0, 'X[5] <= -0.228\\ngini = 0.355\\nsamples = 13\\nvalue = [3, 10]'),\n",
       " Text(252.2517911975435, 416.76, 'gini = 0.0\\nsamples = 7\\nvalue = [0, 7]'),\n",
       " Text(254.15557830092118, 416.76, 'X[7] <= 0.858\\ngini = 0.5\\nsamples = 6\\nvalue = [3, 3]'),\n",
       " Text(253.20368474923234, 380.52, 'gini = 0.0\\nsamples = 2\\nvalue = [0, 2]'),\n",
       " Text(255.10747185261002, 380.52, 'X[7] <= 0.925\\ngini = 0.375\\nsamples = 4\\nvalue = [3, 1]'),\n",
       " Text(254.15557830092118, 344.28, 'X[7] <= 0.891\\ngini = 0.5\\nsamples = 2\\nvalue = [1, 1]'),\n",
       " Text(253.20368474923234, 308.03999999999996, 'gini = 0.0\\nsamples = 1\\nvalue = [1, 0]'),\n",
       " Text(255.10747185261002, 308.03999999999996, 'gini = 0.0\\nsamples = 1\\nvalue = [0, 1]'),\n",
       " Text(256.0593654042989, 344.28, 'gini = 0.0\\nsamples = 2\\nvalue = [2, 0]'),\n",
       " Text(259.86693961105425, 453.0, 'X[3] <= -0.536\\ngini = 0.426\\nsamples = 13\\nvalue = [9, 4]'),\n",
       " Text(257.96315250767657, 416.76, 'X[11] <= -0.607\\ngini = 0.375\\nsamples = 4\\nvalue = [1, 3]'),\n",
       " Text(257.0112589559877, 380.52, 'gini = 0.0\\nsamples = 3\\nvalue = [0, 3]'),\n",
       " Text(258.9150460593654, 380.52, 'gini = 0.0\\nsamples = 1\\nvalue = [1, 0]'),\n",
       " Text(261.77072671443193, 416.76, 'X[7] <= 0.813\\ngini = 0.198\\nsamples = 9\\nvalue = [8, 1]'),\n",
       " Text(260.8188331627431, 380.52, 'gini = 0.0\\nsamples = 1\\nvalue = [0, 1]'),\n",
       " Text(262.72262026612077, 380.52, 'gini = 0.0\\nsamples = 8\\nvalue = [8, 0]'),\n",
       " Text(270.3377686796315, 525.48, 'X[11] <= 1.724\\ngini = 0.31\\nsamples = 47\\nvalue = [38, 9]'),\n",
       " Text(269.38587512794265, 489.23999999999995, 'X[5] <= -0.418\\ngini = 0.287\\nsamples = 46\\nvalue = [38, 8]'),\n",
       " Text(268.4339815762538, 453.0, 'gini = 0.0\\nsamples = 10\\nvalue = [10, 0]'),\n",
       " Text(270.3377686796315, 453.0, 'X[11] <= 0.919\\ngini = 0.346\\nsamples = 36\\nvalue = [28, 8]'),\n",
       " Text(266.53019447287613, 416.76, 'X[6] <= -1.216\\ngini = 0.444\\nsamples = 18\\nvalue = [12, 6]'),\n",
       " Text(264.62640736949845, 380.52, 'X[7] <= 1.0\\ngini = 0.375\\nsamples = 4\\nvalue = [1, 3]'),\n",
       " Text(263.6745138178096, 344.28, 'gini = 0.0\\nsamples = 3\\nvalue = [0, 3]'),\n",
       " Text(265.5783009211873, 344.28, 'gini = 0.0\\nsamples = 1\\nvalue = [1, 0]'),\n",
       " Text(268.4339815762538, 380.52, 'X[7] <= 0.993\\ngini = 0.337\\nsamples = 14\\nvalue = [11, 3]'),\n",
       " Text(267.482088024565, 344.28, 'X[7] <= 0.759\\ngini = 0.153\\nsamples = 12\\nvalue = [11, 1]'),\n",
       " Text(266.53019447287613, 308.03999999999996, 'X[7] <= 0.74\\ngini = 0.444\\nsamples = 3\\nvalue = [2, 1]'),\n",
       " Text(265.5783009211873, 271.79999999999995, 'gini = 0.0\\nsamples = 2\\nvalue = [2, 0]'),\n",
       " Text(267.482088024565, 271.79999999999995, 'gini = 0.0\\nsamples = 1\\nvalue = [0, 1]'),\n",
       " Text(268.4339815762538, 308.03999999999996, 'gini = 0.0\\nsamples = 9\\nvalue = [9, 0]'),\n",
       " Text(269.38587512794265, 344.28, 'gini = 0.0\\nsamples = 2\\nvalue = [0, 2]'),\n",
       " Text(274.1453428863869, 416.76, 'X[3] <= 1.41\\ngini = 0.198\\nsamples = 18\\nvalue = [16, 2]'),\n",
       " Text(272.24155578300923, 380.52, 'X[11] <= 1.291\\ngini = 0.117\\nsamples = 16\\nvalue = [15, 1]'),\n",
       " Text(271.28966223132034, 344.28, 'X[5] <= -0.323\\ngini = 0.32\\nsamples = 5\\nvalue = [4, 1]'),\n",
       " Text(270.3377686796315, 308.03999999999996, 'gini = 0.0\\nsamples = 1\\nvalue = [0, 1]'),\n",
       " Text(272.24155578300923, 308.03999999999996, 'gini = 0.0\\nsamples = 4\\nvalue = [4, 0]'),\n",
       " Text(273.1934493346981, 344.28, 'gini = 0.0\\nsamples = 11\\nvalue = [11, 0]'),\n",
       " Text(276.0491299897646, 380.52, 'X[10] <= -0.026\\ngini = 0.5\\nsamples = 2\\nvalue = [1, 1]'),\n",
       " Text(275.09723643807575, 344.28, 'gini = 0.0\\nsamples = 1\\nvalue = [1, 0]'),\n",
       " Text(277.00102354145343, 344.28, 'gini = 0.0\\nsamples = 1\\nvalue = [0, 1]'),\n",
       " Text(271.28966223132034, 489.23999999999995, 'gini = 0.0\\nsamples = 1\\nvalue = [0, 1]'),\n",
       " Text(277.47697031729786, 670.44, 'X[3] <= 1.067\\ngini = 0.157\\nsamples = 93\\nvalue = [85, 8]'),\n",
       " Text(273.1934493346981, 634.2, 'X[3] <= 0.201\\ngini = 0.052\\nsamples = 75\\nvalue = [73, 2]'),\n",
       " Text(272.24155578300923, 597.96, 'gini = 0.0\\nsamples = 51\\nvalue = [51, 0]'),\n",
       " Text(274.1453428863869, 597.96, 'X[3] <= 0.263\\ngini = 0.153\\nsamples = 24\\nvalue = [22, 2]'),\n",
       " Text(273.1934493346981, 561.72, 'gini = 0.0\\nsamples = 1\\nvalue = [0, 1]'),\n",
       " Text(275.09723643807575, 561.72, 'X[7] <= 1.136\\ngini = 0.083\\nsamples = 23\\nvalue = [22, 1]'),\n",
       " Text(274.1453428863869, 525.48, 'X[7] <= 1.133\\ngini = 0.32\\nsamples = 5\\nvalue = [4, 1]'),\n",
       " Text(273.1934493346981, 489.23999999999995, 'gini = 0.0\\nsamples = 4\\nvalue = [4, 0]'),\n",
       " Text(275.09723643807575, 489.23999999999995, 'gini = 0.0\\nsamples = 1\\nvalue = [0, 1]'),\n",
       " Text(276.0491299897646, 525.48, 'gini = 0.0\\nsamples = 18\\nvalue = [18, 0]'),\n",
       " Text(281.76049129989764, 634.2, 'X[5] <= -0.656\\ngini = 0.444\\nsamples = 18\\nvalue = [12, 6]'),\n",
       " Text(280.8085977482088, 597.96, 'X[3] <= 1.83\\ngini = 0.5\\nsamples = 12\\nvalue = [6, 6]'),\n",
       " Text(278.9048106448311, 561.72, 'X[5] <= -1.036\\ngini = 0.408\\nsamples = 7\\nvalue = [2, 5]'),\n",
       " Text(277.9529170931423, 525.48, 'X[10] <= -0.026\\ngini = 0.444\\nsamples = 3\\nvalue = [2, 1]'),\n",
       " Text(277.00102354145343, 489.23999999999995, 'gini = 0.0\\nsamples = 2\\nvalue = [2, 0]'),\n",
       " Text(278.9048106448311, 489.23999999999995, 'gini = 0.0\\nsamples = 1\\nvalue = [0, 1]'),\n",
       " Text(279.85670419651996, 525.48, 'gini = 0.0\\nsamples = 4\\nvalue = [0, 4]'),\n",
       " Text(282.7123848515865, 561.72, 'X[10] <= -0.026\\ngini = 0.32\\nsamples = 5\\nvalue = [4, 1]'),\n",
       " Text(281.76049129989764, 525.48, 'gini = 0.0\\nsamples = 1\\nvalue = [0, 1]'),\n",
       " Text(283.6642784032753, 525.48, 'gini = 0.0\\nsamples = 4\\nvalue = [4, 0]'),\n",
       " Text(282.7123848515865, 597.96, 'gini = 0.0\\nsamples = 6\\nvalue = [6, 0]'),\n",
       " Text(380.2600934781218, 742.92, 'X[1] <= 0.573\\ngini = 0.424\\nsamples = 825\\nvalue = [573, 252]'),\n",
       " Text(349.58476602482085, 706.68, 'X[10] <= -0.026\\ngini = 0.373\\nsamples = 606\\nvalue = [456, 150]'),\n",
       " Text(330.7569808725691, 670.44, 'X[7] <= 1.493\\ngini = 0.442\\nsamples = 310\\nvalue = [208, 102]'),\n",
       " Text(314.07281537871035, 634.2, 'X[7] <= 0.078\\ngini = 0.423\\nsamples = 293\\nvalue = [204, 89]'),\n",
       " Text(292.6626471340839, 597.96, 'X[11] <= 1.432\\ngini = 0.485\\nsamples = 104\\nvalue = [61, 43]'),\n",
       " Text(289.3458930399181, 561.72, 'X[6] <= -0.869\\ngini = 0.472\\nsamples = 97\\nvalue = [60, 37]'),\n",
       " Text(285.568065506653, 525.48, 'X[11] <= -0.943\\ngini = 0.278\\nsamples = 18\\nvalue = [15, 3]'),\n",
       " Text(284.61617195496416, 489.23999999999995, 'X[7] <= -0.748\\ngini = 0.5\\nsamples = 6\\nvalue = [3, 3]'),\n",
       " Text(283.6642784032753, 453.0, 'gini = 0.0\\nsamples = 2\\nvalue = [0, 2]'),\n",
       " Text(285.568065506653, 453.0, 'X[6] <= -1.563\\ngini = 0.375\\nsamples = 4\\nvalue = [3, 1]'),\n",
       " Text(284.61617195496416, 416.76, 'gini = 0.0\\nsamples = 1\\nvalue = [0, 1]'),\n",
       " Text(286.51995905834184, 416.76, 'gini = 0.0\\nsamples = 3\\nvalue = [3, 0]'),\n",
       " Text(286.51995905834184, 489.23999999999995, 'gini = 0.0\\nsamples = 12\\nvalue = [12, 0]'),\n",
       " Text(293.1237205731832, 525.48, 'X[11] <= -1.296\\ngini = 0.49\\nsamples = 79\\nvalue = [45, 34]'),\n",
       " Text(288.4237461617195, 489.23999999999995, 'X[3] <= -0.194\\ngini = 0.198\\nsamples = 9\\nvalue = [8, 1]'),\n",
       " Text(287.4718526100307, 453.0, 'gini = 0.0\\nsamples = 6\\nvalue = [6, 0]'),\n",
       " Text(289.37563971340836, 453.0, 'X[4] <= -0.091\\ngini = 0.444\\nsamples = 3\\nvalue = [2, 1]'),\n",
       " Text(288.4237461617195, 416.76, 'gini = 0.0\\nsamples = 2\\nvalue = [2, 0]'),\n",
       " Text(290.3275332650972, 416.76, 'gini = 0.0\\nsamples = 1\\nvalue = [0, 1]'),\n",
       " Text(297.82369498464686, 489.23999999999995, 'X[11] <= -0.677\\ngini = 0.498\\nsamples = 70\\nvalue = [37, 33]'),\n",
       " Text(293.1832139201638, 453.0, 'X[5] <= 0.057\\ngini = 0.278\\nsamples = 12\\nvalue = [2, 10]'),\n",
       " Text(292.23132036847494, 416.76, 'X[3] <= -0.842\\ngini = 0.5\\nsamples = 4\\nvalue = [2, 2]'),\n",
       " Text(291.2794268167861, 380.52, 'gini = 0.0\\nsamples = 1\\nvalue = [0, 1]'),\n",
       " Text(293.1832139201638, 380.52, 'X[6] <= 0.346\\ngini = 0.444\\nsamples = 3\\nvalue = [2, 1]'),\n",
       " Text(292.23132036847494, 344.28, 'X[7] <= -0.037\\ngini = 0.5\\nsamples = 2\\nvalue = [1, 1]'),\n",
       " Text(291.2794268167861, 308.03999999999996, 'gini = 0.0\\nsamples = 1\\nvalue = [0, 1]'),\n",
       " Text(293.1832139201638, 308.03999999999996, 'gini = 0.0\\nsamples = 1\\nvalue = [1, 0]'),\n",
       " Text(294.1351074718526, 344.28, 'gini = 0.0\\nsamples = 1\\nvalue = [1, 0]'),\n",
       " Text(294.1351074718526, 416.76, 'gini = 0.0\\nsamples = 8\\nvalue = [0, 8]'),\n",
       " Text(302.46417604913, 453.0, 'X[3] <= -0.697\\ngini = 0.479\\nsamples = 58\\nvalue = [35, 23]'),\n",
       " Text(298.8945752302968, 416.76, 'X[6] <= 1.213\\ngini = 0.484\\nsamples = 17\\nvalue = [7, 10]'),\n",
       " Text(296.99078812691914, 380.52, 'X[11] <= -0.444\\ngini = 0.298\\nsamples = 11\\nvalue = [2, 9]'),\n",
       " Text(296.0388945752303, 344.28, 'gini = 0.0\\nsamples = 2\\nvalue = [2, 0]'),\n",
       " Text(297.942681678608, 344.28, 'gini = 0.0\\nsamples = 9\\nvalue = [0, 9]'),\n",
       " Text(300.7983623336745, 380.52, 'X[0] <= 0.001\\ngini = 0.278\\nsamples = 6\\nvalue = [5, 1]'),\n",
       " Text(299.84646878198566, 344.28, 'X[9] <= -0.446\\ngini = 0.5\\nsamples = 2\\nvalue = [1, 1]'),\n",
       " Text(298.8945752302968, 308.03999999999996, 'gini = 0.0\\nsamples = 1\\nvalue = [1, 0]'),\n",
       " Text(300.7983623336745, 308.03999999999996, 'gini = 0.0\\nsamples = 1\\nvalue = [0, 1]'),\n",
       " Text(301.75025588536334, 344.28, 'gini = 0.0\\nsamples = 4\\nvalue = [4, 0]'),\n",
       " Text(306.0337768679631, 416.76, 'X[3] <= 1.674\\ngini = 0.433\\nsamples = 41\\nvalue = [28, 13]'),\n",
       " Text(305.0818833162743, 380.52, 'X[5] <= 0.057\\ngini = 0.405\\nsamples = 39\\nvalue = [28, 11]'),\n",
       " Text(304.12998976458545, 344.28, 'gini = 0.0\\nsamples = 7\\nvalue = [7, 0]'),\n",
       " Text(306.0337768679631, 344.28, 'X[3] <= -0.214\\ngini = 0.451\\nsamples = 32\\nvalue = [21, 11]'),\n",
       " Text(302.7021494370522, 308.03999999999996, 'X[6] <= 1.213\\ngini = 0.18\\nsamples = 10\\nvalue = [9, 1]'),\n",
       " Text(301.75025588536334, 271.79999999999995, 'gini = 0.0\\nsamples = 8\\nvalue = [8, 0]'),\n",
       " Text(303.654042988741, 271.79999999999995, 'X[9] <= -0.446\\ngini = 0.5\\nsamples = 2\\nvalue = [1, 1]'),\n",
       " Text(302.7021494370522, 235.55999999999995, 'gini = 0.0\\nsamples = 1\\nvalue = [1, 0]'),\n",
       " Text(304.60593654042987, 235.55999999999995, 'gini = 0.0\\nsamples = 1\\nvalue = [0, 1]'),\n",
       " Text(309.3654042988741, 308.03999999999996, 'X[6] <= 0.172\\ngini = 0.496\\nsamples = 22\\nvalue = [12, 10]'),\n",
       " Text(307.4616171954964, 271.79999999999995, 'X[11] <= -0.381\\ngini = 0.42\\nsamples = 10\\nvalue = [3, 7]'),\n",
       " Text(306.50972364380755, 235.55999999999995, 'gini = 0.0\\nsamples = 2\\nvalue = [2, 0]'),\n",
       " Text(308.4135107471852, 235.55999999999995, 'X[3] <= 1.28\\ngini = 0.219\\nsamples = 8\\nvalue = [1, 7]'),\n",
       " Text(307.4616171954964, 199.31999999999994, 'gini = 0.0\\nsamples = 7\\nvalue = [0, 7]'),\n",
       " Text(309.3654042988741, 199.31999999999994, 'gini = 0.0\\nsamples = 1\\nvalue = [1, 0]'),\n",
       " Text(311.2691914022518, 271.79999999999995, 'X[11] <= -0.34\\ngini = 0.375\\nsamples = 12\\nvalue = [9, 3]'),\n",
       " Text(310.31729785056297, 235.55999999999995, 'gini = 0.0\\nsamples = 1\\nvalue = [0, 1]'),\n",
       " Text(312.22108495394065, 235.55999999999995, 'X[11] <= 0.874\\ngini = 0.298\\nsamples = 11\\nvalue = [9, 2]'),\n",
       " Text(311.2691914022518, 199.31999999999994, 'gini = 0.0\\nsamples = 7\\nvalue = [7, 0]'),\n",
       " Text(313.1729785056295, 199.31999999999994, 'X[11] <= 1.129\\ngini = 0.5\\nsamples = 4\\nvalue = [2, 2]'),\n",
       " Text(312.22108495394065, 163.07999999999993, 'gini = 0.0\\nsamples = 2\\nvalue = [0, 2]'),\n",
       " Text(314.1248720573183, 163.07999999999993, 'gini = 0.0\\nsamples = 2\\nvalue = [2, 0]'),\n",
       " Text(306.98567041965197, 380.52, 'gini = 0.0\\nsamples = 2\\nvalue = [0, 2]'),\n",
       " Text(295.97940122824974, 561.72, 'X[3] <= -0.837\\ngini = 0.245\\nsamples = 7\\nvalue = [1, 6]'),\n",
       " Text(295.0275076765609, 525.48, 'gini = 0.0\\nsamples = 1\\nvalue = [1, 0]'),\n",
       " Text(296.9312947799386, 525.48, 'gini = 0.0\\nsamples = 6\\nvalue = [0, 6]'),\n",
       " Text(335.48298362333674, 597.96, 'X[3] <= -2.253\\ngini = 0.368\\nsamples = 189\\nvalue = [143, 46]'),\n",
       " Text(334.5310900716479, 561.72, 'gini = 0.0\\nsamples = 3\\nvalue = [0, 3]'),\n",
       " Text(336.4348771750256, 561.72, 'X[3] <= 1.519\\ngini = 0.355\\nsamples = 186\\nvalue = [143, 43]'),\n",
       " Text(328.2842886386899, 525.48, 'X[3] <= -0.214\\ngini = 0.332\\nsamples = 176\\nvalue = [139, 37]'),\n",
       " Text(319.83623336745137, 489.23999999999995, 'X[5] <= 0.247\\ngini = 0.415\\nsamples = 75\\nvalue = [53, 22]'),\n",
       " Text(316.028659160696, 453.0, 'X[3] <= -0.23\\ngini = 0.316\\nsamples = 56\\nvalue = [45, 11]'),\n",
       " Text(315.07676560900717, 416.76, 'X[11] <= 0.471\\ngini = 0.278\\nsamples = 54\\nvalue = [45, 9]'),\n",
       " Text(313.1729785056295, 380.52, 'X[3] <= -1.444\\ngini = 0.067\\nsamples = 29\\nvalue = [28, 1]'),\n",
       " Text(312.22108495394065, 344.28, 'X[9] <= -0.446\\ngini = 0.444\\nsamples = 3\\nvalue = [2, 1]'),\n",
       " Text(311.2691914022518, 308.03999999999996, 'gini = 0.0\\nsamples = 2\\nvalue = [2, 0]'),\n",
       " Text(313.1729785056295, 308.03999999999996, 'gini = 0.0\\nsamples = 1\\nvalue = [0, 1]'),\n",
       " Text(314.1248720573183, 344.28, 'gini = 0.0\\nsamples = 26\\nvalue = [26, 0]'),\n",
       " Text(316.98055271238485, 380.52, 'X[5] <= 0.057\\ngini = 0.435\\nsamples = 25\\nvalue = [17, 8]'),\n",
       " Text(316.028659160696, 344.28, 'gini = 0.0\\nsamples = 5\\nvalue = [5, 0]'),\n",
       " Text(317.9324462640737, 344.28, 'X[6] <= -0.175\\ngini = 0.48\\nsamples = 20\\nvalue = [12, 8]'),\n",
       " Text(316.028659160696, 308.03999999999996, 'X[7] <= 0.606\\ngini = 0.469\\nsamples = 8\\nvalue = [3, 5]'),\n",
       " Text(315.07676560900717, 271.79999999999995, 'gini = 0.0\\nsamples = 4\\nvalue = [0, 4]'),\n",
       " Text(316.98055271238485, 271.79999999999995, 'X[11] <= 0.961\\ngini = 0.375\\nsamples = 4\\nvalue = [3, 1]'),\n",
       " Text(316.028659160696, 235.55999999999995, 'gini = 0.0\\nsamples = 2\\nvalue = [2, 0]'),\n",
       " Text(317.9324462640737, 235.55999999999995, 'X[6] <= -0.869\\ngini = 0.5\\nsamples = 2\\nvalue = [1, 1]'),\n",
       " Text(316.98055271238485, 199.31999999999994, 'gini = 0.0\\nsamples = 1\\nvalue = [1, 0]'),\n",
       " Text(318.88433981576253, 199.31999999999994, 'gini = 0.0\\nsamples = 1\\nvalue = [0, 1]'),\n",
       " Text(319.83623336745137, 308.03999999999996, 'X[7] <= 0.905\\ngini = 0.375\\nsamples = 12\\nvalue = [9, 3]'),\n",
       " Text(318.88433981576253, 271.79999999999995, 'gini = 0.0\\nsamples = 8\\nvalue = [8, 0]'),\n",
       " Text(320.7881269191402, 271.79999999999995, 'X[11] <= 1.442\\ngini = 0.375\\nsamples = 4\\nvalue = [1, 3]'),\n",
       " Text(319.83623336745137, 235.55999999999995, 'gini = 0.0\\nsamples = 3\\nvalue = [0, 3]'),\n",
       " Text(321.74002047082905, 235.55999999999995, 'gini = 0.0\\nsamples = 1\\nvalue = [1, 0]'),\n",
       " Text(316.98055271238485, 416.76, 'gini = 0.0\\nsamples = 2\\nvalue = [0, 2]'),\n",
       " Text(323.64380757420673, 453.0, 'X[11] <= -0.286\\ngini = 0.488\\nsamples = 19\\nvalue = [8, 11]'),\n",
       " Text(321.74002047082905, 416.76, 'X[6] <= 1.387\\ngini = 0.298\\nsamples = 11\\nvalue = [2, 9]'),\n",
       " Text(320.7881269191402, 380.52, 'X[3] <= -0.282\\ngini = 0.18\\nsamples = 10\\nvalue = [1, 9]'),\n",
       " Text(319.83623336745137, 344.28, 'gini = 0.0\\nsamples = 9\\nvalue = [0, 9]'),\n",
       " Text(321.74002047082905, 344.28, 'gini = 0.0\\nsamples = 1\\nvalue = [1, 0]'),\n",
       " Text(322.6919140225179, 380.52, 'gini = 0.0\\nsamples = 1\\nvalue = [1, 0]'),\n",
       " Text(325.5475946775844, 416.76, 'X[7] <= 0.317\\ngini = 0.375\\nsamples = 8\\nvalue = [6, 2]'),\n",
       " Text(324.5957011258956, 380.52, 'gini = 0.0\\nsamples = 1\\nvalue = [0, 1]'),\n",
       " Text(326.49948822927325, 380.52, 'X[6] <= -1.216\\ngini = 0.245\\nsamples = 7\\nvalue = [6, 1]'),\n",
       " Text(325.5475946775844, 344.28, 'gini = 0.0\\nsamples = 1\\nvalue = [0, 1]'),\n",
       " Text(327.4513817809621, 344.28, 'gini = 0.0\\nsamples = 6\\nvalue = [6, 0]'),\n",
       " Text(336.7323439099283, 489.23999999999995, 'X[7] <= 1.15\\ngini = 0.253\\nsamples = 101\\nvalue = [86, 15]'),\n",
       " Text(335.7804503582395, 453.0, 'X[7] <= 1.143\\ngini = 0.291\\nsamples = 85\\nvalue = [70, 15]'),\n",
       " Text(334.82855680655064, 416.76, 'X[7] <= 0.835\\ngini = 0.278\\nsamples = 84\\nvalue = [70, 14]'),\n",
       " Text(330.7830092118731, 380.52, 'X[7] <= 0.537\\ngini = 0.219\\nsamples = 56\\nvalue = [49, 7]'),\n",
       " Text(329.83111566018425, 344.28, 'X[7] <= 0.533\\ngini = 0.32\\nsamples = 35\\nvalue = [28, 7]'),\n",
       " Text(328.8792221084954, 308.03999999999996, 'X[7] <= 0.437\\ngini = 0.291\\nsamples = 34\\nvalue = [28, 6]'),\n",
       " Text(325.5475946775844, 271.79999999999995, 'X[5] <= 0.438\\ngini = 0.211\\nsamples = 25\\nvalue = [22, 3]'),\n",
       " Text(323.64380757420673, 235.55999999999995, 'X[3] <= 0.123\\ngini = 0.091\\nsamples = 21\\nvalue = [20, 1]'),\n",
       " Text(322.6919140225179, 199.31999999999994, 'X[2] <= 0.579\\ngini = 0.444\\nsamples = 3\\nvalue = [2, 1]'),\n",
       " Text(321.74002047082905, 163.07999999999993, 'gini = 0.0\\nsamples = 2\\nvalue = [2, 0]'),\n",
       " Text(323.64380757420673, 163.07999999999993, 'gini = 0.0\\nsamples = 1\\nvalue = [0, 1]'),\n",
       " Text(324.5957011258956, 199.31999999999994, 'gini = 0.0\\nsamples = 18\\nvalue = [18, 0]'),\n",
       " Text(327.4513817809621, 235.55999999999995, 'X[4] <= -0.091\\ngini = 0.5\\nsamples = 4\\nvalue = [2, 2]'),\n",
       " Text(326.49948822927325, 199.31999999999994, 'gini = 0.0\\nsamples = 1\\nvalue = [0, 1]'),\n",
       " Text(328.403275332651, 199.31999999999994, 'X[11] <= 1.373\\ngini = 0.444\\nsamples = 3\\nvalue = [2, 1]'),\n",
       " Text(327.4513817809621, 163.07999999999993, 'gini = 0.0\\nsamples = 2\\nvalue = [2, 0]'),\n",
       " Text(329.35516888433983, 163.07999999999993, 'gini = 0.0\\nsamples = 1\\nvalue = [0, 1]'),\n",
       " Text(332.21084953940635, 271.79999999999995, 'X[7] <= 0.461\\ngini = 0.444\\nsamples = 9\\nvalue = [6, 3]'),\n",
       " Text(331.2589559877175, 235.55999999999995, 'X[5] <= 0.057\\ngini = 0.375\\nsamples = 4\\nvalue = [1, 3]'),\n",
       " Text(330.3070624360287, 199.31999999999994, 'gini = 0.0\\nsamples = 1\\nvalue = [1, 0]'),\n",
       " Text(332.21084953940635, 199.31999999999994, 'gini = 0.0\\nsamples = 3\\nvalue = [0, 3]'),\n",
       " Text(333.1627430910952, 235.55999999999995, 'gini = 0.0\\nsamples = 5\\nvalue = [5, 0]'),\n",
       " Text(330.7830092118731, 308.03999999999996, 'gini = 0.0\\nsamples = 1\\nvalue = [0, 1]'),\n",
       " Text(331.73490276356193, 344.28, 'gini = 0.0\\nsamples = 21\\nvalue = [21, 0]'),\n",
       " Text(338.87410440122824, 380.52, 'X[3] <= 0.6\\ngini = 0.375\\nsamples = 28\\nvalue = [21, 7]'),\n",
       " Text(336.0184237461617, 344.28, 'X[3] <= -0.168\\ngini = 0.245\\nsamples = 21\\nvalue = [18, 3]'),\n",
       " Text(335.0665301944729, 308.03999999999996, 'gini = 0.0\\nsamples = 1\\nvalue = [0, 1]'),\n",
       " Text(336.97031729785056, 308.03999999999996, 'X[7] <= 0.919\\ngini = 0.18\\nsamples = 20\\nvalue = [18, 2]'),\n",
       " Text(336.0184237461617, 271.79999999999995, 'X[6] <= -1.042\\ngini = 0.408\\nsamples = 7\\nvalue = [5, 2]'),\n",
       " Text(335.0665301944729, 235.55999999999995, 'gini = 0.0\\nsamples = 1\\nvalue = [0, 1]'),\n",
       " Text(336.97031729785056, 235.55999999999995, 'X[3] <= -0.116\\ngini = 0.278\\nsamples = 6\\nvalue = [5, 1]'),\n",
       " Text(336.0184237461617, 199.31999999999994, 'gini = 0.0\\nsamples = 1\\nvalue = [0, 1]'),\n",
       " Text(337.9222108495394, 199.31999999999994, 'gini = 0.0\\nsamples = 5\\nvalue = [5, 0]'),\n",
       " Text(337.9222108495394, 271.79999999999995, 'gini = 0.0\\nsamples = 13\\nvalue = [13, 0]'),\n",
       " Text(341.72978505629476, 344.28, 'X[11] <= 0.573\\ngini = 0.49\\nsamples = 7\\nvalue = [3, 4]'),\n",
       " Text(340.7778915046059, 308.03999999999996, 'X[7] <= 0.878\\ngini = 0.375\\nsamples = 4\\nvalue = [3, 1]'),\n",
       " Text(339.8259979529171, 271.79999999999995, 'gini = 0.0\\nsamples = 1\\nvalue = [0, 1]'),\n",
       " Text(341.72978505629476, 271.79999999999995, 'gini = 0.0\\nsamples = 3\\nvalue = [3, 0]'),\n",
       " Text(342.6816786079836, 308.03999999999996, 'gini = 0.0\\nsamples = 3\\nvalue = [0, 3]'),\n",
       " Text(336.7323439099283, 416.76, 'gini = 0.0\\nsamples = 1\\nvalue = [0, 1]'),\n",
       " Text(337.6842374616172, 453.0, 'gini = 0.0\\nsamples = 16\\nvalue = [16, 0]'),\n",
       " Text(344.5854657113613, 525.48, 'X[11] <= 0.081\\ngini = 0.48\\nsamples = 10\\nvalue = [4, 6]'),\n",
       " Text(343.63357215967244, 489.23999999999995, 'X[7] <= 1.43\\ngini = 0.375\\nsamples = 8\\nvalue = [2, 6]'),\n",
       " Text(342.6816786079836, 453.0, 'X[7] <= 0.324\\ngini = 0.245\\nsamples = 7\\nvalue = [1, 6]'),\n",
       " Text(341.72978505629476, 416.76, 'X[6] <= -0.348\\ngini = 0.5\\nsamples = 2\\nvalue = [1, 1]'),\n",
       " Text(340.7778915046059, 380.52, 'gini = 0.0\\nsamples = 1\\nvalue = [1, 0]'),\n",
       " Text(342.6816786079836, 380.52, 'gini = 0.0\\nsamples = 1\\nvalue = [0, 1]'),\n",
       " Text(343.63357215967244, 416.76, 'gini = 0.0\\nsamples = 5\\nvalue = [0, 5]'),\n",
       " Text(344.5854657113613, 453.0, 'gini = 0.0\\nsamples = 1\\nvalue = [1, 0]'),\n",
       " Text(345.5373592630501, 489.23999999999995, 'gini = 0.0\\nsamples = 2\\nvalue = [2, 0]'),\n",
       " Text(347.44114636642786, 634.2, 'X[3] <= -1.153\\ngini = 0.36\\nsamples = 17\\nvalue = [4, 13]'),\n",
       " Text(346.48925281473896, 597.96, 'gini = 0.0\\nsamples = 2\\nvalue = [2, 0]'),\n",
       " Text(348.3930399181167, 597.96, 'X[5] <= 0.342\\ngini = 0.231\\nsamples = 15\\nvalue = [2, 13]'),\n",
       " Text(347.44114636642786, 561.72, 'gini = 0.0\\nsamples = 9\\nvalue = [0, 9]'),\n",
       " Text(349.34493346980554, 561.72, 'X[6] <= 0.866\\ngini = 0.444\\nsamples = 6\\nvalue = [2, 4]'),\n",
       " Text(348.3930399181167, 525.48, 'X[6] <= -1.216\\ngini = 0.444\\nsamples = 3\\nvalue = [2, 1]'),\n",
       " Text(347.44114636642786, 489.23999999999995, 'gini = 0.0\\nsamples = 1\\nvalue = [0, 1]'),\n",
       " Text(349.34493346980554, 489.23999999999995, 'gini = 0.0\\nsamples = 2\\nvalue = [2, 0]'),\n",
       " Text(350.2968270214944, 525.48, 'gini = 0.0\\nsamples = 3\\nvalue = [0, 3]'),\n",
       " Text(368.41255117707266, 670.44, 'X[11] <= 0.116\\ngini = 0.272\\nsamples = 296\\nvalue = [248, 48]'),\n",
       " Text(357.97146878198566, 634.2, 'X[6] <= -1.563\\ngini = 0.196\\nsamples = 163\\nvalue = [145, 18]'),\n",
       " Text(353.8664278403275, 597.96, 'X[3] <= -0.214\\ngini = 0.469\\nsamples = 8\\nvalue = [5, 3]'),\n",
       " Text(352.91453428863866, 561.72, 'gini = 0.0\\nsamples = 3\\nvalue = [0, 3]'),\n",
       " Text(354.81832139201634, 561.72, 'gini = 0.0\\nsamples = 5\\nvalue = [5, 0]'),\n",
       " Text(362.0765097236438, 597.96, 'X[2] <= 0.579\\ngini = 0.175\\nsamples = 155\\nvalue = [140, 15]'),\n",
       " Text(356.7221084953941, 561.72, 'X[11] <= -0.703\\ngini = 0.239\\nsamples = 101\\nvalue = [87, 14]'),\n",
       " Text(352.20061412487206, 525.48, 'X[3] <= -1.828\\ngini = 0.311\\nsamples = 52\\nvalue = [42, 10]'),\n",
       " Text(351.2487205731832, 489.23999999999995, 'gini = 0.0\\nsamples = 1\\nvalue = [0, 1]'),\n",
       " Text(353.1525076765609, 489.23999999999995, 'X[11] <= -0.723\\ngini = 0.291\\nsamples = 51\\nvalue = [42, 9]'),\n",
       " Text(352.20061412487206, 453.0, 'X[6] <= -0.175\\ngini = 0.269\\nsamples = 50\\nvalue = [42, 8]'),\n",
       " Text(350.2968270214944, 416.76, 'X[3] <= 0.445\\ngini = 0.415\\nsamples = 17\\nvalue = [12, 5]'),\n",
       " Text(349.34493346980554, 380.52, 'X[6] <= -1.216\\ngini = 0.496\\nsamples = 11\\nvalue = [6, 5]'),\n",
       " Text(348.3930399181167, 344.28, 'gini = 0.0\\nsamples = 4\\nvalue = [4, 0]'),\n",
       " Text(350.2968270214944, 344.28, 'X[3] <= -0.64\\ngini = 0.408\\nsamples = 7\\nvalue = [2, 5]'),\n",
       " Text(349.34493346980554, 308.03999999999996, 'gini = 0.0\\nsamples = 1\\nvalue = [1, 0]'),\n",
       " Text(351.2487205731832, 308.03999999999996, 'X[11] <= -1.577\\ngini = 0.278\\nsamples = 6\\nvalue = [1, 5]'),\n",
       " Text(350.2968270214944, 271.79999999999995, 'gini = 0.0\\nsamples = 1\\nvalue = [1, 0]'),\n",
       " Text(352.20061412487206, 271.79999999999995, 'gini = 0.0\\nsamples = 5\\nvalue = [0, 5]'),\n",
       " Text(351.2487205731832, 380.52, 'gini = 0.0\\nsamples = 6\\nvalue = [6, 0]'),\n",
       " Text(354.10440122824974, 416.76, 'X[11] <= -1.387\\ngini = 0.165\\nsamples = 33\\nvalue = [30, 3]'),\n",
       " Text(353.1525076765609, 380.52, 'X[11] <= -1.554\\ngini = 0.397\\nsamples = 11\\nvalue = [8, 3]'),\n",
       " Text(352.20061412487206, 344.28, 'gini = 0.0\\nsamples = 5\\nvalue = [5, 0]'),\n",
       " Text(354.10440122824974, 344.28, 'X[6] <= 0.172\\ngini = 0.5\\nsamples = 6\\nvalue = [3, 3]'),\n",
       " Text(353.1525076765609, 308.03999999999996, 'gini = 0.0\\nsamples = 2\\nvalue = [2, 0]'),\n",
       " Text(355.0562947799386, 308.03999999999996, 'X[7] <= 1.182\\ngini = 0.375\\nsamples = 4\\nvalue = [1, 3]'),\n",
       " Text(354.10440122824974, 271.79999999999995, 'gini = 0.0\\nsamples = 3\\nvalue = [0, 3]'),\n",
       " Text(356.0081883316274, 271.79999999999995, 'gini = 0.0\\nsamples = 1\\nvalue = [1, 0]'),\n",
       " Text(355.0562947799386, 380.52, 'gini = 0.0\\nsamples = 22\\nvalue = [22, 0]'),\n",
       " Text(354.10440122824974, 453.0, 'gini = 0.0\\nsamples = 1\\nvalue = [0, 1]'),\n",
       " Text(361.24360286591605, 525.48, 'X[9] <= -0.446\\ngini = 0.15\\nsamples = 49\\nvalue = [45, 4]'),\n",
       " Text(358.86386898669394, 489.23999999999995, 'X[3] <= 0.839\\ngini = 0.337\\nsamples = 14\\nvalue = [11, 3]'),\n",
       " Text(356.96008188331626, 453.0, 'X[5] <= 0.057\\ngini = 0.18\\nsamples = 10\\nvalue = [9, 1]'),\n",
       " Text(356.0081883316274, 416.76, 'gini = 0.0\\nsamples = 1\\nvalue = [0, 1]'),\n",
       " Text(357.9119754350051, 416.76, 'gini = 0.0\\nsamples = 9\\nvalue = [9, 0]'),\n",
       " Text(360.7676560900716, 453.0, 'X[3] <= 0.995\\ngini = 0.5\\nsamples = 4\\nvalue = [2, 2]'),\n",
       " Text(359.8157625383828, 416.76, 'gini = 0.0\\nsamples = 2\\nvalue = [0, 2]'),\n",
       " Text(361.71954964176047, 416.76, 'gini = 0.0\\nsamples = 2\\nvalue = [2, 0]'),\n",
       " Text(363.62333674513815, 489.23999999999995, 'X[7] <= 0.981\\ngini = 0.056\\nsamples = 35\\nvalue = [34, 1]'),\n",
       " Text(362.6714431934493, 453.0, 'gini = 0.0\\nsamples = 29\\nvalue = [29, 0]'),\n",
       " Text(364.575230296827, 453.0, 'X[7] <= 1.015\\ngini = 0.278\\nsamples = 6\\nvalue = [5, 1]'),\n",
       " Text(363.62333674513815, 416.76, 'gini = 0.0\\nsamples = 1\\nvalue = [0, 1]'),\n",
       " Text(365.5271238485159, 416.76, 'gini = 0.0\\nsamples = 5\\nvalue = [5, 0]'),\n",
       " Text(367.43091095189357, 561.72, 'X[6] <= -1.216\\ngini = 0.036\\nsamples = 54\\nvalue = [53, 1]'),\n",
       " Text(366.4790174002047, 525.48, 'X[7] <= -0.551\\ngini = 0.375\\nsamples = 4\\nvalue = [3, 1]'),\n",
       " Text(365.5271238485159, 489.23999999999995, 'gini = 0.0\\nsamples = 1\\nvalue = [0, 1]'),\n",
       " Text(367.43091095189357, 489.23999999999995, 'gini = 0.0\\nsamples = 3\\nvalue = [3, 0]'),\n",
       " Text(368.3828045035824, 525.48, 'gini = 0.0\\nsamples = 50\\nvalue = [50, 0]'),\n",
       " Text(378.85363357215965, 634.2, 'X[7] <= 0.421\\ngini = 0.349\\nsamples = 133\\nvalue = [103, 30]'),\n",
       " Text(374.57011258955987, 597.96, 'X[11] <= 1.368\\ngini = 0.441\\nsamples = 64\\nvalue = [43, 21]'),\n",
       " Text(373.61821903787103, 561.72, 'X[11] <= 0.29\\ngini = 0.475\\nsamples = 54\\nvalue = [33, 21]'),\n",
       " Text(371.2384851586489, 525.48, 'X[3] <= -0.391\\ngini = 0.463\\nsamples = 11\\nvalue = [4, 7]'),\n",
       " Text(369.33469805527125, 489.23999999999995, 'X[3] <= -1.262\\ngini = 0.375\\nsamples = 4\\nvalue = [3, 1]'),\n",
       " Text(368.3828045035824, 453.0, 'gini = 0.0\\nsamples = 1\\nvalue = [0, 1]'),\n",
       " Text(370.2865916069601, 453.0, 'gini = 0.0\\nsamples = 3\\nvalue = [3, 0]'),\n",
       " Text(373.1422722620266, 489.23999999999995, 'X[3] <= 0.974\\ngini = 0.245\\nsamples = 7\\nvalue = [1, 6]'),\n",
       " Text(372.19037871033777, 453.0, 'gini = 0.0\\nsamples = 6\\nvalue = [0, 6]'),\n",
       " Text(374.09416581371545, 453.0, 'gini = 0.0\\nsamples = 1\\nvalue = [1, 0]'),\n",
       " Text(375.99795291709313, 525.48, 'X[11] <= 0.618\\ngini = 0.439\\nsamples = 43\\nvalue = [29, 14]'),\n",
       " Text(375.0460593654043, 489.23999999999995, 'gini = 0.0\\nsamples = 11\\nvalue = [11, 0]'),\n",
       " Text(376.94984646878197, 489.23999999999995, 'X[6] <= 1.56\\ngini = 0.492\\nsamples = 32\\nvalue = [18, 14]'),\n",
       " Text(375.99795291709313, 453.0, 'X[7] <= 0.077\\ngini = 0.471\\nsamples = 29\\nvalue = [18, 11]'),\n",
       " Text(372.6663254861822, 416.76, 'X[11] <= 1.199\\ngini = 0.375\\nsamples = 20\\nvalue = [15, 5]'),\n",
       " Text(370.7625383828045, 380.52, 'X[11] <= 0.948\\ngini = 0.291\\nsamples = 17\\nvalue = [14, 3]'),\n",
       " Text(369.81064483111567, 344.28, 'X[9] <= -0.446\\ngini = 0.397\\nsamples = 11\\nvalue = [8, 3]'),\n",
       " Text(368.8587512794268, 308.03999999999996, 'gini = 0.0\\nsamples = 1\\nvalue = [0, 1]'),\n",
       " Text(370.7625383828045, 308.03999999999996, 'X[3] <= 0.263\\ngini = 0.32\\nsamples = 10\\nvalue = [8, 2]'),\n",
       " Text(369.81064483111567, 271.79999999999995, 'X[11] <= 0.757\\ngini = 0.444\\nsamples = 6\\nvalue = [4, 2]'),\n",
       " Text(368.8587512794268, 235.55999999999995, 'gini = 0.0\\nsamples = 1\\nvalue = [0, 1]'),\n",
       " Text(370.7625383828045, 235.55999999999995, 'X[7] <= -0.839\\ngini = 0.32\\nsamples = 5\\nvalue = [4, 1]'),\n",
       " Text(369.81064483111567, 199.31999999999994, 'gini = 0.0\\nsamples = 4\\nvalue = [4, 0]'),\n",
       " Text(371.71443193449335, 199.31999999999994, 'gini = 0.0\\nsamples = 1\\nvalue = [0, 1]'),\n",
       " Text(371.71443193449335, 271.79999999999995, 'gini = 0.0\\nsamples = 4\\nvalue = [4, 0]'),\n",
       " Text(371.71443193449335, 344.28, 'gini = 0.0\\nsamples = 6\\nvalue = [6, 0]'),\n",
       " Text(374.57011258955987, 380.52, 'X[11] <= 1.307\\ngini = 0.444\\nsamples = 3\\nvalue = [1, 2]'),\n",
       " Text(373.61821903787103, 344.28, 'gini = 0.0\\nsamples = 2\\nvalue = [0, 2]'),\n",
       " Text(375.5220061412487, 344.28, 'gini = 0.0\\nsamples = 1\\nvalue = [1, 0]'),\n",
       " Text(379.3295803480041, 416.76, 'X[6] <= -1.042\\ngini = 0.444\\nsamples = 9\\nvalue = [3, 6]'),\n",
       " Text(378.37768679631523, 380.52, 'X[11] <= 0.692\\ngini = 0.375\\nsamples = 4\\nvalue = [3, 1]'),\n",
       " Text(377.4257932446264, 344.28, 'gini = 0.0\\nsamples = 1\\nvalue = [0, 1]'),\n",
       " Text(379.3295803480041, 344.28, 'gini = 0.0\\nsamples = 3\\nvalue = [3, 0]'),\n",
       " Text(380.2814738996929, 380.52, 'gini = 0.0\\nsamples = 5\\nvalue = [0, 5]'),\n",
       " Text(377.9017400204708, 453.0, 'gini = 0.0\\nsamples = 3\\nvalue = [0, 3]'),\n",
       " Text(375.5220061412487, 561.72, 'gini = 0.0\\nsamples = 10\\nvalue = [10, 0]'),\n",
       " Text(383.13715455475943, 597.96, 'X[3] <= -1.657\\ngini = 0.227\\nsamples = 69\\nvalue = [60, 9]'),\n",
       " Text(382.1852610030706, 561.72, 'gini = 0.0\\nsamples = 2\\nvalue = [0, 2]'),\n",
       " Text(384.0890481064483, 561.72, 'X[7] <= 1.465\\ngini = 0.187\\nsamples = 67\\nvalue = [60, 7]'),\n",
       " Text(382.1852610030706, 525.48, 'X[7] <= 1.03\\ngini = 0.123\\nsamples = 61\\nvalue = [57, 4]'),\n",
       " Text(381.23336745138175, 489.23999999999995, 'gini = 0.0\\nsamples = 39\\nvalue = [39, 0]'),\n",
       " Text(383.13715455475943, 489.23999999999995, 'X[7] <= 1.131\\ngini = 0.298\\nsamples = 22\\nvalue = [18, 4]'),\n",
       " Text(382.1852610030706, 453.0, 'X[11] <= 1.022\\ngini = 0.49\\nsamples = 7\\nvalue = [3, 4]'),\n",
       " Text(381.23336745138175, 416.76, 'gini = 0.0\\nsamples = 3\\nvalue = [0, 3]'),\n",
       " Text(383.13715455475943, 416.76, 'X[6] <= -0.522\\ngini = 0.375\\nsamples = 4\\nvalue = [3, 1]'),\n",
       " Text(382.1852610030706, 380.52, 'gini = 0.0\\nsamples = 1\\nvalue = [0, 1]'),\n",
       " Text(384.0890481064483, 380.52, 'gini = 0.0\\nsamples = 3\\nvalue = [3, 0]'),\n",
       " Text(384.0890481064483, 453.0, 'gini = 0.0\\nsamples = 15\\nvalue = [15, 0]'),\n",
       " Text(385.992835209826, 525.48, 'X[7] <= 1.541\\ngini = 0.5\\nsamples = 6\\nvalue = [3, 3]'),\n",
       " Text(385.04094165813717, 489.23999999999995, 'gini = 0.0\\nsamples = 3\\nvalue = [0, 3]'),\n",
       " Text(386.94472876151485, 489.23999999999995, 'gini = 0.0\\nsamples = 3\\nvalue = [3, 0]'),\n",
       " Text(410.9354209314227, 706.68, 'X[7] <= 0.266\\ngini = 0.498\\nsamples = 219\\nvalue = [117, 102]'),\n",
       " Text(394.5598771750256, 670.44, 'X[11] <= 1.705\\ngini = 0.142\\nsamples = 26\\nvalue = [24, 2]'),\n",
       " Text(393.60798362333674, 634.2, 'X[7] <= 0.24\\ngini = 0.077\\nsamples = 25\\nvalue = [24, 1]'),\n",
       " Text(392.6560900716479, 597.96, 'gini = 0.0\\nsamples = 21\\nvalue = [21, 0]'),\n",
       " Text(394.5598771750256, 597.96, 'X[11] <= 0.798\\ngini = 0.375\\nsamples = 4\\nvalue = [3, 1]'),\n",
       " Text(393.60798362333674, 561.72, 'gini = 0.0\\nsamples = 3\\nvalue = [3, 0]'),\n",
       " Text(395.5117707267144, 561.72, 'gini = 0.0\\nsamples = 1\\nvalue = [0, 1]'),\n",
       " Text(395.5117707267144, 634.2, 'gini = 0.0\\nsamples = 1\\nvalue = [0, 1]'),\n",
       " Text(427.3109646878198, 670.44, 'X[7] <= 1.217\\ngini = 0.499\\nsamples = 193\\nvalue = [93, 100]'),\n",
       " Text(419.13062947799386, 634.2, 'X[3] <= 1.176\\ngini = 0.491\\nsamples = 173\\nvalue = [75, 98]'),\n",
       " Text(407.52942681678604, 597.96, 'X[11] <= -0.485\\ngini = 0.478\\nsamples = 157\\nvalue = [62, 95]'),\n",
       " Text(397.4155578300921, 561.72, 'X[11] <= -1.282\\ngini = 0.394\\nsamples = 63\\nvalue = [17, 46]'),\n",
       " Text(393.60798362333674, 525.48, 'X[9] <= -0.446\\ngini = 0.487\\nsamples = 31\\nvalue = [13, 18]'),\n",
       " Text(389.8004094165814, 489.23999999999995, 'X[6] <= 1.387\\ngini = 0.444\\nsamples = 12\\nvalue = [8, 4]'),\n",
       " Text(388.84851586489253, 453.0, 'X[7] <= 0.549\\ngini = 0.397\\nsamples = 11\\nvalue = [8, 3]'),\n",
       " Text(386.94472876151485, 416.76, 'X[10] <= -0.026\\ngini = 0.444\\nsamples = 3\\nvalue = [1, 2]'),\n",
       " Text(385.992835209826, 380.52, 'gini = 0.0\\nsamples = 1\\nvalue = [1, 0]'),\n",
       " Text(387.8966223132037, 380.52, 'gini = 0.0\\nsamples = 2\\nvalue = [0, 2]'),\n",
       " Text(390.7523029682702, 416.76, 'X[3] <= -1.019\\ngini = 0.219\\nsamples = 8\\nvalue = [7, 1]'),\n",
       " Text(389.8004094165814, 380.52, 'X[7] <= 0.769\\ngini = 0.5\\nsamples = 2\\nvalue = [1, 1]'),\n",
       " Text(388.84851586489253, 344.28, 'gini = 0.0\\nsamples = 1\\nvalue = [1, 0]'),\n",
       " Text(390.7523029682702, 344.28, 'gini = 0.0\\nsamples = 1\\nvalue = [0, 1]'),\n",
       " Text(391.70419651995905, 380.52, 'gini = 0.0\\nsamples = 6\\nvalue = [6, 0]'),\n",
       " Text(390.7523029682702, 453.0, 'gini = 0.0\\nsamples = 1\\nvalue = [0, 1]'),\n",
       " Text(397.4155578300921, 489.23999999999995, 'X[7] <= 0.987\\ngini = 0.388\\nsamples = 19\\nvalue = [5, 14]'),\n",
       " Text(396.46366427840326, 453.0, 'X[7] <= 0.907\\ngini = 0.459\\nsamples = 14\\nvalue = [5, 9]'),\n",
       " Text(395.5117707267144, 416.76, 'X[5] <= 0.057\\ngini = 0.375\\nsamples = 12\\nvalue = [3, 9]'),\n",
       " Text(393.60798362333674, 380.52, 'X[11] <= -1.52\\ngini = 0.444\\nsamples = 3\\nvalue = [2, 1]'),\n",
       " Text(392.6560900716479, 344.28, 'gini = 0.0\\nsamples = 1\\nvalue = [0, 1]'),\n",
       " Text(394.5598771750256, 344.28, 'gini = 0.0\\nsamples = 2\\nvalue = [2, 0]'),\n",
       " Text(397.4155578300921, 380.52, 'X[5] <= 0.438\\ngini = 0.198\\nsamples = 9\\nvalue = [1, 8]'),\n",
       " Text(396.46366427840326, 344.28, 'gini = 0.0\\nsamples = 7\\nvalue = [0, 7]'),\n",
       " Text(398.36745138178094, 344.28, 'X[11] <= -1.681\\ngini = 0.5\\nsamples = 2\\nvalue = [1, 1]'),\n",
       " Text(397.4155578300921, 308.03999999999996, 'gini = 0.0\\nsamples = 1\\nvalue = [1, 0]'),\n",
       " Text(399.3193449334698, 308.03999999999996, 'gini = 0.0\\nsamples = 1\\nvalue = [0, 1]'),\n",
       " Text(397.4155578300921, 416.76, 'gini = 0.0\\nsamples = 2\\nvalue = [2, 0]'),\n",
       " Text(398.36745138178094, 453.0, 'gini = 0.0\\nsamples = 5\\nvalue = [0, 5]'),\n",
       " Text(401.22313203684746, 525.48, 'X[6] <= -0.175\\ngini = 0.219\\nsamples = 32\\nvalue = [4, 28]'),\n",
       " Text(400.2712384851586, 489.23999999999995, 'gini = 0.0\\nsamples = 13\\nvalue = [0, 13]'),\n",
       " Text(402.1750255885363, 489.23999999999995, 'X[6] <= 0.172\\ngini = 0.332\\nsamples = 19\\nvalue = [4, 15]'),\n",
       " Text(401.22313203684746, 453.0, 'gini = 0.0\\nsamples = 1\\nvalue = [1, 0]'),\n",
       " Text(403.1269191402252, 453.0, 'X[5] <= 0.152\\ngini = 0.278\\nsamples = 18\\nvalue = [3, 15]'),\n",
       " Text(402.1750255885363, 416.76, 'X[7] <= 0.783\\ngini = 0.49\\nsamples = 7\\nvalue = [3, 4]'),\n",
       " Text(401.22313203684746, 380.52, 'X[6] <= 1.56\\ngini = 0.375\\nsamples = 4\\nvalue = [3, 1]'),\n",
       " Text(400.2712384851586, 344.28, 'gini = 0.0\\nsamples = 3\\nvalue = [3, 0]'),\n",
       " Text(402.1750255885363, 344.28, 'gini = 0.0\\nsamples = 1\\nvalue = [0, 1]'),\n",
       " Text(403.1269191402252, 380.52, 'gini = 0.0\\nsamples = 3\\nvalue = [0, 3]'),\n",
       " Text(404.07881269191404, 416.76, 'gini = 0.0\\nsamples = 11\\nvalue = [0, 11]'),\n",
       " Text(417.64329580348004, 561.72, 'X[7] <= 0.806\\ngini = 0.499\\nsamples = 94\\nvalue = [45, 49]'),\n",
       " Text(412.6458546571136, 525.48, 'X[6] <= 0.866\\ngini = 0.471\\nsamples = 58\\nvalue = [22, 36]'),\n",
       " Text(409.7901740020471, 489.23999999999995, 'X[6] <= -0.869\\ngini = 0.496\\nsamples = 44\\nvalue = [20, 24]'),\n",
       " Text(406.93449334698056, 453.0, 'X[7] <= 0.618\\ngini = 0.36\\nsamples = 17\\nvalue = [4, 13]'),\n",
       " Text(405.9825997952917, 416.76, 'X[7] <= 0.376\\ngini = 0.49\\nsamples = 7\\nvalue = [4, 3]'),\n",
       " ...]"
      ]
     },
     "execution_count": 340,
     "metadata": {},
     "output_type": "execute_result"
    },
    {
     "data": {
      "image/png": "[encoded data removed]",
      "text/plain": [
       "<Figure size 1200x1200 with 1 Axes>"
      ]
     },
     "metadata": {
      "needs_background": "light"
     },
     "output_type": "display_data"
    }
   ],
   "source": [
    "from sklearn import tree\n",
    "fig, axes = plt.subplots(nrows=1,ncols=1,figsize=(4,4),dpi=300)\n",
    "tree.plot_tree(dtc)"
   ]
  },
  {
   "cell_type": "code",
   "execution_count": 341,
   "metadata": {},
   "outputs": [
    {
     "name": "stdout",
     "output_type": "stream",
     "text": [
      "Feature: 0, Score: 0.00808\n",
      "Feature: 1, Score: 0.02257\n",
      "Feature: 2, Score: 0.00648\n",
      "Feature: 3, Score: 0.12797\n",
      "Feature: 4, Score: 0.01442\n",
      "Feature: 5, Score: 0.21654\n",
      "Feature: 6, Score: 0.07611\n",
      "Feature: 7, Score: 0.16164\n",
      "Feature: 8, Score: 0.11931\n",
      "Feature: 9, Score: 0.01700\n",
      "Feature: 10, Score: 0.07022\n",
      "Feature: 11, Score: 0.15967\n"
     ]
    },
    {
     "data": {
      "image/png": "[encoded data removed]",
      "text/plain": [
       "<Figure size 432x288 with 1 Axes>"
      ]
     },
     "metadata": {
      "needs_background": "light"
     },
     "output_type": "display_data"
    }
   ],
   "source": [
    "# get importance\n",
    "importance = dtc.feature_importances_\n",
    "# summarize feature importance\n",
    "for i,v in enumerate(importance):\n",
    "\tprint('Feature: %0d, Score: %.5f' % (i,v))\n",
    "# plot feature importance\n",
    "plt.bar([x for x in range(len(importance))], importance)\n",
    "plt.show()"
   ]
  },
  {
   "cell_type": "code",
   "execution_count": 342,
   "metadata": {},
   "outputs": [
    {
     "data": {
      "text/plain": [
       "array([1.0, 0.0, 0.0, 619, 0, 42, 2, 0.0, 1, 1, 1, 101348.88],\n",
       "      dtype=object)"
      ]
     },
     "execution_count": 342,
     "metadata": {},
     "output_type": "execute_result"
    }
   ],
   "source": [
    "X[0]\n",
    "# Feature 5: Age, Feature7: Balance, Feature 11: Salary, Feature 3: Credit Score "
   ]
  },
  {
   "cell_type": "code",
   "execution_count": 427,
   "metadata": {},
   "outputs": [
    {
     "data": {
      "text/plain": [
       "CreditScore           619\n",
       "Geography          France\n",
       "Gender             Female\n",
       "Age                    42\n",
       "Tenure                  2\n",
       "Balance                 0\n",
       "NumOfProducts           1\n",
       "HasCrCard               1\n",
       "IsActiveMember          1\n",
       "EstimatedSalary    101349\n",
       "Exited                  1\n",
       "Name: 0, dtype: object"
      ]
     },
     "execution_count": 427,
     "metadata": {},
     "output_type": "execute_result"
    }
   ],
   "source": [
    "df.iloc[0]"
   ]
  },
  {
   "cell_type": "markdown",
   "metadata": {},
   "source": [
    "# Section 7: Random Forest"
   ]
  },
  {
   "cell_type": "code",
   "execution_count": 343,
   "metadata": {},
   "outputs": [],
   "source": [
    "from sklearn.ensemble import RandomForestClassifier\n",
    "rf = RandomForestClassifier(random_state=123)\n",
    "# rf.fit(X_train, y_train)"
   ]
  },
  {
   "cell_type": "code",
   "execution_count": 344,
   "metadata": {},
   "outputs": [
    {
     "name": "stdout",
     "output_type": "stream",
     "text": [
      "Fitting 5 folds for each of 90 candidates, totalling 450 fits\n",
      "[CV 1/5] END criterion=gini, max_depth=4, max_features=auto, n_estimators=200;, score=0.842 total time=   0.7s\n",
      "[CV 2/5] END criterion=gini, max_depth=4, max_features=auto, n_estimators=200;, score=0.831 total time=   0.7s\n",
      "[CV 3/5] END criterion=gini, max_depth=4, max_features=auto, n_estimators=200;, score=0.841 total time=   0.7s\n",
      "[CV 4/5] END criterion=gini, max_depth=4, max_features=auto, n_estimators=200;, score=0.840 total time=   0.7s\n",
      "[CV 5/5] END criterion=gini, max_depth=4, max_features=auto, n_estimators=200;, score=0.835 total time=   0.7s\n",
      "[CV 1/5] END criterion=gini, max_depth=4, max_features=auto, n_estimators=500;, score=0.841 total time=   1.7s\n",
      "[CV 2/5] END criterion=gini, max_depth=4, max_features=auto, n_estimators=500;, score=0.831 total time=   1.7s\n",
      "[CV 3/5] END criterion=gini, max_depth=4, max_features=auto, n_estimators=500;, score=0.841 total time=   1.7s\n",
      "[CV 4/5] END criterion=gini, max_depth=4, max_features=auto, n_estimators=500;, score=0.834 total time=   1.6s\n",
      "[CV 5/5] END criterion=gini, max_depth=4, max_features=auto, n_estimators=500;, score=0.835 total time=   1.6s\n",
      "[CV 1/5] END criterion=gini, max_depth=4, max_features=auto, n_estimators=1000;, score=0.841 total time=   3.4s\n",
      "[CV 2/5] END criterion=gini, max_depth=4, max_features=auto, n_estimators=1000;, score=0.832 total time=   3.4s\n",
      "[CV 3/5] END criterion=gini, max_depth=4, max_features=auto, n_estimators=1000;, score=0.841 total time=   3.3s\n",
      "[CV 4/5] END criterion=gini, max_depth=4, max_features=auto, n_estimators=1000;, score=0.834 total time=   3.3s\n",
      "[CV 5/5] END criterion=gini, max_depth=4, max_features=auto, n_estimators=1000;, score=0.835 total time=   3.2s\n",
      "[CV 1/5] END criterion=gini, max_depth=4, max_features=sqrt, n_estimators=200;, score=0.842 total time=   0.7s\n",
      "[CV 2/5] END criterion=gini, max_depth=4, max_features=sqrt, n_estimators=200;, score=0.831 total time=   0.7s\n",
      "[CV 3/5] END criterion=gini, max_depth=4, max_features=sqrt, n_estimators=200;, score=0.841 total time=   0.7s\n",
      "[CV 4/5] END criterion=gini, max_depth=4, max_features=sqrt, n_estimators=200;, score=0.840 total time=   0.7s\n",
      "[CV 5/5] END criterion=gini, max_depth=4, max_features=sqrt, n_estimators=200;, score=0.835 total time=   0.7s\n",
      "[CV 1/5] END criterion=gini, max_depth=4, max_features=sqrt, n_estimators=500;, score=0.841 total time=   1.7s\n",
      "[CV 2/5] END criterion=gini, max_depth=4, max_features=sqrt, n_estimators=500;, score=0.831 total time=   1.7s\n",
      "[CV 3/5] END criterion=gini, max_depth=4, max_features=sqrt, n_estimators=500;, score=0.841 total time=   1.7s\n",
      "[CV 4/5] END criterion=gini, max_depth=4, max_features=sqrt, n_estimators=500;, score=0.834 total time=   1.7s\n",
      "[CV 5/5] END criterion=gini, max_depth=4, max_features=sqrt, n_estimators=500;, score=0.835 total time=   1.7s\n",
      "[CV 1/5] END criterion=gini, max_depth=4, max_features=sqrt, n_estimators=1000;, score=0.841 total time=   3.4s\n",
      "[CV 2/5] END criterion=gini, max_depth=4, max_features=sqrt, n_estimators=1000;, score=0.832 total time=   3.4s\n",
      "[CV 3/5] END criterion=gini, max_depth=4, max_features=sqrt, n_estimators=1000;, score=0.841 total time=   3.4s\n",
      "[CV 4/5] END criterion=gini, max_depth=4, max_features=sqrt, n_estimators=1000;, score=0.834 total time=   3.4s\n",
      "[CV 5/5] END criterion=gini, max_depth=4, max_features=sqrt, n_estimators=1000;, score=0.835 total time=   3.4s\n",
      "[CV 1/5] END criterion=gini, max_depth=4, max_features=log2, n_estimators=200;, score=0.842 total time=   0.7s\n",
      "[CV 2/5] END criterion=gini, max_depth=4, max_features=log2, n_estimators=200;, score=0.831 total time=   0.7s\n",
      "[CV 3/5] END criterion=gini, max_depth=4, max_features=log2, n_estimators=200;, score=0.841 total time=   0.7s\n",
      "[CV 4/5] END criterion=gini, max_depth=4, max_features=log2, n_estimators=200;, score=0.840 total time=   0.7s\n",
      "[CV 5/5] END criterion=gini, max_depth=4, max_features=log2, n_estimators=200;, score=0.835 total time=   0.7s\n",
      "[CV 1/5] END criterion=gini, max_depth=4, max_features=log2, n_estimators=500;, score=0.841 total time=   1.7s\n",
      "[CV 2/5] END criterion=gini, max_depth=4, max_features=log2, n_estimators=500;, score=0.831 total time=   1.7s\n",
      "[CV 3/5] END criterion=gini, max_depth=4, max_features=log2, n_estimators=500;, score=0.841 total time=   1.7s\n",
      "[CV 4/5] END criterion=gini, max_depth=4, max_features=log2, n_estimators=500;, score=0.834 total time=   1.7s\n",
      "[CV 5/5] END criterion=gini, max_depth=4, max_features=log2, n_estimators=500;, score=0.835 total time=   1.7s\n",
      "[CV 1/5] END criterion=gini, max_depth=4, max_features=log2, n_estimators=1000;, score=0.841 total time=   3.4s\n",
      "[CV 2/5] END criterion=gini, max_depth=4, max_features=log2, n_estimators=1000;, score=0.832 total time=   3.4s\n",
      "[CV 3/5] END criterion=gini, max_depth=4, max_features=log2, n_estimators=1000;, score=0.841 total time=   3.4s\n",
      "[CV 4/5] END criterion=gini, max_depth=4, max_features=log2, n_estimators=1000;, score=0.834 total time=   3.4s\n",
      "[CV 5/5] END criterion=gini, max_depth=4, max_features=log2, n_estimators=1000;, score=0.835 total time=   3.4s\n",
      "[CV 1/5] END criterion=gini, max_depth=5, max_features=auto, n_estimators=200;, score=0.850 total time=   0.8s\n",
      "[CV 2/5] END criterion=gini, max_depth=5, max_features=auto, n_estimators=200;, score=0.843 total time=   0.8s\n",
      "[CV 3/5] END criterion=gini, max_depth=5, max_features=auto, n_estimators=200;, score=0.851 total time=   0.8s\n",
      "[CV 4/5] END criterion=gini, max_depth=5, max_features=auto, n_estimators=200;, score=0.858 total time=   0.8s\n",
      "[CV 5/5] END criterion=gini, max_depth=5, max_features=auto, n_estimators=200;, score=0.854 total time=   0.8s\n",
      "[CV 1/5] END criterion=gini, max_depth=5, max_features=auto, n_estimators=500;, score=0.849 total time=   1.9s\n",
      "[CV 2/5] END criterion=gini, max_depth=5, max_features=auto, n_estimators=500;, score=0.842 total time=   1.9s\n",
      "[CV 3/5] END criterion=gini, max_depth=5, max_features=auto, n_estimators=500;, score=0.852 total time=   1.9s\n",
      "[CV 4/5] END criterion=gini, max_depth=5, max_features=auto, n_estimators=500;, score=0.857 total time=   1.9s\n",
      "[CV 5/5] END criterion=gini, max_depth=5, max_features=auto, n_estimators=500;, score=0.853 total time=   1.9s\n",
      "[CV 1/5] END criterion=gini, max_depth=5, max_features=auto, n_estimators=1000;, score=0.848 total time=   3.8s\n",
      "[CV 2/5] END criterion=gini, max_depth=5, max_features=auto, n_estimators=1000;, score=0.844 total time=   3.8s\n",
      "[CV 3/5] END criterion=gini, max_depth=5, max_features=auto, n_estimators=1000;, score=0.850 total time=   3.8s\n",
      "[CV 4/5] END criterion=gini, max_depth=5, max_features=auto, n_estimators=1000;, score=0.855 total time=   4.3s\n",
      "[CV 5/5] END criterion=gini, max_depth=5, max_features=auto, n_estimators=1000;, score=0.854 total time=   4.2s\n",
      "[CV 1/5] END criterion=gini, max_depth=5, max_features=sqrt, n_estimators=200;, score=0.850 total time=   0.8s\n",
      "[CV 2/5] END criterion=gini, max_depth=5, max_features=sqrt, n_estimators=200;, score=0.843 total time=   0.9s\n",
      "[CV 3/5] END criterion=gini, max_depth=5, max_features=sqrt, n_estimators=200;, score=0.851 total time=   0.8s\n",
      "[CV 4/5] END criterion=gini, max_depth=5, max_features=sqrt, n_estimators=200;, score=0.858 total time=   0.8s\n",
      "[CV 5/5] END criterion=gini, max_depth=5, max_features=sqrt, n_estimators=200;, score=0.854 total time=   0.8s\n",
      "[CV 1/5] END criterion=gini, max_depth=5, max_features=sqrt, n_estimators=500;, score=0.849 total time=   1.9s\n",
      "[CV 2/5] END criterion=gini, max_depth=5, max_features=sqrt, n_estimators=500;, score=0.842 total time=   2.3s\n",
      "[CV 3/5] END criterion=gini, max_depth=5, max_features=sqrt, n_estimators=500;, score=0.852 total time=   2.1s\n",
      "[CV 4/5] END criterion=gini, max_depth=5, max_features=sqrt, n_estimators=500;, score=0.857 total time=   2.2s\n",
      "[CV 5/5] END criterion=gini, max_depth=5, max_features=sqrt, n_estimators=500;, score=0.853 total time=   2.4s\n",
      "[CV 1/5] END criterion=gini, max_depth=5, max_features=sqrt, n_estimators=1000;, score=0.848 total time=   4.0s\n",
      "[CV 2/5] END criterion=gini, max_depth=5, max_features=sqrt, n_estimators=1000;, score=0.844 total time=   3.9s\n",
      "[CV 3/5] END criterion=gini, max_depth=5, max_features=sqrt, n_estimators=1000;, score=0.850 total time=   3.9s\n",
      "[CV 4/5] END criterion=gini, max_depth=5, max_features=sqrt, n_estimators=1000;, score=0.855 total time=   4.0s\n"
     ]
    },
    {
     "name": "stdout",
     "output_type": "stream",
     "text": [
      "[CV 5/5] END criterion=gini, max_depth=5, max_features=sqrt, n_estimators=1000;, score=0.854 total time=   3.7s\n",
      "[CV 1/5] END criterion=gini, max_depth=5, max_features=log2, n_estimators=200;, score=0.850 total time=   0.7s\n",
      "[CV 2/5] END criterion=gini, max_depth=5, max_features=log2, n_estimators=200;, score=0.843 total time=   0.9s\n",
      "[CV 3/5] END criterion=gini, max_depth=5, max_features=log2, n_estimators=200;, score=0.851 total time=   0.8s\n",
      "[CV 4/5] END criterion=gini, max_depth=5, max_features=log2, n_estimators=200;, score=0.858 total time=   0.9s\n",
      "[CV 5/5] END criterion=gini, max_depth=5, max_features=log2, n_estimators=200;, score=0.854 total time=   0.8s\n",
      "[CV 1/5] END criterion=gini, max_depth=5, max_features=log2, n_estimators=500;, score=0.849 total time=   2.0s\n",
      "[CV 2/5] END criterion=gini, max_depth=5, max_features=log2, n_estimators=500;, score=0.842 total time=   2.2s\n",
      "[CV 3/5] END criterion=gini, max_depth=5, max_features=log2, n_estimators=500;, score=0.852 total time=   2.1s\n",
      "[CV 4/5] END criterion=gini, max_depth=5, max_features=log2, n_estimators=500;, score=0.857 total time=   2.1s\n",
      "[CV 5/5] END criterion=gini, max_depth=5, max_features=log2, n_estimators=500;, score=0.853 total time=   2.0s\n",
      "[CV 1/5] END criterion=gini, max_depth=5, max_features=log2, n_estimators=1000;, score=0.848 total time=   3.8s\n",
      "[CV 2/5] END criterion=gini, max_depth=5, max_features=log2, n_estimators=1000;, score=0.844 total time=   3.8s\n",
      "[CV 3/5] END criterion=gini, max_depth=5, max_features=log2, n_estimators=1000;, score=0.850 total time=   3.8s\n",
      "[CV 4/5] END criterion=gini, max_depth=5, max_features=log2, n_estimators=1000;, score=0.855 total time=   3.8s\n",
      "[CV 5/5] END criterion=gini, max_depth=5, max_features=log2, n_estimators=1000;, score=0.854 total time=   3.8s\n",
      "[CV 1/5] END criterion=gini, max_depth=6, max_features=auto, n_estimators=200;, score=0.862 total time=   0.9s\n",
      "[CV 2/5] END criterion=gini, max_depth=6, max_features=auto, n_estimators=200;, score=0.846 total time=   0.8s\n",
      "[CV 3/5] END criterion=gini, max_depth=6, max_features=auto, n_estimators=200;, score=0.854 total time=   0.8s\n",
      "[CV 4/5] END criterion=gini, max_depth=6, max_features=auto, n_estimators=200;, score=0.861 total time=   0.8s\n",
      "[CV 5/5] END criterion=gini, max_depth=6, max_features=auto, n_estimators=200;, score=0.854 total time=   0.8s\n",
      "[CV 1/5] END criterion=gini, max_depth=6, max_features=auto, n_estimators=500;, score=0.859 total time=   2.1s\n",
      "[CV 2/5] END criterion=gini, max_depth=6, max_features=auto, n_estimators=500;, score=0.844 total time=   2.1s\n",
      "[CV 3/5] END criterion=gini, max_depth=6, max_features=auto, n_estimators=500;, score=0.856 total time=   2.1s\n",
      "[CV 4/5] END criterion=gini, max_depth=6, max_features=auto, n_estimators=500;, score=0.860 total time=   2.1s\n",
      "[CV 5/5] END criterion=gini, max_depth=6, max_features=auto, n_estimators=500;, score=0.854 total time=   2.1s\n",
      "[CV 1/5] END criterion=gini, max_depth=6, max_features=auto, n_estimators=1000;, score=0.859 total time=   4.3s\n",
      "[CV 2/5] END criterion=gini, max_depth=6, max_features=auto, n_estimators=1000;, score=0.844 total time=   4.3s\n",
      "[CV 3/5] END criterion=gini, max_depth=6, max_features=auto, n_estimators=1000;, score=0.855 total time=   4.4s\n",
      "[CV 4/5] END criterion=gini, max_depth=6, max_features=auto, n_estimators=1000;, score=0.859 total time=   4.2s\n",
      "[CV 5/5] END criterion=gini, max_depth=6, max_features=auto, n_estimators=1000;, score=0.856 total time=   4.2s\n",
      "[CV 1/5] END criterion=gini, max_depth=6, max_features=sqrt, n_estimators=200;, score=0.862 total time=   0.8s\n",
      "[CV 2/5] END criterion=gini, max_depth=6, max_features=sqrt, n_estimators=200;, score=0.846 total time=   0.8s\n",
      "[CV 3/5] END criterion=gini, max_depth=6, max_features=sqrt, n_estimators=200;, score=0.854 total time=   0.8s\n",
      "[CV 4/5] END criterion=gini, max_depth=6, max_features=sqrt, n_estimators=200;, score=0.861 total time=   0.9s\n",
      "[CV 5/5] END criterion=gini, max_depth=6, max_features=sqrt, n_estimators=200;, score=0.854 total time=   0.9s\n",
      "[CV 1/5] END criterion=gini, max_depth=6, max_features=sqrt, n_estimators=500;, score=0.859 total time=   2.1s\n",
      "[CV 2/5] END criterion=gini, max_depth=6, max_features=sqrt, n_estimators=500;, score=0.844 total time=   2.1s\n",
      "[CV 3/5] END criterion=gini, max_depth=6, max_features=sqrt, n_estimators=500;, score=0.856 total time=   2.1s\n",
      "[CV 4/5] END criterion=gini, max_depth=6, max_features=sqrt, n_estimators=500;, score=0.860 total time=   2.1s\n",
      "[CV 5/5] END criterion=gini, max_depth=6, max_features=sqrt, n_estimators=500;, score=0.854 total time=   2.1s\n",
      "[CV 1/5] END criterion=gini, max_depth=6, max_features=sqrt, n_estimators=1000;, score=0.859 total time=   4.3s\n",
      "[CV 2/5] END criterion=gini, max_depth=6, max_features=sqrt, n_estimators=1000;, score=0.844 total time=   4.2s\n",
      "[CV 3/5] END criterion=gini, max_depth=6, max_features=sqrt, n_estimators=1000;, score=0.855 total time=   4.2s\n",
      "[CV 4/5] END criterion=gini, max_depth=6, max_features=sqrt, n_estimators=1000;, score=0.859 total time=   4.2s\n",
      "[CV 5/5] END criterion=gini, max_depth=6, max_features=sqrt, n_estimators=1000;, score=0.856 total time=   4.5s\n",
      "[CV 1/5] END criterion=gini, max_depth=6, max_features=log2, n_estimators=200;, score=0.862 total time=   0.9s\n",
      "[CV 2/5] END criterion=gini, max_depth=6, max_features=log2, n_estimators=200;, score=0.846 total time=   0.9s\n",
      "[CV 3/5] END criterion=gini, max_depth=6, max_features=log2, n_estimators=200;, score=0.854 total time=   0.9s\n",
      "[CV 4/5] END criterion=gini, max_depth=6, max_features=log2, n_estimators=200;, score=0.861 total time=   0.9s\n",
      "[CV 5/5] END criterion=gini, max_depth=6, max_features=log2, n_estimators=200;, score=0.854 total time=   0.9s\n",
      "[CV 1/5] END criterion=gini, max_depth=6, max_features=log2, n_estimators=500;, score=0.859 total time=   2.4s\n",
      "[CV 2/5] END criterion=gini, max_depth=6, max_features=log2, n_estimators=500;, score=0.844 total time=   2.4s\n",
      "[CV 3/5] END criterion=gini, max_depth=6, max_features=log2, n_estimators=500;, score=0.856 total time=   2.5s\n",
      "[CV 4/5] END criterion=gini, max_depth=6, max_features=log2, n_estimators=500;, score=0.860 total time=   2.4s\n",
      "[CV 5/5] END criterion=gini, max_depth=6, max_features=log2, n_estimators=500;, score=0.854 total time=   2.4s\n",
      "[CV 1/5] END criterion=gini, max_depth=6, max_features=log2, n_estimators=1000;, score=0.859 total time=   4.3s\n",
      "[CV 2/5] END criterion=gini, max_depth=6, max_features=log2, n_estimators=1000;, score=0.844 total time=   4.1s\n",
      "[CV 3/5] END criterion=gini, max_depth=6, max_features=log2, n_estimators=1000;, score=0.855 total time=   4.2s\n",
      "[CV 4/5] END criterion=gini, max_depth=6, max_features=log2, n_estimators=1000;, score=0.859 total time=   4.1s\n",
      "[CV 5/5] END criterion=gini, max_depth=6, max_features=log2, n_estimators=1000;, score=0.856 total time=   4.1s\n",
      "[CV 1/5] END criterion=gini, max_depth=7, max_features=auto, n_estimators=200;, score=0.868 total time=   0.9s\n",
      "[CV 2/5] END criterion=gini, max_depth=7, max_features=auto, n_estimators=200;, score=0.848 total time=   0.9s\n",
      "[CV 3/5] END criterion=gini, max_depth=7, max_features=auto, n_estimators=200;, score=0.858 total time=   0.9s\n",
      "[CV 4/5] END criterion=gini, max_depth=7, max_features=auto, n_estimators=200;, score=0.863 total time=   0.9s\n",
      "[CV 5/5] END criterion=gini, max_depth=7, max_features=auto, n_estimators=200;, score=0.856 total time=   0.9s\n",
      "[CV 1/5] END criterion=gini, max_depth=7, max_features=auto, n_estimators=500;, score=0.868 total time=   2.2s\n",
      "[CV 2/5] END criterion=gini, max_depth=7, max_features=auto, n_estimators=500;, score=0.848 total time=   2.2s\n",
      "[CV 3/5] END criterion=gini, max_depth=7, max_features=auto, n_estimators=500;, score=0.858 total time=   2.2s\n",
      "[CV 4/5] END criterion=gini, max_depth=7, max_features=auto, n_estimators=500;, score=0.864 total time=   2.2s\n",
      "[CV 5/5] END criterion=gini, max_depth=7, max_features=auto, n_estimators=500;, score=0.856 total time=   2.4s\n",
      "[CV 1/5] END criterion=gini, max_depth=7, max_features=auto, n_estimators=1000;, score=0.869 total time=   5.0s\n",
      "[CV 2/5] END criterion=gini, max_depth=7, max_features=auto, n_estimators=1000;, score=0.849 total time=   5.1s\n",
      "[CV 3/5] END criterion=gini, max_depth=7, max_features=auto, n_estimators=1000;, score=0.860 total time=   5.0s\n"
     ]
    },
    {
     "name": "stdout",
     "output_type": "stream",
     "text": [
      "[CV 4/5] END criterion=gini, max_depth=7, max_features=auto, n_estimators=1000;, score=0.863 total time=   4.5s\n",
      "[CV 5/5] END criterion=gini, max_depth=7, max_features=auto, n_estimators=1000;, score=0.856 total time=   4.8s\n",
      "[CV 1/5] END criterion=gini, max_depth=7, max_features=sqrt, n_estimators=200;, score=0.868 total time=   1.0s\n",
      "[CV 2/5] END criterion=gini, max_depth=7, max_features=sqrt, n_estimators=200;, score=0.848 total time=   1.1s\n",
      "[CV 3/5] END criterion=gini, max_depth=7, max_features=sqrt, n_estimators=200;, score=0.858 total time=   1.1s\n",
      "[CV 4/5] END criterion=gini, max_depth=7, max_features=sqrt, n_estimators=200;, score=0.863 total time=   1.0s\n",
      "[CV 5/5] END criterion=gini, max_depth=7, max_features=sqrt, n_estimators=200;, score=0.856 total time=   1.0s\n",
      "[CV 1/5] END criterion=gini, max_depth=7, max_features=sqrt, n_estimators=500;, score=0.868 total time=   2.2s\n",
      "[CV 2/5] END criterion=gini, max_depth=7, max_features=sqrt, n_estimators=500;, score=0.848 total time=   2.3s\n",
      "[CV 3/5] END criterion=gini, max_depth=7, max_features=sqrt, n_estimators=500;, score=0.858 total time=   2.5s\n",
      "[CV 4/5] END criterion=gini, max_depth=7, max_features=sqrt, n_estimators=500;, score=0.864 total time=   2.2s\n",
      "[CV 5/5] END criterion=gini, max_depth=7, max_features=sqrt, n_estimators=500;, score=0.856 total time=   2.2s\n",
      "[CV 1/5] END criterion=gini, max_depth=7, max_features=sqrt, n_estimators=1000;, score=0.869 total time=   4.8s\n",
      "[CV 2/5] END criterion=gini, max_depth=7, max_features=sqrt, n_estimators=1000;, score=0.849 total time=   5.4s\n",
      "[CV 3/5] END criterion=gini, max_depth=7, max_features=sqrt, n_estimators=1000;, score=0.860 total time=   5.1s\n",
      "[CV 4/5] END criterion=gini, max_depth=7, max_features=sqrt, n_estimators=1000;, score=0.863 total time=   4.9s\n",
      "[CV 5/5] END criterion=gini, max_depth=7, max_features=sqrt, n_estimators=1000;, score=0.856 total time=   5.0s\n",
      "[CV 1/5] END criterion=gini, max_depth=7, max_features=log2, n_estimators=200;, score=0.868 total time=   0.9s\n",
      "[CV 2/5] END criterion=gini, max_depth=7, max_features=log2, n_estimators=200;, score=0.848 total time=   0.9s\n",
      "[CV 3/5] END criterion=gini, max_depth=7, max_features=log2, n_estimators=200;, score=0.858 total time=   1.0s\n",
      "[CV 4/5] END criterion=gini, max_depth=7, max_features=log2, n_estimators=200;, score=0.863 total time=   1.0s\n",
      "[CV 5/5] END criterion=gini, max_depth=7, max_features=log2, n_estimators=200;, score=0.856 total time=   1.1s\n",
      "[CV 1/5] END criterion=gini, max_depth=7, max_features=log2, n_estimators=500;, score=0.868 total time=   2.7s\n",
      "[CV 2/5] END criterion=gini, max_depth=7, max_features=log2, n_estimators=500;, score=0.848 total time=   2.5s\n",
      "[CV 3/5] END criterion=gini, max_depth=7, max_features=log2, n_estimators=500;, score=0.858 total time=   2.3s\n",
      "[CV 4/5] END criterion=gini, max_depth=7, max_features=log2, n_estimators=500;, score=0.864 total time=   2.3s\n",
      "[CV 5/5] END criterion=gini, max_depth=7, max_features=log2, n_estimators=500;, score=0.856 total time=   2.3s\n",
      "[CV 1/5] END criterion=gini, max_depth=7, max_features=log2, n_estimators=1000;, score=0.869 total time=   4.6s\n",
      "[CV 2/5] END criterion=gini, max_depth=7, max_features=log2, n_estimators=1000;, score=0.849 total time=   4.6s\n",
      "[CV 3/5] END criterion=gini, max_depth=7, max_features=log2, n_estimators=1000;, score=0.860 total time=   4.5s\n",
      "[CV 4/5] END criterion=gini, max_depth=7, max_features=log2, n_estimators=1000;, score=0.863 total time=   4.5s\n",
      "[CV 5/5] END criterion=gini, max_depth=7, max_features=log2, n_estimators=1000;, score=0.856 total time=   4.5s\n",
      "[CV 1/5] END criterion=gini, max_depth=8, max_features=auto, n_estimators=200;, score=0.874 total time=   1.0s\n",
      "[CV 2/5] END criterion=gini, max_depth=8, max_features=auto, n_estimators=200;, score=0.856 total time=   1.0s\n",
      "[CV 3/5] END criterion=gini, max_depth=8, max_features=auto, n_estimators=200;, score=0.861 total time=   1.0s\n",
      "[CV 4/5] END criterion=gini, max_depth=8, max_features=auto, n_estimators=200;, score=0.862 total time=   1.0s\n",
      "[CV 5/5] END criterion=gini, max_depth=8, max_features=auto, n_estimators=200;, score=0.859 total time=   1.0s\n",
      "[CV 1/5] END criterion=gini, max_depth=8, max_features=auto, n_estimators=500;, score=0.876 total time=   2.4s\n",
      "[CV 2/5] END criterion=gini, max_depth=8, max_features=auto, n_estimators=500;, score=0.853 total time=   2.5s\n",
      "[CV 3/5] END criterion=gini, max_depth=8, max_features=auto, n_estimators=500;, score=0.861 total time=   2.5s\n",
      "[CV 4/5] END criterion=gini, max_depth=8, max_features=auto, n_estimators=500;, score=0.863 total time=   2.5s\n",
      "[CV 5/5] END criterion=gini, max_depth=8, max_features=auto, n_estimators=500;, score=0.856 total time=   2.5s\n",
      "[CV 1/5] END criterion=gini, max_depth=8, max_features=auto, n_estimators=1000;, score=0.874 total time=   5.0s\n",
      "[CV 2/5] END criterion=gini, max_depth=8, max_features=auto, n_estimators=1000;, score=0.854 total time=   5.0s\n",
      "[CV 3/5] END criterion=gini, max_depth=8, max_features=auto, n_estimators=1000;, score=0.861 total time=   5.0s\n",
      "[CV 4/5] END criterion=gini, max_depth=8, max_features=auto, n_estimators=1000;, score=0.866 total time=   4.9s\n",
      "[CV 5/5] END criterion=gini, max_depth=8, max_features=auto, n_estimators=1000;, score=0.857 total time=   4.9s\n",
      "[CV 1/5] END criterion=gini, max_depth=8, max_features=sqrt, n_estimators=200;, score=0.874 total time=   1.0s\n",
      "[CV 2/5] END criterion=gini, max_depth=8, max_features=sqrt, n_estimators=200;, score=0.856 total time=   1.0s\n",
      "[CV 3/5] END criterion=gini, max_depth=8, max_features=sqrt, n_estimators=200;, score=0.861 total time=   1.0s\n",
      "[CV 4/5] END criterion=gini, max_depth=8, max_features=sqrt, n_estimators=200;, score=0.862 total time=   1.0s\n",
      "[CV 5/5] END criterion=gini, max_depth=8, max_features=sqrt, n_estimators=200;, score=0.859 total time=   1.0s\n",
      "[CV 1/5] END criterion=gini, max_depth=8, max_features=sqrt, n_estimators=500;, score=0.876 total time=   2.5s\n",
      "[CV 2/5] END criterion=gini, max_depth=8, max_features=sqrt, n_estimators=500;, score=0.853 total time=   2.5s\n",
      "[CV 3/5] END criterion=gini, max_depth=8, max_features=sqrt, n_estimators=500;, score=0.861 total time=   2.4s\n",
      "[CV 4/5] END criterion=gini, max_depth=8, max_features=sqrt, n_estimators=500;, score=0.863 total time=   2.6s\n",
      "[CV 5/5] END criterion=gini, max_depth=8, max_features=sqrt, n_estimators=500;, score=0.856 total time=   2.4s\n",
      "[CV 1/5] END criterion=gini, max_depth=8, max_features=sqrt, n_estimators=1000;, score=0.874 total time=   4.8s\n",
      "[CV 2/5] END criterion=gini, max_depth=8, max_features=sqrt, n_estimators=1000;, score=0.854 total time=   4.8s\n",
      "[CV 3/5] END criterion=gini, max_depth=8, max_features=sqrt, n_estimators=1000;, score=0.861 total time=   4.9s\n",
      "[CV 4/5] END criterion=gini, max_depth=8, max_features=sqrt, n_estimators=1000;, score=0.866 total time=   4.9s\n",
      "[CV 5/5] END criterion=gini, max_depth=8, max_features=sqrt, n_estimators=1000;, score=0.857 total time=   4.9s\n",
      "[CV 1/5] END criterion=gini, max_depth=8, max_features=log2, n_estimators=200;, score=0.874 total time=   1.0s\n",
      "[CV 2/5] END criterion=gini, max_depth=8, max_features=log2, n_estimators=200;, score=0.856 total time=   1.0s\n",
      "[CV 3/5] END criterion=gini, max_depth=8, max_features=log2, n_estimators=200;, score=0.861 total time=   1.0s\n",
      "[CV 4/5] END criterion=gini, max_depth=8, max_features=log2, n_estimators=200;, score=0.862 total time=   1.0s\n",
      "[CV 5/5] END criterion=gini, max_depth=8, max_features=log2, n_estimators=200;, score=0.859 total time=   1.0s\n",
      "[CV 1/5] END criterion=gini, max_depth=8, max_features=log2, n_estimators=500;, score=0.876 total time=   2.4s\n",
      "[CV 2/5] END criterion=gini, max_depth=8, max_features=log2, n_estimators=500;, score=0.853 total time=   2.4s\n",
      "[CV 3/5] END criterion=gini, max_depth=8, max_features=log2, n_estimators=500;, score=0.861 total time=   2.4s\n",
      "[CV 4/5] END criterion=gini, max_depth=8, max_features=log2, n_estimators=500;, score=0.863 total time=   2.4s\n",
      "[CV 5/5] END criterion=gini, max_depth=8, max_features=log2, n_estimators=500;, score=0.856 total time=   2.5s\n",
      "[CV 1/5] END criterion=gini, max_depth=8, max_features=log2, n_estimators=1000;, score=0.874 total time=   4.8s\n",
      "[CV 2/5] END criterion=gini, max_depth=8, max_features=log2, n_estimators=1000;, score=0.854 total time=   4.9s\n"
     ]
    },
    {
     "name": "stdout",
     "output_type": "stream",
     "text": [
      "[CV 3/5] END criterion=gini, max_depth=8, max_features=log2, n_estimators=1000;, score=0.861 total time=   4.8s\n",
      "[CV 4/5] END criterion=gini, max_depth=8, max_features=log2, n_estimators=1000;, score=0.866 total time=   5.0s\n",
      "[CV 5/5] END criterion=gini, max_depth=8, max_features=log2, n_estimators=1000;, score=0.857 total time=   4.9s\n",
      "[CV 1/5] END criterion=entropy, max_depth=4, max_features=auto, n_estimators=200;, score=0.838 total time=   0.7s\n",
      "[CV 2/5] END criterion=entropy, max_depth=4, max_features=auto, n_estimators=200;, score=0.831 total time=   0.8s\n",
      "[CV 3/5] END criterion=entropy, max_depth=4, max_features=auto, n_estimators=200;, score=0.840 total time=   0.7s\n",
      "[CV 4/5] END criterion=entropy, max_depth=4, max_features=auto, n_estimators=200;, score=0.834 total time=   0.7s\n",
      "[CV 5/5] END criterion=entropy, max_depth=4, max_features=auto, n_estimators=200;, score=0.834 total time=   0.7s\n",
      "[CV 1/5] END criterion=entropy, max_depth=4, max_features=auto, n_estimators=500;, score=0.839 total time=   1.8s\n",
      "[CV 2/5] END criterion=entropy, max_depth=4, max_features=auto, n_estimators=500;, score=0.830 total time=   1.8s\n",
      "[CV 3/5] END criterion=entropy, max_depth=4, max_features=auto, n_estimators=500;, score=0.840 total time=   1.8s\n",
      "[CV 4/5] END criterion=entropy, max_depth=4, max_features=auto, n_estimators=500;, score=0.834 total time=   1.8s\n",
      "[CV 5/5] END criterion=entropy, max_depth=4, max_features=auto, n_estimators=500;, score=0.834 total time=   1.8s\n",
      "[CV 1/5] END criterion=entropy, max_depth=4, max_features=auto, n_estimators=1000;, score=0.841 total time=   3.7s\n",
      "[CV 2/5] END criterion=entropy, max_depth=4, max_features=auto, n_estimators=1000;, score=0.831 total time=   3.6s\n",
      "[CV 3/5] END criterion=entropy, max_depth=4, max_features=auto, n_estimators=1000;, score=0.841 total time=   3.5s\n",
      "[CV 4/5] END criterion=entropy, max_depth=4, max_features=auto, n_estimators=1000;, score=0.833 total time=   3.5s\n",
      "[CV 5/5] END criterion=entropy, max_depth=4, max_features=auto, n_estimators=1000;, score=0.834 total time=   3.5s\n",
      "[CV 1/5] END criterion=entropy, max_depth=4, max_features=sqrt, n_estimators=200;, score=0.838 total time=   0.7s\n",
      "[CV 2/5] END criterion=entropy, max_depth=4, max_features=sqrt, n_estimators=200;, score=0.831 total time=   0.7s\n",
      "[CV 3/5] END criterion=entropy, max_depth=4, max_features=sqrt, n_estimators=200;, score=0.840 total time=   0.7s\n",
      "[CV 4/5] END criterion=entropy, max_depth=4, max_features=sqrt, n_estimators=200;, score=0.834 total time=   0.7s\n",
      "[CV 5/5] END criterion=entropy, max_depth=4, max_features=sqrt, n_estimators=200;, score=0.834 total time=   0.7s\n",
      "[CV 1/5] END criterion=entropy, max_depth=4, max_features=sqrt, n_estimators=500;, score=0.839 total time=   1.7s\n",
      "[CV 2/5] END criterion=entropy, max_depth=4, max_features=sqrt, n_estimators=500;, score=0.830 total time=   1.7s\n",
      "[CV 3/5] END criterion=entropy, max_depth=4, max_features=sqrt, n_estimators=500;, score=0.840 total time=   1.8s\n",
      "[CV 4/5] END criterion=entropy, max_depth=4, max_features=sqrt, n_estimators=500;, score=0.834 total time=   1.8s\n",
      "[CV 5/5] END criterion=entropy, max_depth=4, max_features=sqrt, n_estimators=500;, score=0.834 total time=   1.8s\n",
      "[CV 1/5] END criterion=entropy, max_depth=4, max_features=sqrt, n_estimators=1000;, score=0.841 total time=   3.7s\n",
      "[CV 2/5] END criterion=entropy, max_depth=4, max_features=sqrt, n_estimators=1000;, score=0.831 total time=   3.7s\n",
      "[CV 3/5] END criterion=entropy, max_depth=4, max_features=sqrt, n_estimators=1000;, score=0.841 total time=   3.7s\n",
      "[CV 4/5] END criterion=entropy, max_depth=4, max_features=sqrt, n_estimators=1000;, score=0.833 total time=   3.5s\n",
      "[CV 5/5] END criterion=entropy, max_depth=4, max_features=sqrt, n_estimators=1000;, score=0.834 total time=   3.6s\n",
      "[CV 1/5] END criterion=entropy, max_depth=4, max_features=log2, n_estimators=200;, score=0.838 total time=   0.7s\n",
      "[CV 2/5] END criterion=entropy, max_depth=4, max_features=log2, n_estimators=200;, score=0.831 total time=   0.7s\n",
      "[CV 3/5] END criterion=entropy, max_depth=4, max_features=log2, n_estimators=200;, score=0.840 total time=   0.7s\n",
      "[CV 4/5] END criterion=entropy, max_depth=4, max_features=log2, n_estimators=200;, score=0.834 total time=   0.7s\n",
      "[CV 5/5] END criterion=entropy, max_depth=4, max_features=log2, n_estimators=200;, score=0.834 total time=   0.7s\n",
      "[CV 1/5] END criterion=entropy, max_depth=4, max_features=log2, n_estimators=500;, score=0.839 total time=   1.7s\n",
      "[CV 2/5] END criterion=entropy, max_depth=4, max_features=log2, n_estimators=500;, score=0.830 total time=   1.7s\n",
      "[CV 3/5] END criterion=entropy, max_depth=4, max_features=log2, n_estimators=500;, score=0.840 total time=   1.7s\n",
      "[CV 4/5] END criterion=entropy, max_depth=4, max_features=log2, n_estimators=500;, score=0.834 total time=   1.7s\n",
      "[CV 5/5] END criterion=entropy, max_depth=4, max_features=log2, n_estimators=500;, score=0.834 total time=   1.8s\n",
      "[CV 1/5] END criterion=entropy, max_depth=4, max_features=log2, n_estimators=1000;, score=0.841 total time=   3.6s\n",
      "[CV 2/5] END criterion=entropy, max_depth=4, max_features=log2, n_estimators=1000;, score=0.831 total time=   3.6s\n",
      "[CV 3/5] END criterion=entropy, max_depth=4, max_features=log2, n_estimators=1000;, score=0.841 total time=   3.5s\n",
      "[CV 4/5] END criterion=entropy, max_depth=4, max_features=log2, n_estimators=1000;, score=0.833 total time=   3.5s\n",
      "[CV 5/5] END criterion=entropy, max_depth=4, max_features=log2, n_estimators=1000;, score=0.834 total time=   3.5s\n",
      "[CV 1/5] END criterion=entropy, max_depth=5, max_features=auto, n_estimators=200;, score=0.846 total time=   0.8s\n",
      "[CV 2/5] END criterion=entropy, max_depth=5, max_features=auto, n_estimators=200;, score=0.844 total time=   0.8s\n",
      "[CV 3/5] END criterion=entropy, max_depth=5, max_features=auto, n_estimators=200;, score=0.851 total time=   0.8s\n",
      "[CV 4/5] END criterion=entropy, max_depth=5, max_features=auto, n_estimators=200;, score=0.851 total time=   0.8s\n",
      "[CV 5/5] END criterion=entropy, max_depth=5, max_features=auto, n_estimators=200;, score=0.851 total time=   0.8s\n",
      "[CV 1/5] END criterion=entropy, max_depth=5, max_features=auto, n_estimators=500;, score=0.845 total time=   2.0s\n",
      "[CV 2/5] END criterion=entropy, max_depth=5, max_features=auto, n_estimators=500;, score=0.842 total time=   1.9s\n",
      "[CV 3/5] END criterion=entropy, max_depth=5, max_features=auto, n_estimators=500;, score=0.851 total time=   2.1s\n",
      "[CV 4/5] END criterion=entropy, max_depth=5, max_features=auto, n_estimators=500;, score=0.849 total time=   2.0s\n",
      "[CV 5/5] END criterion=entropy, max_depth=5, max_features=auto, n_estimators=500;, score=0.850 total time=   2.0s\n",
      "[CV 1/5] END criterion=entropy, max_depth=5, max_features=auto, n_estimators=1000;, score=0.846 total time=   4.1s\n",
      "[CV 2/5] END criterion=entropy, max_depth=5, max_features=auto, n_estimators=1000;, score=0.840 total time=   4.2s\n",
      "[CV 3/5] END criterion=entropy, max_depth=5, max_features=auto, n_estimators=1000;, score=0.851 total time=   4.6s\n",
      "[CV 4/5] END criterion=entropy, max_depth=5, max_features=auto, n_estimators=1000;, score=0.850 total time=   4.6s\n",
      "[CV 5/5] END criterion=entropy, max_depth=5, max_features=auto, n_estimators=1000;, score=0.850 total time=   4.5s\n",
      "[CV 1/5] END criterion=entropy, max_depth=5, max_features=sqrt, n_estimators=200;, score=0.846 total time=   0.8s\n",
      "[CV 2/5] END criterion=entropy, max_depth=5, max_features=sqrt, n_estimators=200;, score=0.844 total time=   0.9s\n",
      "[CV 3/5] END criterion=entropy, max_depth=5, max_features=sqrt, n_estimators=200;, score=0.851 total time=   0.9s\n",
      "[CV 4/5] END criterion=entropy, max_depth=5, max_features=sqrt, n_estimators=200;, score=0.851 total time=   0.9s\n",
      "[CV 5/5] END criterion=entropy, max_depth=5, max_features=sqrt, n_estimators=200;, score=0.851 total time=   0.9s\n",
      "[CV 1/5] END criterion=entropy, max_depth=5, max_features=sqrt, n_estimators=500;, score=0.845 total time=   2.4s\n",
      "[CV 2/5] END criterion=entropy, max_depth=5, max_features=sqrt, n_estimators=500;, score=0.842 total time=   2.1s\n",
      "[CV 3/5] END criterion=entropy, max_depth=5, max_features=sqrt, n_estimators=500;, score=0.851 total time=   2.1s\n",
      "[CV 4/5] END criterion=entropy, max_depth=5, max_features=sqrt, n_estimators=500;, score=0.849 total time=   2.2s\n"
     ]
    },
    {
     "name": "stdout",
     "output_type": "stream",
     "text": [
      "[CV 5/5] END criterion=entropy, max_depth=5, max_features=sqrt, n_estimators=500;, score=0.850 total time=   2.3s\n",
      "[CV 1/5] END criterion=entropy, max_depth=5, max_features=sqrt, n_estimators=1000;, score=0.846 total time=   4.2s\n",
      "[CV 2/5] END criterion=entropy, max_depth=5, max_features=sqrt, n_estimators=1000;, score=0.840 total time=   4.0s\n",
      "[CV 3/5] END criterion=entropy, max_depth=5, max_features=sqrt, n_estimators=1000;, score=0.851 total time=   4.4s\n",
      "[CV 4/5] END criterion=entropy, max_depth=5, max_features=sqrt, n_estimators=1000;, score=0.850 total time=   4.3s\n",
      "[CV 5/5] END criterion=entropy, max_depth=5, max_features=sqrt, n_estimators=1000;, score=0.850 total time=   4.2s\n",
      "[CV 1/5] END criterion=entropy, max_depth=5, max_features=log2, n_estimators=200;, score=0.846 total time=   0.9s\n",
      "[CV 2/5] END criterion=entropy, max_depth=5, max_features=log2, n_estimators=200;, score=0.844 total time=   0.9s\n",
      "[CV 3/5] END criterion=entropy, max_depth=5, max_features=log2, n_estimators=200;, score=0.851 total time=   0.9s\n",
      "[CV 4/5] END criterion=entropy, max_depth=5, max_features=log2, n_estimators=200;, score=0.851 total time=   0.9s\n",
      "[CV 5/5] END criterion=entropy, max_depth=5, max_features=log2, n_estimators=200;, score=0.851 total time=   0.9s\n",
      "[CV 1/5] END criterion=entropy, max_depth=5, max_features=log2, n_estimators=500;, score=0.845 total time=   2.0s\n",
      "[CV 2/5] END criterion=entropy, max_depth=5, max_features=log2, n_estimators=500;, score=0.842 total time=   2.0s\n",
      "[CV 3/5] END criterion=entropy, max_depth=5, max_features=log2, n_estimators=500;, score=0.851 total time=   2.0s\n",
      "[CV 4/5] END criterion=entropy, max_depth=5, max_features=log2, n_estimators=500;, score=0.849 total time=   2.1s\n",
      "[CV 5/5] END criterion=entropy, max_depth=5, max_features=log2, n_estimators=500;, score=0.850 total time=   2.1s\n",
      "[CV 1/5] END criterion=entropy, max_depth=5, max_features=log2, n_estimators=1000;, score=0.846 total time=   4.2s\n",
      "[CV 2/5] END criterion=entropy, max_depth=5, max_features=log2, n_estimators=1000;, score=0.840 total time=   4.3s\n",
      "[CV 3/5] END criterion=entropy, max_depth=5, max_features=log2, n_estimators=1000;, score=0.851 total time=   4.0s\n",
      "[CV 4/5] END criterion=entropy, max_depth=5, max_features=log2, n_estimators=1000;, score=0.850 total time=   4.3s\n",
      "[CV 5/5] END criterion=entropy, max_depth=5, max_features=log2, n_estimators=1000;, score=0.850 total time=   4.2s\n",
      "[CV 1/5] END criterion=entropy, max_depth=6, max_features=auto, n_estimators=200;, score=0.856 total time=   0.9s\n",
      "[CV 2/5] END criterion=entropy, max_depth=6, max_features=auto, n_estimators=200;, score=0.848 total time=   1.0s\n",
      "[CV 3/5] END criterion=entropy, max_depth=6, max_features=auto, n_estimators=200;, score=0.855 total time=   0.9s\n",
      "[CV 4/5] END criterion=entropy, max_depth=6, max_features=auto, n_estimators=200;, score=0.859 total time=   1.0s\n",
      "[CV 5/5] END criterion=entropy, max_depth=6, max_features=auto, n_estimators=200;, score=0.855 total time=   1.0s\n",
      "[CV 1/5] END criterion=entropy, max_depth=6, max_features=auto, n_estimators=500;, score=0.854 total time=   2.3s\n",
      "[CV 2/5] END criterion=entropy, max_depth=6, max_features=auto, n_estimators=500;, score=0.844 total time=   2.3s\n",
      "[CV 3/5] END criterion=entropy, max_depth=6, max_features=auto, n_estimators=500;, score=0.856 total time=   2.4s\n",
      "[CV 4/5] END criterion=entropy, max_depth=6, max_features=auto, n_estimators=500;, score=0.858 total time=   2.6s\n",
      "[CV 5/5] END criterion=entropy, max_depth=6, max_features=auto, n_estimators=500;, score=0.854 total time=   2.5s\n",
      "[CV 1/5] END criterion=entropy, max_depth=6, max_features=auto, n_estimators=1000;, score=0.857 total time=   5.3s\n",
      "[CV 2/5] END criterion=entropy, max_depth=6, max_features=auto, n_estimators=1000;, score=0.843 total time=   5.2s\n",
      "[CV 3/5] END criterion=entropy, max_depth=6, max_features=auto, n_estimators=1000;, score=0.855 total time=   5.2s\n",
      "[CV 4/5] END criterion=entropy, max_depth=6, max_features=auto, n_estimators=1000;, score=0.859 total time=   4.8s\n",
      "[CV 5/5] END criterion=entropy, max_depth=6, max_features=auto, n_estimators=1000;, score=0.855 total time=   4.9s\n",
      "[CV 1/5] END criterion=entropy, max_depth=6, max_features=sqrt, n_estimators=200;, score=0.856 total time=   1.0s\n",
      "[CV 2/5] END criterion=entropy, max_depth=6, max_features=sqrt, n_estimators=200;, score=0.848 total time=   1.0s\n",
      "[CV 3/5] END criterion=entropy, max_depth=6, max_features=sqrt, n_estimators=200;, score=0.855 total time=   0.9s\n",
      "[CV 4/5] END criterion=entropy, max_depth=6, max_features=sqrt, n_estimators=200;, score=0.859 total time=   0.9s\n",
      "[CV 5/5] END criterion=entropy, max_depth=6, max_features=sqrt, n_estimators=200;, score=0.855 total time=   0.9s\n",
      "[CV 1/5] END criterion=entropy, max_depth=6, max_features=sqrt, n_estimators=500;, score=0.854 total time=   2.2s\n",
      "[CV 2/5] END criterion=entropy, max_depth=6, max_features=sqrt, n_estimators=500;, score=0.844 total time=   2.4s\n",
      "[CV 3/5] END criterion=entropy, max_depth=6, max_features=sqrt, n_estimators=500;, score=0.856 total time=   2.4s\n",
      "[CV 4/5] END criterion=entropy, max_depth=6, max_features=sqrt, n_estimators=500;, score=0.858 total time=   2.2s\n",
      "[CV 5/5] END criterion=entropy, max_depth=6, max_features=sqrt, n_estimators=500;, score=0.854 total time=   2.1s\n",
      "[CV 1/5] END criterion=entropy, max_depth=6, max_features=sqrt, n_estimators=1000;, score=0.857 total time=   4.9s\n",
      "[CV 2/5] END criterion=entropy, max_depth=6, max_features=sqrt, n_estimators=1000;, score=0.843 total time=   5.1s\n",
      "[CV 3/5] END criterion=entropy, max_depth=6, max_features=sqrt, n_estimators=1000;, score=0.855 total time=   4.8s\n",
      "[CV 4/5] END criterion=entropy, max_depth=6, max_features=sqrt, n_estimators=1000;, score=0.859 total time=   4.9s\n",
      "[CV 5/5] END criterion=entropy, max_depth=6, max_features=sqrt, n_estimators=1000;, score=0.855 total time=   5.0s\n",
      "[CV 1/5] END criterion=entropy, max_depth=6, max_features=log2, n_estimators=200;, score=0.856 total time=   1.0s\n",
      "[CV 2/5] END criterion=entropy, max_depth=6, max_features=log2, n_estimators=200;, score=0.848 total time=   0.9s\n",
      "[CV 3/5] END criterion=entropy, max_depth=6, max_features=log2, n_estimators=200;, score=0.855 total time=   0.9s\n",
      "[CV 4/5] END criterion=entropy, max_depth=6, max_features=log2, n_estimators=200;, score=0.859 total time=   0.9s\n",
      "[CV 5/5] END criterion=entropy, max_depth=6, max_features=log2, n_estimators=200;, score=0.855 total time=   0.9s\n",
      "[CV 1/5] END criterion=entropy, max_depth=6, max_features=log2, n_estimators=500;, score=0.854 total time=   2.3s\n",
      "[CV 2/5] END criterion=entropy, max_depth=6, max_features=log2, n_estimators=500;, score=0.844 total time=   2.2s\n",
      "[CV 3/5] END criterion=entropy, max_depth=6, max_features=log2, n_estimators=500;, score=0.856 total time=   2.4s\n",
      "[CV 4/5] END criterion=entropy, max_depth=6, max_features=log2, n_estimators=500;, score=0.858 total time=   2.3s\n",
      "[CV 5/5] END criterion=entropy, max_depth=6, max_features=log2, n_estimators=500;, score=0.854 total time=   2.3s\n",
      "[CV 1/5] END criterion=entropy, max_depth=6, max_features=log2, n_estimators=1000;, score=0.857 total time=   4.6s\n",
      "[CV 2/5] END criterion=entropy, max_depth=6, max_features=log2, n_estimators=1000;, score=0.843 total time=   4.6s\n",
      "[CV 3/5] END criterion=entropy, max_depth=6, max_features=log2, n_estimators=1000;, score=0.855 total time=   4.6s\n",
      "[CV 4/5] END criterion=entropy, max_depth=6, max_features=log2, n_estimators=1000;, score=0.859 total time=   4.6s\n",
      "[CV 5/5] END criterion=entropy, max_depth=6, max_features=log2, n_estimators=1000;, score=0.855 total time=   4.6s\n",
      "[CV 1/5] END criterion=entropy, max_depth=7, max_features=auto, n_estimators=200;, score=0.869 total time=   1.0s\n",
      "[CV 2/5] END criterion=entropy, max_depth=7, max_features=auto, n_estimators=200;, score=0.846 total time=   1.0s\n",
      "[CV 3/5] END criterion=entropy, max_depth=7, max_features=auto, n_estimators=200;, score=0.858 total time=   1.0s\n",
      "[CV 4/5] END criterion=entropy, max_depth=7, max_features=auto, n_estimators=200;, score=0.862 total time=   1.0s\n",
      "[CV 5/5] END criterion=entropy, max_depth=7, max_features=auto, n_estimators=200;, score=0.854 total time=   1.0s\n",
      "[CV 1/5] END criterion=entropy, max_depth=7, max_features=auto, n_estimators=500;, score=0.868 total time=   2.5s\n"
     ]
    },
    {
     "name": "stdout",
     "output_type": "stream",
     "text": [
      "[CV 2/5] END criterion=entropy, max_depth=7, max_features=auto, n_estimators=500;, score=0.846 total time=   2.4s\n",
      "[CV 3/5] END criterion=entropy, max_depth=7, max_features=auto, n_estimators=500;, score=0.858 total time=   2.4s\n",
      "[CV 4/5] END criterion=entropy, max_depth=7, max_features=auto, n_estimators=500;, score=0.864 total time=   2.5s\n",
      "[CV 5/5] END criterion=entropy, max_depth=7, max_features=auto, n_estimators=500;, score=0.854 total time=   2.5s\n",
      "[CV 1/5] END criterion=entropy, max_depth=7, max_features=auto, n_estimators=1000;, score=0.869 total time=   5.0s\n",
      "[CV 2/5] END criterion=entropy, max_depth=7, max_features=auto, n_estimators=1000;, score=0.848 total time=   5.0s\n",
      "[CV 3/5] END criterion=entropy, max_depth=7, max_features=auto, n_estimators=1000;, score=0.858 total time=   4.9s\n",
      "[CV 4/5] END criterion=entropy, max_depth=7, max_features=auto, n_estimators=1000;, score=0.864 total time=   4.8s\n",
      "[CV 5/5] END criterion=entropy, max_depth=7, max_features=auto, n_estimators=1000;, score=0.856 total time=   4.8s\n",
      "[CV 1/5] END criterion=entropy, max_depth=7, max_features=sqrt, n_estimators=200;, score=0.869 total time=   1.0s\n",
      "[CV 2/5] END criterion=entropy, max_depth=7, max_features=sqrt, n_estimators=200;, score=0.846 total time=   1.0s\n",
      "[CV 3/5] END criterion=entropy, max_depth=7, max_features=sqrt, n_estimators=200;, score=0.858 total time=   1.0s\n",
      "[CV 4/5] END criterion=entropy, max_depth=7, max_features=sqrt, n_estimators=200;, score=0.862 total time=   1.0s\n",
      "[CV 5/5] END criterion=entropy, max_depth=7, max_features=sqrt, n_estimators=200;, score=0.854 total time=   1.0s\n",
      "[CV 1/5] END criterion=entropy, max_depth=7, max_features=sqrt, n_estimators=500;, score=0.868 total time=   2.4s\n",
      "[CV 2/5] END criterion=entropy, max_depth=7, max_features=sqrt, n_estimators=500;, score=0.846 total time=   2.4s\n",
      "[CV 3/5] END criterion=entropy, max_depth=7, max_features=sqrt, n_estimators=500;, score=0.858 total time=   2.4s\n",
      "[CV 4/5] END criterion=entropy, max_depth=7, max_features=sqrt, n_estimators=500;, score=0.864 total time=   2.4s\n",
      "[CV 5/5] END criterion=entropy, max_depth=7, max_features=sqrt, n_estimators=500;, score=0.854 total time=   2.5s\n",
      "[CV 1/5] END criterion=entropy, max_depth=7, max_features=sqrt, n_estimators=1000;, score=0.869 total time=   4.8s\n",
      "[CV 2/5] END criterion=entropy, max_depth=7, max_features=sqrt, n_estimators=1000;, score=0.848 total time=   4.8s\n",
      "[CV 3/5] END criterion=entropy, max_depth=7, max_features=sqrt, n_estimators=1000;, score=0.858 total time=   4.8s\n",
      "[CV 4/5] END criterion=entropy, max_depth=7, max_features=sqrt, n_estimators=1000;, score=0.864 total time=   4.8s\n",
      "[CV 5/5] END criterion=entropy, max_depth=7, max_features=sqrt, n_estimators=1000;, score=0.856 total time=   5.0s\n",
      "[CV 1/5] END criterion=entropy, max_depth=7, max_features=log2, n_estimators=200;, score=0.869 total time=   1.0s\n",
      "[CV 2/5] END criterion=entropy, max_depth=7, max_features=log2, n_estimators=200;, score=0.846 total time=   1.0s\n",
      "[CV 3/5] END criterion=entropy, max_depth=7, max_features=log2, n_estimators=200;, score=0.858 total time=   1.0s\n",
      "[CV 4/5] END criterion=entropy, max_depth=7, max_features=log2, n_estimators=200;, score=0.862 total time=   1.0s\n",
      "[CV 5/5] END criterion=entropy, max_depth=7, max_features=log2, n_estimators=200;, score=0.854 total time=   1.0s\n",
      "[CV 1/5] END criterion=entropy, max_depth=7, max_features=log2, n_estimators=500;, score=0.868 total time=   2.5s\n",
      "[CV 2/5] END criterion=entropy, max_depth=7, max_features=log2, n_estimators=500;, score=0.846 total time=   2.4s\n",
      "[CV 3/5] END criterion=entropy, max_depth=7, max_features=log2, n_estimators=500;, score=0.858 total time=   2.5s\n",
      "[CV 4/5] END criterion=entropy, max_depth=7, max_features=log2, n_estimators=500;, score=0.864 total time=   2.5s\n",
      "[CV 5/5] END criterion=entropy, max_depth=7, max_features=log2, n_estimators=500;, score=0.854 total time=   2.5s\n",
      "[CV 1/5] END criterion=entropy, max_depth=7, max_features=log2, n_estimators=1000;, score=0.869 total time=   5.0s\n",
      "[CV 2/5] END criterion=entropy, max_depth=7, max_features=log2, n_estimators=1000;, score=0.848 total time=   4.9s\n",
      "[CV 3/5] END criterion=entropy, max_depth=7, max_features=log2, n_estimators=1000;, score=0.858 total time=   4.9s\n",
      "[CV 4/5] END criterion=entropy, max_depth=7, max_features=log2, n_estimators=1000;, score=0.864 total time=   4.8s\n",
      "[CV 5/5] END criterion=entropy, max_depth=7, max_features=log2, n_estimators=1000;, score=0.856 total time=   4.9s\n",
      "[CV 1/5] END criterion=entropy, max_depth=8, max_features=auto, n_estimators=200;, score=0.876 total time=   1.1s\n",
      "[CV 2/5] END criterion=entropy, max_depth=8, max_features=auto, n_estimators=200;, score=0.853 total time=   1.1s\n",
      "[CV 3/5] END criterion=entropy, max_depth=8, max_features=auto, n_estimators=200;, score=0.863 total time=   1.1s\n",
      "[CV 4/5] END criterion=entropy, max_depth=8, max_features=auto, n_estimators=200;, score=0.864 total time=   1.2s\n",
      "[CV 5/5] END criterion=entropy, max_depth=8, max_features=auto, n_estimators=200;, score=0.856 total time=   1.2s\n",
      "[CV 1/5] END criterion=entropy, max_depth=8, max_features=auto, n_estimators=500;, score=0.873 total time=   2.8s\n",
      "[CV 2/5] END criterion=entropy, max_depth=8, max_features=auto, n_estimators=500;, score=0.853 total time=   2.9s\n",
      "[CV 3/5] END criterion=entropy, max_depth=8, max_features=auto, n_estimators=500;, score=0.860 total time=   3.1s\n",
      "[CV 4/5] END criterion=entropy, max_depth=8, max_features=auto, n_estimators=500;, score=0.864 total time=   3.0s\n",
      "[CV 5/5] END criterion=entropy, max_depth=8, max_features=auto, n_estimators=500;, score=0.856 total time=   2.9s\n",
      "[CV 1/5] END criterion=entropy, max_depth=8, max_features=auto, n_estimators=1000;, score=0.871 total time=   6.1s\n",
      "[CV 2/5] END criterion=entropy, max_depth=8, max_features=auto, n_estimators=1000;, score=0.852 total time=   5.9s\n",
      "[CV 3/5] END criterion=entropy, max_depth=8, max_features=auto, n_estimators=1000;, score=0.861 total time=   5.8s\n",
      "[CV 4/5] END criterion=entropy, max_depth=8, max_features=auto, n_estimators=1000;, score=0.864 total time=   5.6s\n",
      "[CV 5/5] END criterion=entropy, max_depth=8, max_features=auto, n_estimators=1000;, score=0.854 total time=   5.3s\n",
      "[CV 1/5] END criterion=entropy, max_depth=8, max_features=sqrt, n_estimators=200;, score=0.876 total time=   1.1s\n",
      "[CV 2/5] END criterion=entropy, max_depth=8, max_features=sqrt, n_estimators=200;, score=0.853 total time=   1.1s\n",
      "[CV 3/5] END criterion=entropy, max_depth=8, max_features=sqrt, n_estimators=200;, score=0.863 total time=   1.1s\n",
      "[CV 4/5] END criterion=entropy, max_depth=8, max_features=sqrt, n_estimators=200;, score=0.864 total time=   1.0s\n",
      "[CV 5/5] END criterion=entropy, max_depth=8, max_features=sqrt, n_estimators=200;, score=0.856 total time=   1.1s\n",
      "[CV 1/5] END criterion=entropy, max_depth=8, max_features=sqrt, n_estimators=500;, score=0.873 total time=   2.9s\n",
      "[CV 2/5] END criterion=entropy, max_depth=8, max_features=sqrt, n_estimators=500;, score=0.853 total time=   3.0s\n",
      "[CV 3/5] END criterion=entropy, max_depth=8, max_features=sqrt, n_estimators=500;, score=0.860 total time=   2.9s\n",
      "[CV 4/5] END criterion=entropy, max_depth=8, max_features=sqrt, n_estimators=500;, score=0.864 total time=   3.0s\n",
      "[CV 5/5] END criterion=entropy, max_depth=8, max_features=sqrt, n_estimators=500;, score=0.856 total time=   2.9s\n",
      "[CV 1/5] END criterion=entropy, max_depth=8, max_features=sqrt, n_estimators=1000;, score=0.871 total time=   5.7s\n",
      "[CV 2/5] END criterion=entropy, max_depth=8, max_features=sqrt, n_estimators=1000;, score=0.852 total time=   5.7s\n",
      "[CV 3/5] END criterion=entropy, max_depth=8, max_features=sqrt, n_estimators=1000;, score=0.861 total time=   5.7s\n",
      "[CV 4/5] END criterion=entropy, max_depth=8, max_features=sqrt, n_estimators=1000;, score=0.864 total time=   6.1s\n",
      "[CV 5/5] END criterion=entropy, max_depth=8, max_features=sqrt, n_estimators=1000;, score=0.854 total time=   6.0s\n",
      "[CV 1/5] END criterion=entropy, max_depth=8, max_features=log2, n_estimators=200;, score=0.876 total time=   1.1s\n",
      "[CV 2/5] END criterion=entropy, max_depth=8, max_features=log2, n_estimators=200;, score=0.853 total time=   1.2s\n",
      "[CV 3/5] END criterion=entropy, max_depth=8, max_features=log2, n_estimators=200;, score=0.863 total time=   1.1s\n"
     ]
    },
    {
     "name": "stdout",
     "output_type": "stream",
     "text": [
      "[CV 4/5] END criterion=entropy, max_depth=8, max_features=log2, n_estimators=200;, score=0.864 total time=   1.2s\n",
      "[CV 5/5] END criterion=entropy, max_depth=8, max_features=log2, n_estimators=200;, score=0.856 total time=   1.1s\n",
      "[CV 1/5] END criterion=entropy, max_depth=8, max_features=log2, n_estimators=500;, score=0.873 total time=   2.9s\n",
      "[CV 2/5] END criterion=entropy, max_depth=8, max_features=log2, n_estimators=500;, score=0.853 total time=   2.8s\n",
      "[CV 3/5] END criterion=entropy, max_depth=8, max_features=log2, n_estimators=500;, score=0.860 total time=   3.0s\n",
      "[CV 4/5] END criterion=entropy, max_depth=8, max_features=log2, n_estimators=500;, score=0.864 total time=   2.9s\n",
      "[CV 5/5] END criterion=entropy, max_depth=8, max_features=log2, n_estimators=500;, score=0.856 total time=   2.8s\n",
      "[CV 1/5] END criterion=entropy, max_depth=8, max_features=log2, n_estimators=1000;, score=0.871 total time=   5.9s\n",
      "[CV 2/5] END criterion=entropy, max_depth=8, max_features=log2, n_estimators=1000;, score=0.852 total time=   5.6s\n",
      "[CV 3/5] END criterion=entropy, max_depth=8, max_features=log2, n_estimators=1000;, score=0.861 total time=   5.8s\n",
      "[CV 4/5] END criterion=entropy, max_depth=8, max_features=log2, n_estimators=1000;, score=0.864 total time=   5.8s\n",
      "[CV 5/5] END criterion=entropy, max_depth=8, max_features=log2, n_estimators=1000;, score=0.854 total time=   5.5s\n"
     ]
    },
    {
     "data": {
      "text/plain": [
       "GridSearchCV(cv=5, estimator=RandomForestClassifier(random_state=123),\n",
       "             param_grid={'criterion': ['gini', 'entropy'],\n",
       "                         'max_depth': [4, 5, 6, 7, 8],\n",
       "                         'max_features': ['auto', 'sqrt', 'log2'],\n",
       "                         'n_estimators': [200, 500, 1000]},\n",
       "             verbose=3)"
      ]
     },
     "execution_count": 344,
     "metadata": {},
     "output_type": "execute_result"
    }
   ],
   "source": [
    "from sklearn.model_selection import GridSearchCV\n",
    "param_grid = { \n",
    "    'n_estimators': [200, 500,1000],\n",
    "    'max_features': ['auto', 'sqrt', 'log2'],\n",
    "    'max_depth' : [4,5,6,7,8],\n",
    "    'criterion' :['gini', 'entropy']\n",
    "}\n",
    "rfgrid = GridSearchCV(estimator=rf, param_grid=param_grid, cv= 5, verbose=3)\n",
    "rfgrid.fit(X_train, y_train)"
   ]
  },
  {
   "cell_type": "code",
   "execution_count": 345,
   "metadata": {},
   "outputs": [
    {
     "name": "stdout",
     "output_type": "stream",
     "text": [
      "{'criterion': 'gini', 'max_depth': 8, 'max_features': 'auto', 'n_estimators': 200}\n"
     ]
    }
   ],
   "source": [
    "print(rfgrid.best_params_)"
   ]
  },
  {
   "cell_type": "code",
   "execution_count": 346,
   "metadata": {},
   "outputs": [],
   "source": [
    "y_pred = rfgrid.predict(X_test)"
   ]
  },
  {
   "cell_type": "code",
   "execution_count": 347,
   "metadata": {},
   "outputs": [
    {
     "data": {
      "text/plain": [
       "array([[1557,   50],\n",
       "       [ 228,  165]])"
      ]
     },
     "execution_count": 347,
     "metadata": {},
     "output_type": "execute_result"
    }
   ],
   "source": [
    "from sklearn.metrics import confusion_matrix, accuracy_score\n",
    "cm = confusion_matrix(y_test,y_pred)\n",
    "cm"
   ]
  },
  {
   "cell_type": "code",
   "execution_count": 348,
   "metadata": {},
   "outputs": [
    {
     "data": {
      "text/plain": [
       "<matplotlib.axes._subplots.AxesSubplot at 0x7fe0f7923cd0>"
      ]
     },
     "execution_count": 348,
     "metadata": {},
     "output_type": "execute_result"
    },
    {
     "data": {
      "image/png": "[encoded data removed]",
      "text/plain": [
       "<Figure size 432x288 with 2 Axes>"
      ]
     },
     "metadata": {
      "needs_background": "light"
     },
     "output_type": "display_data"
    }
   ],
   "source": [
    "group_names = ['True Neg','False Pos','False Neg','True Pos']\n",
    "group_counts = ['{0:0.0f}'.format(value) for value in\n",
    "                cm.flatten()]\n",
    "group_percentages = [\"{0:.2%}\".format(value) for value in\n",
    "                     cm.flatten()/np.sum(cm)]\n",
    "labels = [f\"{v1}\\n{v2}\\n{v3}\" for v1, v2, v3 in\n",
    "          zip(group_names,group_counts,group_percentages)]\n",
    "labels = np.asarray(labels).reshape(2,2)\n",
    "sns.heatmap(cm, annot=labels, fmt='', cmap='Blues')"
   ]
  },
  {
   "cell_type": "code",
   "execution_count": 349,
   "metadata": {},
   "outputs": [
    {
     "name": "stdout",
     "output_type": "stream",
     "text": [
      "              precision    recall  f1-score   support\n",
      "\n",
      "           0       0.87      0.97      0.92      1607\n",
      "           1       0.77      0.42      0.54       393\n",
      "\n",
      "    accuracy                           0.86      2000\n",
      "   macro avg       0.82      0.69      0.73      2000\n",
      "weighted avg       0.85      0.86      0.84      2000\n",
      "\n"
     ]
    }
   ],
   "source": [
    "from sklearn.metrics import classification_report\n",
    "print(classification_report(y_test, y_pred))"
   ]
  },
  {
   "cell_type": "markdown",
   "metadata": {},
   "source": [
    "# Section 8: ANN"
   ]
  },
  {
   "cell_type": "code",
   "execution_count": 367,
   "metadata": {},
   "outputs": [],
   "source": [
    "from tensorflow.keras.models import Sequential\n",
    "from tensorflow.keras.layers import Dense"
   ]
  },
  {
   "cell_type": "code",
   "execution_count": 368,
   "metadata": {},
   "outputs": [
    {
     "data": {
      "text/plain": [
       "12"
      ]
     },
     "execution_count": 368,
     "metadata": {},
     "output_type": "execute_result"
    }
   ],
   "source": [
    "len(X_train[0])"
   ]
  },
  {
   "cell_type": "code",
   "execution_count": 370,
   "metadata": {},
   "outputs": [],
   "source": [
    "ann = Sequential()\n",
    "ann.add(Dense(units=6, activation='relu'))\n",
    "ann.add(Dense(units=6, activation='relu'))\n",
    "# ann.add(Dense(units=20, activation='relu'))\n",
    "# ann.add(Dense(units=6, activation='relu'))\n",
    "ann.add(Dense(units=1, activation='sigmoid'))"
   ]
  },
  {
   "cell_type": "code",
   "execution_count": 371,
   "metadata": {},
   "outputs": [],
   "source": [
    "ann.compile(optimizer='adam',\n",
    "              loss='binary_crossentropy',\n",
    "              metrics=['accuracy'])"
   ]
  },
  {
   "cell_type": "code",
   "execution_count": 372,
   "metadata": {},
   "outputs": [
    {
     "name": "stdout",
     "output_type": "stream",
     "text": [
      "Epoch 1/100\n",
      "250/250 - 1s - loss: 0.5530 - accuracy: 0.7764\n",
      "Epoch 2/100\n",
      "250/250 - 0s - loss: 0.4813 - accuracy: 0.7945\n",
      "Epoch 3/100\n",
      "250/250 - 0s - loss: 0.4601 - accuracy: 0.7945\n",
      "Epoch 4/100\n",
      "250/250 - 0s - loss: 0.4469 - accuracy: 0.7960\n",
      "Epoch 5/100\n",
      "250/250 - 0s - loss: 0.4370 - accuracy: 0.8045\n",
      "Epoch 6/100\n",
      "250/250 - 0s - loss: 0.4302 - accuracy: 0.8148\n",
      "Epoch 7/100\n",
      "250/250 - 0s - loss: 0.4258 - accuracy: 0.8204\n",
      "Epoch 8/100\n",
      "250/250 - 0s - loss: 0.4226 - accuracy: 0.8213\n",
      "Epoch 9/100\n",
      "250/250 - 0s - loss: 0.4196 - accuracy: 0.8217\n",
      "Epoch 10/100\n",
      "250/250 - 0s - loss: 0.4172 - accuracy: 0.8239\n",
      "Epoch 11/100\n",
      "250/250 - 0s - loss: 0.4144 - accuracy: 0.8265\n",
      "Epoch 12/100\n",
      "250/250 - 0s - loss: 0.4115 - accuracy: 0.8300\n",
      "Epoch 13/100\n",
      "250/250 - 0s - loss: 0.4086 - accuracy: 0.8295\n",
      "Epoch 14/100\n",
      "250/250 - 0s - loss: 0.4045 - accuracy: 0.8338\n",
      "Epoch 15/100\n",
      "250/250 - 0s - loss: 0.4000 - accuracy: 0.8357\n",
      "Epoch 16/100\n",
      "250/250 - 0s - loss: 0.3951 - accuracy: 0.8359\n",
      "Epoch 17/100\n",
      "250/250 - 0s - loss: 0.3900 - accuracy: 0.8397\n",
      "Epoch 18/100\n",
      "250/250 - 0s - loss: 0.3847 - accuracy: 0.8409\n",
      "Epoch 19/100\n",
      "250/250 - 0s - loss: 0.3802 - accuracy: 0.8426\n",
      "Epoch 20/100\n",
      "250/250 - 0s - loss: 0.3759 - accuracy: 0.8447\n",
      "Epoch 21/100\n",
      "250/250 - 0s - loss: 0.3710 - accuracy: 0.8484\n",
      "Epoch 22/100\n",
      "250/250 - 0s - loss: 0.3666 - accuracy: 0.8496\n",
      "Epoch 23/100\n",
      "250/250 - 0s - loss: 0.3621 - accuracy: 0.8514\n",
      "Epoch 24/100\n",
      "250/250 - 0s - loss: 0.3591 - accuracy: 0.8534\n",
      "Epoch 25/100\n",
      "250/250 - 0s - loss: 0.3557 - accuracy: 0.8524\n",
      "Epoch 26/100\n",
      "250/250 - 0s - loss: 0.3537 - accuracy: 0.8569\n",
      "Epoch 27/100\n",
      "250/250 - 0s - loss: 0.3517 - accuracy: 0.8561\n",
      "Epoch 28/100\n",
      "250/250 - 0s - loss: 0.3498 - accuracy: 0.8581\n",
      "Epoch 29/100\n",
      "250/250 - 0s - loss: 0.3482 - accuracy: 0.8597\n",
      "Epoch 30/100\n",
      "250/250 - 0s - loss: 0.3468 - accuracy: 0.8600\n",
      "Epoch 31/100\n",
      "250/250 - 0s - loss: 0.3456 - accuracy: 0.8610\n",
      "Epoch 32/100\n",
      "250/250 - 0s - loss: 0.3443 - accuracy: 0.8611\n",
      "Epoch 33/100\n",
      "250/250 - 0s - loss: 0.3440 - accuracy: 0.8614\n",
      "Epoch 34/100\n",
      "250/250 - 0s - loss: 0.3430 - accuracy: 0.8645\n",
      "Epoch 35/100\n",
      "250/250 - 0s - loss: 0.3418 - accuracy: 0.8630\n",
      "Epoch 36/100\n",
      "250/250 - 0s - loss: 0.3412 - accuracy: 0.8616\n",
      "Epoch 37/100\n",
      "250/250 - 0s - loss: 0.3406 - accuracy: 0.8629\n",
      "Epoch 38/100\n",
      "250/250 - 0s - loss: 0.3405 - accuracy: 0.8616\n",
      "Epoch 39/100\n",
      "250/250 - 0s - loss: 0.3401 - accuracy: 0.8622\n",
      "Epoch 40/100\n",
      "250/250 - 0s - loss: 0.3391 - accuracy: 0.8631\n",
      "Epoch 41/100\n",
      "250/250 - 0s - loss: 0.3392 - accuracy: 0.8620\n",
      "Epoch 42/100\n",
      "250/250 - 0s - loss: 0.3383 - accuracy: 0.8637\n",
      "Epoch 43/100\n",
      "250/250 - 0s - loss: 0.3386 - accuracy: 0.8624\n",
      "Epoch 44/100\n",
      "250/250 - 0s - loss: 0.3380 - accuracy: 0.8627\n",
      "Epoch 45/100\n",
      "250/250 - 0s - loss: 0.3376 - accuracy: 0.8637\n",
      "Epoch 46/100\n",
      "250/250 - 0s - loss: 0.3375 - accuracy: 0.8635\n",
      "Epoch 47/100\n",
      "250/250 - 0s - loss: 0.3375 - accuracy: 0.8641\n",
      "Epoch 48/100\n",
      "250/250 - 0s - loss: 0.3369 - accuracy: 0.8639\n",
      "Epoch 49/100\n",
      "250/250 - 0s - loss: 0.3364 - accuracy: 0.8636\n",
      "Epoch 50/100\n",
      "250/250 - 0s - loss: 0.3365 - accuracy: 0.8640\n",
      "Epoch 51/100\n",
      "250/250 - 0s - loss: 0.3363 - accuracy: 0.8644\n",
      "Epoch 52/100\n",
      "250/250 - 0s - loss: 0.3360 - accuracy: 0.8641\n",
      "Epoch 53/100\n",
      "250/250 - 0s - loss: 0.3354 - accuracy: 0.8655\n",
      "Epoch 54/100\n",
      "250/250 - 0s - loss: 0.3362 - accuracy: 0.8636\n",
      "Epoch 55/100\n",
      "250/250 - 0s - loss: 0.3359 - accuracy: 0.8631\n",
      "Epoch 56/100\n",
      "250/250 - 0s - loss: 0.3354 - accuracy: 0.8641\n",
      "Epoch 57/100\n",
      "250/250 - 0s - loss: 0.3355 - accuracy: 0.8644\n",
      "Epoch 58/100\n",
      "250/250 - 0s - loss: 0.3356 - accuracy: 0.8650\n",
      "Epoch 59/100\n",
      "250/250 - 0s - loss: 0.3355 - accuracy: 0.8649\n",
      "Epoch 60/100\n",
      "250/250 - 0s - loss: 0.3346 - accuracy: 0.8651\n",
      "Epoch 61/100\n",
      "250/250 - 0s - loss: 0.3347 - accuracy: 0.8641\n",
      "Epoch 62/100\n",
      "250/250 - 0s - loss: 0.3345 - accuracy: 0.8649\n",
      "Epoch 63/100\n",
      "250/250 - 0s - loss: 0.3341 - accuracy: 0.8636\n",
      "Epoch 64/100\n",
      "250/250 - 0s - loss: 0.3349 - accuracy: 0.8659\n",
      "Epoch 65/100\n",
      "250/250 - 0s - loss: 0.3345 - accuracy: 0.8652\n",
      "Epoch 66/100\n",
      "250/250 - 0s - loss: 0.3344 - accuracy: 0.8654\n",
      "Epoch 67/100\n",
      "250/250 - 0s - loss: 0.3342 - accuracy: 0.8645\n",
      "Epoch 68/100\n",
      "250/250 - 0s - loss: 0.3341 - accuracy: 0.8655\n",
      "Epoch 69/100\n",
      "250/250 - 0s - loss: 0.3343 - accuracy: 0.8631\n",
      "Epoch 70/100\n",
      "250/250 - 0s - loss: 0.3336 - accuracy: 0.8648\n",
      "Epoch 71/100\n",
      "250/250 - 0s - loss: 0.3338 - accuracy: 0.8659\n",
      "Epoch 72/100\n",
      "250/250 - 0s - loss: 0.3345 - accuracy: 0.8633\n",
      "Epoch 73/100\n",
      "250/250 - 0s - loss: 0.3336 - accuracy: 0.8651\n",
      "Epoch 74/100\n",
      "250/250 - 0s - loss: 0.3336 - accuracy: 0.8641\n",
      "Epoch 75/100\n",
      "250/250 - 0s - loss: 0.3339 - accuracy: 0.8656\n",
      "Epoch 76/100\n",
      "250/250 - 0s - loss: 0.3334 - accuracy: 0.8641\n",
      "Epoch 77/100\n",
      "250/250 - 0s - loss: 0.3331 - accuracy: 0.8641\n",
      "Epoch 78/100\n",
      "250/250 - 0s - loss: 0.3333 - accuracy: 0.8640\n",
      "Epoch 79/100\n",
      "250/250 - 0s - loss: 0.3328 - accuracy: 0.8654\n",
      "Epoch 80/100\n",
      "250/250 - 0s - loss: 0.3338 - accuracy: 0.8652\n",
      "Epoch 81/100\n",
      "250/250 - 0s - loss: 0.3333 - accuracy: 0.8651\n",
      "Epoch 82/100\n",
      "250/250 - 0s - loss: 0.3330 - accuracy: 0.8661\n",
      "Epoch 83/100\n",
      "250/250 - 0s - loss: 0.3332 - accuracy: 0.8650\n",
      "Epoch 84/100\n",
      "250/250 - 0s - loss: 0.3335 - accuracy: 0.8648\n",
      "Epoch 85/100\n",
      "250/250 - 0s - loss: 0.3328 - accuracy: 0.8645\n",
      "Epoch 86/100\n",
      "250/250 - 0s - loss: 0.3331 - accuracy: 0.8649\n",
      "Epoch 87/100\n",
      "250/250 - 0s - loss: 0.3328 - accuracy: 0.8671\n",
      "Epoch 88/100\n",
      "250/250 - 0s - loss: 0.3335 - accuracy: 0.8660\n",
      "Epoch 89/100\n",
      "250/250 - 0s - loss: 0.3329 - accuracy: 0.8646\n",
      "Epoch 90/100\n",
      "250/250 - 0s - loss: 0.3332 - accuracy: 0.8662\n",
      "Epoch 91/100\n",
      "250/250 - 0s - loss: 0.3325 - accuracy: 0.8646\n",
      "Epoch 92/100\n",
      "250/250 - 0s - loss: 0.3335 - accuracy: 0.8645\n",
      "Epoch 93/100\n",
      "250/250 - 0s - loss: 0.3326 - accuracy: 0.8639\n",
      "Epoch 94/100\n",
      "250/250 - 0s - loss: 0.3332 - accuracy: 0.8630\n",
      "Epoch 95/100\n",
      "250/250 - 0s - loss: 0.3325 - accuracy: 0.8648\n",
      "Epoch 96/100\n",
      "250/250 - 0s - loss: 0.3329 - accuracy: 0.8655\n",
      "Epoch 97/100\n",
      "250/250 - 0s - loss: 0.3327 - accuracy: 0.8650\n",
      "Epoch 98/100\n",
      "250/250 - 0s - loss: 0.3329 - accuracy: 0.8660\n",
      "Epoch 99/100\n",
      "250/250 - 0s - loss: 0.3322 - accuracy: 0.8658\n",
      "Epoch 100/100\n",
      "250/250 - 0s - loss: 0.3330 - accuracy: 0.8648\n"
     ]
    },
    {
     "data": {
      "text/plain": [
       "<tensorflow.python.keras.callbacks.History at 0x7fe0f4f709d0>"
      ]
     },
     "execution_count": 372,
     "metadata": {},
     "output_type": "execute_result"
    }
   ],
   "source": [
    "ann.fit(\n",
    "    X_train,\n",
    "    y_train,\n",
    "    epochs=100,\n",
    "    shuffle=True,\n",
    "    verbose=2\n",
    ")"
   ]
  },
  {
   "cell_type": "code",
   "execution_count": 374,
   "metadata": {},
   "outputs": [],
   "source": [
    "y_pred = ann.predict(X_test)\n",
    "y_pred = (y_pred > 0.5)"
   ]
  },
  {
   "cell_type": "code",
   "execution_count": 375,
   "metadata": {},
   "outputs": [
    {
     "data": {
      "text/plain": [
       "array([[False],\n",
       "       [False],\n",
       "       [False],\n",
       "       ...,\n",
       "       [ True],\n",
       "       [False],\n",
       "       [False]])"
      ]
     },
     "execution_count": 375,
     "metadata": {},
     "output_type": "execute_result"
    }
   ],
   "source": [
    "y_pred"
   ]
  },
  {
   "cell_type": "code",
   "execution_count": 376,
   "metadata": {},
   "outputs": [
    {
     "data": {
      "text/plain": [
       "array([[1531,   76],\n",
       "       [ 207,  186]])"
      ]
     },
     "execution_count": 376,
     "metadata": {},
     "output_type": "execute_result"
    }
   ],
   "source": [
    "cm = confusion_matrix(y_test,y_pred)\n",
    "cm"
   ]
  },
  {
   "cell_type": "code",
   "execution_count": 377,
   "metadata": {},
   "outputs": [
    {
     "data": {
      "text/plain": [
       "<matplotlib.axes._subplots.AxesSubplot at 0x7fe0f8069d90>"
      ]
     },
     "execution_count": 377,
     "metadata": {},
     "output_type": "execute_result"
    },
    {
     "data": {
      "image/png": "[encoded data removed]",
      "text/plain": [
       "<Figure size 432x288 with 2 Axes>"
      ]
     },
     "metadata": {
      "needs_background": "light"
     },
     "output_type": "display_data"
    }
   ],
   "source": [
    "group_names = ['True Neg','False Pos','False Neg','True Pos']\n",
    "group_counts = ['{0:0.0f}'.format(value) for value in\n",
    "                cm.flatten()]\n",
    "group_percentages = [\"{0:.2%}\".format(value) for value in\n",
    "                     cm.flatten()/np.sum(cm)]\n",
    "labels = [f\"{v1}\\n{v2}\\n{v3}\" for v1, v2, v3 in\n",
    "          zip(group_names,group_counts,group_percentages)]\n",
    "labels = np.asarray(labels).reshape(2,2)\n",
    "sns.heatmap(cm, annot=labels, fmt='', cmap='Blues')"
   ]
  },
  {
   "cell_type": "code",
   "execution_count": 378,
   "metadata": {},
   "outputs": [
    {
     "name": "stdout",
     "output_type": "stream",
     "text": [
      "              precision    recall  f1-score   support\n",
      "\n",
      "           0       0.88      0.95      0.92      1607\n",
      "           1       0.71      0.47      0.57       393\n",
      "\n",
      "    accuracy                           0.86      2000\n",
      "   macro avg       0.80      0.71      0.74      2000\n",
      "weighted avg       0.85      0.86      0.85      2000\n",
      "\n"
     ]
    }
   ],
   "source": [
    "from sklearn.metrics import classification_report\n",
    "print(classification_report(y_test, y_pred))"
   ]
  },
  {
   "cell_type": "markdown",
   "metadata": {},
   "source": [
    "# Section 9: Predicting a New Value"
   ]
  },
  {
   "cell_type": "code",
   "execution_count": 379,
   "metadata": {},
   "outputs": [
    {
     "data": {
      "text/html": [
       "<div>\n",
       "<style scoped>\n",
       "    .dataframe tbody tr th:only-of-type {\n",
       "        vertical-align: middle;\n",
       "    }\n",
       "\n",
       "    .dataframe tbody tr th {\n",
       "        vertical-align: top;\n",
       "    }\n",
       "\n",
       "    .dataframe thead th {\n",
       "        text-align: right;\n",
       "    }\n",
       "</style>\n",
       "<table border=\"1\" class=\"dataframe\">\n",
       "  <thead>\n",
       "    <tr style=\"text-align: right;\">\n",
       "      <th></th>\n",
       "      <th>CreditScore</th>\n",
       "      <th>Geography</th>\n",
       "      <th>Gender</th>\n",
       "      <th>Age</th>\n",
       "      <th>Tenure</th>\n",
       "      <th>Balance</th>\n",
       "      <th>NumOfProducts</th>\n",
       "      <th>HasCrCard</th>\n",
       "      <th>IsActiveMember</th>\n",
       "      <th>EstimatedSalary</th>\n",
       "      <th>Exited</th>\n",
       "    </tr>\n",
       "  </thead>\n",
       "  <tbody>\n",
       "    <tr>\n",
       "      <th>0</th>\n",
       "      <td>619</td>\n",
       "      <td>France</td>\n",
       "      <td>Female</td>\n",
       "      <td>42</td>\n",
       "      <td>2</td>\n",
       "      <td>0.00</td>\n",
       "      <td>1</td>\n",
       "      <td>1</td>\n",
       "      <td>1</td>\n",
       "      <td>101348.88</td>\n",
       "      <td>1</td>\n",
       "    </tr>\n",
       "    <tr>\n",
       "      <th>1</th>\n",
       "      <td>608</td>\n",
       "      <td>Spain</td>\n",
       "      <td>Female</td>\n",
       "      <td>41</td>\n",
       "      <td>1</td>\n",
       "      <td>83807.86</td>\n",
       "      <td>1</td>\n",
       "      <td>0</td>\n",
       "      <td>1</td>\n",
       "      <td>112542.58</td>\n",
       "      <td>0</td>\n",
       "    </tr>\n",
       "    <tr>\n",
       "      <th>2</th>\n",
       "      <td>502</td>\n",
       "      <td>France</td>\n",
       "      <td>Female</td>\n",
       "      <td>42</td>\n",
       "      <td>8</td>\n",
       "      <td>159660.80</td>\n",
       "      <td>3</td>\n",
       "      <td>1</td>\n",
       "      <td>0</td>\n",
       "      <td>113931.57</td>\n",
       "      <td>1</td>\n",
       "    </tr>\n",
       "    <tr>\n",
       "      <th>3</th>\n",
       "      <td>699</td>\n",
       "      <td>France</td>\n",
       "      <td>Female</td>\n",
       "      <td>39</td>\n",
       "      <td>1</td>\n",
       "      <td>0.00</td>\n",
       "      <td>2</td>\n",
       "      <td>0</td>\n",
       "      <td>0</td>\n",
       "      <td>93826.63</td>\n",
       "      <td>0</td>\n",
       "    </tr>\n",
       "    <tr>\n",
       "      <th>4</th>\n",
       "      <td>850</td>\n",
       "      <td>Spain</td>\n",
       "      <td>Female</td>\n",
       "      <td>43</td>\n",
       "      <td>2</td>\n",
       "      <td>125510.82</td>\n",
       "      <td>1</td>\n",
       "      <td>1</td>\n",
       "      <td>1</td>\n",
       "      <td>79084.10</td>\n",
       "      <td>0</td>\n",
       "    </tr>\n",
       "  </tbody>\n",
       "</table>\n",
       "</div>"
      ],
      "text/plain": [
       "   CreditScore Geography  Gender  Age  Tenure    Balance  NumOfProducts  \\\n",
       "0          619    France  Female   42       2       0.00              1   \n",
       "1          608     Spain  Female   41       1   83807.86              1   \n",
       "2          502    France  Female   42       8  159660.80              3   \n",
       "3          699    France  Female   39       1       0.00              2   \n",
       "4          850     Spain  Female   43       2  125510.82              1   \n",
       "\n",
       "   HasCrCard  IsActiveMember  EstimatedSalary  Exited  \n",
       "0          1               1        101348.88       1  \n",
       "1          0               1        112542.58       0  \n",
       "2          1               0        113931.57       1  \n",
       "3          0               0         93826.63       0  \n",
       "4          1               1         79084.10       0  "
      ]
     },
     "execution_count": 379,
     "metadata": {},
     "output_type": "execute_result"
    }
   ],
   "source": [
    "df.head()"
   ]
  },
  {
   "cell_type": "code",
   "execution_count": 392,
   "metadata": {},
   "outputs": [
    {
     "data": {
      "text/plain": [
       "array([['320', 'France', 'Male', '21', '8', '159660.8', '3', '1', '0',\n",
       "        '113931.57']], dtype='<U21')"
      ]
     },
     "execution_count": 392,
     "metadata": {},
     "output_type": "execute_result"
    }
   ],
   "source": [
    "#Setting up a new row. simulating we get this from our form in HTML\n",
    "X = np.array([[320, 'France', 'Male', 21, 8, 159660.80, 3, 1, 0, 113931.57]])\n",
    "X"
   ]
  },
  {
   "cell_type": "code",
   "execution_count": 393,
   "metadata": {},
   "outputs": [],
   "source": [
    "#Encoding the  Gender column\n",
    "X[:,2] = le.transform(X[:,2])"
   ]
  },
  {
   "cell_type": "code",
   "execution_count": 394,
   "metadata": {},
   "outputs": [
    {
     "data": {
      "text/plain": [
       "array([['320', 'France', '1', '21', '8', '159660.8', '3', '1', '0',\n",
       "        '113931.57']], dtype='<U21')"
      ]
     },
     "execution_count": 394,
     "metadata": {},
     "output_type": "execute_result"
    }
   ],
   "source": [
    "X"
   ]
  },
  {
   "cell_type": "code",
   "execution_count": 395,
   "metadata": {},
   "outputs": [
    {
     "data": {
      "text/plain": [
       "array([['1.0', '0.0', '0.0', '320', '1', '21', '8', '159660.8', '3', '1',\n",
       "        '0', '113931.57']], dtype='<U32')"
      ]
     },
     "execution_count": 395,
     "metadata": {},
     "output_type": "execute_result"
    }
   ],
   "source": [
    "#Encoding the country column\n",
    "X = np.array(ct.transform(X))\n",
    "X"
   ]
  },
  {
   "cell_type": "code",
   "execution_count": 396,
   "metadata": {},
   "outputs": [
    {
     "data": {
      "text/plain": [
       "array([[ 1.00150113, -0.57946723, -0.57638802, -3.44174985,  0.91324755,\n",
       "        -1.7015827 ,  1.03972843,  1.33785683,  2.53355998,  0.64920267,\n",
       "        -1.02583358,  0.23472492]])"
      ]
     },
     "execution_count": 396,
     "metadata": {},
     "output_type": "execute_result"
    }
   ],
   "source": [
    "#Scaling all columns\n",
    "X = sc.transform(X)\n",
    "X"
   ]
  },
  {
   "cell_type": "code",
   "execution_count": 397,
   "metadata": {},
   "outputs": [
    {
     "data": {
      "text/plain": [
       "array([[False]])"
      ]
     },
     "execution_count": 397,
     "metadata": {},
     "output_type": "execute_result"
    }
   ],
   "source": [
    "#Predicting with ANN\n",
    "new_pred = ann.predict(X)>0.5\n",
    "new_pred"
   ]
  },
  {
   "cell_type": "markdown",
   "metadata": {},
   "source": [
    "# Section 10: Saving Sklearn Objects and Keras ANN Model"
   ]
  },
  {
   "cell_type": "code",
   "execution_count": 398,
   "metadata": {},
   "outputs": [],
   "source": [
    "import pickle\n",
    "# Saving SkLearn Objects\n",
    "# Save Label encoder: le\n",
    "pkl_filename = \"Label_Encoder.pkl\"\n",
    "with open(pkl_filename, 'wb') as file:\n",
    "    pickle.dump(le, file)\n",
    "\n",
    "#Save One-Hot encoder: ct\n",
    "pkl_filename = \"OneHot_Encoder.pkl\"\n",
    "with open(pkl_filename, 'wb') as file:\n",
    "    pickle.dump(ct, file)\n",
    "    \n",
    "#Save scaler: sc\n",
    "pkl_filename = \"Scaler.pkl\"\n",
    "with open(pkl_filename, 'wb') as file:\n",
    "    pickle.dump(sc, file)"
   ]
  },
  {
   "cell_type": "code",
   "execution_count": 399,
   "metadata": {},
   "outputs": [],
   "source": [
    "#Save ANN\n",
    "# Save the model\n",
    "ann.save(\"customer_churn.h5\")"
   ]
  },
  {
   "cell_type": "markdown",
   "metadata": {},
   "source": [
    "# Section 11: Additional Visualizations"
   ]
  },
  {
   "cell_type": "code",
   "execution_count": 400,
   "metadata": {},
   "outputs": [
    {
     "name": "stdout",
     "output_type": "stream",
     "text": [
      "           OPERATION           DATA DIMENSIONS   WEIGHTS(N)   WEIGHTS(%)\n",
      "\n",
      "               Input   #####          12\n",
      "               Dense   XXXXX -------------------        78    61.4%\n",
      "                relu   #####           6\n",
      "               Dense   XXXXX -------------------        42    33.1%\n",
      "                relu   #####           6\n",
      "               Dense   XXXXX -------------------         7     5.5%\n",
      "             sigmoid   #####           1\n"
     ]
    }
   ],
   "source": [
    "#For the ANN\n",
    "from keras_sequential_ascii import keras2ascii\n",
    "keras2ascii(ann)"
   ]
  },
  {
   "cell_type": "code",
   "execution_count": 403,
   "metadata": {},
   "outputs": [
    {
     "data": {
      "text/plain": [
       "RandomForestClassifier(max_depth=8, n_estimators=200, random_state=123)"
      ]
     },
     "execution_count": 403,
     "metadata": {},
     "output_type": "execute_result"
    }
   ],
   "source": [
    "#Train RF with values from Grid search\n",
    "rf = RandomForestClassifier(random_state=123, criterion= 'gini', max_depth= 8, max_features= 'auto', n_estimators= 200)\n",
    "# Train\n",
    "rf.fit(X_train, y_train)"
   ]
  },
  {
   "cell_type": "code",
   "execution_count": 404,
   "metadata": {},
   "outputs": [
    {
     "name": "stdout",
     "output_type": "stream",
     "text": [
      "              precision    recall  f1-score   support\n",
      "\n",
      "           0       0.88      0.95      0.92      1607\n",
      "           1       0.71      0.47      0.57       393\n",
      "\n",
      "    accuracy                           0.86      2000\n",
      "   macro avg       0.80      0.71      0.74      2000\n",
      "weighted avg       0.85      0.86      0.85      2000\n",
      "\n"
     ]
    }
   ],
   "source": [
    "print(classification_report(y_test, y_pred))"
   ]
  },
  {
   "cell_type": "code",
   "execution_count": 428,
   "metadata": {},
   "outputs": [],
   "source": [
    "# Visualizing one tree of RF\n",
    "# Extract single tree\n",
    "estimator = rf.estimators_[100]"
   ]
  },
  {
   "cell_type": "code",
   "execution_count": 416,
   "metadata": {},
   "outputs": [
    {
     "data": {
      "text/plain": [
       "[Text(167.44287909836066, 205.35999999999999, 'X[5] <= 0.342\\ngini = 0.326\\nsamples = 5043\\nvalue = [6362, 1638]'),\n",
       " Text(75.51009221311476, 181.2, 'X[7] <= 0.455\\ngini = 0.204\\nsamples = 3563\\nvalue = [5013, 653]'),\n",
       " Text(37.905122950819674, 157.04, 'X[3] <= -2.518\\ngini = 0.157\\nsamples = 2031\\nvalue = [2928, 275]'),\n",
       " Text(36.53299180327869, 132.88, 'gini = 0.0\\nsamples = 3\\nvalue = [0, 3]'),\n",
       " Text(39.27725409836066, 132.88, 'X[5] <= -0.418\\ngini = 0.156\\nsamples = 2028\\nvalue = [2928, 272]'),\n",
       " Text(20.23893442622951, 108.72, 'X[11] <= 1.082\\ngini = 0.088\\nsamples = 1039\\nvalue = [1572, 76]'),\n",
       " Text(10.97704918032787, 84.56, 'X[6] <= 0.866\\ngini = 0.065\\nsamples = 840\\nvalue = [1272, 44]'),\n",
       " Text(5.488524590163935, 60.400000000000006, 'X[8] <= 1.671\\ngini = 0.08\\nsamples = 627\\nvalue = [938, 41]'),\n",
       " Text(2.7442622950819673, 36.24000000000001, 'X[8] <= -0.054\\ngini = 0.07\\nsamples = 618\\nvalue = [927, 35]'),\n",
       " Text(1.3721311475409836, 12.079999999999984, 'gini = 0.175\\nsamples = 214\\nvalue = [289, 31]'),\n",
       " Text(4.116393442622951, 12.079999999999984, 'gini = 0.012\\nsamples = 404\\nvalue = [638, 4]'),\n",
       " Text(8.232786885245902, 36.24000000000001, 'X[3] <= 1.197\\ngini = 0.457\\nsamples = 9\\nvalue = [11, 6]'),\n",
       " Text(6.860655737704918, 12.079999999999984, 'gini = 0.391\\nsamples = 8\\nvalue = [11, 4]'),\n",
       " Text(9.604918032786886, 12.079999999999984, 'gini = 0.0\\nsamples = 1\\nvalue = [0, 2]'),\n",
       " Text(16.465573770491805, 60.400000000000006, 'X[8] <= 1.671\\ngini = 0.018\\nsamples = 213\\nvalue = [334, 3]'),\n",
       " Text(13.721311475409836, 36.24000000000001, 'X[8] <= -0.054\\ngini = 0.012\\nsamples = 211\\nvalue = [333, 2]'),\n",
       " Text(12.349180327868853, 12.079999999999984, 'gini = 0.041\\nsamples = 66\\nvalue = [93, 2]'),\n",
       " Text(15.09344262295082, 12.079999999999984, 'gini = 0.0\\nsamples = 145\\nvalue = [240, 0]'),\n",
       " Text(19.20983606557377, 36.24000000000001, 'X[5] <= -1.036\\ngini = 0.5\\nsamples = 2\\nvalue = [1, 1]'),\n",
       " Text(17.837704918032788, 12.079999999999984, 'gini = 0.0\\nsamples = 1\\nvalue = [0, 1]'),\n",
       " Text(20.581967213114755, 12.079999999999984, 'gini = 0.0\\nsamples = 1\\nvalue = [1, 0]'),\n",
       " Text(29.500819672131147, 84.56, 'X[3] <= -1.771\\ngini = 0.174\\nsamples = 199\\nvalue = [300, 32]'),\n",
       " Text(26.07049180327869, 60.400000000000006, 'X[9] <= -0.446\\ngini = 0.5\\nsamples = 7\\nvalue = [6, 6]'),\n",
       " Text(24.698360655737705, 36.24000000000001, 'X[2] <= 0.579\\ngini = 0.375\\nsamples = 4\\nvalue = [2, 6]'),\n",
       " Text(23.32622950819672, 12.079999999999984, 'gini = 0.0\\nsamples = 3\\nvalue = [0, 6]'),\n",
       " Text(26.07049180327869, 12.079999999999984, 'gini = 0.0\\nsamples = 1\\nvalue = [2, 0]'),\n",
       " Text(27.442622950819672, 36.24000000000001, 'gini = 0.0\\nsamples = 3\\nvalue = [4, 0]'),\n",
       " Text(32.93114754098361, 60.400000000000006, 'X[7] <= 0.415\\ngini = 0.149\\nsamples = 192\\nvalue = [294, 26]'),\n",
       " Text(30.18688524590164, 36.24000000000001, 'X[6] <= -0.869\\ngini = 0.134\\nsamples = 183\\nvalue = [283, 22]'),\n",
       " Text(28.814754098360655, 12.079999999999984, 'gini = 0.233\\nsamples = 46\\nvalue = [77, 12]'),\n",
       " Text(31.559016393442622, 12.079999999999984, 'gini = 0.088\\nsamples = 137\\nvalue = [206, 10]'),\n",
       " Text(35.675409836065576, 36.24000000000001, 'X[9] <= -0.446\\ngini = 0.391\\nsamples = 9\\nvalue = [11, 4]'),\n",
       " Text(34.30327868852459, 12.079999999999984, 'gini = 0.0\\nsamples = 2\\nvalue = [0, 4]'),\n",
       " Text(37.04754098360656, 12.079999999999984, 'gini = 0.0\\nsamples = 7\\nvalue = [11, 0]'),\n",
       " Text(58.3155737704918, 108.72, 'X[11] <= 1.601\\ngini = 0.221\\nsamples = 989\\nvalue = [1356, 196]'),\n",
       " Text(49.39672131147541, 84.56, 'X[8] <= 1.671\\ngini = 0.228\\nsamples = 947\\nvalue = [1288, 194]'),\n",
       " Text(43.90819672131148, 60.400000000000006, 'X[10] <= -0.026\\ngini = 0.204\\nsamples = 921\\nvalue = [1277, 166]'),\n",
       " Text(41.16393442622951, 36.24000000000001, 'X[8] <= -0.054\\ngini = 0.22\\nsamples = 476\\nvalue = [654, 94]'),\n",
       " Text(39.791803278688526, 12.079999999999984, 'gini = 0.369\\nsamples = 180\\nvalue = [214, 69]'),\n",
       " Text(42.53606557377049, 12.079999999999984, 'gini = 0.102\\nsamples = 296\\nvalue = [440, 25]'),\n",
       " Text(46.65245901639344, 36.24000000000001, 'X[8] <= -0.054\\ngini = 0.186\\nsamples = 445\\nvalue = [623, 72]'),\n",
       " Text(45.28032786885246, 12.079999999999984, 'gini = 0.359\\nsamples = 174\\nvalue = [216, 66]'),\n",
       " Text(48.02459016393443, 12.079999999999984, 'gini = 0.029\\nsamples = 271\\nvalue = [407, 6]'),\n",
       " Text(54.885245901639344, 60.400000000000006, 'X[5] <= -0.133\\ngini = 0.405\\nsamples = 26\\nvalue = [11, 28]'),\n",
       " Text(52.14098360655738, 36.24000000000001, 'X[3] <= -0.396\\ngini = 0.5\\nsamples = 8\\nvalue = [6, 6]'),\n",
       " Text(50.768852459016394, 12.079999999999984, 'gini = 0.0\\nsamples = 2\\nvalue = [3, 0]'),\n",
       " Text(53.51311475409836, 12.079999999999984, 'gini = 0.444\\nsamples = 6\\nvalue = [3, 6]'),\n",
       " Text(57.62950819672131, 36.24000000000001, 'X[2] <= 0.579\\ngini = 0.302\\nsamples = 18\\nvalue = [5, 22]'),\n",
       " Text(56.25737704918033, 12.079999999999984, 'gini = 0.401\\nsamples = 14\\nvalue = [5, 13]'),\n",
       " Text(59.001639344262294, 12.079999999999984, 'gini = 0.0\\nsamples = 4\\nvalue = [0, 9]'),\n",
       " Text(67.2344262295082, 84.56, 'X[8] <= -0.054\\ngini = 0.056\\nsamples = 42\\nvalue = [68, 2]'),\n",
       " Text(65.86229508196722, 60.400000000000006, 'X[11] <= 1.633\\ngini = 0.172\\nsamples = 13\\nvalue = [19, 2]'),\n",
       " Text(63.118032786885244, 36.24000000000001, 'X[4] <= -0.091\\ngini = 0.5\\nsamples = 2\\nvalue = [1, 1]'),\n",
       " Text(61.74590163934426, 12.079999999999984, 'gini = 0.0\\nsamples = 1\\nvalue = [0, 1]'),\n",
       " Text(64.49016393442623, 12.079999999999984, 'gini = 0.0\\nsamples = 1\\nvalue = [1, 0]'),\n",
       " Text(68.60655737704919, 36.24000000000001, 'X[0] <= 0.001\\ngini = 0.1\\nsamples = 11\\nvalue = [18, 1]'),\n",
       " Text(67.2344262295082, 12.079999999999984, 'gini = 0.0\\nsamples = 8\\nvalue = [15, 0]'),\n",
       " Text(69.97868852459017, 12.079999999999984, 'gini = 0.375\\nsamples = 3\\nvalue = [3, 1]'),\n",
       " Text(68.60655737704919, 60.400000000000006, 'gini = 0.0\\nsamples = 29\\nvalue = [49, 0]'),\n",
       " Text(113.11506147540985, 157.04, 'X[4] <= -0.091\\ngini = 0.26\\nsamples = 1532\\nvalue = [2085, 378]'),\n",
       " Text(95.87766393442624, 132.88, 'X[1] <= 0.573\\ngini = 0.323\\nsamples = 664\\nvalue = [852, 216]'),\n",
       " Text(83.7, 108.72, 'X[7] <= 1.454\\ngini = 0.266\\nsamples = 397\\nvalue = [532, 100]'),\n",
       " Text(78.21147540983607, 84.56, 'X[7] <= 0.839\\ngini = 0.23\\nsamples = 356\\nvalue = [485, 74]'),\n",
       " Text(75.4672131147541, 60.400000000000006, 'X[8] <= 1.671\\ngini = 0.163\\nsamples = 160\\nvalue = [223, 22]'),\n",
       " Text(74.09508196721312, 36.24000000000001, 'X[11] <= 0.141\\ngini = 0.151\\nsamples = 158\\nvalue = [223, 20]'),\n",
       " Text(72.72295081967214, 12.079999999999984, 'gini = 0.065\\nsamples = 80\\nvalue = [115, 4]'),\n",
       " Text(75.4672131147541, 12.079999999999984, 'gini = 0.225\\nsamples = 78\\nvalue = [108, 16]'),\n",
       " Text(76.83934426229509, 36.24000000000001, 'gini = 0.0\\nsamples = 2\\nvalue = [0, 2]'),\n",
       " Text(80.95573770491804, 60.400000000000006, 'X[8] <= 1.671\\ngini = 0.276\\nsamples = 196\\nvalue = [262, 52]'),\n",
       " Text(79.58360655737705, 36.24000000000001, 'X[10] <= -0.026\\ngini = 0.221\\nsamples = 187\\nvalue = [262, 38]'),\n",
       " Text(78.21147540983607, 12.079999999999984, 'gini = 0.246\\nsamples = 95\\nvalue = [137, 23]'),\n",
       " Text(80.95573770491804, 12.079999999999984, 'gini = 0.191\\nsamples = 92\\nvalue = [125, 15]'),\n",
       " Text(82.32786885245902, 36.24000000000001, 'gini = 0.0\\nsamples = 9\\nvalue = [0, 14]'),\n",
       " Text(89.18852459016394, 84.56, 'X[7] <= 1.988\\ngini = 0.459\\nsamples = 41\\nvalue = [47, 26]'),\n",
       " Text(86.44426229508197, 60.400000000000006, 'X[7] <= 1.456\\ngini = 0.43\\nsamples = 38\\nvalue = [46, 21]'),\n",
       " Text(85.07213114754099, 36.24000000000001, 'gini = 0.0\\nsamples = 1\\nvalue = [0, 3]'),\n",
       " Text(87.81639344262295, 36.24000000000001, 'X[5] <= -0.608\\ngini = 0.404\\nsamples = 37\\nvalue = [46, 18]'),\n",
       " Text(86.44426229508197, 12.079999999999984, 'gini = 0.499\\nsamples = 16\\nvalue = [13, 12]'),\n",
       " Text(89.18852459016394, 12.079999999999984, 'gini = 0.26\\nsamples = 21\\nvalue = [33, 6]'),\n",
       " Text(91.9327868852459, 60.400000000000006, 'X[11] <= -1.163\\ngini = 0.278\\nsamples = 3\\nvalue = [1, 5]'),\n",
       " Text(90.56065573770492, 36.24000000000001, 'gini = 0.0\\nsamples = 1\\nvalue = [1, 0]'),\n",
       " Text(93.30491803278689, 36.24000000000001, 'gini = 0.0\\nsamples = 2\\nvalue = [0, 5]'),\n",
       " Text(108.05532786885246, 108.72, 'X[8] <= 1.671\\ngini = 0.391\\nsamples = 267\\nvalue = [320, 116]'),\n",
       " Text(103.59590163934426, 84.56, 'X[7] <= 1.093\\ngini = 0.369\\nsamples = 256\\nvalue = [319, 103]'),\n",
       " Text(98.79344262295082, 60.400000000000006, 'X[7] <= 1.079\\ngini = 0.426\\nsamples = 198\\nvalue = [227, 101]'),\n",
       " Text(96.04918032786885, 36.24000000000001, 'X[10] <= -0.026\\ngini = 0.42\\nsamples = 194\\nvalue = [226, 97]'),\n",
       " Text(94.67704918032787, 12.079999999999984, 'gini = 0.458\\nsamples = 103\\nvalue = [111, 61]'),\n",
       " Text(97.42131147540984, 12.079999999999984, 'gini = 0.363\\nsamples = 91\\nvalue = [115, 36]'),\n",
       " Text(101.53770491803279, 36.24000000000001, 'X[3] <= -1.563\\ngini = 0.32\\nsamples = 4\\nvalue = [1, 4]'),\n",
       " Text(100.1655737704918, 12.079999999999984, 'gini = 0.0\\nsamples = 1\\nvalue = [1, 0]'),\n",
       " Text(102.90983606557377, 12.079999999999984, 'gini = 0.0\\nsamples = 3\\nvalue = [0, 4]'),\n",
       " Text(108.3983606557377, 60.400000000000006, 'X[11] <= -0.98\\ngini = 0.042\\nsamples = 58\\nvalue = [92, 2]'),\n",
       " Text(107.02622950819672, 36.24000000000001, 'X[5] <= -0.038\\ngini = 0.26\\nsamples = 9\\nvalue = [11, 2]'),\n",
       " Text(105.65409836065574, 12.079999999999984, 'gini = 0.0\\nsamples = 7\\nvalue = [11, 0]'),\n",
       " Text(108.3983606557377, 12.079999999999984, 'gini = 0.0\\nsamples = 2\\nvalue = [0, 2]'),\n",
       " Text(109.77049180327869, 36.24000000000001, 'gini = 0.0\\nsamples = 49\\nvalue = [81, 0]'),\n",
       " Text(112.51475409836065, 84.56, 'X[10] <= -0.026\\ngini = 0.133\\nsamples = 11\\nvalue = [1, 13]'),\n",
       " Text(111.14262295081967, 60.400000000000006, 'gini = 0.0\\nsamples = 4\\nvalue = [0, 6]'),\n",
       " Text(113.88688524590164, 60.400000000000006, 'X[7] <= 1.263\\ngini = 0.219\\nsamples = 7\\nvalue = [1, 7]'),\n",
       " Text(112.51475409836065, 36.24000000000001, 'gini = 0.0\\nsamples = 4\\nvalue = [0, 5]'),\n",
       " Text(115.25901639344262, 36.24000000000001, 'X[6] <= -0.175\\ngini = 0.444\\nsamples = 3\\nvalue = [1, 2]'),\n",
       " Text(113.88688524590164, 12.079999999999984, 'gini = 0.0\\nsamples = 1\\nvalue = [1, 0]'),\n",
       " Text(116.6311475409836, 12.079999999999984, 'gini = 0.0\\nsamples = 2\\nvalue = [0, 2]'),\n",
       " Text(130.35245901639345, 132.88, 'X[7] <= 0.46\\ngini = 0.205\\nsamples = 868\\nvalue = [1233, 162]'),\n",
       " Text(119.37540983606557, 108.72, 'X[2] <= 0.579\\ngini = 0.346\\nsamples = 5\\nvalue = [2, 7]'),\n",
       " Text(118.00327868852459, 84.56, 'X[7] <= 0.456\\ngini = 0.375\\nsamples = 4\\nvalue = [2, 6]'),\n",
       " Text(116.6311475409836, 60.400000000000006, 'gini = 0.0\\nsamples = 1\\nvalue = [0, 5]'),\n",
       " Text(119.37540983606557, 60.400000000000006, 'X[6] <= -0.001\\ngini = 0.444\\nsamples = 3\\nvalue = [2, 1]'),\n",
       " Text(118.00327868852459, 36.24000000000001, 'gini = 0.0\\nsamples = 1\\nvalue = [1, 0]'),\n",
       " Text(120.74754098360656, 36.24000000000001, 'X[7] <= 0.458\\ngini = 0.5\\nsamples = 2\\nvalue = [1, 1]'),\n",
       " Text(119.37540983606557, 12.079999999999984, 'gini = 0.0\\nsamples = 1\\nvalue = [1, 0]'),\n",
       " Text(122.11967213114754, 12.079999999999984, 'gini = 0.0\\nsamples = 1\\nvalue = [0, 1]'),\n",
       " Text(120.74754098360656, 84.56, 'gini = 0.0\\nsamples = 1\\nvalue = [0, 1]'),\n",
       " Text(141.32950819672132, 108.72, 'X[8] <= 1.671\\ngini = 0.199\\nsamples = 863\\nvalue = [1231, 155]'),\n",
       " Text(134.4688524590164, 84.56, 'X[8] <= -0.054\\ngini = 0.175\\nsamples = 847\\nvalue = [1228, 132]'),\n",
       " Text(128.98032786885247, 60.400000000000006, 'X[1] <= 0.573\\ngini = 0.215\\nsamples = 554\\nvalue = [783, 109]'),\n",
       " Text(126.23606557377049, 36.24000000000001, 'X[7] <= 1.627\\ngini = 0.142\\nsamples = 394\\nvalue = [587, 49]'),\n",
       " Text(124.8639344262295, 12.079999999999984, 'gini = 0.123\\nsamples = 379\\nvalue = [566, 40]'),\n",
       " Text(127.60819672131147, 12.079999999999984, 'gini = 0.42\\nsamples = 15\\nvalue = [21, 9]'),\n",
       " Text(131.72459016393444, 36.24000000000001, 'X[6] <= -1.216\\ngini = 0.359\\nsamples = 160\\nvalue = [196, 60]'),\n",
       " Text(130.35245901639345, 12.079999999999984, 'gini = 0.472\\nsamples = 25\\nvalue = [26, 16]'),\n",
       " Text(133.09672131147542, 12.079999999999984, 'gini = 0.327\\nsamples = 135\\nvalue = [170, 44]'),\n",
       " Text(139.95737704918034, 60.400000000000006, 'X[11] <= -0.974\\ngini = 0.093\\nsamples = 293\\nvalue = [445, 23]'),\n",
       " Text(137.21311475409837, 36.24000000000001, 'X[7] <= 0.517\\ngini = 0.16\\nsamples = 55\\nvalue = [83, 8]'),\n",
       " Text(135.8409836065574, 12.079999999999984, 'gini = 0.48\\nsamples = 3\\nvalue = [3, 2]'),\n",
       " Text(138.58524590163935, 12.079999999999984, 'gini = 0.13\\nsamples = 52\\nvalue = [80, 6]'),\n",
       " Text(142.7016393442623, 36.24000000000001, 'X[3] <= -2.804\\ngini = 0.076\\nsamples = 238\\nvalue = [362, 15]'),\n",
       " Text(141.32950819672132, 12.079999999999984, 'gini = 0.0\\nsamples = 1\\nvalue = [0, 1]'),\n",
       " Text(144.0737704918033, 12.079999999999984, 'gini = 0.072\\nsamples = 237\\nvalue = [362, 14]'),\n",
       " Text(148.19016393442624, 84.56, 'X[1] <= 0.573\\ngini = 0.204\\nsamples = 16\\nvalue = [3, 23]'),\n",
       " Text(146.81803278688525, 60.400000000000006, 'gini = 0.0\\nsamples = 7\\nvalue = [0, 9]'),\n",
       " Text(149.56229508196722, 60.400000000000006, 'X[5] <= -0.323\\ngini = 0.291\\nsamples = 9\\nvalue = [3, 14]'),\n",
       " Text(148.19016393442624, 36.24000000000001, 'X[3] <= -1.236\\ngini = 0.48\\nsamples = 3\\nvalue = [3, 2]'),\n",
       " Text(146.81803278688525, 12.079999999999984, 'gini = 0.0\\nsamples = 1\\nvalue = [0, 2]'),\n",
       " Text(149.56229508196722, 12.079999999999984, 'gini = 0.0\\nsamples = 2\\nvalue = [3, 0]'),\n",
       " Text(150.9344262295082, 36.24000000000001, 'gini = 0.0\\nsamples = 6\\nvalue = [0, 12]'),\n",
       " Text(259.37566598360655, 181.2, 'X[10] <= -0.026\\ngini = 0.488\\nsamples = 1480\\nvalue = [1349, 985]'),\n",
       " Text(213.28063524590164, 157.04, 'X[8] <= -0.054\\ngini = 0.476\\nsamples = 673\\nvalue = [405, 635]'),\n",
       " Text(186.43831967213114, 132.88, 'X[1] <= 0.573\\ngini = 0.411\\nsamples = 412\\nvalue = [191, 471]'),\n",
       " Text(172.54549180327868, 108.72, 'X[5] <= 0.818\\ngini = 0.46\\nsamples = 257\\nvalue = [146, 262]'),\n",
       " Text(161.91147540983607, 84.56, 'X[5] <= 0.533\\ngini = 0.495\\nsamples = 113\\nvalue = [103, 84]'),\n",
       " Text(156.42295081967214, 60.400000000000006, 'X[3] <= -1.159\\ngini = 0.419\\nsamples = 47\\nvalue = [47, 20]'),\n",
       " Text(153.67868852459017, 36.24000000000001, 'X[7] <= -0.382\\ngini = 0.32\\nsamples = 3\\nvalue = [1, 4]'),\n",
       " Text(152.3065573770492, 12.079999999999984, 'gini = 0.0\\nsamples = 1\\nvalue = [1, 0]'),\n",
       " Text(155.05081967213115, 12.079999999999984, 'gini = 0.0\\nsamples = 2\\nvalue = [0, 4]'),\n",
       " Text(159.1672131147541, 36.24000000000001, 'X[3] <= 1.374\\ngini = 0.383\\nsamples = 44\\nvalue = [46, 16]'),\n",
       " Text(157.79508196721312, 12.079999999999984, 'gini = 0.371\\nsamples = 43\\nvalue = [46, 15]'),\n",
       " Text(160.5393442622951, 12.079999999999984, 'gini = 0.0\\nsamples = 1\\nvalue = [0, 1]'),\n",
       " Text(167.4, 60.400000000000006, 'X[6] <= 0.172\\ngini = 0.498\\nsamples = 66\\nvalue = [56, 64]'),\n",
       " Text(164.65573770491804, 36.24000000000001, 'X[0] <= 0.001\\ngini = 0.434\\nsamples = 35\\nvalue = [21, 45]'),\n",
       " Text(163.28360655737706, 12.079999999999984, 'gini = 0.332\\nsamples = 12\\nvalue = [4, 15]'),\n",
       " Text(166.02786885245902, 12.079999999999984, 'gini = 0.462\\nsamples = 23\\nvalue = [17, 30]'),\n",
       " Text(170.14426229508197, 36.24000000000001, 'X[9] <= -0.446\\ngini = 0.456\\nsamples = 31\\nvalue = [35, 19]'),\n",
       " Text(168.772131147541, 12.079999999999984, 'gini = 0.463\\nsamples = 7\\nvalue = [7, 4]'),\n",
       " Text(171.51639344262296, 12.079999999999984, 'gini = 0.454\\nsamples = 24\\nvalue = [28, 15]'),\n",
       " Text(183.17950819672132, 84.56, 'X[5] <= 1.578\\ngini = 0.313\\nsamples = 144\\nvalue = [43, 178]'),\n",
       " Text(178.37704918032787, 60.400000000000006, 'X[11] <= 0.691\\ngini = 0.398\\nsamples = 97\\nvalue = [40, 106]'),\n",
       " Text(175.6327868852459, 36.24000000000001, 'X[4] <= -0.091\\ngini = 0.457\\nsamples = 65\\nvalue = [36, 66]'),\n",
       " Text(174.26065573770492, 12.079999999999984, 'gini = 0.398\\nsamples = 37\\nvalue = [17, 45]'),\n",
       " Text(177.0049180327869, 12.079999999999984, 'gini = 0.499\\nsamples = 28\\nvalue = [19, 21]'),\n",
       " Text(181.12131147540984, 36.24000000000001, 'X[7] <= 0.627\\ngini = 0.165\\nsamples = 32\\nvalue = [4, 40]'),\n",
       " Text(179.74918032786886, 12.079999999999984, 'gini = 0.0\\nsamples = 19\\nvalue = [0, 24]'),\n",
       " Text(182.49344262295082, 12.079999999999984, 'gini = 0.32\\nsamples = 13\\nvalue = [4, 16]'),\n",
       " Text(187.98196721311476, 60.400000000000006, 'X[4] <= -0.091\\ngini = 0.077\\nsamples = 47\\nvalue = [3, 72]'),\n",
       " Text(186.60983606557377, 36.24000000000001, 'X[3] <= -1.895\\ngini = 0.133\\nsamples = 26\\nvalue = [3, 39]'),\n",
       " Text(185.2377049180328, 12.079999999999984, 'gini = 0.444\\nsamples = 2\\nvalue = [2, 1]'),\n",
       " Text(187.98196721311476, 12.079999999999984, 'gini = 0.05\\nsamples = 24\\nvalue = [1, 38]'),\n",
       " Text(189.35409836065574, 36.24000000000001, 'gini = 0.0\\nsamples = 21\\nvalue = [0, 33]'),\n",
       " Text(200.3311475409836, 108.72, 'X[3] <= -1.729\\ngini = 0.292\\nsamples = 155\\nvalue = [45, 209]'),\n",
       " Text(194.84262295081967, 84.56, 'X[6] <= 1.56\\ngini = 0.497\\nsamples = 10\\nvalue = [11, 13]'),\n",
       " Text(193.4704918032787, 60.400000000000006, 'X[11] <= -0.183\\ngini = 0.499\\nsamples = 8\\nvalue = [11, 10]'),\n",
       " Text(192.0983606557377, 36.24000000000001, 'gini = 0.0\\nsamples = 5\\nvalue = [0, 10]'),\n",
       " Text(194.84262295081967, 36.24000000000001, 'gini = 0.0\\nsamples = 3\\nvalue = [11, 0]'),\n",
       " Text(196.21475409836066, 60.400000000000006, 'gini = 0.0\\nsamples = 2\\nvalue = [0, 3]'),\n",
       " Text(205.81967213114754, 84.56, 'X[6] <= 1.56\\ngini = 0.252\\nsamples = 145\\nvalue = [34, 196]'),\n",
       " Text(200.3311475409836, 60.400000000000006, 'X[3] <= 1.083\\ngini = 0.213\\nsamples = 137\\nvalue = [26, 188]'),\n",
       " Text(197.58688524590164, 36.24000000000001, 'X[5] <= 0.628\\ngini = 0.179\\nsamples = 114\\nvalue = [18, 163]'),\n",
       " Text(196.21475409836066, 12.079999999999984, 'gini = 0.325\\nsamples = 27\\nvalue = [9, 35]'),\n",
       " Text(198.95901639344262, 12.079999999999984, 'gini = 0.123\\nsamples = 87\\nvalue = [9, 128]'),\n",
       " Text(203.07540983606557, 36.24000000000001, 'X[7] <= 0.578\\ngini = 0.367\\nsamples = 23\\nvalue = [8, 25]'),\n",
       " Text(201.7032786885246, 12.079999999999984, 'gini = 0.498\\nsamples = 12\\nvalue = [8, 9]'),\n",
       " Text(204.44754098360656, 12.079999999999984, 'gini = 0.0\\nsamples = 11\\nvalue = [0, 16]'),\n",
       " Text(211.30819672131148, 60.400000000000006, 'X[4] <= -0.091\\ngini = 0.5\\nsamples = 8\\nvalue = [8, 8]'),\n",
       " Text(208.5639344262295, 36.24000000000001, 'X[5] <= 0.438\\ngini = 0.444\\nsamples = 5\\nvalue = [3, 6]'),\n",
       " Text(207.19180327868852, 12.079999999999984, 'gini = 0.0\\nsamples = 1\\nvalue = [2, 0]'),\n",
       " Text(209.9360655737705, 12.079999999999984, 'gini = 0.245\\nsamples = 4\\nvalue = [1, 6]'),\n",
       " Text(214.05245901639344, 36.24000000000001, 'X[7] <= 0.38\\ngini = 0.408\\nsamples = 3\\nvalue = [5, 2]'),\n",
       " Text(212.68032786885246, 12.079999999999984, 'gini = 0.0\\nsamples = 1\\nvalue = [3, 0]'),\n",
       " Text(215.42459016393443, 12.079999999999984, 'gini = 0.5\\nsamples = 2\\nvalue = [2, 2]'),\n",
       " Text(240.12295081967213, 132.88, 'X[8] <= 1.671\\ngini = 0.491\\nsamples = 261\\nvalue = [214, 164]'),\n",
       " Text(238.75081967213114, 108.72, 'X[3] <= -0.552\\ngini = 0.419\\nsamples = 211\\nvalue = [214, 91]'),\n",
       " Text(227.77377049180328, 84.56, 'X[5] <= 1.246\\ngini = 0.481\\nsamples = 70\\nvalue = [58, 39]'),\n",
       " Text(222.28524590163934, 60.400000000000006, 'X[7] <= 1.061\\ngini = 0.423\\nsamples = 55\\nvalue = [55, 24]'),\n",
       " Text(219.54098360655738, 36.24000000000001, 'X[3] <= -1.885\\ngini = 0.364\\nsamples = 49\\nvalue = [54, 17]'),\n",
       " Text(218.1688524590164, 12.079999999999984, 'gini = 0.5\\nsamples = 7\\nvalue = [4, 4]'),\n",
       " Text(220.91311475409836, 12.079999999999984, 'gini = 0.328\\nsamples = 42\\nvalue = [50, 13]'),\n",
       " Text(225.0295081967213, 36.24000000000001, 'X[7] <= 1.328\\ngini = 0.219\\nsamples = 6\\nvalue = [1, 7]'),\n",
       " Text(223.65737704918033, 12.079999999999984, 'gini = 0.0\\nsamples = 4\\nvalue = [0, 6]'),\n",
       " Text(226.4016393442623, 12.079999999999984, 'gini = 0.5\\nsamples = 2\\nvalue = [1, 1]'),\n",
       " Text(233.2622950819672, 60.400000000000006, 'X[9] <= -0.446\\ngini = 0.278\\nsamples = 15\\nvalue = [3, 15]'),\n",
       " Text(230.51803278688524, 36.24000000000001, 'X[3] <= -1.236\\ngini = 0.375\\nsamples = 4\\nvalue = [1, 3]'),\n",
       " Text(229.14590163934426, 12.079999999999984, 'gini = 0.5\\nsamples = 2\\nvalue = [1, 1]'),\n",
       " Text(231.89016393442623, 12.079999999999984, 'gini = 0.0\\nsamples = 2\\nvalue = [0, 2]'),\n",
       " Text(236.00655737704918, 36.24000000000001, 'X[11] <= 0.135\\ngini = 0.245\\nsamples = 11\\nvalue = [2, 12]'),\n",
       " Text(234.6344262295082, 12.079999999999984, 'gini = 0.375\\nsamples = 7\\nvalue = [2, 6]'),\n",
       " Text(237.37868852459016, 12.079999999999984, 'gini = 0.0\\nsamples = 4\\nvalue = [0, 6]'),\n",
       " Text(249.727868852459, 84.56, 'X[5] <= 1.103\\ngini = 0.375\\nsamples = 141\\nvalue = [156, 52]'),\n",
       " Text(244.23934426229508, 60.400000000000006, 'X[5] <= 0.913\\ngini = 0.255\\nsamples = 111\\nvalue = [142, 25]'),\n",
       " Text(241.4950819672131, 36.24000000000001, 'X[7] <= 1.406\\ngini = 0.215\\nsamples = 91\\nvalue = [122, 17]'),\n",
       " Text(240.12295081967213, 12.079999999999984, 'gini = 0.186\\nsamples = 88\\nvalue = [121, 14]'),\n",
       " Text(242.8672131147541, 12.079999999999984, 'gini = 0.375\\nsamples = 3\\nvalue = [1, 3]'),\n",
       " Text(246.98360655737704, 36.24000000000001, 'X[7] <= -0.689\\ngini = 0.408\\nsamples = 20\\nvalue = [20, 8]'),\n",
       " Text(245.61147540983606, 12.079999999999984, 'gini = 0.142\\nsamples = 11\\nvalue = [12, 1]'),\n",
       " Text(248.35573770491803, 12.079999999999984, 'gini = 0.498\\nsamples = 9\\nvalue = [8, 7]'),\n",
       " Text(255.21639344262294, 60.400000000000006, 'X[4] <= -0.091\\ngini = 0.45\\nsamples = 30\\nvalue = [14, 27]'),\n",
       " Text(252.47213114754098, 36.24000000000001, 'X[11] <= 1.493\\ngini = 0.255\\nsamples = 17\\nvalue = [3, 17]'),\n",
       " Text(251.1, 12.079999999999984, 'gini = 0.188\\nsamples = 16\\nvalue = [2, 17]'),\n",
       " Text(253.84426229508196, 12.079999999999984, 'gini = 0.0\\nsamples = 1\\nvalue = [1, 0]'),\n",
       " Text(257.96065573770494, 36.24000000000001, 'X[7] <= 0.401\\ngini = 0.499\\nsamples = 13\\nvalue = [11, 10]'),\n",
       " Text(256.58852459016396, 12.079999999999984, 'gini = 0.32\\nsamples = 7\\nvalue = [8, 2]'),\n",
       " Text(259.3327868852459, 12.079999999999984, 'gini = 0.397\\nsamples = 6\\nvalue = [3, 8]'),\n",
       " Text(241.4950819672131, 108.72, 'gini = 0.0\\nsamples = 50\\nvalue = [0, 73]'),\n",
       " Text(305.47069672131147, 157.04, 'X[2] <= 0.579\\ngini = 0.395\\nsamples = 807\\nvalue = [944, 350]'),\n",
       " Text(284.0311475409836, 132.88, 'X[1] <= 0.573\\ngini = 0.426\\nsamples = 591\\nvalue = [665, 295]'),\n",
       " Text(272.36803278688524, 108.72, 'X[7] <= 1.829\\ngini = 0.366\\nsamples = 385\\nvalue = [476, 151]'),\n",
       " Text(270.99590163934425, 84.56, 'X[8] <= 1.671\\ngini = 0.358\\nsamples = 382\\nvalue = [476, 145]'),\n",
       " Text(266.19344262295084, 60.400000000000006, 'X[8] <= -0.054\\ngini = 0.332\\nsamples = 366\\nvalue = [474, 126]'),\n",
       " Text(263.4491803278689, 36.24000000000001, 'X[3] <= 0.777\\ngini = 0.4\\nsamples = 198\\nvalue = [233, 89]'),\n",
       " Text(262.0770491803279, 12.079999999999984, 'gini = 0.363\\nsamples = 144\\nvalue = [176, 55]'),\n",
       " Text(264.82131147540986, 12.079999999999984, 'gini = 0.468\\nsamples = 54\\nvalue = [57, 34]'),\n",
       " Text(268.9377049180328, 36.24000000000001, 'X[11] <= 0.319\\ngini = 0.231\\nsamples = 168\\nvalue = [241, 37]'),\n",
       " Text(267.5655737704918, 12.079999999999984, 'gini = 0.15\\nsamples = 100\\nvalue = [158, 14]'),\n",
       " Text(270.3098360655738, 12.079999999999984, 'gini = 0.34\\nsamples = 68\\nvalue = [83, 23]'),\n",
       " Text(275.7983606557377, 60.400000000000006, 'X[5] <= 2.339\\ngini = 0.172\\nsamples = 16\\nvalue = [2, 19]'),\n",
       " Text(274.42622950819674, 36.24000000000001, 'X[11] <= -0.58\\ngini = 0.095\\nsamples = 15\\nvalue = [1, 19]'),\n",
       " Text(273.05409836065576, 12.079999999999984, 'gini = 0.375\\nsamples = 3\\nvalue = [1, 3]'),\n",
       " Text(275.7983606557377, 12.079999999999984, 'gini = 0.0\\nsamples = 12\\nvalue = [0, 16]'),\n",
       " Text(277.1704918032787, 36.24000000000001, 'gini = 0.0\\nsamples = 1\\nvalue = [1, 0]'),\n",
       " Text(273.7401639344262, 84.56, 'gini = 0.0\\nsamples = 3\\nvalue = [0, 6]'),\n",
       " Text(295.69426229508196, 108.72, 'X[8] <= -0.054\\ngini = 0.491\\nsamples = 206\\nvalue = [189, 144]'),\n",
       " Text(288.1475409836066, 84.56, 'X[11] <= -1.156\\ngini = 0.484\\nsamples = 111\\nvalue = [70, 100]'),\n",
       " Text(282.65901639344264, 60.400000000000006, 'X[3] <= -0.349\\ngini = 0.252\\nsamples = 16\\nvalue = [4, 23]'),\n",
       " Text(279.9147540983607, 36.24000000000001, 'X[6] <= -0.869\\ngini = 0.49\\nsamples = 4\\nvalue = [3, 4]'),\n",
       " Text(278.5426229508197, 12.079999999999984, 'gini = 0.0\\nsamples = 1\\nvalue = [0, 2]'),\n",
       " Text(281.28688524590166, 12.079999999999984, 'gini = 0.48\\nsamples = 3\\nvalue = [3, 2]'),\n",
       " Text(285.4032786885246, 36.24000000000001, 'X[6] <= 0.519\\ngini = 0.095\\nsamples = 12\\nvalue = [1, 19]'),\n",
       " Text(284.0311475409836, 12.079999999999984, 'gini = 0.0\\nsamples = 6\\nvalue = [0, 13]'),\n",
       " Text(286.7754098360656, 12.079999999999984, 'gini = 0.245\\nsamples = 6\\nvalue = [1, 6]'),\n",
       " Text(293.6360655737705, 60.400000000000006, 'X[7] <= 0.177\\ngini = 0.497\\nsamples = 95\\nvalue = [66, 77]'),\n",
       " Text(290.89180327868854, 36.24000000000001, 'X[3] <= 0.087\\ngini = 0.305\\nsamples = 9\\nvalue = [13, 3]'),\n",
       " Text(289.51967213114756, 12.079999999999984, 'gini = 0.444\\nsamples = 5\\nvalue = [6, 3]'),\n",
       " Text(292.2639344262295, 12.079999999999984, 'gini = 0.0\\nsamples = 4\\nvalue = [7, 0]'),\n",
       " Text(296.3803278688525, 36.24000000000001, 'X[3] <= 0.569\\ngini = 0.486\\nsamples = 86\\nvalue = [53, 74]'),\n",
       " Text(295.0081967213115, 12.079999999999984, 'gini = 0.5\\nsamples = 62\\nvalue = [44, 46]'),\n",
       " Text(297.75245901639346, 12.079999999999984, 'gini = 0.368\\nsamples = 24\\nvalue = [9, 28]'),\n",
       " Text(303.2409836065574, 84.56, 'X[3] <= -1.683\\ngini = 0.394\\nsamples = 95\\nvalue = [119, 44]'),\n",
       " Text(301.8688524590164, 60.400000000000006, 'gini = 0.0\\nsamples = 3\\nvalue = [0, 7]'),\n",
       " Text(304.6131147540984, 60.400000000000006, 'X[3] <= -0.178\\ngini = 0.362\\nsamples = 92\\nvalue = [119, 37]'),\n",
       " Text(301.8688524590164, 36.24000000000001, 'X[11] <= 0.703\\ngini = 0.47\\nsamples = 33\\nvalue = [33, 20]'),\n",
       " Text(300.4967213114754, 12.079999999999984, 'gini = 0.497\\nsamples = 23\\nvalue = [17, 20]'),\n",
       " Text(303.2409836065574, 12.079999999999984, 'gini = 0.0\\nsamples = 10\\nvalue = [16, 0]'),\n",
       " Text(307.35737704918034, 36.24000000000001, 'X[3] <= 0.31\\ngini = 0.276\\nsamples = 59\\nvalue = [86, 17]'),\n",
       " Text(305.98524590163936, 12.079999999999984, 'gini = 0.057\\nsamples = 19\\nvalue = [33, 1]'),\n",
       " Text(308.7295081967213, 12.079999999999984, 'gini = 0.356\\nsamples = 40\\nvalue = [53, 16]'),\n",
       " Text(326.91024590163937, 132.88, 'X[8] <= 1.671\\ngini = 0.275\\nsamples = 216\\nvalue = [279, 55]'),\n",
       " Text(325.5381147540984, 108.72, 'X[5] <= 1.673\\ngini = 0.258\\nsamples = 213\\nvalue = [279, 50]'),\n",
       " Text(319.0204918032787, 84.56, 'X[8] <= -0.054\\ngini = 0.321\\nsamples = 132\\nvalue = [167, 42]'),\n",
       " Text(315.59016393442624, 60.400000000000006, 'X[7] <= 0.573\\ngini = 0.416\\nsamples = 79\\nvalue = [81, 34]'),\n",
       " Text(312.8459016393443, 36.24000000000001, 'X[6] <= 1.213\\ngini = 0.481\\nsamples = 53\\nvalue = [46, 31]'),\n",
       " Text(311.4737704918033, 12.079999999999984, 'gini = 0.495\\nsamples = 48\\nvalue = [38, 31]'),\n",
       " Text(314.21803278688526, 12.079999999999984, 'gini = 0.0\\nsamples = 5\\nvalue = [8, 0]'),\n",
       " Text(318.3344262295082, 36.24000000000001, 'X[11] <= 1.057\\ngini = 0.145\\nsamples = 26\\nvalue = [35, 3]'),\n",
       " Text(316.9622950819672, 12.079999999999984, 'gini = 0.111\\nsamples = 23\\nvalue = [32, 2]'),\n",
       " Text(319.7065573770492, 12.079999999999984, 'gini = 0.375\\nsamples = 3\\nvalue = [3, 1]'),\n",
       " Text(322.45081967213116, 60.400000000000006, 'X[6] <= -1.563\\ngini = 0.156\\nsamples = 53\\nvalue = [86, 8]'),\n",
       " Text(321.0786885245902, 36.24000000000001, 'gini = 0.0\\nsamples = 1\\nvalue = [0, 1]'),\n",
       " Text(323.82295081967214, 36.24000000000001, 'X[7] <= 1.472\\ngini = 0.139\\nsamples = 52\\nvalue = [86, 7]'),\n",
       " Text(322.45081967213116, 12.079999999999984, 'gini = 0.104\\nsamples = 51\\nvalue = [86, 5]'),\n",
       " Text(325.1950819672131, 12.079999999999984, 'gini = 0.0\\nsamples = 1\\nvalue = [0, 2]'),\n",
       " Text(332.05573770491804, 84.56, 'X[3] <= 0.798\\ngini = 0.124\\nsamples = 81\\nvalue = [112, 8]'),\n",
       " Text(330.68360655737706, 60.400000000000006, 'X[5] <= 3.1\\ngini = 0.149\\nsamples = 67\\nvalue = [91, 8]'),\n",
       " Text(329.3114754098361, 36.24000000000001, 'X[11] <= 1.69\\ngini = 0.193\\nsamples = 56\\nvalue = [66, 8]'),\n",
       " Text(327.9393442622951, 12.079999999999984, 'gini = 0.153\\nsamples = 55\\nvalue = [66, 6]'),\n",
       " Text(330.68360655737706, 12.079999999999984, 'gini = 0.0\\nsamples = 1\\nvalue = [0, 2]'),\n",
       " Text(332.05573770491804, 36.24000000000001, 'gini = 0.0\\nsamples = 11\\nvalue = [25, 0]'),\n",
       " Text(333.427868852459, 60.400000000000006, 'gini = 0.0\\nsamples = 14\\nvalue = [21, 0]'),\n",
       " Text(328.28237704918035, 108.72, 'gini = 0.0\\nsamples = 3\\nvalue = [0, 5]')]"
      ]
     },
     "execution_count": 416,
     "metadata": {},
     "output_type": "execute_result"
    },
    {
     "data": {
      "image/png": "[encoded data removed]",
      "text/plain": [
       "<Figure size 432x288 with 1 Axes>"
      ]
     },
     "metadata": {
      "needs_background": "light"
     },
     "output_type": "display_data"
    }
   ],
   "source": [
    "tree.plot_tree(estimator)"
   ]
  },
  {
   "cell_type": "code",
   "execution_count": 418,
   "metadata": {},
   "outputs": [
    {
     "data": {
      "text/plain": [
       "'digraph Tree {\\nnode [shape=box] ;\\n0 [label=\"X[5] <= 0.342\\\\ngini = 0.326\\\\nsamples = 5043\\\\nvalue = [6362, 1638]\"] ;\\n1 [label=\"X[7] <= 0.455\\\\ngini = 0.204\\\\nsamples = 3563\\\\nvalue = [5013, 653]\"] ;\\n0 -> 1 [labeldistance=2.5, labelangle=45, headlabel=\"True\"] ;\\n2 [label=\"X[3] <= -2.518\\\\ngini = 0.157\\\\nsamples = 2031\\\\nvalue = [2928, 275]\"] ;\\n1 -> 2 ;\\n3 [label=\"gini = 0.0\\\\nsamples = 3\\\\nvalue = [0, 3]\"] ;\\n2 -> 3 ;\\n4 [label=\"X[5] <= -0.418\\\\ngini = 0.156\\\\nsamples = 2028\\\\nvalue = [2928, 272]\"] ;\\n2 -> 4 ;\\n5 [label=\"X[11] <= 1.082\\\\ngini = 0.088\\\\nsamples = 1039\\\\nvalue = [1572, 76]\"] ;\\n4 -> 5 ;\\n6 [label=\"X[6] <= 0.866\\\\ngini = 0.065\\\\nsamples = 840\\\\nvalue = [1272, 44]\"] ;\\n5 -> 6 ;\\n7 [label=\"X[8] <= 1.671\\\\ngini = 0.08\\\\nsamples = 627\\\\nvalue = [938, 41]\"] ;\\n6 -> 7 ;\\n8 [label=\"X[8] <= -0.054\\\\ngini = 0.07\\\\nsamples = 618\\\\nvalue = [927, 35]\"] ;\\n7 -> 8 ;\\n9 [label=\"gini = 0.175\\\\nsamples = 214\\\\nvalue = [289, 31]\"] ;\\n8 -> 9 ;\\n10 [label=\"gini = 0.012\\\\nsamples = 404\\\\nvalue = [638, 4]\"] ;\\n8 -> 10 ;\\n11 [label=\"X[3] <= 1.197\\\\ngini = 0.457\\\\nsamples = 9\\\\nvalue = [11, 6]\"] ;\\n7 -> 11 ;\\n12 [label=\"gini = 0.391\\\\nsamples = 8\\\\nvalue = [11, 4]\"] ;\\n11 -> 12 ;\\n13 [label=\"gini = 0.0\\\\nsamples = 1\\\\nvalue = [0, 2]\"] ;\\n11 -> 13 ;\\n14 [label=\"X[8] <= 1.671\\\\ngini = 0.018\\\\nsamples = 213\\\\nvalue = [334, 3]\"] ;\\n6 -> 14 ;\\n15 [label=\"X[8] <= -0.054\\\\ngini = 0.012\\\\nsamples = 211\\\\nvalue = [333, 2]\"] ;\\n14 -> 15 ;\\n16 [label=\"gini = 0.041\\\\nsamples = 66\\\\nvalue = [93, 2]\"] ;\\n15 -> 16 ;\\n17 [label=\"gini = 0.0\\\\nsamples = 145\\\\nvalue = [240, 0]\"] ;\\n15 -> 17 ;\\n18 [label=\"X[5] <= -1.036\\\\ngini = 0.5\\\\nsamples = 2\\\\nvalue = [1, 1]\"] ;\\n14 -> 18 ;\\n19 [label=\"gini = 0.0\\\\nsamples = 1\\\\nvalue = [0, 1]\"] ;\\n18 -> 19 ;\\n20 [label=\"gini = 0.0\\\\nsamples = 1\\\\nvalue = [1, 0]\"] ;\\n18 -> 20 ;\\n21 [label=\"X[3] <= -1.771\\\\ngini = 0.174\\\\nsamples = 199\\\\nvalue = [300, 32]\"] ;\\n5 -> 21 ;\\n22 [label=\"X[9] <= -0.446\\\\ngini = 0.5\\\\nsamples = 7\\\\nvalue = [6, 6]\"] ;\\n21 -> 22 ;\\n23 [label=\"X[2] <= 0.579\\\\ngini = 0.375\\\\nsamples = 4\\\\nvalue = [2, 6]\"] ;\\n22 -> 23 ;\\n24 [label=\"gini = 0.0\\\\nsamples = 3\\\\nvalue = [0, 6]\"] ;\\n23 -> 24 ;\\n25 [label=\"gini = 0.0\\\\nsamples = 1\\\\nvalue = [2, 0]\"] ;\\n23 -> 25 ;\\n26 [label=\"gini = 0.0\\\\nsamples = 3\\\\nvalue = [4, 0]\"] ;\\n22 -> 26 ;\\n27 [label=\"X[7] <= 0.415\\\\ngini = 0.149\\\\nsamples = 192\\\\nvalue = [294, 26]\"] ;\\n21 -> 27 ;\\n28 [label=\"X[6] <= -0.869\\\\ngini = 0.134\\\\nsamples = 183\\\\nvalue = [283, 22]\"] ;\\n27 -> 28 ;\\n29 [label=\"gini = 0.233\\\\nsamples = 46\\\\nvalue = [77, 12]\"] ;\\n28 -> 29 ;\\n30 [label=\"gini = 0.088\\\\nsamples = 137\\\\nvalue = [206, 10]\"] ;\\n28 -> 30 ;\\n31 [label=\"X[9] <= -0.446\\\\ngini = 0.391\\\\nsamples = 9\\\\nvalue = [11, 4]\"] ;\\n27 -> 31 ;\\n32 [label=\"gini = 0.0\\\\nsamples = 2\\\\nvalue = [0, 4]\"] ;\\n31 -> 32 ;\\n33 [label=\"gini = 0.0\\\\nsamples = 7\\\\nvalue = [11, 0]\"] ;\\n31 -> 33 ;\\n34 [label=\"X[11] <= 1.601\\\\ngini = 0.221\\\\nsamples = 989\\\\nvalue = [1356, 196]\"] ;\\n4 -> 34 ;\\n35 [label=\"X[8] <= 1.671\\\\ngini = 0.228\\\\nsamples = 947\\\\nvalue = [1288, 194]\"] ;\\n34 -> 35 ;\\n36 [label=\"X[10] <= -0.026\\\\ngini = 0.204\\\\nsamples = 921\\\\nvalue = [1277, 166]\"] ;\\n35 -> 36 ;\\n37 [label=\"X[8] <= -0.054\\\\ngini = 0.22\\\\nsamples = 476\\\\nvalue = [654, 94]\"] ;\\n36 -> 37 ;\\n38 [label=\"gini = 0.369\\\\nsamples = 180\\\\nvalue = [214, 69]\"] ;\\n37 -> 38 ;\\n39 [label=\"gini = 0.102\\\\nsamples = 296\\\\nvalue = [440, 25]\"] ;\\n37 -> 39 ;\\n40 [label=\"X[8] <= -0.054\\\\ngini = 0.186\\\\nsamples = 445\\\\nvalue = [623, 72]\"] ;\\n36 -> 40 ;\\n41 [label=\"gini = 0.359\\\\nsamples = 174\\\\nvalue = [216, 66]\"] ;\\n40 -> 41 ;\\n42 [label=\"gini = 0.029\\\\nsamples = 271\\\\nvalue = [407, 6]\"] ;\\n40 -> 42 ;\\n43 [label=\"X[5] <= -0.133\\\\ngini = 0.405\\\\nsamples = 26\\\\nvalue = [11, 28]\"] ;\\n35 -> 43 ;\\n44 [label=\"X[3] <= -0.396\\\\ngini = 0.5\\\\nsamples = 8\\\\nvalue = [6, 6]\"] ;\\n43 -> 44 ;\\n45 [label=\"gini = 0.0\\\\nsamples = 2\\\\nvalue = [3, 0]\"] ;\\n44 -> 45 ;\\n46 [label=\"gini = 0.444\\\\nsamples = 6\\\\nvalue = [3, 6]\"] ;\\n44 -> 46 ;\\n47 [label=\"X[2] <= 0.579\\\\ngini = 0.302\\\\nsamples = 18\\\\nvalue = [5, 22]\"] ;\\n43 -> 47 ;\\n48 [label=\"gini = 0.401\\\\nsamples = 14\\\\nvalue = [5, 13]\"] ;\\n47 -> 48 ;\\n49 [label=\"gini = 0.0\\\\nsamples = 4\\\\nvalue = [0, 9]\"] ;\\n47 -> 49 ;\\n50 [label=\"X[8] <= -0.054\\\\ngini = 0.056\\\\nsamples = 42\\\\nvalue = [68, 2]\"] ;\\n34 -> 50 ;\\n51 [label=\"X[11] <= 1.633\\\\ngini = 0.172\\\\nsamples = 13\\\\nvalue = [19, 2]\"] ;\\n50 -> 51 ;\\n52 [label=\"X[4] <= -0.091\\\\ngini = 0.5\\\\nsamples = 2\\\\nvalue = [1, 1]\"] ;\\n51 -> 52 ;\\n53 [label=\"gini = 0.0\\\\nsamples = 1\\\\nvalue = [0, 1]\"] ;\\n52 -> 53 ;\\n54 [label=\"gini = 0.0\\\\nsamples = 1\\\\nvalue = [1, 0]\"] ;\\n52 -> 54 ;\\n55 [label=\"X[0] <= 0.001\\\\ngini = 0.1\\\\nsamples = 11\\\\nvalue = [18, 1]\"] ;\\n51 -> 55 ;\\n56 [label=\"gini = 0.0\\\\nsamples = 8\\\\nvalue = [15, 0]\"] ;\\n55 -> 56 ;\\n57 [label=\"gini = 0.375\\\\nsamples = 3\\\\nvalue = [3, 1]\"] ;\\n55 -> 57 ;\\n58 [label=\"gini = 0.0\\\\nsamples = 29\\\\nvalue = [49, 0]\"] ;\\n50 -> 58 ;\\n59 [label=\"X[4] <= -0.091\\\\ngini = 0.26\\\\nsamples = 1532\\\\nvalue = [2085, 378]\"] ;\\n1 -> 59 ;\\n60 [label=\"X[1] <= 0.573\\\\ngini = 0.323\\\\nsamples = 664\\\\nvalue = [852, 216]\"] ;\\n59 -> 60 ;\\n61 [label=\"X[7] <= 1.454\\\\ngini = 0.266\\\\nsamples = 397\\\\nvalue = [532, 100]\"] ;\\n60 -> 61 ;\\n62 [label=\"X[7] <= 0.839\\\\ngini = 0.23\\\\nsamples = 356\\\\nvalue = [485, 74]\"] ;\\n61 -> 62 ;\\n63 [label=\"X[8] <= 1.671\\\\ngini = 0.163\\\\nsamples = 160\\\\nvalue = [223, 22]\"] ;\\n62 -> 63 ;\\n64 [label=\"X[11] <= 0.141\\\\ngini = 0.151\\\\nsamples = 158\\\\nvalue = [223, 20]\"] ;\\n63 -> 64 ;\\n65 [label=\"gini = 0.065\\\\nsamples = 80\\\\nvalue = [115, 4]\"] ;\\n64 -> 65 ;\\n66 [label=\"gini = 0.225\\\\nsamples = 78\\\\nvalue = [108, 16]\"] ;\\n64 -> 66 ;\\n67 [label=\"gini = 0.0\\\\nsamples = 2\\\\nvalue = [0, 2]\"] ;\\n63 -> 67 ;\\n68 [label=\"X[8] <= 1.671\\\\ngini = 0.276\\\\nsamples = 196\\\\nvalue = [262, 52]\"] ;\\n62 -> 68 ;\\n69 [label=\"X[10] <= -0.026\\\\ngini = 0.221\\\\nsamples = 187\\\\nvalue = [262, 38]\"] ;\\n68 -> 69 ;\\n70 [label=\"gini = 0.246\\\\nsamples = 95\\\\nvalue = [137, 23]\"] ;\\n69 -> 70 ;\\n71 [label=\"gini = 0.191\\\\nsamples = 92\\\\nvalue = [125, 15]\"] ;\\n69 -> 71 ;\\n72 [label=\"gini = 0.0\\\\nsamples = 9\\\\nvalue = [0, 14]\"] ;\\n68 -> 72 ;\\n73 [label=\"X[7] <= 1.988\\\\ngini = 0.459\\\\nsamples = 41\\\\nvalue = [47, 26]\"] ;\\n61 -> 73 ;\\n74 [label=\"X[7] <= 1.456\\\\ngini = 0.43\\\\nsamples = 38\\\\nvalue = [46, 21]\"] ;\\n73 -> 74 ;\\n75 [label=\"gini = 0.0\\\\nsamples = 1\\\\nvalue = [0, 3]\"] ;\\n74 -> 75 ;\\n76 [label=\"X[5] <= -0.608\\\\ngini = 0.404\\\\nsamples = 37\\\\nvalue = [46, 18]\"] ;\\n74 -> 76 ;\\n77 [label=\"gini = 0.499\\\\nsamples = 16\\\\nvalue = [13, 12]\"] ;\\n76 -> 77 ;\\n78 [label=\"gini = 0.26\\\\nsamples = 21\\\\nvalue = [33, 6]\"] ;\\n76 -> 78 ;\\n79 [label=\"X[11] <= -1.163\\\\ngini = 0.278\\\\nsamples = 3\\\\nvalue = [1, 5]\"] ;\\n73 -> 79 ;\\n80 [label=\"gini = 0.0\\\\nsamples = 1\\\\nvalue = [1, 0]\"] ;\\n79 -> 80 ;\\n81 [label=\"gini = 0.0\\\\nsamples = 2\\\\nvalue = [0, 5]\"] ;\\n79 -> 81 ;\\n82 [label=\"X[8] <= 1.671\\\\ngini = 0.391\\\\nsamples = 267\\\\nvalue = [320, 116]\"] ;\\n60 -> 82 ;\\n83 [label=\"X[7] <= 1.093\\\\ngini = 0.369\\\\nsamples = 256\\\\nvalue = [319, 103]\"] ;\\n82 -> 83 ;\\n84 [label=\"X[7] <= 1.079\\\\ngini = 0.426\\\\nsamples = 198\\\\nvalue = [227, 101]\"] ;\\n83 -> 84 ;\\n85 [label=\"X[10] <= -0.026\\\\ngini = 0.42\\\\nsamples = 194\\\\nvalue = [226, 97]\"] ;\\n84 -> 85 ;\\n86 [label=\"gini = 0.458\\\\nsamples = 103\\\\nvalue = [111, 61]\"] ;\\n85 -> 86 ;\\n87 [label=\"gini = 0.363\\\\nsamples = 91\\\\nvalue = [115, 36]\"] ;\\n85 -> 87 ;\\n88 [label=\"X[3] <= -1.563\\\\ngini = 0.32\\\\nsamples = 4\\\\nvalue = [1, 4]\"] ;\\n84 -> 88 ;\\n89 [label=\"gini = 0.0\\\\nsamples = 1\\\\nvalue = [1, 0]\"] ;\\n88 -> 89 ;\\n90 [label=\"gini = 0.0\\\\nsamples = 3\\\\nvalue = [0, 4]\"] ;\\n88 -> 90 ;\\n91 [label=\"X[11] <= -0.98\\\\ngini = 0.042\\\\nsamples = 58\\\\nvalue = [92, 2]\"] ;\\n83 -> 91 ;\\n92 [label=\"X[5] <= -0.038\\\\ngini = 0.26\\\\nsamples = 9\\\\nvalue = [11, 2]\"] ;\\n91 -> 92 ;\\n93 [label=\"gini = 0.0\\\\nsamples = 7\\\\nvalue = [11, 0]\"] ;\\n92 -> 93 ;\\n94 [label=\"gini = 0.0\\\\nsamples = 2\\\\nvalue = [0, 2]\"] ;\\n92 -> 94 ;\\n95 [label=\"gini = 0.0\\\\nsamples = 49\\\\nvalue = [81, 0]\"] ;\\n91 -> 95 ;\\n96 [label=\"X[10] <= -0.026\\\\ngini = 0.133\\\\nsamples = 11\\\\nvalue = [1, 13]\"] ;\\n82 -> 96 ;\\n97 [label=\"gini = 0.0\\\\nsamples = 4\\\\nvalue = [0, 6]\"] ;\\n96 -> 97 ;\\n98 [label=\"X[7] <= 1.263\\\\ngini = 0.219\\\\nsamples = 7\\\\nvalue = [1, 7]\"] ;\\n96 -> 98 ;\\n99 [label=\"gini = 0.0\\\\nsamples = 4\\\\nvalue = [0, 5]\"] ;\\n98 -> 99 ;\\n100 [label=\"X[6] <= -0.175\\\\ngini = 0.444\\\\nsamples = 3\\\\nvalue = [1, 2]\"] ;\\n98 -> 100 ;\\n101 [label=\"gini = 0.0\\\\nsamples = 1\\\\nvalue = [1, 0]\"] ;\\n100 -> 101 ;\\n102 [label=\"gini = 0.0\\\\nsamples = 2\\\\nvalue = [0, 2]\"] ;\\n100 -> 102 ;\\n103 [label=\"X[7] <= 0.46\\\\ngini = 0.205\\\\nsamples = 868\\\\nvalue = [1233, 162]\"] ;\\n59 -> 103 ;\\n104 [label=\"X[2] <= 0.579\\\\ngini = 0.346\\\\nsamples = 5\\\\nvalue = [2, 7]\"] ;\\n103 -> 104 ;\\n105 [label=\"X[7] <= 0.456\\\\ngini = 0.375\\\\nsamples = 4\\\\nvalue = [2, 6]\"] ;\\n104 -> 105 ;\\n106 [label=\"gini = 0.0\\\\nsamples = 1\\\\nvalue = [0, 5]\"] ;\\n105 -> 106 ;\\n107 [label=\"X[6] <= -0.001\\\\ngini = 0.444\\\\nsamples = 3\\\\nvalue = [2, 1]\"] ;\\n105 -> 107 ;\\n108 [label=\"gini = 0.0\\\\nsamples = 1\\\\nvalue = [1, 0]\"] ;\\n107 -> 108 ;\\n109 [label=\"X[7] <= 0.458\\\\ngini = 0.5\\\\nsamples = 2\\\\nvalue = [1, 1]\"] ;\\n107 -> 109 ;\\n110 [label=\"gini = 0.0\\\\nsamples = 1\\\\nvalue = [1, 0]\"] ;\\n109 -> 110 ;\\n111 [label=\"gini = 0.0\\\\nsamples = 1\\\\nvalue = [0, 1]\"] ;\\n109 -> 111 ;\\n112 [label=\"gini = 0.0\\\\nsamples = 1\\\\nvalue = [0, 1]\"] ;\\n104 -> 112 ;\\n113 [label=\"X[8] <= 1.671\\\\ngini = 0.199\\\\nsamples = 863\\\\nvalue = [1231, 155]\"] ;\\n103 -> 113 ;\\n114 [label=\"X[8] <= -0.054\\\\ngini = 0.175\\\\nsamples = 847\\\\nvalue = [1228, 132]\"] ;\\n113 -> 114 ;\\n115 [label=\"X[1] <= 0.573\\\\ngini = 0.215\\\\nsamples = 554\\\\nvalue = [783, 109]\"] ;\\n114 -> 115 ;\\n116 [label=\"X[7] <= 1.627\\\\ngini = 0.142\\\\nsamples = 394\\\\nvalue = [587, 49]\"] ;\\n115 -> 116 ;\\n117 [label=\"gini = 0.123\\\\nsamples = 379\\\\nvalue = [566, 40]\"] ;\\n116 -> 117 ;\\n118 [label=\"gini = 0.42\\\\nsamples = 15\\\\nvalue = [21, 9]\"] ;\\n116 -> 118 ;\\n119 [label=\"X[6] <= -1.216\\\\ngini = 0.359\\\\nsamples = 160\\\\nvalue = [196, 60]\"] ;\\n115 -> 119 ;\\n120 [label=\"gini = 0.472\\\\nsamples = 25\\\\nvalue = [26, 16]\"] ;\\n119 -> 120 ;\\n121 [label=\"gini = 0.327\\\\nsamples = 135\\\\nvalue = [170, 44]\"] ;\\n119 -> 121 ;\\n122 [label=\"X[11] <= -0.974\\\\ngini = 0.093\\\\nsamples = 293\\\\nvalue = [445, 23]\"] ;\\n114 -> 122 ;\\n123 [label=\"X[7] <= 0.517\\\\ngini = 0.16\\\\nsamples = 55\\\\nvalue = [83, 8]\"] ;\\n122 -> 123 ;\\n124 [label=\"gini = 0.48\\\\nsamples = 3\\\\nvalue = [3, 2]\"] ;\\n123 -> 124 ;\\n125 [label=\"gini = 0.13\\\\nsamples = 52\\\\nvalue = [80, 6]\"] ;\\n123 -> 125 ;\\n126 [label=\"X[3] <= -2.804\\\\ngini = 0.076\\\\nsamples = 238\\\\nvalue = [362, 15]\"] ;\\n122 -> 126 ;\\n127 [label=\"gini = 0.0\\\\nsamples = 1\\\\nvalue = [0, 1]\"] ;\\n126 -> 127 ;\\n128 [label=\"gini = 0.072\\\\nsamples = 237\\\\nvalue = [362, 14]\"] ;\\n126 -> 128 ;\\n129 [label=\"X[1] <= 0.573\\\\ngini = 0.204\\\\nsamples = 16\\\\nvalue = [3, 23]\"] ;\\n113 -> 129 ;\\n130 [label=\"gini = 0.0\\\\nsamples = 7\\\\nvalue = [0, 9]\"] ;\\n129 -> 130 ;\\n131 [label=\"X[5] <= -0.323\\\\ngini = 0.291\\\\nsamples = 9\\\\nvalue = [3, 14]\"] ;\\n129 -> 131 ;\\n132 [label=\"X[3] <= -1.236\\\\ngini = 0.48\\\\nsamples = 3\\\\nvalue = [3, 2]\"] ;\\n131 -> 132 ;\\n133 [label=\"gini = 0.0\\\\nsamples = 1\\\\nvalue = [0, 2]\"] ;\\n132 -> 133 ;\\n134 [label=\"gini = 0.0\\\\nsamples = 2\\\\nvalue = [3, 0]\"] ;\\n132 -> 134 ;\\n135 [label=\"gini = 0.0\\\\nsamples = 6\\\\nvalue = [0, 12]\"] ;\\n131 -> 135 ;\\n136 [label=\"X[10] <= -0.026\\\\ngini = 0.488\\\\nsamples = 1480\\\\nvalue = [1349, 985]\"] ;\\n0 -> 136 [labeldistance=2.5, labelangle=-45, headlabel=\"False\"] ;\\n137 [label=\"X[8] <= -0.054\\\\ngini = 0.476\\\\nsamples = 673\\\\nvalue = [405, 635]\"] ;\\n136 -> 137 ;\\n138 [label=\"X[1] <= 0.573\\\\ngini = 0.411\\\\nsamples = 412\\\\nvalue = [191, 471]\"] ;\\n137 -> 138 ;\\n139 [label=\"X[5] <= 0.818\\\\ngini = 0.46\\\\nsamples = 257\\\\nvalue = [146, 262]\"] ;\\n138 -> 139 ;\\n140 [label=\"X[5] <= 0.533\\\\ngini = 0.495\\\\nsamples = 113\\\\nvalue = [103, 84]\"] ;\\n139 -> 140 ;\\n141 [label=\"X[3] <= -1.159\\\\ngini = 0.419\\\\nsamples = 47\\\\nvalue = [47, 20]\"] ;\\n140 -> 141 ;\\n142 [label=\"X[7] <= -0.382\\\\ngini = 0.32\\\\nsamples = 3\\\\nvalue = [1, 4]\"] ;\\n141 -> 142 ;\\n143 [label=\"gini = 0.0\\\\nsamples = 1\\\\nvalue = [1, 0]\"] ;\\n142 -> 143 ;\\n144 [label=\"gini = 0.0\\\\nsamples = 2\\\\nvalue = [0, 4]\"] ;\\n142 -> 144 ;\\n145 [label=\"X[3] <= 1.374\\\\ngini = 0.383\\\\nsamples = 44\\\\nvalue = [46, 16]\"] ;\\n141 -> 145 ;\\n146 [label=\"gini = 0.371\\\\nsamples = 43\\\\nvalue = [46, 15]\"] ;\\n145 -> 146 ;\\n147 [label=\"gini = 0.0\\\\nsamples = 1\\\\nvalue = [0, 1]\"] ;\\n145 -> 147 ;\\n148 [label=\"X[6] <= 0.172\\\\ngini = 0.498\\\\nsamples = 66\\\\nvalue = [56, 64]\"] ;\\n140 -> 148 ;\\n149 [label=\"X[0] <= 0.001\\\\ngini = 0.434\\\\nsamples = 35\\\\nvalue = [21, 45]\"] ;\\n148 -> 149 ;\\n150 [label=\"gini = 0.332\\\\nsamples = 12\\\\nvalue = [4, 15]\"] ;\\n149 -> 150 ;\\n151 [label=\"gini = 0.462\\\\nsamples = 23\\\\nvalue = [17, 30]\"] ;\\n149 -> 151 ;\\n152 [label=\"X[9] <= -0.446\\\\ngini = 0.456\\\\nsamples = 31\\\\nvalue = [35, 19]\"] ;\\n148 -> 152 ;\\n153 [label=\"gini = 0.463\\\\nsamples = 7\\\\nvalue = [7, 4]\"] ;\\n152 -> 153 ;\\n154 [label=\"gini = 0.454\\\\nsamples = 24\\\\nvalue = [28, 15]\"] ;\\n152 -> 154 ;\\n155 [label=\"X[5] <= 1.578\\\\ngini = 0.313\\\\nsamples = 144\\\\nvalue = [43, 178]\"] ;\\n139 -> 155 ;\\n156 [label=\"X[11] <= 0.691\\\\ngini = 0.398\\\\nsamples = 97\\\\nvalue = [40, 106]\"] ;\\n155 -> 156 ;\\n157 [label=\"X[4] <= -0.091\\\\ngini = 0.457\\\\nsamples = 65\\\\nvalue = [36, 66]\"] ;\\n156 -> 157 ;\\n158 [label=\"gini = 0.398\\\\nsamples = 37\\\\nvalue = [17, 45]\"] ;\\n157 -> 158 ;\\n159 [label=\"gini = 0.499\\\\nsamples = 28\\\\nvalue = [19, 21]\"] ;\\n157 -> 159 ;\\n160 [label=\"X[7] <= 0.627\\\\ngini = 0.165\\\\nsamples = 32\\\\nvalue = [4, 40]\"] ;\\n156 -> 160 ;\\n161 [label=\"gini = 0.0\\\\nsamples = 19\\\\nvalue = [0, 24]\"] ;\\n160 -> 161 ;\\n162 [label=\"gini = 0.32\\\\nsamples = 13\\\\nvalue = [4, 16]\"] ;\\n160 -> 162 ;\\n163 [label=\"X[4] <= -0.091\\\\ngini = 0.077\\\\nsamples = 47\\\\nvalue = [3, 72]\"] ;\\n155 -> 163 ;\\n164 [label=\"X[3] <= -1.895\\\\ngini = 0.133\\\\nsamples = 26\\\\nvalue = [3, 39]\"] ;\\n163 -> 164 ;\\n165 [label=\"gini = 0.444\\\\nsamples = 2\\\\nvalue = [2, 1]\"] ;\\n164 -> 165 ;\\n166 [label=\"gini = 0.05\\\\nsamples = 24\\\\nvalue = [1, 38]\"] ;\\n164 -> 166 ;\\n167 [label=\"gini = 0.0\\\\nsamples = 21\\\\nvalue = [0, 33]\"] ;\\n163 -> 167 ;\\n168 [label=\"X[3] <= -1.729\\\\ngini = 0.292\\\\nsamples = 155\\\\nvalue = [45, 209]\"] ;\\n138 -> 168 ;\\n169 [label=\"X[6] <= 1.56\\\\ngini = 0.497\\\\nsamples = 10\\\\nvalue = [11, 13]\"] ;\\n168 -> 169 ;\\n170 [label=\"X[11] <= -0.183\\\\ngini = 0.499\\\\nsamples = 8\\\\nvalue = [11, 10]\"] ;\\n169 -> 170 ;\\n171 [label=\"gini = 0.0\\\\nsamples = 5\\\\nvalue = [0, 10]\"] ;\\n170 -> 171 ;\\n172 [label=\"gini = 0.0\\\\nsamples = 3\\\\nvalue = [11, 0]\"] ;\\n170 -> 172 ;\\n173 [label=\"gini = 0.0\\\\nsamples = 2\\\\nvalue = [0, 3]\"] ;\\n169 -> 173 ;\\n174 [label=\"X[6] <= 1.56\\\\ngini = 0.252\\\\nsamples = 145\\\\nvalue = [34, 196]\"] ;\\n168 -> 174 ;\\n175 [label=\"X[3] <= 1.083\\\\ngini = 0.213\\\\nsamples = 137\\\\nvalue = [26, 188]\"] ;\\n174 -> 175 ;\\n176 [label=\"X[5] <= 0.628\\\\ngini = 0.179\\\\nsamples = 114\\\\nvalue = [18, 163]\"] ;\\n175 -> 176 ;\\n177 [label=\"gini = 0.325\\\\nsamples = 27\\\\nvalue = [9, 35]\"] ;\\n176 -> 177 ;\\n178 [label=\"gini = 0.123\\\\nsamples = 87\\\\nvalue = [9, 128]\"] ;\\n176 -> 178 ;\\n179 [label=\"X[7] <= 0.578\\\\ngini = 0.367\\\\nsamples = 23\\\\nvalue = [8, 25]\"] ;\\n175 -> 179 ;\\n180 [label=\"gini = 0.498\\\\nsamples = 12\\\\nvalue = [8, 9]\"] ;\\n179 -> 180 ;\\n181 [label=\"gini = 0.0\\\\nsamples = 11\\\\nvalue = [0, 16]\"] ;\\n179 -> 181 ;\\n182 [label=\"X[4] <= -0.091\\\\ngini = 0.5\\\\nsamples = 8\\\\nvalue = [8, 8]\"] ;\\n174 -> 182 ;\\n183 [label=\"X[5] <= 0.438\\\\ngini = 0.444\\\\nsamples = 5\\\\nvalue = [3, 6]\"] ;\\n182 -> 183 ;\\n184 [label=\"gini = 0.0\\\\nsamples = 1\\\\nvalue = [2, 0]\"] ;\\n183 -> 184 ;\\n185 [label=\"gini = 0.245\\\\nsamples = 4\\\\nvalue = [1, 6]\"] ;\\n183 -> 185 ;\\n186 [label=\"X[7] <= 0.38\\\\ngini = 0.408\\\\nsamples = 3\\\\nvalue = [5, 2]\"] ;\\n182 -> 186 ;\\n187 [label=\"gini = 0.0\\\\nsamples = 1\\\\nvalue = [3, 0]\"] ;\\n186 -> 187 ;\\n188 [label=\"gini = 0.5\\\\nsamples = 2\\\\nvalue = [2, 2]\"] ;\\n186 -> 188 ;\\n189 [label=\"X[8] <= 1.671\\\\ngini = 0.491\\\\nsamples = 261\\\\nvalue = [214, 164]\"] ;\\n137 -> 189 ;\\n190 [label=\"X[3] <= -0.552\\\\ngini = 0.419\\\\nsamples = 211\\\\nvalue = [214, 91]\"] ;\\n189 -> 190 ;\\n191 [label=\"X[5] <= 1.246\\\\ngini = 0.481\\\\nsamples = 70\\\\nvalue = [58, 39]\"] ;\\n190 -> 191 ;\\n192 [label=\"X[7] <= 1.061\\\\ngini = 0.423\\\\nsamples = 55\\\\nvalue = [55, 24]\"] ;\\n191 -> 192 ;\\n193 [label=\"X[3] <= -1.885\\\\ngini = 0.364\\\\nsamples = 49\\\\nvalue = [54, 17]\"] ;\\n192 -> 193 ;\\n194 [label=\"gini = 0.5\\\\nsamples = 7\\\\nvalue = [4, 4]\"] ;\\n193 -> 194 ;\\n195 [label=\"gini = 0.328\\\\nsamples = 42\\\\nvalue = [50, 13]\"] ;\\n193 -> 195 ;\\n196 [label=\"X[7] <= 1.328\\\\ngini = 0.219\\\\nsamples = 6\\\\nvalue = [1, 7]\"] ;\\n192 -> 196 ;\\n197 [label=\"gini = 0.0\\\\nsamples = 4\\\\nvalue = [0, 6]\"] ;\\n196 -> 197 ;\\n198 [label=\"gini = 0.5\\\\nsamples = 2\\\\nvalue = [1, 1]\"] ;\\n196 -> 198 ;\\n199 [label=\"X[9] <= -0.446\\\\ngini = 0.278\\\\nsamples = 15\\\\nvalue = [3, 15]\"] ;\\n191 -> 199 ;\\n200 [label=\"X[3] <= -1.236\\\\ngini = 0.375\\\\nsamples = 4\\\\nvalue = [1, 3]\"] ;\\n199 -> 200 ;\\n201 [label=\"gini = 0.5\\\\nsamples = 2\\\\nvalue = [1, 1]\"] ;\\n200 -> 201 ;\\n202 [label=\"gini = 0.0\\\\nsamples = 2\\\\nvalue = [0, 2]\"] ;\\n200 -> 202 ;\\n203 [label=\"X[11] <= 0.135\\\\ngini = 0.245\\\\nsamples = 11\\\\nvalue = [2, 12]\"] ;\\n199 -> 203 ;\\n204 [label=\"gini = 0.375\\\\nsamples = 7\\\\nvalue = [2, 6]\"] ;\\n203 -> 204 ;\\n205 [label=\"gini = 0.0\\\\nsamples = 4\\\\nvalue = [0, 6]\"] ;\\n203 -> 205 ;\\n206 [label=\"X[5] <= 1.103\\\\ngini = 0.375\\\\nsamples = 141\\\\nvalue = [156, 52]\"] ;\\n190 -> 206 ;\\n207 [label=\"X[5] <= 0.913\\\\ngini = 0.255\\\\nsamples = 111\\\\nvalue = [142, 25]\"] ;\\n206 -> 207 ;\\n208 [label=\"X[7] <= 1.406\\\\ngini = 0.215\\\\nsamples = 91\\\\nvalue = [122, 17]\"] ;\\n207 -> 208 ;\\n209 [label=\"gini = 0.186\\\\nsamples = 88\\\\nvalue = [121, 14]\"] ;\\n208 -> 209 ;\\n210 [label=\"gini = 0.375\\\\nsamples = 3\\\\nvalue = [1, 3]\"] ;\\n208 -> 210 ;\\n211 [label=\"X[7] <= -0.689\\\\ngini = 0.408\\\\nsamples = 20\\\\nvalue = [20, 8]\"] ;\\n207 -> 211 ;\\n212 [label=\"gini = 0.142\\\\nsamples = 11\\\\nvalue = [12, 1]\"] ;\\n211 -> 212 ;\\n213 [label=\"gini = 0.498\\\\nsamples = 9\\\\nvalue = [8, 7]\"] ;\\n211 -> 213 ;\\n214 [label=\"X[4] <= -0.091\\\\ngini = 0.45\\\\nsamples = 30\\\\nvalue = [14, 27]\"] ;\\n206 -> 214 ;\\n215 [label=\"X[11] <= 1.493\\\\ngini = 0.255\\\\nsamples = 17\\\\nvalue = [3, 17]\"] ;\\n214 -> 215 ;\\n216 [label=\"gini = 0.188\\\\nsamples = 16\\\\nvalue = [2, 17]\"] ;\\n215 -> 216 ;\\n217 [label=\"gini = 0.0\\\\nsamples = 1\\\\nvalue = [1, 0]\"] ;\\n215 -> 217 ;\\n218 [label=\"X[7] <= 0.401\\\\ngini = 0.499\\\\nsamples = 13\\\\nvalue = [11, 10]\"] ;\\n214 -> 218 ;\\n219 [label=\"gini = 0.32\\\\nsamples = 7\\\\nvalue = [8, 2]\"] ;\\n218 -> 219 ;\\n220 [label=\"gini = 0.397\\\\nsamples = 6\\\\nvalue = [3, 8]\"] ;\\n218 -> 220 ;\\n221 [label=\"gini = 0.0\\\\nsamples = 50\\\\nvalue = [0, 73]\"] ;\\n189 -> 221 ;\\n222 [label=\"X[2] <= 0.579\\\\ngini = 0.395\\\\nsamples = 807\\\\nvalue = [944, 350]\"] ;\\n136 -> 222 ;\\n223 [label=\"X[1] <= 0.573\\\\ngini = 0.426\\\\nsamples = 591\\\\nvalue = [665, 295]\"] ;\\n222 -> 223 ;\\n224 [label=\"X[7] <= 1.829\\\\ngini = 0.366\\\\nsamples = 385\\\\nvalue = [476, 151]\"] ;\\n223 -> 224 ;\\n225 [label=\"X[8] <= 1.671\\\\ngini = 0.358\\\\nsamples = 382\\\\nvalue = [476, 145]\"] ;\\n224 -> 225 ;\\n226 [label=\"X[8] <= -0.054\\\\ngini = 0.332\\\\nsamples = 366\\\\nvalue = [474, 126]\"] ;\\n225 -> 226 ;\\n227 [label=\"X[3] <= 0.777\\\\ngini = 0.4\\\\nsamples = 198\\\\nvalue = [233, 89]\"] ;\\n226 -> 227 ;\\n228 [label=\"gini = 0.363\\\\nsamples = 144\\\\nvalue = [176, 55]\"] ;\\n227 -> 228 ;\\n229 [label=\"gini = 0.468\\\\nsamples = 54\\\\nvalue = [57, 34]\"] ;\\n227 -> 229 ;\\n230 [label=\"X[11] <= 0.319\\\\ngini = 0.231\\\\nsamples = 168\\\\nvalue = [241, 37]\"] ;\\n226 -> 230 ;\\n231 [label=\"gini = 0.15\\\\nsamples = 100\\\\nvalue = [158, 14]\"] ;\\n230 -> 231 ;\\n232 [label=\"gini = 0.34\\\\nsamples = 68\\\\nvalue = [83, 23]\"] ;\\n230 -> 232 ;\\n233 [label=\"X[5] <= 2.339\\\\ngini = 0.172\\\\nsamples = 16\\\\nvalue = [2, 19]\"] ;\\n225 -> 233 ;\\n234 [label=\"X[11] <= -0.58\\\\ngini = 0.095\\\\nsamples = 15\\\\nvalue = [1, 19]\"] ;\\n233 -> 234 ;\\n235 [label=\"gini = 0.375\\\\nsamples = 3\\\\nvalue = [1, 3]\"] ;\\n234 -> 235 ;\\n236 [label=\"gini = 0.0\\\\nsamples = 12\\\\nvalue = [0, 16]\"] ;\\n234 -> 236 ;\\n237 [label=\"gini = 0.0\\\\nsamples = 1\\\\nvalue = [1, 0]\"] ;\\n233 -> 237 ;\\n238 [label=\"gini = 0.0\\\\nsamples = 3\\\\nvalue = [0, 6]\"] ;\\n224 -> 238 ;\\n239 [label=\"X[8] <= -0.054\\\\ngini = 0.491\\\\nsamples = 206\\\\nvalue = [189, 144]\"] ;\\n223 -> 239 ;\\n240 [label=\"X[11] <= -1.156\\\\ngini = 0.484\\\\nsamples = 111\\\\nvalue = [70, 100]\"] ;\\n239 -> 240 ;\\n241 [label=\"X[3] <= -0.349\\\\ngini = 0.252\\\\nsamples = 16\\\\nvalue = [4, 23]\"] ;\\n240 -> 241 ;\\n242 [label=\"X[6] <= -0.869\\\\ngini = 0.49\\\\nsamples = 4\\\\nvalue = [3, 4]\"] ;\\n241 -> 242 ;\\n243 [label=\"gini = 0.0\\\\nsamples = 1\\\\nvalue = [0, 2]\"] ;\\n242 -> 243 ;\\n244 [label=\"gini = 0.48\\\\nsamples = 3\\\\nvalue = [3, 2]\"] ;\\n242 -> 244 ;\\n245 [label=\"X[6] <= 0.519\\\\ngini = 0.095\\\\nsamples = 12\\\\nvalue = [1, 19]\"] ;\\n241 -> 245 ;\\n246 [label=\"gini = 0.0\\\\nsamples = 6\\\\nvalue = [0, 13]\"] ;\\n245 -> 246 ;\\n247 [label=\"gini = 0.245\\\\nsamples = 6\\\\nvalue = [1, 6]\"] ;\\n245 -> 247 ;\\n248 [label=\"X[7] <= 0.177\\\\ngini = 0.497\\\\nsamples = 95\\\\nvalue = [66, 77]\"] ;\\n240 -> 248 ;\\n249 [label=\"X[3] <= 0.087\\\\ngini = 0.305\\\\nsamples = 9\\\\nvalue = [13, 3]\"] ;\\n248 -> 249 ;\\n250 [label=\"gini = 0.444\\\\nsamples = 5\\\\nvalue = [6, 3]\"] ;\\n249 -> 250 ;\\n251 [label=\"gini = 0.0\\\\nsamples = 4\\\\nvalue = [7, 0]\"] ;\\n249 -> 251 ;\\n252 [label=\"X[3] <= 0.569\\\\ngini = 0.486\\\\nsamples = 86\\\\nvalue = [53, 74]\"] ;\\n248 -> 252 ;\\n253 [label=\"gini = 0.5\\\\nsamples = 62\\\\nvalue = [44, 46]\"] ;\\n252 -> 253 ;\\n254 [label=\"gini = 0.368\\\\nsamples = 24\\\\nvalue = [9, 28]\"] ;\\n252 -> 254 ;\\n255 [label=\"X[3] <= -1.683\\\\ngini = 0.394\\\\nsamples = 95\\\\nvalue = [119, 44]\"] ;\\n239 -> 255 ;\\n256 [label=\"gini = 0.0\\\\nsamples = 3\\\\nvalue = [0, 7]\"] ;\\n255 -> 256 ;\\n257 [label=\"X[3] <= -0.178\\\\ngini = 0.362\\\\nsamples = 92\\\\nvalue = [119, 37]\"] ;\\n255 -> 257 ;\\n258 [label=\"X[11] <= 0.703\\\\ngini = 0.47\\\\nsamples = 33\\\\nvalue = [33, 20]\"] ;\\n257 -> 258 ;\\n259 [label=\"gini = 0.497\\\\nsamples = 23\\\\nvalue = [17, 20]\"] ;\\n258 -> 259 ;\\n260 [label=\"gini = 0.0\\\\nsamples = 10\\\\nvalue = [16, 0]\"] ;\\n258 -> 260 ;\\n261 [label=\"X[3] <= 0.31\\\\ngini = 0.276\\\\nsamples = 59\\\\nvalue = [86, 17]\"] ;\\n257 -> 261 ;\\n262 [label=\"gini = 0.057\\\\nsamples = 19\\\\nvalue = [33, 1]\"] ;\\n261 -> 262 ;\\n263 [label=\"gini = 0.356\\\\nsamples = 40\\\\nvalue = [53, 16]\"] ;\\n261 -> 263 ;\\n264 [label=\"X[8] <= 1.671\\\\ngini = 0.275\\\\nsamples = 216\\\\nvalue = [279, 55]\"] ;\\n222 -> 264 ;\\n265 [label=\"X[5] <= 1.673\\\\ngini = 0.258\\\\nsamples = 213\\\\nvalue = [279, 50]\"] ;\\n264 -> 265 ;\\n266 [label=\"X[8] <= -0.054\\\\ngini = 0.321\\\\nsamples = 132\\\\nvalue = [167, 42]\"] ;\\n265 -> 266 ;\\n267 [label=\"X[7] <= 0.573\\\\ngini = 0.416\\\\nsamples = 79\\\\nvalue = [81, 34]\"] ;\\n266 -> 267 ;\\n268 [label=\"X[6] <= 1.213\\\\ngini = 0.481\\\\nsamples = 53\\\\nvalue = [46, 31]\"] ;\\n267 -> 268 ;\\n269 [label=\"gini = 0.495\\\\nsamples = 48\\\\nvalue = [38, 31]\"] ;\\n268 -> 269 ;\\n270 [label=\"gini = 0.0\\\\nsamples = 5\\\\nvalue = [8, 0]\"] ;\\n268 -> 270 ;\\n271 [label=\"X[11] <= 1.057\\\\ngini = 0.145\\\\nsamples = 26\\\\nvalue = [35, 3]\"] ;\\n267 -> 271 ;\\n272 [label=\"gini = 0.111\\\\nsamples = 23\\\\nvalue = [32, 2]\"] ;\\n271 -> 272 ;\\n273 [label=\"gini = 0.375\\\\nsamples = 3\\\\nvalue = [3, 1]\"] ;\\n271 -> 273 ;\\n274 [label=\"X[6] <= -1.563\\\\ngini = 0.156\\\\nsamples = 53\\\\nvalue = [86, 8]\"] ;\\n266 -> 274 ;\\n275 [label=\"gini = 0.0\\\\nsamples = 1\\\\nvalue = [0, 1]\"] ;\\n274 -> 275 ;\\n276 [label=\"X[7] <= 1.472\\\\ngini = 0.139\\\\nsamples = 52\\\\nvalue = [86, 7]\"] ;\\n274 -> 276 ;\\n277 [label=\"gini = 0.104\\\\nsamples = 51\\\\nvalue = [86, 5]\"] ;\\n276 -> 277 ;\\n278 [label=\"gini = 0.0\\\\nsamples = 1\\\\nvalue = [0, 2]\"] ;\\n276 -> 278 ;\\n279 [label=\"X[3] <= 0.798\\\\ngini = 0.124\\\\nsamples = 81\\\\nvalue = [112, 8]\"] ;\\n265 -> 279 ;\\n280 [label=\"X[5] <= 3.1\\\\ngini = 0.149\\\\nsamples = 67\\\\nvalue = [91, 8]\"] ;\\n279 -> 280 ;\\n281 [label=\"X[11] <= 1.69\\\\ngini = 0.193\\\\nsamples = 56\\\\nvalue = [66, 8]\"] ;\\n280 -> 281 ;\\n282 [label=\"gini = 0.153\\\\nsamples = 55\\\\nvalue = [66, 6]\"] ;\\n281 -> 282 ;\\n283 [label=\"gini = 0.0\\\\nsamples = 1\\\\nvalue = [0, 2]\"] ;\\n281 -> 283 ;\\n284 [label=\"gini = 0.0\\\\nsamples = 11\\\\nvalue = [25, 0]\"] ;\\n280 -> 284 ;\\n285 [label=\"gini = 0.0\\\\nsamples = 14\\\\nvalue = [21, 0]\"] ;\\n279 -> 285 ;\\n286 [label=\"gini = 0.0\\\\nsamples = 3\\\\nvalue = [0, 5]\"] ;\\n264 -> 286 ;\\n}'"
      ]
     },
     "execution_count": 418,
     "metadata": {},
     "output_type": "execute_result"
    }
   ],
   "source": [
    "tree.export_graphviz(estimator)"
   ]
  },
  {
   "cell_type": "code",
   "execution_count": 411,
   "metadata": {},
   "outputs": [],
   "source": [
    "from sklearn.tree import export_graphviz\n",
    "# Export as dot file\n",
    "export_graphviz(estimator, \n",
    "                out_file='tree.dot', \n",
    "#                 feature_names = df.columns[:-1],\n",
    "                class_names = ['No_Churn','Churn'],\n",
    "                rounded = True, proportion = False, \n",
    "                precision = 2, filled = True)"
   ]
  },
  {
   "cell_type": "code",
   "execution_count": 419,
   "metadata": {},
   "outputs": [
    {
     "ename": "FileNotFoundError",
     "evalue": "[Errno 2] \"dot\" not found in path.",
     "output_type": "error",
     "traceback": [
      "\u001b[0;31m---------------------------------------------------------------------------\u001b[0m",
      "\u001b[0;31mFileNotFoundError\u001b[0m                         Traceback (most recent call last)",
      "\u001b[0;32m~/opt/anaconda3/lib/python3.8/site-packages/pydot.py\u001b[0m in \u001b[0;36mcreate\u001b[0;34m(self, prog, format, encoding)\u001b[0m\n\u001b[1;32m   1922\u001b[0m         \u001b[0;32mtry\u001b[0m\u001b[0;34m:\u001b[0m\u001b[0;34m\u001b[0m\u001b[0;34m\u001b[0m\u001b[0m\n\u001b[0;32m-> 1923\u001b[0;31m             stdout_data, stderr_data, process = call_graphviz(\n\u001b[0m\u001b[1;32m   1924\u001b[0m                 \u001b[0mprogram\u001b[0m\u001b[0;34m=\u001b[0m\u001b[0mprog\u001b[0m\u001b[0;34m,\u001b[0m\u001b[0;34m\u001b[0m\u001b[0;34m\u001b[0m\u001b[0m\n",
      "\u001b[0;32m~/opt/anaconda3/lib/python3.8/site-packages/pydot.py\u001b[0m in \u001b[0;36mcall_graphviz\u001b[0;34m(program, arguments, working_dir, **kwargs)\u001b[0m\n\u001b[1;32m    131\u001b[0m \u001b[0;34m\u001b[0m\u001b[0m\n\u001b[0;32m--> 132\u001b[0;31m     process = subprocess.Popen(\n\u001b[0m\u001b[1;32m    133\u001b[0m         \u001b[0mprogram_with_args\u001b[0m\u001b[0;34m,\u001b[0m\u001b[0;34m\u001b[0m\u001b[0;34m\u001b[0m\u001b[0m\n",
      "\u001b[0;32m~/opt/anaconda3/lib/python3.8/subprocess.py\u001b[0m in \u001b[0;36m__init__\u001b[0;34m(self, args, bufsize, executable, stdin, stdout, stderr, preexec_fn, close_fds, shell, cwd, env, universal_newlines, startupinfo, creationflags, restore_signals, start_new_session, pass_fds, encoding, errors, text)\u001b[0m\n\u001b[1;32m    853\u001b[0m \u001b[0;34m\u001b[0m\u001b[0m\n\u001b[0;32m--> 854\u001b[0;31m             self._execute_child(args, executable, preexec_fn, close_fds,\n\u001b[0m\u001b[1;32m    855\u001b[0m                                 \u001b[0mpass_fds\u001b[0m\u001b[0;34m,\u001b[0m \u001b[0mcwd\u001b[0m\u001b[0;34m,\u001b[0m \u001b[0menv\u001b[0m\u001b[0;34m,\u001b[0m\u001b[0;34m\u001b[0m\u001b[0;34m\u001b[0m\u001b[0m\n",
      "\u001b[0;32m~/opt/anaconda3/lib/python3.8/subprocess.py\u001b[0m in \u001b[0;36m_execute_child\u001b[0;34m(self, args, executable, preexec_fn, close_fds, pass_fds, cwd, env, startupinfo, creationflags, shell, p2cread, p2cwrite, c2pread, c2pwrite, errread, errwrite, restore_signals, start_new_session)\u001b[0m\n\u001b[1;32m   1701\u001b[0m                         \u001b[0merr_msg\u001b[0m \u001b[0;34m=\u001b[0m \u001b[0mos\u001b[0m\u001b[0;34m.\u001b[0m\u001b[0mstrerror\u001b[0m\u001b[0;34m(\u001b[0m\u001b[0merrno_num\u001b[0m\u001b[0;34m)\u001b[0m\u001b[0;34m\u001b[0m\u001b[0;34m\u001b[0m\u001b[0m\n\u001b[0;32m-> 1702\u001b[0;31m                     \u001b[0;32mraise\u001b[0m \u001b[0mchild_exception_type\u001b[0m\u001b[0;34m(\u001b[0m\u001b[0merrno_num\u001b[0m\u001b[0;34m,\u001b[0m \u001b[0merr_msg\u001b[0m\u001b[0;34m,\u001b[0m \u001b[0merr_filename\u001b[0m\u001b[0;34m)\u001b[0m\u001b[0;34m\u001b[0m\u001b[0;34m\u001b[0m\u001b[0m\n\u001b[0m\u001b[1;32m   1703\u001b[0m                 \u001b[0;32mraise\u001b[0m \u001b[0mchild_exception_type\u001b[0m\u001b[0;34m(\u001b[0m\u001b[0merr_msg\u001b[0m\u001b[0;34m)\u001b[0m\u001b[0;34m\u001b[0m\u001b[0;34m\u001b[0m\u001b[0m\n",
      "\u001b[0;31mFileNotFoundError\u001b[0m: [Errno 2] No such file or directory: 'dot'",
      "\nDuring handling of the above exception, another exception occurred:\n",
      "\u001b[0;31mFileNotFoundError\u001b[0m                         Traceback (most recent call last)",
      "\u001b[0;32m<ipython-input-419-348ebf36f534>\u001b[0m in \u001b[0;36m<module>\u001b[0;34m\u001b[0m\n\u001b[1;32m      2\u001b[0m \u001b[0;34m\u001b[0m\u001b[0m\n\u001b[1;32m      3\u001b[0m \u001b[0;34m(\u001b[0m\u001b[0mgraph\u001b[0m\u001b[0;34m,\u001b[0m\u001b[0;34m)\u001b[0m \u001b[0;34m=\u001b[0m \u001b[0mpydot\u001b[0m\u001b[0;34m.\u001b[0m\u001b[0mgraph_from_dot_file\u001b[0m\u001b[0;34m(\u001b[0m\u001b[0;34m'tree.dot'\u001b[0m\u001b[0;34m)\u001b[0m\u001b[0;34m\u001b[0m\u001b[0;34m\u001b[0m\u001b[0m\n\u001b[0;32m----> 4\u001b[0;31m \u001b[0mgraph\u001b[0m\u001b[0;34m.\u001b[0m\u001b[0mwrite_png\u001b[0m\u001b[0;34m(\u001b[0m\u001b[0;34m'tree.png'\u001b[0m\u001b[0;34m)\u001b[0m\u001b[0;34m\u001b[0m\u001b[0;34m\u001b[0m\u001b[0m\n\u001b[0m",
      "\u001b[0;32m~/opt/anaconda3/lib/python3.8/site-packages/pydot.py\u001b[0m in \u001b[0;36mnew_method\u001b[0;34m(path, f, prog, encoding)\u001b[0m\n\u001b[1;32m   1741\u001b[0m                     encoding=None):\n\u001b[1;32m   1742\u001b[0m                 \u001b[0;34m\"\"\"Refer to docstring of method `write.`\"\"\"\u001b[0m\u001b[0;34m\u001b[0m\u001b[0;34m\u001b[0m\u001b[0m\n\u001b[0;32m-> 1743\u001b[0;31m                 self.write(\n\u001b[0m\u001b[1;32m   1744\u001b[0m                     \u001b[0mpath\u001b[0m\u001b[0;34m,\u001b[0m \u001b[0mformat\u001b[0m\u001b[0;34m=\u001b[0m\u001b[0mf\u001b[0m\u001b[0;34m,\u001b[0m \u001b[0mprog\u001b[0m\u001b[0;34m=\u001b[0m\u001b[0mprog\u001b[0m\u001b[0;34m,\u001b[0m\u001b[0;34m\u001b[0m\u001b[0;34m\u001b[0m\u001b[0m\n\u001b[1;32m   1745\u001b[0m                     encoding=encoding)\n",
      "\u001b[0;32m~/opt/anaconda3/lib/python3.8/site-packages/pydot.py\u001b[0m in \u001b[0;36mwrite\u001b[0;34m(self, path, prog, format, encoding)\u001b[0m\n\u001b[1;32m   1826\u001b[0m                 \u001b[0mf\u001b[0m\u001b[0;34m.\u001b[0m\u001b[0mwrite\u001b[0m\u001b[0;34m(\u001b[0m\u001b[0ms\u001b[0m\u001b[0;34m)\u001b[0m\u001b[0;34m\u001b[0m\u001b[0;34m\u001b[0m\u001b[0m\n\u001b[1;32m   1827\u001b[0m         \u001b[0;32melse\u001b[0m\u001b[0;34m:\u001b[0m\u001b[0;34m\u001b[0m\u001b[0;34m\u001b[0m\u001b[0m\n\u001b[0;32m-> 1828\u001b[0;31m             \u001b[0ms\u001b[0m \u001b[0;34m=\u001b[0m \u001b[0mself\u001b[0m\u001b[0;34m.\u001b[0m\u001b[0mcreate\u001b[0m\u001b[0;34m(\u001b[0m\u001b[0mprog\u001b[0m\u001b[0;34m,\u001b[0m \u001b[0mformat\u001b[0m\u001b[0;34m,\u001b[0m \u001b[0mencoding\u001b[0m\u001b[0;34m=\u001b[0m\u001b[0mencoding\u001b[0m\u001b[0;34m)\u001b[0m\u001b[0;34m\u001b[0m\u001b[0;34m\u001b[0m\u001b[0m\n\u001b[0m\u001b[1;32m   1829\u001b[0m             \u001b[0;32mwith\u001b[0m \u001b[0mio\u001b[0m\u001b[0;34m.\u001b[0m\u001b[0mopen\u001b[0m\u001b[0;34m(\u001b[0m\u001b[0mpath\u001b[0m\u001b[0;34m,\u001b[0m \u001b[0mmode\u001b[0m\u001b[0;34m=\u001b[0m\u001b[0;34m'wb'\u001b[0m\u001b[0;34m)\u001b[0m \u001b[0;32mas\u001b[0m \u001b[0mf\u001b[0m\u001b[0;34m:\u001b[0m\u001b[0;34m\u001b[0m\u001b[0;34m\u001b[0m\u001b[0m\n\u001b[1;32m   1830\u001b[0m                 \u001b[0mf\u001b[0m\u001b[0;34m.\u001b[0m\u001b[0mwrite\u001b[0m\u001b[0;34m(\u001b[0m\u001b[0ms\u001b[0m\u001b[0;34m)\u001b[0m\u001b[0;34m\u001b[0m\u001b[0;34m\u001b[0m\u001b[0m\n",
      "\u001b[0;32m~/opt/anaconda3/lib/python3.8/site-packages/pydot.py\u001b[0m in \u001b[0;36mcreate\u001b[0;34m(self, prog, format, encoding)\u001b[0m\n\u001b[1;32m   1931\u001b[0m                 args[1] = '\"{prog}\" not found in path.'.format(\n\u001b[1;32m   1932\u001b[0m                     prog=prog)\n\u001b[0;32m-> 1933\u001b[0;31m                 \u001b[0;32mraise\u001b[0m \u001b[0mOSError\u001b[0m\u001b[0;34m(\u001b[0m\u001b[0;34m*\u001b[0m\u001b[0margs\u001b[0m\u001b[0;34m)\u001b[0m\u001b[0;34m\u001b[0m\u001b[0;34m\u001b[0m\u001b[0m\n\u001b[0m\u001b[1;32m   1934\u001b[0m             \u001b[0;32melse\u001b[0m\u001b[0;34m:\u001b[0m\u001b[0;34m\u001b[0m\u001b[0;34m\u001b[0m\u001b[0m\n\u001b[1;32m   1935\u001b[0m                 \u001b[0;32mraise\u001b[0m\u001b[0;34m\u001b[0m\u001b[0;34m\u001b[0m\u001b[0m\n",
      "\u001b[0;31mFileNotFoundError\u001b[0m: [Errno 2] \"dot\" not found in path."
     ]
    }
   ],
   "source": [
    "import pydot\n",
    "\n",
    "(graph,) = pydot.graph_from_dot_file('tree.dot')\n",
    "graph.write_png('tree.png')"
   ]
  },
  {
   "cell_type": "code",
   "execution_count": 408,
   "metadata": {},
   "outputs": [
    {
     "data": {
      "text/plain": [
       "Index(['CreditScore', 'Geography', 'Gender', 'Age', 'Tenure', 'Balance',\n",
       "       'NumOfProducts', 'HasCrCard', 'IsActiveMember', 'EstimatedSalary'],\n",
       "      dtype='object')"
      ]
     },
     "execution_count": 408,
     "metadata": {},
     "output_type": "execute_result"
    }
   ],
   "source": [
    "df.columns[:-1]"
   ]
  },
  {
   "cell_type": "code",
   "execution_count": 421,
   "metadata": {},
   "outputs": [
    {
     "name": "stdout",
     "output_type": "stream",
     "text": [
      "Elapsed time to compute the importances: 0.028 seconds\n"
     ]
    }
   ],
   "source": [
    "#Feature Importance from RF\n",
    "import time\n",
    "start_time = time.time()\n",
    "importances = rf.feature_importances_\n",
    "std = np.std([\n",
    "    tree.feature_importances_ for tree in rf.estimators_], axis=0)\n",
    "elapsed_time = time.time() - start_time\n",
    "\n",
    "print(f\"Elapsed time to compute the importances: \"\n",
    "      f\"{elapsed_time:.3f} seconds\")"
   ]
  },
  {
   "cell_type": "code",
   "execution_count": 423,
   "metadata": {},
   "outputs": [
    {
     "data": {
      "image/png": "[encoded data removed]",
      "text/plain": [
       "<Figure size 432x288 with 1 Axes>"
      ]
     },
     "metadata": {
      "needs_background": "light"
     },
     "output_type": "display_data"
    }
   ],
   "source": [
    "forest_importances = pd.Series(importances, index=['X0','X1','X2','X3','X4','X5','X6','X7','X8','X9','X10','X11'])\n",
    "\n",
    "fig, ax = plt.subplots()\n",
    "forest_importances.plot.bar(yerr=std, ax=ax)\n",
    "ax.set_title(\"Feature importances using MDI\")\n",
    "ax.set_ylabel(\"Mean decrease in impurity\")\n",
    "fig.tight_layout()"
   ]
  },
  {
   "cell_type": "code",
   "execution_count": 430,
   "metadata": {},
   "outputs": [
    {
     "data": {
      "image/png": "[encoded data removed]",
      "text/plain": [
       "<Figure size 432x288 with 1 Axes>"
      ]
     },
     "metadata": {
      "needs_background": "light"
     },
     "output_type": "display_data"
    }
   ],
   "source": [
    "forest_importances = pd.Series(importances, index=['C0','C1','C2','CreditScore','Gender','Age','Tenure','Balance','NumOfProducts','HasCrCard','IsActiveMember','EstimatedSalary'])\n",
    "\n",
    "fig, ax = plt.subplots()\n",
    "forest_importances.plot.bar(yerr=std, ax=ax)\n",
    "ax.set_title(\"Feature importances using MDI\")\n",
    "ax.set_ylabel(\"Mean decrease in impurity\")\n",
    "fig.tight_layout()"
   ]
  },
  {
   "cell_type": "code",
   "execution_count": null,
   "metadata": {},
   "outputs": [],
   "source": [
    "['1.0', '0.0', '0.0', '320', '1', '21', '8', '159660.8', '3', '1',\n",
    "        '0', '113931.57'"
   ]
  },
  {
   "cell_type": "code",
   "execution_count": 425,
   "metadata": {},
   "outputs": [
    {
     "data": {
      "text/plain": [
       "array([ 1.00150113, -0.57946723, -0.57638802, -3.44174985,  0.91324755,\n",
       "       -1.7015827 ,  1.03972843,  1.33785683,  2.53355998,  0.64920267,\n",
       "       -1.02583358,  0.23472492])"
      ]
     },
     "execution_count": 425,
     "metadata": {},
     "output_type": "execute_result"
    }
   ],
   "source": [
    "#RF Feature Importances\n",
    "# Feature 5: Age, Feature8: Number of Products, Feature 10: Active_Member, Feature 7: Balance"
   ]
  },
  {
   "cell_type": "code",
   "execution_count": 429,
   "metadata": {},
   "outputs": [
    {
     "data": {
      "text/plain": [
       "X0     0.011575\n",
       "X1     0.043348\n",
       "X2     0.007514\n",
       "X3     0.050952\n",
       "X4     0.017670\n",
       "X5     0.350103\n",
       "X6     0.026479\n",
       "X7     0.083313\n",
       "X8     0.275550\n",
       "X9     0.006407\n",
       "X10    0.077135\n",
       "X11    0.049954\n",
       "dtype: float64"
      ]
     },
     "execution_count": 429,
     "metadata": {},
     "output_type": "execute_result"
    }
   ],
   "source": [
    "forest_importances"
   ]
  },
  {
   "cell_type": "code",
   "execution_count": 426,
   "metadata": {},
   "outputs": [
    {
     "data": {
      "text/plain": [
       "CreditScore           619\n",
       "Geography          France\n",
       "Gender             Female\n",
       "Age                    42\n",
       "Tenure                  2\n",
       "Balance                 0\n",
       "NumOfProducts           1\n",
       "HasCrCard               1\n",
       "IsActiveMember          1\n",
       "EstimatedSalary    101349\n",
       "Exited                  1\n",
       "Name: 0, dtype: object"
      ]
     },
     "execution_count": 426,
     "metadata": {},
     "output_type": "execute_result"
    }
   ],
   "source": [
    "df.iloc[0]"
   ]
  },
  {
   "cell_type": "code",
   "execution_count": null,
   "metadata": {},
   "outputs": [],
   "source": [
    "#Decision Tree Feature Importance\n",
    "# Feature 5: Age, Feature7: Balance, Feature 11: Salary, Feature 3: Credit Score "
   ]
  },
  {
   "cell_type": "code",
   "execution_count": null,
   "metadata": {},
   "outputs": [],
   "source": []
  }
 ],
 "metadata": {
  "kernelspec": {
   "display_name": "Python 3",
   "language": "python",
   "name": "python3"
  },
  "language_info": {
   "codemirror_mode": {
    "name": "ipython",
    "version": 3
   },
   "file_extension": ".py",
   "mimetype": "text/x-python",
   "name": "python",
   "nbconvert_exporter": "python",
   "pygments_lexer": "ipython3",
   "version": "3.8.3"
  }
 },
 "nbformat": 4,
 "nbformat_minor": 4
}
