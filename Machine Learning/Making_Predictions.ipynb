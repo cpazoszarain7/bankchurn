{
 "cells": [
  {
   "cell_type": "code",
   "execution_count": 1,
   "metadata": {},
   "outputs": [],
   "source": [
    "import pandas as pd\n",
    "import numpy as np\n",
    "import matplotlib.pyplot as plt\n",
    "import seaborn as sns\n",
    "from tensorflow.keras.models import load_model\n",
    "import pickle\n",
    "%matplotlib inline"
   ]
  },
  {
   "cell_type": "code",
   "execution_count": 2,
   "metadata": {},
   "outputs": [],
   "source": [
    "#Load the transformation SKLearn objects\n",
    "#Load Label encoder: le\n",
    "pkl_filename = 'Label_Encoder.pkl'\n",
    "with open(pkl_filename, 'rb') as file:\n",
    "    le = pickle.load(file)\n",
    "\n",
    "#Load One-Hot encoder: ct\n",
    "pkl_filename = 'OneHot_Encoder.pkl'\n",
    "with open(pkl_filename, 'rb') as file:\n",
    "    ct = pickle.load(file)\n",
    "    \n",
    "#Load Scaler: sc\n",
    "pkl_filename = 'Scaler.pkl'\n",
    "with open(pkl_filename, 'rb') as file:\n",
    "    sc = pickle.load(file)"
   ]
  },
  {
   "cell_type": "code",
   "execution_count": 3,
   "metadata": {},
   "outputs": [],
   "source": [
    "#Load the ANN model\n",
    "ann = load_model(\"customer_churn.h5\")"
   ]
  },
  {
   "cell_type": "code",
   "execution_count": 10,
   "metadata": {},
   "outputs": [
    {
     "data": {
      "text/plain": [
       "array([['320', 'France', 'Male', '21', '8', '159660.8', '3', '1', '0',\n",
       "        '113.57']], dtype='<U21')"
      ]
     },
     "execution_count": 10,
     "metadata": {},
     "output_type": "execute_result"
    }
   ],
   "source": [
    "#Setting up a new row. simulating we get this from our form in HTML\n",
    "X = np.array([[320, 'France', 'Male', 21, 8, 159660.80, 3, 1, 0, 113.57]])\n",
    "X"
   ]
  },
  {
   "cell_type": "code",
   "execution_count": 11,
   "metadata": {},
   "outputs": [],
   "source": [
    "#Encoding the  Gender column\n",
    "X[:,2] = le.transform(X[:,2])"
   ]
  },
  {
   "cell_type": "code",
   "execution_count": 12,
   "metadata": {},
   "outputs": [
    {
     "data": {
      "text/plain": [
       "array([['320', 'France', '1', '21', '8', '159660.8', '3', '1', '0',\n",
       "        '113.57']], dtype='<U21')"
      ]
     },
     "execution_count": 12,
     "metadata": {},
     "output_type": "execute_result"
    }
   ],
   "source": [
    "X"
   ]
  },
  {
   "cell_type": "code",
   "execution_count": 13,
   "metadata": {},
   "outputs": [
    {
     "data": {
      "text/plain": [
       "array([['1.0', '0.0', '0.0', '320', '1', '21', '8', '159660.8', '3', '1',\n",
       "        '0', '113.57']], dtype='<U32')"
      ]
     },
     "execution_count": 13,
     "metadata": {},
     "output_type": "execute_result"
    }
   ],
   "source": [
    "#Encoding the country column\n",
    "X = np.array(ct.transform(X))\n",
    "X"
   ]
  },
  {
   "cell_type": "code",
   "execution_count": 14,
   "metadata": {},
   "outputs": [
    {
     "data": {
      "text/plain": [
       "array([[ 1.00150113, -0.57946723, -0.57638802, -3.44174985,  0.91324755,\n",
       "        -1.7015827 ,  1.03972843,  1.33785683,  2.53355998,  0.64920267,\n",
       "        -1.02583358, -1.74419112]])"
      ]
     },
     "execution_count": 14,
     "metadata": {},
     "output_type": "execute_result"
    }
   ],
   "source": [
    "#Scaling all columns\n",
    "X = sc.transform(X)\n",
    "X"
   ]
  },
  {
   "cell_type": "code",
   "execution_count": 15,
   "metadata": {},
   "outputs": [
    {
     "data": {
      "text/plain": [
       "array([[False]])"
      ]
     },
     "execution_count": 15,
     "metadata": {},
     "output_type": "execute_result"
    }
   ],
   "source": [
    "#Predicting with ANN\n",
    "new_pred = ann.predict(X)>0.5\n",
    "new_pred"
   ]
  },
  {
   "cell_type": "code",
   "execution_count": null,
   "metadata": {},
   "outputs": [],
   "source": []
  }
 ],
 "metadata": {
  "kernelspec": {
   "display_name": "Python 3",
   "language": "python",
   "name": "python3"
  },
  "language_info": {
   "codemirror_mode": {
    "name": "ipython",
    "version": 3
   },
   "file_extension": ".py",
   "mimetype": "text/x-python",
   "name": "python",
   "nbconvert_exporter": "python",
   "pygments_lexer": "ipython3",
   "version": "3.8.3"
  }
 },
 "nbformat": 4,
 "nbformat_minor": 4
}
